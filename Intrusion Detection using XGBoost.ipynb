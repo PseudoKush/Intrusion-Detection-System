{
 "cells": [
  {
   "cell_type": "markdown",
   "metadata": {},
   "source": [
    "### Importing Libraries"
   ]
  },
  {
   "cell_type": "code",
   "execution_count": 1,
   "metadata": {},
   "outputs": [],
   "source": [
    "import numpy as np\n",
    "import pandas as pd"
   ]
  },
  {
   "cell_type": "code",
   "execution_count": 2,
   "metadata": {},
   "outputs": [],
   "source": [
    "import matplotlib.pyplot as plt\n",
    "%matplotlib inline\n",
    "import seaborn as sns\n",
    "sns.set_style('darkgrid')"
   ]
  },
  {
   "cell_type": "code",
   "execution_count": 3,
   "metadata": {},
   "outputs": [],
   "source": [
    "data_train = pd.read_csv('UNSW_Training.csv')\n",
    "data_test = pd.read_csv('UNSW_Testing.csv')"
   ]
  },
  {
   "cell_type": "code",
   "execution_count": 4,
   "metadata": {
    "scrolled": true
   },
   "outputs": [
    {
     "data": {
      "text/html": [
       "<div>\n",
       "<style scoped>\n",
       "    .dataframe tbody tr th:only-of-type {\n",
       "        vertical-align: middle;\n",
       "    }\n",
       "\n",
       "    .dataframe tbody tr th {\n",
       "        vertical-align: top;\n",
       "    }\n",
       "\n",
       "    .dataframe thead th {\n",
       "        text-align: right;\n",
       "    }\n",
       "</style>\n",
       "<table border=\"1\" class=\"dataframe\">\n",
       "  <thead>\n",
       "    <tr style=\"text-align: right;\">\n",
       "      <th></th>\n",
       "      <th>pkSeqID</th>\n",
       "      <th>proto</th>\n",
       "      <th>saddr</th>\n",
       "      <th>sport</th>\n",
       "      <th>daddr</th>\n",
       "      <th>dport</th>\n",
       "      <th>seq</th>\n",
       "      <th>stddev</th>\n",
       "      <th>N_IN_Conn_P_SrcIP</th>\n",
       "      <th>min</th>\n",
       "      <th>state_number</th>\n",
       "      <th>mean</th>\n",
       "      <th>N_IN_Conn_P_DstIP</th>\n",
       "      <th>drate</th>\n",
       "      <th>srate</th>\n",
       "      <th>max</th>\n",
       "      <th>attack</th>\n",
       "      <th>category</th>\n",
       "      <th>subcategory</th>\n",
       "    </tr>\n",
       "  </thead>\n",
       "  <tbody>\n",
       "    <tr>\n",
       "      <th>0</th>\n",
       "      <td>3142762</td>\n",
       "      <td>udp</td>\n",
       "      <td>192.168.100.150</td>\n",
       "      <td>6551</td>\n",
       "      <td>192.168.100.3</td>\n",
       "      <td>80</td>\n",
       "      <td>251984</td>\n",
       "      <td>1.900363</td>\n",
       "      <td>100</td>\n",
       "      <td>0.000000</td>\n",
       "      <td>4</td>\n",
       "      <td>2.687519</td>\n",
       "      <td>100</td>\n",
       "      <td>0.0</td>\n",
       "      <td>0.494549</td>\n",
       "      <td>4.031619</td>\n",
       "      <td>1</td>\n",
       "      <td>DDoS</td>\n",
       "      <td>UDP</td>\n",
       "    </tr>\n",
       "    <tr>\n",
       "      <th>1</th>\n",
       "      <td>2432264</td>\n",
       "      <td>tcp</td>\n",
       "      <td>192.168.100.150</td>\n",
       "      <td>5532</td>\n",
       "      <td>192.168.100.3</td>\n",
       "      <td>80</td>\n",
       "      <td>256724</td>\n",
       "      <td>0.078003</td>\n",
       "      <td>38</td>\n",
       "      <td>3.856930</td>\n",
       "      <td>3</td>\n",
       "      <td>3.934927</td>\n",
       "      <td>100</td>\n",
       "      <td>0.0</td>\n",
       "      <td>0.256493</td>\n",
       "      <td>4.012924</td>\n",
       "      <td>1</td>\n",
       "      <td>DDoS</td>\n",
       "      <td>TCP</td>\n",
       "    </tr>\n",
       "    <tr>\n",
       "      <th>2</th>\n",
       "      <td>1976315</td>\n",
       "      <td>tcp</td>\n",
       "      <td>192.168.100.147</td>\n",
       "      <td>27165</td>\n",
       "      <td>192.168.100.3</td>\n",
       "      <td>80</td>\n",
       "      <td>62921</td>\n",
       "      <td>0.268666</td>\n",
       "      <td>100</td>\n",
       "      <td>2.974100</td>\n",
       "      <td>3</td>\n",
       "      <td>3.341429</td>\n",
       "      <td>100</td>\n",
       "      <td>0.0</td>\n",
       "      <td>0.294880</td>\n",
       "      <td>3.609205</td>\n",
       "      <td>1</td>\n",
       "      <td>DDoS</td>\n",
       "      <td>TCP</td>\n",
       "    </tr>\n",
       "    <tr>\n",
       "      <th>3</th>\n",
       "      <td>1240757</td>\n",
       "      <td>udp</td>\n",
       "      <td>192.168.100.150</td>\n",
       "      <td>48719</td>\n",
       "      <td>192.168.100.3</td>\n",
       "      <td>80</td>\n",
       "      <td>99168</td>\n",
       "      <td>1.823185</td>\n",
       "      <td>63</td>\n",
       "      <td>0.000000</td>\n",
       "      <td>4</td>\n",
       "      <td>3.222832</td>\n",
       "      <td>63</td>\n",
       "      <td>0.0</td>\n",
       "      <td>0.461435</td>\n",
       "      <td>4.942302</td>\n",
       "      <td>1</td>\n",
       "      <td>DoS</td>\n",
       "      <td>UDP</td>\n",
       "    </tr>\n",
       "    <tr>\n",
       "      <th>4</th>\n",
       "      <td>3257991</td>\n",
       "      <td>udp</td>\n",
       "      <td>192.168.100.147</td>\n",
       "      <td>22461</td>\n",
       "      <td>192.168.100.3</td>\n",
       "      <td>80</td>\n",
       "      <td>105063</td>\n",
       "      <td>0.822418</td>\n",
       "      <td>100</td>\n",
       "      <td>2.979995</td>\n",
       "      <td>4</td>\n",
       "      <td>3.983222</td>\n",
       "      <td>100</td>\n",
       "      <td>0.0</td>\n",
       "      <td>1.002999</td>\n",
       "      <td>4.994452</td>\n",
       "      <td>1</td>\n",
       "      <td>DDoS</td>\n",
       "      <td>UDP</td>\n",
       "    </tr>\n",
       "  </tbody>\n",
       "</table>\n",
       "</div>"
      ],
      "text/plain": [
       "   pkSeqID proto            saddr  sport          daddr dport     seq  \\\n",
       "0  3142762   udp  192.168.100.150   6551  192.168.100.3    80  251984   \n",
       "1  2432264   tcp  192.168.100.150   5532  192.168.100.3    80  256724   \n",
       "2  1976315   tcp  192.168.100.147  27165  192.168.100.3    80   62921   \n",
       "3  1240757   udp  192.168.100.150  48719  192.168.100.3    80   99168   \n",
       "4  3257991   udp  192.168.100.147  22461  192.168.100.3    80  105063   \n",
       "\n",
       "     stddev  N_IN_Conn_P_SrcIP       min  state_number      mean  \\\n",
       "0  1.900363                100  0.000000             4  2.687519   \n",
       "1  0.078003                 38  3.856930             3  3.934927   \n",
       "2  0.268666                100  2.974100             3  3.341429   \n",
       "3  1.823185                 63  0.000000             4  3.222832   \n",
       "4  0.822418                100  2.979995             4  3.983222   \n",
       "\n",
       "   N_IN_Conn_P_DstIP  drate     srate       max  attack category subcategory  \n",
       "0                100    0.0  0.494549  4.031619       1     DDoS         UDP  \n",
       "1                100    0.0  0.256493  4.012924       1     DDoS         TCP  \n",
       "2                100    0.0  0.294880  3.609205       1     DDoS         TCP  \n",
       "3                 63    0.0  0.461435  4.942302       1      DoS         UDP  \n",
       "4                100    0.0  1.002999  4.994452       1     DDoS         UDP  "
      ]
     },
     "execution_count": 4,
     "metadata": {},
     "output_type": "execute_result"
    }
   ],
   "source": [
    "data_train.head()"
   ]
  },
  {
   "cell_type": "code",
   "execution_count": 4,
   "metadata": {},
   "outputs": [
    {
     "name": "stdout",
     "output_type": "stream",
     "text": [
      "<class 'pandas.core.frame.DataFrame'>\n",
      "RangeIndex: 2934817 entries, 0 to 2934816\n",
      "Data columns (total 19 columns):\n",
      " #   Column             Dtype  \n",
      "---  ------             -----  \n",
      " 0   pkSeqID            int64  \n",
      " 1   proto              object \n",
      " 2   saddr              object \n",
      " 3   sport              object \n",
      " 4   daddr              object \n",
      " 5   dport              object \n",
      " 6   seq                int64  \n",
      " 7   stddev             float64\n",
      " 8   N_IN_Conn_P_SrcIP  int64  \n",
      " 9   min                float64\n",
      " 10  state_number       int64  \n",
      " 11  mean               float64\n",
      " 12  N_IN_Conn_P_DstIP  int64  \n",
      " 13  drate              float64\n",
      " 14  srate              float64\n",
      " 15  max                float64\n",
      " 16  attack             int64  \n",
      " 17  category           object \n",
      " 18  subcategory        object \n",
      "dtypes: float64(6), int64(6), object(7)\n",
      "memory usage: 425.4+ MB\n"
     ]
    }
   ],
   "source": [
    "data_train.info()"
   ]
  },
  {
   "cell_type": "code",
   "execution_count": 5,
   "metadata": {},
   "outputs": [
    {
     "name": "stdout",
     "output_type": "stream",
     "text": [
      "<class 'pandas.core.frame.DataFrame'>\n",
      "RangeIndex: 733705 entries, 0 to 733704\n",
      "Data columns (total 19 columns):\n",
      " #   Column             Non-Null Count   Dtype  \n",
      "---  ------             --------------   -----  \n",
      " 0   pkSeqID            733705 non-null  int64  \n",
      " 1   proto              733705 non-null  object \n",
      " 2   saddr              733705 non-null  object \n",
      " 3   sport              733705 non-null  object \n",
      " 4   daddr              733705 non-null  object \n",
      " 5   dport              733705 non-null  object \n",
      " 6   seq                733705 non-null  int64  \n",
      " 7   stddev             733705 non-null  float64\n",
      " 8   N_IN_Conn_P_SrcIP  733705 non-null  int64  \n",
      " 9   min                733705 non-null  float64\n",
      " 10  state_number       733705 non-null  int64  \n",
      " 11  mean               733705 non-null  float64\n",
      " 12  N_IN_Conn_P_DstIP  733705 non-null  int64  \n",
      " 13  drate              733705 non-null  float64\n",
      " 14  srate              733705 non-null  float64\n",
      " 15  max                733705 non-null  float64\n",
      " 16  attack             733705 non-null  int64  \n",
      " 17  category           733705 non-null  object \n",
      " 18  subcategory        733705 non-null  object \n",
      "dtypes: float64(6), int64(6), object(7)\n",
      "memory usage: 106.4+ MB\n"
     ]
    }
   ],
   "source": [
    "data_test.info()"
   ]
  },
  {
   "cell_type": "code",
   "execution_count": 6,
   "metadata": {},
   "outputs": [
    {
     "data": {
      "text/plain": [
       "(2934817, 19)"
      ]
     },
     "execution_count": 6,
     "metadata": {},
     "output_type": "execute_result"
    }
   ],
   "source": [
    "data_train.shape"
   ]
  },
  {
   "cell_type": "markdown",
   "metadata": {},
   "source": [
    "### Preprocessing"
   ]
  },
  {
   "cell_type": "code",
   "execution_count": 7,
   "metadata": {},
   "outputs": [
    {
     "data": {
      "text/plain": [
       "pkSeqID              0\n",
       "proto                0\n",
       "saddr                0\n",
       "sport                0\n",
       "daddr                0\n",
       "dport                0\n",
       "seq                  0\n",
       "stddev               0\n",
       "N_IN_Conn_P_SrcIP    0\n",
       "min                  0\n",
       "state_number         0\n",
       "mean                 0\n",
       "N_IN_Conn_P_DstIP    0\n",
       "drate                0\n",
       "srate                0\n",
       "max                  0\n",
       "attack               0\n",
       "category             0\n",
       "subcategory          0\n",
       "dtype: int64"
      ]
     },
     "execution_count": 7,
     "metadata": {},
     "output_type": "execute_result"
    }
   ],
   "source": [
    "data_train.isnull().sum()"
   ]
  },
  {
   "cell_type": "code",
   "execution_count": 8,
   "metadata": {},
   "outputs": [
    {
     "data": {
      "text/plain": [
       "pkSeqID              0\n",
       "proto                0\n",
       "saddr                0\n",
       "sport                0\n",
       "daddr                0\n",
       "dport                0\n",
       "seq                  0\n",
       "stddev               0\n",
       "N_IN_Conn_P_SrcIP    0\n",
       "min                  0\n",
       "state_number         0\n",
       "mean                 0\n",
       "N_IN_Conn_P_DstIP    0\n",
       "drate                0\n",
       "srate                0\n",
       "max                  0\n",
       "attack               0\n",
       "category             0\n",
       "subcategory          0\n",
       "dtype: int64"
      ]
     },
     "execution_count": 8,
     "metadata": {},
     "output_type": "execute_result"
    }
   ],
   "source": [
    "data_test.isnull().sum()"
   ]
  },
  {
   "cell_type": "markdown",
   "metadata": {},
   "source": [
    "No null values are present in both training and testing dataset"
   ]
  },
  {
   "cell_type": "code",
   "execution_count": 9,
   "metadata": {},
   "outputs": [
    {
     "data": {
      "text/plain": [
       "proto          object\n",
       "saddr          object\n",
       "sport          object\n",
       "daddr          object\n",
       "dport          object\n",
       "category       object\n",
       "subcategory    object\n",
       "dtype: object"
      ]
     },
     "execution_count": 9,
     "metadata": {},
     "output_type": "execute_result"
    }
   ],
   "source": [
    "#Exploring object data types\n",
    "data_train.dtypes[data_train.dtypes=='object']"
   ]
  },
  {
   "cell_type": "code",
   "execution_count": 10,
   "metadata": {},
   "outputs": [
    {
     "data": {
      "text/plain": [
       "UDP                  1584650\n",
       "TCP                  1274843\n",
       "Service_Scan           58626\n",
       "OS_Fingerprint         14293\n",
       "HTTP                    1970\n",
       "Normal                   370\n",
       "Keylogging                59\n",
       "Data_Exfiltration          6\n",
       "Name: subcategory, dtype: int64"
      ]
     },
     "execution_count": 10,
     "metadata": {},
     "output_type": "execute_result"
    }
   ],
   "source": [
    "data_train['subcategory'].value_counts()"
   ]
  },
  {
   "cell_type": "code",
   "execution_count": 11,
   "metadata": {},
   "outputs": [],
   "source": [
    "#Dropping columns from both the dataset as they are not important to get our target values\n",
    "data_train.drop([\"pkSeqID\",\"seq\",\"subcategory\"], axis=1, inplace=True)\n",
    "data_test.drop([\"pkSeqID\",\"seq\",\"subcategory\"], axis=1, inplace=True)"
   ]
  },
  {
   "cell_type": "code",
   "execution_count": 12,
   "metadata": {},
   "outputs": [
    {
     "data": {
      "text/plain": [
       "DDoS              1541315\n",
       "DoS               1320148\n",
       "Reconnaissance      72919\n",
       "Normal                370\n",
       "Theft                  65\n",
       "Name: category, dtype: int64"
      ]
     },
     "execution_count": 12,
     "metadata": {},
     "output_type": "execute_result"
    }
   ],
   "source": [
    "data_train['category'].value_counts()"
   ]
  },
  {
   "cell_type": "code",
   "execution_count": 13,
   "metadata": {},
   "outputs": [
    {
     "data": {
      "text/plain": [
       "<matplotlib.axes._subplots.AxesSubplot at 0x23404a16ec8>"
      ]
     },
     "execution_count": 13,
     "metadata": {},
     "output_type": "execute_result"
    },
    {
     "data": {
      "image/png": "[encoded data removed]",
      "text/plain": [
       "<Figure size 720x360 with 1 Axes>"
      ]
     },
     "metadata": {},
     "output_type": "display_data"
    }
   ],
   "source": [
    "plt.figure(figsize=(10,5))\n",
    "sns.countplot(data_train['category'],palette='Accent')"
   ]
  },
  {
   "cell_type": "markdown",
   "metadata": {},
   "source": [
    "As we can see from the values and plot of category, the number of thefts case is very very less as compared to other attacks so we will drop it from the dataset.  \n",
    "Also the values of normal (no attack) is also very less but we will keep it as it is the number of times there were no attack."
   ]
  },
  {
   "cell_type": "code",
   "execution_count": 14,
   "metadata": {},
   "outputs": [
    {
     "data": {
      "text/plain": [
       "DDoS              385309\n",
       "DoS               330112\n",
       "Reconnaissance     18163\n",
       "Normal               107\n",
       "Theft                 14\n",
       "Name: category, dtype: int64"
      ]
     },
     "execution_count": 14,
     "metadata": {},
     "output_type": "execute_result"
    }
   ],
   "source": [
    "data_test['category'].value_counts()"
   ]
  },
  {
   "cell_type": "code",
   "execution_count": 15,
   "metadata": {},
   "outputs": [],
   "source": [
    "indexNames = data_train[data_train['category']=='Theft'].index\n",
    "data_train.drop(indexNames , inplace=True)"
   ]
  },
  {
   "cell_type": "code",
   "execution_count": 16,
   "metadata": {},
   "outputs": [],
   "source": [
    "indexNames = data_test[data_test['category']=='Theft'].index\n",
    "data_test.drop(indexNames , inplace=True)"
   ]
  },
  {
   "cell_type": "code",
   "execution_count": 17,
   "metadata": {},
   "outputs": [
    {
     "data": {
      "text/plain": [
       "DDoS              1541315\n",
       "DoS               1320148\n",
       "Reconnaissance      72919\n",
       "Normal                370\n",
       "Name: category, dtype: int64"
      ]
     },
     "execution_count": 17,
     "metadata": {},
     "output_type": "execute_result"
    }
   ],
   "source": [
    "data_train['category'].value_counts()"
   ]
  },
  {
   "cell_type": "code",
   "execution_count": 18,
   "metadata": {},
   "outputs": [
    {
     "data": {
      "text/plain": [
       "udp          1596819\n",
       "tcp          1330536\n",
       "icmp            7228\n",
       "arp              163\n",
       "ipv6-icmp          6\n",
       "Name: proto, dtype: int64"
      ]
     },
     "execution_count": 18,
     "metadata": {},
     "output_type": "execute_result"
    }
   ],
   "source": [
    "data_train['proto'].value_counts()"
   ]
  },
  {
   "cell_type": "code",
   "execution_count": 19,
   "metadata": {},
   "outputs": [
    {
     "data": {
      "text/plain": [
       "<matplotlib.axes._subplots.AxesSubplot at 0x2346f339908>"
      ]
     },
     "execution_count": 19,
     "metadata": {},
     "output_type": "execute_result"
    },
    {
     "data": {
      "image/png": "[encoded data removed]",
      "text/plain": [
       "<Figure size 432x288 with 1 Axes>"
      ]
     },
     "metadata": {},
     "output_type": "display_data"
    }
   ],
   "source": [
    "plt.xticks(rotation=90)\n",
    "sns.countplot(data_train['proto'],hue=data_train['category'])"
   ]
  },
  {
   "cell_type": "code",
   "execution_count": 20,
   "metadata": {
    "scrolled": false
   },
   "outputs": [
    {
     "data": {
      "text/plain": [
       "192.168.100.147              761360\n",
       "192.168.100.148              738642\n",
       "192.168.100.150              712238\n",
       "192.168.100.149              711465\n",
       "192.168.100.3                  6567\n",
       "192.168.100.5                  4107\n",
       "192.168.100.6                   272\n",
       "192.168.100.7                    34\n",
       "192.168.100.4                    17\n",
       "192.168.100.1                    14\n",
       "192.168.100.27                    9\n",
       "192.168.100.46                    8\n",
       "fe80::250:56ff:febe:254           5\n",
       "192.168.100.55                    3\n",
       "fe80::250:56ff:febe:26db          2\n",
       "fe80::250:56ff:febe:89ee          2\n",
       "fe80::c0c0:aa20:45b9:bdd9         2\n",
       "fe80::250:56ff:febe:c038          2\n",
       "fe80::2c6a:ff9b:7e14:166a         2\n",
       "fe80::250:56ff:febe:e9d9          1\n",
       "Name: saddr, dtype: int64"
      ]
     },
     "execution_count": 20,
     "metadata": {},
     "output_type": "execute_result"
    }
   ],
   "source": [
    "data_train['saddr'].value_counts()"
   ]
  },
  {
   "cell_type": "code",
   "execution_count": 21,
   "metadata": {},
   "outputs": [
    {
     "data": {
      "text/plain": [
       "20"
      ]
     },
     "execution_count": 21,
     "metadata": {},
     "output_type": "execute_result"
    }
   ],
   "source": [
    "data_train['saddr'].nunique()"
   ]
  },
  {
   "cell_type": "code",
   "execution_count": 22,
   "metadata": {},
   "outputs": [
    {
     "data": {
      "text/plain": [
       "192.168.100.3      1900540\n",
       "192.168.100.5       361192\n",
       "192.168.100.7       332161\n",
       "192.168.100.6       329678\n",
       "192.168.100.150       3018\n",
       "                    ...   \n",
       "205.251.194.201          1\n",
       "216.239.36.10            1\n",
       "205.251.199.61           1\n",
       "205.251.196.160          1\n",
       "205.251.194.102          1\n",
       "Name: daddr, Length: 81, dtype: int64"
      ]
     },
     "execution_count": 22,
     "metadata": {},
     "output_type": "execute_result"
    }
   ],
   "source": [
    "data_train['daddr'].value_counts()"
   ]
  },
  {
   "cell_type": "code",
   "execution_count": 23,
   "metadata": {},
   "outputs": [
    {
     "data": {
      "text/plain": [
       "0x0303    7156\n",
       "80        3220\n",
       "1822       878\n",
       "60541      869\n",
       "1216       868\n",
       "          ... \n",
       "39364       31\n",
       "18992       30\n",
       "39305       30\n",
       "0x000d      10\n",
       "0x0011       8\n",
       "Name: sport, Length: 65541, dtype: int64"
      ]
     },
     "execution_count": 23,
     "metadata": {},
     "output_type": "execute_result"
    }
   ],
   "source": [
    "data_train['sport'].value_counts()"
   ]
  },
  {
   "cell_type": "code",
   "execution_count": 24,
   "metadata": {},
   "outputs": [
    {
     "data": {
      "text/plain": [
       "{'0x0008', '0x000d', '0x0011', '0x0303'}"
      ]
     },
     "execution_count": 24,
     "metadata": {},
     "output_type": "execute_result"
    }
   ],
   "source": [
    "check='0x'\n",
    "s_res = set([i for i in data_train['sport'] if i.startswith(check)])\n",
    "s_res"
   ]
  },
  {
   "cell_type": "markdown",
   "metadata": {},
   "source": [
    "Some of the values in source port (sport) are in Hexadecimal form, since they are low in number we will directly replace them with their corresponding Decimal form"
   ]
  },
  {
   "cell_type": "code",
   "execution_count": 25,
   "metadata": {},
   "outputs": [],
   "source": [
    "data_train['sport']=data_train['sport'].replace(['0x0303'],'771') \n",
    "data_train['sport']=data_train['sport'].replace(['0x0011'],'17')\n",
    "data_train['sport']=data_train['sport'].replace(['0x000d'],'13')\n",
    "data_train['sport']=data_train['sport'].replace(['0x0008'],'8')"
   ]
  },
  {
   "cell_type": "code",
   "execution_count": 26,
   "metadata": {},
   "outputs": [],
   "source": [
    "data_test['sport']=data_test['sport'].replace(['0x0303'],'771') \n",
    "data_test['sport']=data_test['sport'].replace(['0x0011'],'17')\n",
    "data_test['sport']=data_test['sport'].replace(['0x000d'],'13')\n",
    "data_test['sport']=data_test['sport'].replace(['0x0008'],'8')"
   ]
  },
  {
   "cell_type": "code",
   "execution_count": 27,
   "metadata": {},
   "outputs": [],
   "source": [
    "#Converting object datatype to int datatype\n",
    "data_train[\"sport\"] = data_train[\"sport\"].astype(str).astype(int)\n",
    "data_test[\"sport\"] = data_test[\"sport\"].astype(str).astype(int)"
   ]
  },
  {
   "cell_type": "code",
   "execution_count": 28,
   "metadata": {},
   "outputs": [
    {
     "data": {
      "text/plain": [
       "80       2858794\n",
       "1           5379\n",
       "3306        3757\n",
       "53           275\n",
       "-1           163\n",
       "          ...   \n",
       "8823           1\n",
       "30601          1\n",
       "9559           1\n",
       "39331          1\n",
       "30579          1\n",
       "Name: dport, Length: 6906, dtype: int64"
      ]
     },
     "execution_count": 28,
     "metadata": {},
     "output_type": "execute_result"
    }
   ],
   "source": [
    "data_train['dport'].value_counts()"
   ]
  },
  {
   "cell_type": "code",
   "execution_count": 29,
   "metadata": {},
   "outputs": [
    {
     "name": "stdout",
     "output_type": "stream",
     "text": [
      "1062\n"
     ]
    }
   ],
   "source": [
    "check='0x'\n",
    "d_res = set([i for i in data_train['dport'] if i.startswith(check)])\n",
    "print(len(d_res))"
   ]
  },
  {
   "cell_type": "markdown",
   "metadata": {},
   "source": [
    "Some of the values in destination port (sport) are in Hexadecimal form, since they are high in number we will create a function to replace those values with their corresponding Decimal values"
   ]
  },
  {
   "cell_type": "code",
   "execution_count": 30,
   "metadata": {},
   "outputs": [],
   "source": [
    "data_train[\"dport\"] = data_train[\"dport\"].apply(lambda x: int(x,16) if len(x)>1 and x[1]==\"x\" else int(x))\n",
    "data_test[\"dport\"] = data_test[\"dport\"].apply(lambda x: int(x,16) if len(x)>1 and x[1]==\"x\" else int(x))"
   ]
  },
  {
   "cell_type": "markdown",
   "metadata": {},
   "source": [
    "### Encoding Categorical columns"
   ]
  },
  {
   "cell_type": "code",
   "execution_count": 31,
   "metadata": {},
   "outputs": [],
   "source": [
    "from sklearn.preprocessing import LabelEncoder\n",
    "le = LabelEncoder()\n",
    "data_train[\"saddr_enc\"]= le.fit_transform(data_train.saddr)\n",
    "data_train[\"daddr_enc\"]= le.fit_transform(data_train.daddr)\n",
    "data_train[\"proto_enc\"]= le.fit_transform(data_train.proto)\n",
    "data_train[\"category_enc\"]= le.fit_transform(data_train.category)"
   ]
  },
  {
   "cell_type": "code",
   "execution_count": 32,
   "metadata": {},
   "outputs": [
    {
     "data": {
      "text/html": [
       "<div>\n",
       "<style scoped>\n",
       "    .dataframe tbody tr th:only-of-type {\n",
       "        vertical-align: middle;\n",
       "    }\n",
       "\n",
       "    .dataframe tbody tr th {\n",
       "        vertical-align: top;\n",
       "    }\n",
       "\n",
       "    .dataframe thead th {\n",
       "        text-align: right;\n",
       "    }\n",
       "</style>\n",
       "<table border=\"1\" class=\"dataframe\">\n",
       "  <thead>\n",
       "    <tr style=\"text-align: right;\">\n",
       "      <th></th>\n",
       "      <th>proto</th>\n",
       "      <th>saddr</th>\n",
       "      <th>sport</th>\n",
       "      <th>daddr</th>\n",
       "      <th>dport</th>\n",
       "      <th>stddev</th>\n",
       "      <th>N_IN_Conn_P_SrcIP</th>\n",
       "      <th>min</th>\n",
       "      <th>state_number</th>\n",
       "      <th>mean</th>\n",
       "      <th>N_IN_Conn_P_DstIP</th>\n",
       "      <th>drate</th>\n",
       "      <th>srate</th>\n",
       "      <th>max</th>\n",
       "      <th>attack</th>\n",
       "      <th>category</th>\n",
       "      <th>saddr_enc</th>\n",
       "      <th>daddr_enc</th>\n",
       "      <th>proto_enc</th>\n",
       "      <th>category_enc</th>\n",
       "    </tr>\n",
       "  </thead>\n",
       "  <tbody>\n",
       "    <tr>\n",
       "      <th>0</th>\n",
       "      <td>udp</td>\n",
       "      <td>192.168.100.150</td>\n",
       "      <td>6551</td>\n",
       "      <td>192.168.100.3</td>\n",
       "      <td>80</td>\n",
       "      <td>1.900363</td>\n",
       "      <td>100</td>\n",
       "      <td>0.000000</td>\n",
       "      <td>4</td>\n",
       "      <td>2.687519</td>\n",
       "      <td>100</td>\n",
       "      <td>0.0</td>\n",
       "      <td>0.494549</td>\n",
       "      <td>4.031619</td>\n",
       "      <td>1</td>\n",
       "      <td>DDoS</td>\n",
       "      <td>4</td>\n",
       "      <td>15</td>\n",
       "      <td>4</td>\n",
       "      <td>0</td>\n",
       "    </tr>\n",
       "    <tr>\n",
       "      <th>1</th>\n",
       "      <td>tcp</td>\n",
       "      <td>192.168.100.150</td>\n",
       "      <td>5532</td>\n",
       "      <td>192.168.100.3</td>\n",
       "      <td>80</td>\n",
       "      <td>0.078003</td>\n",
       "      <td>38</td>\n",
       "      <td>3.856930</td>\n",
       "      <td>3</td>\n",
       "      <td>3.934927</td>\n",
       "      <td>100</td>\n",
       "      <td>0.0</td>\n",
       "      <td>0.256493</td>\n",
       "      <td>4.012924</td>\n",
       "      <td>1</td>\n",
       "      <td>DDoS</td>\n",
       "      <td>4</td>\n",
       "      <td>15</td>\n",
       "      <td>3</td>\n",
       "      <td>0</td>\n",
       "    </tr>\n",
       "    <tr>\n",
       "      <th>2</th>\n",
       "      <td>tcp</td>\n",
       "      <td>192.168.100.147</td>\n",
       "      <td>27165</td>\n",
       "      <td>192.168.100.3</td>\n",
       "      <td>80</td>\n",
       "      <td>0.268666</td>\n",
       "      <td>100</td>\n",
       "      <td>2.974100</td>\n",
       "      <td>3</td>\n",
       "      <td>3.341429</td>\n",
       "      <td>100</td>\n",
       "      <td>0.0</td>\n",
       "      <td>0.294880</td>\n",
       "      <td>3.609205</td>\n",
       "      <td>1</td>\n",
       "      <td>DDoS</td>\n",
       "      <td>1</td>\n",
       "      <td>15</td>\n",
       "      <td>3</td>\n",
       "      <td>0</td>\n",
       "    </tr>\n",
       "    <tr>\n",
       "      <th>3</th>\n",
       "      <td>udp</td>\n",
       "      <td>192.168.100.150</td>\n",
       "      <td>48719</td>\n",
       "      <td>192.168.100.3</td>\n",
       "      <td>80</td>\n",
       "      <td>1.823185</td>\n",
       "      <td>63</td>\n",
       "      <td>0.000000</td>\n",
       "      <td>4</td>\n",
       "      <td>3.222832</td>\n",
       "      <td>63</td>\n",
       "      <td>0.0</td>\n",
       "      <td>0.461435</td>\n",
       "      <td>4.942302</td>\n",
       "      <td>1</td>\n",
       "      <td>DoS</td>\n",
       "      <td>4</td>\n",
       "      <td>15</td>\n",
       "      <td>4</td>\n",
       "      <td>1</td>\n",
       "    </tr>\n",
       "    <tr>\n",
       "      <th>4</th>\n",
       "      <td>udp</td>\n",
       "      <td>192.168.100.147</td>\n",
       "      <td>22461</td>\n",
       "      <td>192.168.100.3</td>\n",
       "      <td>80</td>\n",
       "      <td>0.822418</td>\n",
       "      <td>100</td>\n",
       "      <td>2.979995</td>\n",
       "      <td>4</td>\n",
       "      <td>3.983222</td>\n",
       "      <td>100</td>\n",
       "      <td>0.0</td>\n",
       "      <td>1.002999</td>\n",
       "      <td>4.994452</td>\n",
       "      <td>1</td>\n",
       "      <td>DDoS</td>\n",
       "      <td>1</td>\n",
       "      <td>15</td>\n",
       "      <td>4</td>\n",
       "      <td>0</td>\n",
       "    </tr>\n",
       "  </tbody>\n",
       "</table>\n",
       "</div>"
      ],
      "text/plain": [
       "  proto            saddr  sport          daddr  dport    stddev  \\\n",
       "0   udp  192.168.100.150   6551  192.168.100.3     80  1.900363   \n",
       "1   tcp  192.168.100.150   5532  192.168.100.3     80  0.078003   \n",
       "2   tcp  192.168.100.147  27165  192.168.100.3     80  0.268666   \n",
       "3   udp  192.168.100.150  48719  192.168.100.3     80  1.823185   \n",
       "4   udp  192.168.100.147  22461  192.168.100.3     80  0.822418   \n",
       "\n",
       "   N_IN_Conn_P_SrcIP       min  state_number      mean  N_IN_Conn_P_DstIP  \\\n",
       "0                100  0.000000             4  2.687519                100   \n",
       "1                 38  3.856930             3  3.934927                100   \n",
       "2                100  2.974100             3  3.341429                100   \n",
       "3                 63  0.000000             4  3.222832                 63   \n",
       "4                100  2.979995             4  3.983222                100   \n",
       "\n",
       "   drate     srate       max  attack category  saddr_enc  daddr_enc  \\\n",
       "0    0.0  0.494549  4.031619       1     DDoS          4         15   \n",
       "1    0.0  0.256493  4.012924       1     DDoS          4         15   \n",
       "2    0.0  0.294880  3.609205       1     DDoS          1         15   \n",
       "3    0.0  0.461435  4.942302       1      DoS          4         15   \n",
       "4    0.0  1.002999  4.994452       1     DDoS          1         15   \n",
       "\n",
       "   proto_enc  category_enc  \n",
       "0          4             0  \n",
       "1          3             0  \n",
       "2          3             0  \n",
       "3          4             1  \n",
       "4          4             0  "
      ]
     },
     "execution_count": 32,
     "metadata": {},
     "output_type": "execute_result"
    }
   ],
   "source": [
    "data_train.head()"
   ]
  },
  {
   "cell_type": "code",
   "execution_count": 33,
   "metadata": {},
   "outputs": [],
   "source": [
    "# Dropping Redundant Columns\n",
    "data_train.drop(['saddr','daddr','proto','category'], axis=1, inplace=True)"
   ]
  },
  {
   "cell_type": "code",
   "execution_count": 34,
   "metadata": {},
   "outputs": [],
   "source": [
    "data_test[\"saddr_enc\"]= le.fit_transform(data_test.saddr)\n",
    "data_test[\"daddr_enc\"]= le.fit_transform(data_test.daddr)\n",
    "data_test[\"proto_enc\"]= le.fit_transform(data_test.proto)\n",
    "data_test[\"category_enc\"]= le.fit_transform(data_test.category)\n",
    "data_test.drop(['saddr','daddr','proto','category'], axis=1, inplace=True)"
   ]
  },
  {
   "cell_type": "code",
   "execution_count": 35,
   "metadata": {},
   "outputs": [
    {
     "data": {
      "text/plain": [
       "0    1541315\n",
       "1    1320148\n",
       "3      72919\n",
       "2        370\n",
       "Name: category_enc, dtype: int64"
      ]
     },
     "execution_count": 35,
     "metadata": {},
     "output_type": "execute_result"
    }
   ],
   "source": [
    "data_train['category_enc'].value_counts()"
   ]
  },
  {
   "cell_type": "markdown",
   "metadata": {},
   "source": [
    "0 - DDoS  \n",
    "1 - DoS  \n",
    "3 - Reconnaissance  \n",
    "2 - Normal"
   ]
  },
  {
   "cell_type": "code",
   "execution_count": 36,
   "metadata": {},
   "outputs": [
    {
     "name": "stdout",
     "output_type": "stream",
     "text": [
      "<class 'pandas.core.frame.DataFrame'>\n",
      "Int64Index: 2934752 entries, 0 to 2934816\n",
      "Data columns (total 16 columns):\n",
      " #   Column             Dtype  \n",
      "---  ------             -----  \n",
      " 0   sport              int32  \n",
      " 1   dport              int64  \n",
      " 2   stddev             float64\n",
      " 3   N_IN_Conn_P_SrcIP  int64  \n",
      " 4   min                float64\n",
      " 5   state_number       int64  \n",
      " 6   mean               float64\n",
      " 7   N_IN_Conn_P_DstIP  int64  \n",
      " 8   drate              float64\n",
      " 9   srate              float64\n",
      " 10  max                float64\n",
      " 11  attack             int64  \n",
      " 12  saddr_enc          int32  \n",
      " 13  daddr_enc          int32  \n",
      " 14  proto_enc          int32  \n",
      " 15  category_enc       int32  \n",
      "dtypes: float64(6), int32(5), int64(5)\n",
      "memory usage: 324.7 MB\n"
     ]
    }
   ],
   "source": [
    "data_train.info()"
   ]
  },
  {
   "cell_type": "markdown",
   "metadata": {},
   "source": [
    "### Scaling"
   ]
  },
  {
   "cell_type": "code",
   "execution_count": 37,
   "metadata": {},
   "outputs": [],
   "source": [
    "y_train=data_train[\"category_enc\"]\n",
    "y_test=data_test[\"category_enc\"]"
   ]
  },
  {
   "cell_type": "code",
   "execution_count": 38,
   "metadata": {},
   "outputs": [],
   "source": [
    "from sklearn.preprocessing import StandardScaler\n",
    "scaler=StandardScaler()\n",
    "features = data_train.iloc[:,:-1]\n",
    "cols=features.columns\n",
    "scaled_features= scaler.fit_transform(features)\n",
    "data_train= pd.DataFrame(scaled_features,columns=cols)"
   ]
  },
  {
   "cell_type": "code",
   "execution_count": 39,
   "metadata": {},
   "outputs": [],
   "source": [
    "features = data_test.iloc[:,:-1]\n",
    "cols=features.columns\n",
    "scaled_features= scaler.fit_transform(features)\n",
    "data_test= pd.DataFrame(scaled_features,columns=cols)"
   ]
  },
  {
   "cell_type": "code",
   "execution_count": 40,
   "metadata": {},
   "outputs": [
    {
     "data": {
      "text/html": [
       "<div>\n",
       "<style scoped>\n",
       "    .dataframe tbody tr th:only-of-type {\n",
       "        vertical-align: middle;\n",
       "    }\n",
       "\n",
       "    .dataframe tbody tr th {\n",
       "        vertical-align: top;\n",
       "    }\n",
       "\n",
       "    .dataframe thead th {\n",
       "        text-align: right;\n",
       "    }\n",
       "</style>\n",
       "<table border=\"1\" class=\"dataframe\">\n",
       "  <thead>\n",
       "    <tr style=\"text-align: right;\">\n",
       "      <th></th>\n",
       "      <th>sport</th>\n",
       "      <th>dport</th>\n",
       "      <th>stddev</th>\n",
       "      <th>N_IN_Conn_P_SrcIP</th>\n",
       "      <th>min</th>\n",
       "      <th>state_number</th>\n",
       "      <th>mean</th>\n",
       "      <th>N_IN_Conn_P_DstIP</th>\n",
       "      <th>drate</th>\n",
       "      <th>srate</th>\n",
       "      <th>max</th>\n",
       "      <th>attack</th>\n",
       "      <th>saddr_enc</th>\n",
       "      <th>daddr_enc</th>\n",
       "      <th>proto_enc</th>\n",
       "    </tr>\n",
       "  </thead>\n",
       "  <tbody>\n",
       "    <tr>\n",
       "      <th>0</th>\n",
       "      <td>-1.380796</td>\n",
       "      <td>-0.094028</td>\n",
       "      <td>1.260991</td>\n",
       "      <td>0.715435</td>\n",
       "      <td>-0.685661</td>\n",
       "      <td>0.729327</td>\n",
       "      <td>0.301113</td>\n",
       "      <td>0.415159</td>\n",
       "      <td>-0.00763</td>\n",
       "      <td>-0.003355</td>\n",
       "      <td>0.543986</td>\n",
       "      <td>0.011229</td>\n",
       "      <td>1.301786</td>\n",
       "      <td>-0.638504</td>\n",
       "      <td>0.897321</td>\n",
       "    </tr>\n",
       "    <tr>\n",
       "      <th>1</th>\n",
       "      <td>-1.434107</td>\n",
       "      <td>-0.094028</td>\n",
       "      <td>-1.006649</td>\n",
       "      <td>-1.826659</td>\n",
       "      <td>1.914132</td>\n",
       "      <td>-0.113083</td>\n",
       "      <td>1.122991</td>\n",
       "      <td>0.415159</td>\n",
       "      <td>-0.00763</td>\n",
       "      <td>-0.003659</td>\n",
       "      <td>0.533940</td>\n",
       "      <td>0.011229</td>\n",
       "      <td>1.301786</td>\n",
       "      <td>-0.638504</td>\n",
       "      <td>-1.049199</td>\n",
       "    </tr>\n",
       "    <tr>\n",
       "      <th>2</th>\n",
       "      <td>-0.302346</td>\n",
       "      <td>-0.094028</td>\n",
       "      <td>-0.769399</td>\n",
       "      <td>0.715435</td>\n",
       "      <td>1.319054</td>\n",
       "      <td>-0.113083</td>\n",
       "      <td>0.731954</td>\n",
       "      <td>0.415159</td>\n",
       "      <td>-0.00763</td>\n",
       "      <td>-0.003610</td>\n",
       "      <td>0.316991</td>\n",
       "      <td>0.011229</td>\n",
       "      <td>-1.281470</td>\n",
       "      <td>-0.638504</td>\n",
       "      <td>-1.049199</td>\n",
       "    </tr>\n",
       "    <tr>\n",
       "      <th>3</th>\n",
       "      <td>0.825282</td>\n",
       "      <td>-0.094028</td>\n",
       "      <td>1.164956</td>\n",
       "      <td>-0.801621</td>\n",
       "      <td>-0.685661</td>\n",
       "      <td>0.729327</td>\n",
       "      <td>0.653814</td>\n",
       "      <td>-1.621898</td>\n",
       "      <td>-0.00763</td>\n",
       "      <td>-0.003397</td>\n",
       "      <td>1.033365</td>\n",
       "      <td>0.011229</td>\n",
       "      <td>1.301786</td>\n",
       "      <td>-0.638504</td>\n",
       "      <td>0.897321</td>\n",
       "    </tr>\n",
       "    <tr>\n",
       "      <th>4</th>\n",
       "      <td>-0.548442</td>\n",
       "      <td>-0.094028</td>\n",
       "      <td>-0.080342</td>\n",
       "      <td>0.715435</td>\n",
       "      <td>1.323028</td>\n",
       "      <td>0.729327</td>\n",
       "      <td>1.154811</td>\n",
       "      <td>0.415159</td>\n",
       "      <td>-0.00763</td>\n",
       "      <td>-0.002707</td>\n",
       "      <td>1.061389</td>\n",
       "      <td>0.011229</td>\n",
       "      <td>-1.281470</td>\n",
       "      <td>-0.638504</td>\n",
       "      <td>0.897321</td>\n",
       "    </tr>\n",
       "  </tbody>\n",
       "</table>\n",
       "</div>"
      ],
      "text/plain": [
       "      sport     dport    stddev  N_IN_Conn_P_SrcIP       min  state_number  \\\n",
       "0 -1.380796 -0.094028  1.260991           0.715435 -0.685661      0.729327   \n",
       "1 -1.434107 -0.094028 -1.006649          -1.826659  1.914132     -0.113083   \n",
       "2 -0.302346 -0.094028 -0.769399           0.715435  1.319054     -0.113083   \n",
       "3  0.825282 -0.094028  1.164956          -0.801621 -0.685661      0.729327   \n",
       "4 -0.548442 -0.094028 -0.080342           0.715435  1.323028      0.729327   \n",
       "\n",
       "       mean  N_IN_Conn_P_DstIP    drate     srate       max    attack  \\\n",
       "0  0.301113           0.415159 -0.00763 -0.003355  0.543986  0.011229   \n",
       "1  1.122991           0.415159 -0.00763 -0.003659  0.533940  0.011229   \n",
       "2  0.731954           0.415159 -0.00763 -0.003610  0.316991  0.011229   \n",
       "3  0.653814          -1.621898 -0.00763 -0.003397  1.033365  0.011229   \n",
       "4  1.154811           0.415159 -0.00763 -0.002707  1.061389  0.011229   \n",
       "\n",
       "   saddr_enc  daddr_enc  proto_enc  \n",
       "0   1.301786  -0.638504   0.897321  \n",
       "1   1.301786  -0.638504  -1.049199  \n",
       "2  -1.281470  -0.638504  -1.049199  \n",
       "3   1.301786  -0.638504   0.897321  \n",
       "4  -1.281470  -0.638504   0.897321  "
      ]
     },
     "execution_count": 40,
     "metadata": {},
     "output_type": "execute_result"
    }
   ],
   "source": [
    "data_train.head()"
   ]
  },
  {
   "cell_type": "code",
   "execution_count": 41,
   "metadata": {},
   "outputs": [
    {
     "data": {
      "text/plain": [
       "0    1541315\n",
       "1    1320148\n",
       "3      72919\n",
       "2        370\n",
       "Name: category_enc, dtype: int64"
      ]
     },
     "execution_count": 41,
     "metadata": {},
     "output_type": "execute_result"
    }
   ],
   "source": [
    "y_train.value_counts()"
   ]
  },
  {
   "cell_type": "code",
   "execution_count": 42,
   "metadata": {},
   "outputs": [],
   "source": [
    "X_train = data_train\n",
    "X_test = data_test"
   ]
  },
  {
   "cell_type": "code",
   "execution_count": 43,
   "metadata": {},
   "outputs": [
    {
     "data": {
      "text/html": [
       "<div>\n",
       "<style scoped>\n",
       "    .dataframe tbody tr th:only-of-type {\n",
       "        vertical-align: middle;\n",
       "    }\n",
       "\n",
       "    .dataframe tbody tr th {\n",
       "        vertical-align: top;\n",
       "    }\n",
       "\n",
       "    .dataframe thead th {\n",
       "        text-align: right;\n",
       "    }\n",
       "</style>\n",
       "<table border=\"1\" class=\"dataframe\">\n",
       "  <thead>\n",
       "    <tr style=\"text-align: right;\">\n",
       "      <th></th>\n",
       "      <th>sport</th>\n",
       "      <th>dport</th>\n",
       "      <th>stddev</th>\n",
       "      <th>N_IN_Conn_P_SrcIP</th>\n",
       "      <th>min</th>\n",
       "      <th>state_number</th>\n",
       "      <th>mean</th>\n",
       "      <th>N_IN_Conn_P_DstIP</th>\n",
       "      <th>drate</th>\n",
       "      <th>srate</th>\n",
       "      <th>max</th>\n",
       "      <th>attack</th>\n",
       "      <th>saddr_enc</th>\n",
       "      <th>daddr_enc</th>\n",
       "      <th>proto_enc</th>\n",
       "    </tr>\n",
       "  </thead>\n",
       "  <tbody>\n",
       "    <tr>\n",
       "      <th>0</th>\n",
       "      <td>-1.380796</td>\n",
       "      <td>-0.094028</td>\n",
       "      <td>1.260991</td>\n",
       "      <td>0.715435</td>\n",
       "      <td>-0.685661</td>\n",
       "      <td>0.729327</td>\n",
       "      <td>0.301113</td>\n",
       "      <td>0.415159</td>\n",
       "      <td>-0.00763</td>\n",
       "      <td>-0.003355</td>\n",
       "      <td>0.543986</td>\n",
       "      <td>0.011229</td>\n",
       "      <td>1.301786</td>\n",
       "      <td>-0.638504</td>\n",
       "      <td>0.897321</td>\n",
       "    </tr>\n",
       "    <tr>\n",
       "      <th>1</th>\n",
       "      <td>-1.434107</td>\n",
       "      <td>-0.094028</td>\n",
       "      <td>-1.006649</td>\n",
       "      <td>-1.826659</td>\n",
       "      <td>1.914132</td>\n",
       "      <td>-0.113083</td>\n",
       "      <td>1.122991</td>\n",
       "      <td>0.415159</td>\n",
       "      <td>-0.00763</td>\n",
       "      <td>-0.003659</td>\n",
       "      <td>0.533940</td>\n",
       "      <td>0.011229</td>\n",
       "      <td>1.301786</td>\n",
       "      <td>-0.638504</td>\n",
       "      <td>-1.049199</td>\n",
       "    </tr>\n",
       "    <tr>\n",
       "      <th>2</th>\n",
       "      <td>-0.302346</td>\n",
       "      <td>-0.094028</td>\n",
       "      <td>-0.769399</td>\n",
       "      <td>0.715435</td>\n",
       "      <td>1.319054</td>\n",
       "      <td>-0.113083</td>\n",
       "      <td>0.731954</td>\n",
       "      <td>0.415159</td>\n",
       "      <td>-0.00763</td>\n",
       "      <td>-0.003610</td>\n",
       "      <td>0.316991</td>\n",
       "      <td>0.011229</td>\n",
       "      <td>-1.281470</td>\n",
       "      <td>-0.638504</td>\n",
       "      <td>-1.049199</td>\n",
       "    </tr>\n",
       "    <tr>\n",
       "      <th>3</th>\n",
       "      <td>0.825282</td>\n",
       "      <td>-0.094028</td>\n",
       "      <td>1.164956</td>\n",
       "      <td>-0.801621</td>\n",
       "      <td>-0.685661</td>\n",
       "      <td>0.729327</td>\n",
       "      <td>0.653814</td>\n",
       "      <td>-1.621898</td>\n",
       "      <td>-0.00763</td>\n",
       "      <td>-0.003397</td>\n",
       "      <td>1.033365</td>\n",
       "      <td>0.011229</td>\n",
       "      <td>1.301786</td>\n",
       "      <td>-0.638504</td>\n",
       "      <td>0.897321</td>\n",
       "    </tr>\n",
       "    <tr>\n",
       "      <th>4</th>\n",
       "      <td>-0.548442</td>\n",
       "      <td>-0.094028</td>\n",
       "      <td>-0.080342</td>\n",
       "      <td>0.715435</td>\n",
       "      <td>1.323028</td>\n",
       "      <td>0.729327</td>\n",
       "      <td>1.154811</td>\n",
       "      <td>0.415159</td>\n",
       "      <td>-0.00763</td>\n",
       "      <td>-0.002707</td>\n",
       "      <td>1.061389</td>\n",
       "      <td>0.011229</td>\n",
       "      <td>-1.281470</td>\n",
       "      <td>-0.638504</td>\n",
       "      <td>0.897321</td>\n",
       "    </tr>\n",
       "  </tbody>\n",
       "</table>\n",
       "</div>"
      ],
      "text/plain": [
       "      sport     dport    stddev  N_IN_Conn_P_SrcIP       min  state_number  \\\n",
       "0 -1.380796 -0.094028  1.260991           0.715435 -0.685661      0.729327   \n",
       "1 -1.434107 -0.094028 -1.006649          -1.826659  1.914132     -0.113083   \n",
       "2 -0.302346 -0.094028 -0.769399           0.715435  1.319054     -0.113083   \n",
       "3  0.825282 -0.094028  1.164956          -0.801621 -0.685661      0.729327   \n",
       "4 -0.548442 -0.094028 -0.080342           0.715435  1.323028      0.729327   \n",
       "\n",
       "       mean  N_IN_Conn_P_DstIP    drate     srate       max    attack  \\\n",
       "0  0.301113           0.415159 -0.00763 -0.003355  0.543986  0.011229   \n",
       "1  1.122991           0.415159 -0.00763 -0.003659  0.533940  0.011229   \n",
       "2  0.731954           0.415159 -0.00763 -0.003610  0.316991  0.011229   \n",
       "3  0.653814          -1.621898 -0.00763 -0.003397  1.033365  0.011229   \n",
       "4  1.154811           0.415159 -0.00763 -0.002707  1.061389  0.011229   \n",
       "\n",
       "   saddr_enc  daddr_enc  proto_enc  \n",
       "0   1.301786  -0.638504   0.897321  \n",
       "1   1.301786  -0.638504  -1.049199  \n",
       "2  -1.281470  -0.638504  -1.049199  \n",
       "3   1.301786  -0.638504   0.897321  \n",
       "4  -1.281470  -0.638504   0.897321  "
      ]
     },
     "execution_count": 43,
     "metadata": {},
     "output_type": "execute_result"
    }
   ],
   "source": [
    "X_train.head()"
   ]
  },
  {
   "cell_type": "markdown",
   "metadata": {},
   "source": [
    "### Sampling"
   ]
  },
  {
   "cell_type": "code",
   "execution_count": 44,
   "metadata": {},
   "outputs": [],
   "source": [
    "import imblearn\n",
    "from imblearn.under_sampling import RandomUnderSampler\n",
    "samp_strat= { 0:72919, 1:72919, 3:72919, 2:370}\n",
    "random_under= RandomUnderSampler(sampling_strategy=samp_strat,random_state=1)\n",
    "X_rus,y_rus = random_under.fit_resample(X_train,y_train)"
   ]
  },
  {
   "cell_type": "code",
   "execution_count": 45,
   "metadata": {
    "scrolled": true
   },
   "outputs": [
    {
     "data": {
      "text/plain": [
       "3    72919\n",
       "1    72919\n",
       "0    72919\n",
       "2      370\n",
       "Name: category_enc, dtype: int64"
      ]
     },
     "execution_count": 45,
     "metadata": {},
     "output_type": "execute_result"
    }
   ],
   "source": [
    "y_rus.value_counts()"
   ]
  },
  {
   "cell_type": "code",
   "execution_count": 46,
   "metadata": {},
   "outputs": [],
   "source": [
    "from imblearn.over_sampling import RandomOverSampler\n",
    "samp_strat= { 0:72919, 1:72919, 2:72919, 3:72919}\n",
    "random_under= RandomOverSampler(sampling_strategy=samp_strat,random_state=1)\n",
    "Xres,yres = random_under.fit_resample(X_rus,y_rus)"
   ]
  },
  {
   "cell_type": "code",
   "execution_count": 47,
   "metadata": {},
   "outputs": [
    {
     "data": {
      "text/plain": [
       "3    72919\n",
       "2    72919\n",
       "1    72919\n",
       "0    72919\n",
       "Name: category_enc, dtype: int64"
      ]
     },
     "execution_count": 47,
     "metadata": {},
     "output_type": "execute_result"
    }
   ],
   "source": [
    "yres.value_counts()"
   ]
  },
  {
   "cell_type": "code",
   "execution_count": 48,
   "metadata": {},
   "outputs": [
    {
     "data": {
      "text/plain": [
       "<matplotlib.axes._subplots.AxesSubplot at 0x23475c89388>"
      ]
     },
     "execution_count": 48,
     "metadata": {},
     "output_type": "execute_result"
    },
    {
     "data": {
      "image/png": "[encoded data removed]",
      "text/plain": [
       "<Figure size 720x360 with 1 Axes>"
      ]
     },
     "metadata": {},
     "output_type": "display_data"
    }
   ],
   "source": [
    "plt.figure(figsize=(10,5))\n",
    "sns.countplot(yres,palette='magma')"
   ]
  },
  {
   "cell_type": "markdown",
   "metadata": {},
   "source": [
    "### XGBoost Model"
   ]
  },
  {
   "cell_type": "code",
   "execution_count": 49,
   "metadata": {},
   "outputs": [
    {
     "name": "stdout",
     "output_type": "stream",
     "text": [
      "Accuracy of base model:  0.6174602114514148\n"
     ]
    }
   ],
   "source": [
    "from xgboost import XGBClassifier\n",
    "model_1 = XGBClassifier(random_state = 42)\n",
    "model_1.fit(Xres, yres)\n",
    "pred_1 = model_1.predict(X_test)\n",
    "score1 = model_1.score(X_test,y_test)\n",
    "print(\"Accuracy of base model: \",score1)"
   ]
  },
  {
   "cell_type": "code",
   "execution_count": 87,
   "metadata": {},
   "outputs": [],
   "source": [
    "# from xgboost import plot_tree\n",
    "# plot_tree(model_1)\n",
    "# plt.show()"
   ]
  },
  {
   "cell_type": "markdown",
   "metadata": {},
   "source": [
    "We need to tune our model by Hyperparameter Tuning so as to get better accuracy."
   ]
  },
  {
   "cell_type": "markdown",
   "metadata": {},
   "source": [
    "### HyperParameter Tuning"
   ]
  },
  {
   "cell_type": "code",
   "execution_count": 50,
   "metadata": {},
   "outputs": [],
   "source": [
    "from sklearn.model_selection import GridSearchCV"
   ]
  },
  {
   "cell_type": "code",
   "execution_count": 52,
   "metadata": {},
   "outputs": [],
   "source": [
    " params={'max_depth':[5], 'n_estimators': [200,300,400],\n",
    "            'learning_rate': [0.15,0.20], 'subsample':[0.3,0.5,0.7]}"
   ]
  },
  {
   "cell_type": "code",
   "execution_count": 53,
   "metadata": {},
   "outputs": [],
   "source": [
    "model_2 = GridSearchCV(XGBClassifier(),params,refit=True,verbose=3)"
   ]
  },
  {
   "cell_type": "code",
   "execution_count": 55,
   "metadata": {
    "scrolled": true
   },
   "outputs": [
    {
     "name": "stdout",
     "output_type": "stream",
     "text": [
      "Fitting 5 folds for each of 18 candidates, totalling 90 fits\n",
      "[CV] learning_rate=0.15, max_depth=5, n_estimators=200, subsample=0.3 \n"
     ]
    },
    {
     "name": "stderr",
     "output_type": "stream",
     "text": [
      "[Parallel(n_jobs=1)]: Using backend SequentialBackend with 1 concurrent workers.\n"
     ]
    },
    {
     "name": "stdout",
     "output_type": "stream",
     "text": [
      "[CV]  learning_rate=0.15, max_depth=5, n_estimators=200, subsample=0.3, score=1.000, total=  39.6s\n",
      "[CV] learning_rate=0.15, max_depth=5, n_estimators=200, subsample=0.3 \n"
     ]
    },
    {
     "name": "stderr",
     "output_type": "stream",
     "text": [
      "[Parallel(n_jobs=1)]: Done   1 out of   1 | elapsed:   39.5s remaining:    0.0s\n"
     ]
    },
    {
     "name": "stdout",
     "output_type": "stream",
     "text": [
      "[CV]  learning_rate=0.15, max_depth=5, n_estimators=200, subsample=0.3, score=1.000, total=  40.3s\n",
      "[CV] learning_rate=0.15, max_depth=5, n_estimators=200, subsample=0.3 \n"
     ]
    },
    {
     "name": "stderr",
     "output_type": "stream",
     "text": [
      "[Parallel(n_jobs=1)]: Done   2 out of   2 | elapsed:  1.3min remaining:    0.0s\n"
     ]
    },
    {
     "name": "stdout",
     "output_type": "stream",
     "text": [
      "[CV]  learning_rate=0.15, max_depth=5, n_estimators=200, subsample=0.3, score=1.000, total=  43.1s\n",
      "[CV] learning_rate=0.15, max_depth=5, n_estimators=200, subsample=0.3 \n",
      "[CV]  learning_rate=0.15, max_depth=5, n_estimators=200, subsample=0.3, score=1.000, total=  44.6s\n",
      "[CV] learning_rate=0.15, max_depth=5, n_estimators=200, subsample=0.3 \n",
      "[CV]  learning_rate=0.15, max_depth=5, n_estimators=200, subsample=0.3, score=1.000, total=  44.8s\n",
      "[CV] learning_rate=0.15, max_depth=5, n_estimators=200, subsample=0.5 \n",
      "[CV]  learning_rate=0.15, max_depth=5, n_estimators=200, subsample=0.5, score=1.000, total=  54.0s\n",
      "[CV] learning_rate=0.15, max_depth=5, n_estimators=200, subsample=0.5 \n",
      "[CV]  learning_rate=0.15, max_depth=5, n_estimators=200, subsample=0.5, score=1.000, total=  54.8s\n",
      "[CV] learning_rate=0.15, max_depth=5, n_estimators=200, subsample=0.5 \n",
      "[CV]  learning_rate=0.15, max_depth=5, n_estimators=200, subsample=0.5, score=1.000, total=  55.1s\n",
      "[CV] learning_rate=0.15, max_depth=5, n_estimators=200, subsample=0.5 \n",
      "[CV]  learning_rate=0.15, max_depth=5, n_estimators=200, subsample=0.5, score=1.000, total=  56.2s\n",
      "[CV] learning_rate=0.15, max_depth=5, n_estimators=200, subsample=0.5 \n",
      "[CV]  learning_rate=0.15, max_depth=5, n_estimators=200, subsample=0.5, score=1.000, total=  50.5s\n",
      "[CV] learning_rate=0.15, max_depth=5, n_estimators=200, subsample=0.7 \n",
      "[CV]  learning_rate=0.15, max_depth=5, n_estimators=200, subsample=0.7, score=1.000, total=  49.4s\n",
      "[CV] learning_rate=0.15, max_depth=5, n_estimators=200, subsample=0.7 \n",
      "[CV]  learning_rate=0.15, max_depth=5, n_estimators=200, subsample=0.7, score=1.000, total=  49.2s\n",
      "[CV] learning_rate=0.15, max_depth=5, n_estimators=200, subsample=0.7 \n",
      "[CV]  learning_rate=0.15, max_depth=5, n_estimators=200, subsample=0.7, score=1.000, total=  49.7s\n",
      "[CV] learning_rate=0.15, max_depth=5, n_estimators=200, subsample=0.7 \n",
      "[CV]  learning_rate=0.15, max_depth=5, n_estimators=200, subsample=0.7, score=1.000, total=  48.7s\n",
      "[CV] learning_rate=0.15, max_depth=5, n_estimators=200, subsample=0.7 \n",
      "[CV]  learning_rate=0.15, max_depth=5, n_estimators=200, subsample=0.7, score=1.000, total=  51.0s\n",
      "[CV] learning_rate=0.15, max_depth=5, n_estimators=300, subsample=0.3 \n",
      "[CV]  learning_rate=0.15, max_depth=5, n_estimators=300, subsample=0.3, score=1.000, total=  56.0s\n",
      "[CV] learning_rate=0.15, max_depth=5, n_estimators=300, subsample=0.3 \n",
      "[CV]  learning_rate=0.15, max_depth=5, n_estimators=300, subsample=0.3, score=1.000, total=  55.5s\n",
      "[CV] learning_rate=0.15, max_depth=5, n_estimators=300, subsample=0.3 \n",
      "[CV]  learning_rate=0.15, max_depth=5, n_estimators=300, subsample=0.3, score=1.000, total=  55.7s\n",
      "[CV] learning_rate=0.15, max_depth=5, n_estimators=300, subsample=0.3 \n",
      "[CV]  learning_rate=0.15, max_depth=5, n_estimators=300, subsample=0.3, score=1.000, total=  55.4s\n",
      "[CV] learning_rate=0.15, max_depth=5, n_estimators=300, subsample=0.3 \n",
      "[CV]  learning_rate=0.15, max_depth=5, n_estimators=300, subsample=0.3, score=1.000, total=  55.1s\n",
      "[CV] learning_rate=0.15, max_depth=5, n_estimators=300, subsample=0.5 \n",
      "[CV]  learning_rate=0.15, max_depth=5, n_estimators=300, subsample=0.5, score=1.000, total= 1.1min\n",
      "[CV] learning_rate=0.15, max_depth=5, n_estimators=300, subsample=0.5 \n",
      "[CV]  learning_rate=0.15, max_depth=5, n_estimators=300, subsample=0.5, score=1.000, total= 1.1min\n",
      "[CV] learning_rate=0.15, max_depth=5, n_estimators=300, subsample=0.5 \n",
      "[CV]  learning_rate=0.15, max_depth=5, n_estimators=300, subsample=0.5, score=1.000, total= 1.1min\n",
      "[CV] learning_rate=0.15, max_depth=5, n_estimators=300, subsample=0.5 \n",
      "[CV]  learning_rate=0.15, max_depth=5, n_estimators=300, subsample=0.5, score=1.000, total= 1.1min\n",
      "[CV] learning_rate=0.15, max_depth=5, n_estimators=300, subsample=0.5 \n",
      "[CV]  learning_rate=0.15, max_depth=5, n_estimators=300, subsample=0.5, score=1.000, total= 1.1min\n",
      "[CV] learning_rate=0.15, max_depth=5, n_estimators=300, subsample=0.7 \n",
      "[CV]  learning_rate=0.15, max_depth=5, n_estimators=300, subsample=0.7, score=1.000, total= 1.2min\n",
      "[CV] learning_rate=0.15, max_depth=5, n_estimators=300, subsample=0.7 \n",
      "[CV]  learning_rate=0.15, max_depth=5, n_estimators=300, subsample=0.7, score=1.000, total= 1.2min\n",
      "[CV] learning_rate=0.15, max_depth=5, n_estimators=300, subsample=0.7 \n",
      "[CV]  learning_rate=0.15, max_depth=5, n_estimators=300, subsample=0.7, score=1.000, total= 1.2min\n",
      "[CV] learning_rate=0.15, max_depth=5, n_estimators=300, subsample=0.7 \n",
      "[CV]  learning_rate=0.15, max_depth=5, n_estimators=300, subsample=0.7, score=1.000, total= 1.1min\n",
      "[CV] learning_rate=0.15, max_depth=5, n_estimators=300, subsample=0.7 \n",
      "[CV]  learning_rate=0.15, max_depth=5, n_estimators=300, subsample=0.7, score=1.000, total= 1.2min\n",
      "[CV] learning_rate=0.15, max_depth=5, n_estimators=400, subsample=0.3 \n",
      "[CV]  learning_rate=0.15, max_depth=5, n_estimators=400, subsample=0.3, score=1.000, total= 1.2min\n",
      "[CV] learning_rate=0.15, max_depth=5, n_estimators=400, subsample=0.3 \n",
      "[CV]  learning_rate=0.15, max_depth=5, n_estimators=400, subsample=0.3, score=1.000, total= 1.2min\n",
      "[CV] learning_rate=0.15, max_depth=5, n_estimators=400, subsample=0.3 \n",
      "[CV]  learning_rate=0.15, max_depth=5, n_estimators=400, subsample=0.3, score=1.000, total= 1.2min\n",
      "[CV] learning_rate=0.15, max_depth=5, n_estimators=400, subsample=0.3 \n",
      "[CV]  learning_rate=0.15, max_depth=5, n_estimators=400, subsample=0.3, score=1.000, total= 1.2min\n",
      "[CV] learning_rate=0.15, max_depth=5, n_estimators=400, subsample=0.3 \n",
      "[CV]  learning_rate=0.15, max_depth=5, n_estimators=400, subsample=0.3, score=1.000, total= 1.2min\n",
      "[CV] learning_rate=0.15, max_depth=5, n_estimators=400, subsample=0.5 \n",
      "[CV]  learning_rate=0.15, max_depth=5, n_estimators=400, subsample=0.5, score=1.000, total= 1.4min\n",
      "[CV] learning_rate=0.15, max_depth=5, n_estimators=400, subsample=0.5 \n",
      "[CV]  learning_rate=0.15, max_depth=5, n_estimators=400, subsample=0.5, score=1.000, total= 1.4min\n",
      "[CV] learning_rate=0.15, max_depth=5, n_estimators=400, subsample=0.5 \n",
      "[CV]  learning_rate=0.15, max_depth=5, n_estimators=400, subsample=0.5, score=1.000, total= 1.5min\n",
      "[CV] learning_rate=0.15, max_depth=5, n_estimators=400, subsample=0.5 \n",
      "[CV]  learning_rate=0.15, max_depth=5, n_estimators=400, subsample=0.5, score=1.000, total= 1.4min\n",
      "[CV] learning_rate=0.15, max_depth=5, n_estimators=400, subsample=0.5 \n",
      "[CV]  learning_rate=0.15, max_depth=5, n_estimators=400, subsample=0.5, score=1.000, total= 1.4min\n",
      "[CV] learning_rate=0.15, max_depth=5, n_estimators=400, subsample=0.7 \n",
      "[CV]  learning_rate=0.15, max_depth=5, n_estimators=400, subsample=0.7, score=1.000, total= 1.6min\n",
      "[CV] learning_rate=0.15, max_depth=5, n_estimators=400, subsample=0.7 \n",
      "[CV]  learning_rate=0.15, max_depth=5, n_estimators=400, subsample=0.7, score=1.000, total= 1.6min\n",
      "[CV] learning_rate=0.15, max_depth=5, n_estimators=400, subsample=0.7 \n",
      "[CV]  learning_rate=0.15, max_depth=5, n_estimators=400, subsample=0.7, score=1.000, total= 1.5min\n",
      "[CV] learning_rate=0.15, max_depth=5, n_estimators=400, subsample=0.7 \n",
      "[CV]  learning_rate=0.15, max_depth=5, n_estimators=400, subsample=0.7, score=1.000, total= 1.5min\n",
      "[CV] learning_rate=0.15, max_depth=5, n_estimators=400, subsample=0.7 \n",
      "[CV]  learning_rate=0.15, max_depth=5, n_estimators=400, subsample=0.7, score=1.000, total= 1.5min\n",
      "[CV] learning_rate=0.2, max_depth=5, n_estimators=200, subsample=0.3 .\n",
      "[CV]  learning_rate=0.2, max_depth=5, n_estimators=200, subsample=0.3, score=1.000, total=  37.4s\n",
      "[CV] learning_rate=0.2, max_depth=5, n_estimators=200, subsample=0.3 .\n",
      "[CV]  learning_rate=0.2, max_depth=5, n_estimators=200, subsample=0.3, score=1.000, total=  38.8s\n",
      "[CV] learning_rate=0.2, max_depth=5, n_estimators=200, subsample=0.3 .\n",
      "[CV]  learning_rate=0.2, max_depth=5, n_estimators=200, subsample=0.3, score=1.000, total=  36.7s\n",
      "[CV] learning_rate=0.2, max_depth=5, n_estimators=200, subsample=0.3 .\n",
      "[CV]  learning_rate=0.2, max_depth=5, n_estimators=200, subsample=0.3, score=1.000, total=  37.3s\n",
      "[CV] learning_rate=0.2, max_depth=5, n_estimators=200, subsample=0.3 .\n",
      "[CV]  learning_rate=0.2, max_depth=5, n_estimators=200, subsample=0.3, score=1.000, total=  42.4s\n",
      "[CV] learning_rate=0.2, max_depth=5, n_estimators=200, subsample=0.5 .\n",
      "[CV]  learning_rate=0.2, max_depth=5, n_estimators=200, subsample=0.5, score=1.000, total=  47.9s\n",
      "[CV] learning_rate=0.2, max_depth=5, n_estimators=200, subsample=0.5 .\n"
     ]
    },
    {
     "name": "stdout",
     "output_type": "stream",
     "text": [
      "[CV]  learning_rate=0.2, max_depth=5, n_estimators=200, subsample=0.5, score=1.000, total=  47.2s\n",
      "[CV] learning_rate=0.2, max_depth=5, n_estimators=200, subsample=0.5 .\n",
      "[CV]  learning_rate=0.2, max_depth=5, n_estimators=200, subsample=0.5, score=1.000, total=  46.7s\n",
      "[CV] learning_rate=0.2, max_depth=5, n_estimators=200, subsample=0.5 .\n",
      "[CV]  learning_rate=0.2, max_depth=5, n_estimators=200, subsample=0.5, score=1.000, total=  44.5s\n",
      "[CV] learning_rate=0.2, max_depth=5, n_estimators=200, subsample=0.5 .\n",
      "[CV]  learning_rate=0.2, max_depth=5, n_estimators=200, subsample=0.5, score=1.000, total=  44.5s\n",
      "[CV] learning_rate=0.2, max_depth=5, n_estimators=200, subsample=0.7 .\n",
      "[CV]  learning_rate=0.2, max_depth=5, n_estimators=200, subsample=0.7, score=1.000, total=  47.3s\n",
      "[CV] learning_rate=0.2, max_depth=5, n_estimators=200, subsample=0.7 .\n",
      "[CV]  learning_rate=0.2, max_depth=5, n_estimators=200, subsample=0.7, score=1.000, total=  47.6s\n",
      "[CV] learning_rate=0.2, max_depth=5, n_estimators=200, subsample=0.7 .\n",
      "[CV]  learning_rate=0.2, max_depth=5, n_estimators=200, subsample=0.7, score=1.000, total=  46.0s\n",
      "[CV] learning_rate=0.2, max_depth=5, n_estimators=200, subsample=0.7 .\n",
      "[CV]  learning_rate=0.2, max_depth=5, n_estimators=200, subsample=0.7, score=1.000, total=  46.7s\n",
      "[CV] learning_rate=0.2, max_depth=5, n_estimators=200, subsample=0.7 .\n",
      "[CV]  learning_rate=0.2, max_depth=5, n_estimators=200, subsample=0.7, score=1.000, total=  45.9s\n",
      "[CV] learning_rate=0.2, max_depth=5, n_estimators=300, subsample=0.3 .\n",
      "[CV]  learning_rate=0.2, max_depth=5, n_estimators=300, subsample=0.3, score=1.000, total=  53.7s\n",
      "[CV] learning_rate=0.2, max_depth=5, n_estimators=300, subsample=0.3 .\n",
      "[CV]  learning_rate=0.2, max_depth=5, n_estimators=300, subsample=0.3, score=1.000, total= 1.1min\n",
      "[CV] learning_rate=0.2, max_depth=5, n_estimators=300, subsample=0.3 .\n",
      "[CV]  learning_rate=0.2, max_depth=5, n_estimators=300, subsample=0.3, score=1.000, total=  58.0s\n",
      "[CV] learning_rate=0.2, max_depth=5, n_estimators=300, subsample=0.3 .\n",
      "[CV]  learning_rate=0.2, max_depth=5, n_estimators=300, subsample=0.3, score=1.000, total= 1.0min\n",
      "[CV] learning_rate=0.2, max_depth=5, n_estimators=300, subsample=0.3 .\n",
      "[CV]  learning_rate=0.2, max_depth=5, n_estimators=300, subsample=0.3, score=1.000, total=  59.7s\n",
      "[CV] learning_rate=0.2, max_depth=5, n_estimators=300, subsample=0.5 .\n",
      "[CV]  learning_rate=0.2, max_depth=5, n_estimators=300, subsample=0.5, score=1.000, total= 1.1min\n",
      "[CV] learning_rate=0.2, max_depth=5, n_estimators=300, subsample=0.5 .\n",
      "[CV]  learning_rate=0.2, max_depth=5, n_estimators=300, subsample=0.5, score=1.000, total= 1.1min\n",
      "[CV] learning_rate=0.2, max_depth=5, n_estimators=300, subsample=0.5 .\n",
      "[CV]  learning_rate=0.2, max_depth=5, n_estimators=300, subsample=0.5, score=1.000, total= 1.0min\n",
      "[CV] learning_rate=0.2, max_depth=5, n_estimators=300, subsample=0.5 .\n",
      "[CV]  learning_rate=0.2, max_depth=5, n_estimators=300, subsample=0.5, score=1.000, total= 1.0min\n",
      "[CV] learning_rate=0.2, max_depth=5, n_estimators=300, subsample=0.5 .\n",
      "[CV]  learning_rate=0.2, max_depth=5, n_estimators=300, subsample=0.5, score=1.000, total= 1.0min\n",
      "[CV] learning_rate=0.2, max_depth=5, n_estimators=300, subsample=0.7 .\n",
      "[CV]  learning_rate=0.2, max_depth=5, n_estimators=300, subsample=0.7, score=1.000, total= 1.1min\n",
      "[CV] learning_rate=0.2, max_depth=5, n_estimators=300, subsample=0.7 .\n",
      "[CV]  learning_rate=0.2, max_depth=5, n_estimators=300, subsample=0.7, score=1.000, total= 1.1min\n",
      "[CV] learning_rate=0.2, max_depth=5, n_estimators=300, subsample=0.7 .\n",
      "[CV]  learning_rate=0.2, max_depth=5, n_estimators=300, subsample=0.7, score=1.000, total= 1.1min\n",
      "[CV] learning_rate=0.2, max_depth=5, n_estimators=300, subsample=0.7 .\n",
      "[CV]  learning_rate=0.2, max_depth=5, n_estimators=300, subsample=0.7, score=1.000, total= 1.1min\n",
      "[CV] learning_rate=0.2, max_depth=5, n_estimators=300, subsample=0.7 .\n",
      "[CV]  learning_rate=0.2, max_depth=5, n_estimators=300, subsample=0.7, score=1.000, total= 1.1min\n",
      "[CV] learning_rate=0.2, max_depth=5, n_estimators=400, subsample=0.3 .\n",
      "[CV]  learning_rate=0.2, max_depth=5, n_estimators=400, subsample=0.3, score=1.000, total= 1.1min\n",
      "[CV] learning_rate=0.2, max_depth=5, n_estimators=400, subsample=0.3 .\n",
      "[CV]  learning_rate=0.2, max_depth=5, n_estimators=400, subsample=0.3, score=1.000, total= 1.1min\n",
      "[CV] learning_rate=0.2, max_depth=5, n_estimators=400, subsample=0.3 .\n",
      "[CV]  learning_rate=0.2, max_depth=5, n_estimators=400, subsample=0.3, score=1.000, total= 1.1min\n",
      "[CV] learning_rate=0.2, max_depth=5, n_estimators=400, subsample=0.3 .\n",
      "[CV]  learning_rate=0.2, max_depth=5, n_estimators=400, subsample=0.3, score=1.000, total= 1.2min\n",
      "[CV] learning_rate=0.2, max_depth=5, n_estimators=400, subsample=0.3 .\n",
      "[CV]  learning_rate=0.2, max_depth=5, n_estimators=400, subsample=0.3, score=1.000, total= 1.1min\n",
      "[CV] learning_rate=0.2, max_depth=5, n_estimators=400, subsample=0.5 .\n",
      "[CV]  learning_rate=0.2, max_depth=5, n_estimators=400, subsample=0.5, score=1.000, total= 1.3min\n",
      "[CV] learning_rate=0.2, max_depth=5, n_estimators=400, subsample=0.5 .\n",
      "[CV]  learning_rate=0.2, max_depth=5, n_estimators=400, subsample=0.5, score=1.000, total= 1.3min\n",
      "[CV] learning_rate=0.2, max_depth=5, n_estimators=400, subsample=0.5 .\n",
      "[CV]  learning_rate=0.2, max_depth=5, n_estimators=400, subsample=0.5, score=1.000, total= 1.3min\n",
      "[CV] learning_rate=0.2, max_depth=5, n_estimators=400, subsample=0.5 .\n",
      "[CV]  learning_rate=0.2, max_depth=5, n_estimators=400, subsample=0.5, score=1.000, total= 1.3min\n",
      "[CV] learning_rate=0.2, max_depth=5, n_estimators=400, subsample=0.5 .\n",
      "[CV]  learning_rate=0.2, max_depth=5, n_estimators=400, subsample=0.5, score=1.000, total= 1.5min\n",
      "[CV] learning_rate=0.2, max_depth=5, n_estimators=400, subsample=0.7 .\n",
      "[CV]  learning_rate=0.2, max_depth=5, n_estimators=400, subsample=0.7, score=1.000, total= 1.5min\n",
      "[CV] learning_rate=0.2, max_depth=5, n_estimators=400, subsample=0.7 .\n",
      "[CV]  learning_rate=0.2, max_depth=5, n_estimators=400, subsample=0.7, score=1.000, total= 1.6min\n",
      "[CV] learning_rate=0.2, max_depth=5, n_estimators=400, subsample=0.7 .\n",
      "[CV]  learning_rate=0.2, max_depth=5, n_estimators=400, subsample=0.7, score=1.000, total= 1.5min\n",
      "[CV] learning_rate=0.2, max_depth=5, n_estimators=400, subsample=0.7 .\n",
      "[CV]  learning_rate=0.2, max_depth=5, n_estimators=400, subsample=0.7, score=1.000, total= 1.5min\n",
      "[CV] learning_rate=0.2, max_depth=5, n_estimators=400, subsample=0.7 .\n",
      "[CV]  learning_rate=0.2, max_depth=5, n_estimators=400, subsample=0.7, score=1.000, total= 1.5min\n"
     ]
    },
    {
     "name": "stderr",
     "output_type": "stream",
     "text": [
      "[Parallel(n_jobs=1)]: Done  90 out of  90 | elapsed: 95.3min finished\n"
     ]
    },
    {
     "data": {
      "text/plain": [
       "GridSearchCV(estimator=XGBClassifier(base_score=None, booster=None,\n",
       "                                     colsample_bylevel=None,\n",
       "                                     colsample_bynode=None,\n",
       "                                     colsample_bytree=None, gamma=None,\n",
       "                                     gpu_id=None, importance_type='gain',\n",
       "                                     interaction_constraints=None,\n",
       "                                     learning_rate=None, max_delta_step=None,\n",
       "                                     max_depth=None, min_child_weight=None,\n",
       "                                     missing=nan, monotone_constraints=None,\n",
       "                                     n_estimators=100, n_jobs=None,\n",
       "                                     num_parallel_tree=None, random_state=None,\n",
       "                                     reg_alpha=None, reg_lambda=None,\n",
       "                                     scale_pos_weight=None, subsample=None,\n",
       "                                     tree_method=None, validate_parameters=None,\n",
       "                                     verbosity=None),\n",
       "             param_grid={'learning_rate': [0.15, 0.2], 'max_depth': [5],\n",
       "                         'n_estimators': [200, 300, 400],\n",
       "                         'subsample': [0.3, 0.5, 0.7]},\n",
       "             verbose=3)"
      ]
     },
     "execution_count": 55,
     "metadata": {},
     "output_type": "execute_result"
    }
   ],
   "source": [
    "model_2.fit(Xres,yres)"
   ]
  },
  {
   "cell_type": "code",
   "execution_count": 56,
   "metadata": {},
   "outputs": [
    {
     "data": {
      "text/plain": [
       "{'learning_rate': 0.2, 'max_depth': 5, 'n_estimators': 200, 'subsample': 0.5}"
      ]
     },
     "execution_count": 56,
     "metadata": {},
     "output_type": "execute_result"
    }
   ],
   "source": [
    "model_2.best_params_"
   ]
  },
  {
   "cell_type": "code",
   "execution_count": 57,
   "metadata": {},
   "outputs": [
    {
     "data": {
      "text/plain": [
       "XGBClassifier(base_score=0.5, booster='gbtree', colsample_bylevel=1,\n",
       "              colsample_bynode=1, colsample_bytree=1, gamma=0, gpu_id=-1,\n",
       "              importance_type='gain', interaction_constraints='',\n",
       "              learning_rate=0.2, max_delta_step=0, max_depth=5,\n",
       "              min_child_weight=1, missing=nan, monotone_constraints='()',\n",
       "              n_estimators=200, n_jobs=0, num_parallel_tree=1,\n",
       "              objective='multi:softprob', random_state=0, reg_alpha=0,\n",
       "              reg_lambda=1, scale_pos_weight=None, subsample=0.5,\n",
       "              tree_method='exact', validate_parameters=1, verbosity=None)"
      ]
     },
     "execution_count": 57,
     "metadata": {},
     "output_type": "execute_result"
    }
   ],
   "source": [
    "model_2.best_estimator_"
   ]
  },
  {
   "cell_type": "code",
   "execution_count": 58,
   "metadata": {},
   "outputs": [],
   "source": [
    "pred_2 = model_2.predict(X_test)"
   ]
  },
  {
   "cell_type": "code",
   "execution_count": 59,
   "metadata": {},
   "outputs": [
    {
     "name": "stdout",
     "output_type": "stream",
     "text": [
      "Accuracy of 1st test model:  81.8871977440094\n"
     ]
    }
   ],
   "source": [
    "score_2 = model_2.score(X_test,y_test)\n",
    "print(\"Accuracy of 1st test model: \",score_2*100)"
   ]
  },
  {
   "cell_type": "code",
   "execution_count": 60,
   "metadata": {},
   "outputs": [],
   "source": [
    "params_new={'max_depth':[4], 'n_estimators': [200,300],\n",
    "           'learning_rate': [0.05,0.1], 'subsample':[0.5,0.7]}"
   ]
  },
  {
   "cell_type": "code",
   "execution_count": 62,
   "metadata": {},
   "outputs": [],
   "source": [
    "model_3 = GridSearchCV(XGBClassifier(),params_new,refit=True,verbose=3,\n",
    "                       n_jobs=-1)"
   ]
  },
  {
   "cell_type": "code",
   "execution_count": 63,
   "metadata": {},
   "outputs": [
    {
     "name": "stdout",
     "output_type": "stream",
     "text": [
      "Fitting 3 folds for each of 8 candidates, totalling 24 fits\n"
     ]
    },
    {
     "name": "stderr",
     "output_type": "stream",
     "text": [
      "[Parallel(n_jobs=-1)]: Using backend LokyBackend with 8 concurrent workers.\n",
      "[Parallel(n_jobs=-1)]: Done  18 out of  24 | elapsed: 15.0min remaining:  5.0min\n",
      "[Parallel(n_jobs=-1)]: Done  24 out of  24 | elapsed: 19.2min finished\n"
     ]
    },
    {
     "data": {
      "text/plain": [
       "GridSearchCV(cv=3,\n",
       "             estimator=XGBClassifier(base_score=None, booster=None,\n",
       "                                     colsample_bylevel=None,\n",
       "                                     colsample_bynode=None,\n",
       "                                     colsample_bytree=None, gamma=None,\n",
       "                                     gpu_id=None, importance_type='gain',\n",
       "                                     interaction_constraints=None,\n",
       "                                     learning_rate=None, max_delta_step=None,\n",
       "                                     max_depth=None, min_child_weight=None,\n",
       "                                     missing=nan, monotone_constraints=None,\n",
       "                                     n_estimators=100, n_jobs=None,\n",
       "                                     num_parallel_tree=None, random_state=None,\n",
       "                                     reg_alpha=None, reg_lambda=None,\n",
       "                                     scale_pos_weight=None, subsample=None,\n",
       "                                     tree_method=None, validate_parameters=None,\n",
       "                                     verbosity=None),\n",
       "             n_jobs=-1,\n",
       "             param_grid={'learning_rate': [0.05, 0.1], 'max_depth': [4],\n",
       "                         'n_estimators': [200, 300], 'subsample': [0.5, 0.7]},\n",
       "             verbose=3)"
      ]
     },
     "execution_count": 63,
     "metadata": {},
     "output_type": "execute_result"
    }
   ],
   "source": [
    "model_3.fit(Xres,yres)"
   ]
  },
  {
   "cell_type": "code",
   "execution_count": 68,
   "metadata": {},
   "outputs": [
    {
     "data": {
      "text/plain": [
       "{'learning_rate': 0.1, 'max_depth': 4, 'n_estimators': 300, 'subsample': 0.7}"
      ]
     },
     "execution_count": 68,
     "metadata": {},
     "output_type": "execute_result"
    }
   ],
   "source": [
    "model_3.best_params_"
   ]
  },
  {
   "cell_type": "code",
   "execution_count": 69,
   "metadata": {},
   "outputs": [
    {
     "data": {
      "text/plain": [
       "XGBClassifier(base_score=0.5, booster='gbtree', colsample_bylevel=1,\n",
       "              colsample_bynode=1, colsample_bytree=1, gamma=0, gpu_id=-1,\n",
       "              importance_type='gain', interaction_constraints='',\n",
       "              learning_rate=0.1, max_delta_step=0, max_depth=4,\n",
       "              min_child_weight=1, missing=nan, monotone_constraints='()',\n",
       "              n_estimators=300, n_jobs=0, num_parallel_tree=1,\n",
       "              objective='multi:softprob', random_state=0, reg_alpha=0,\n",
       "              reg_lambda=1, scale_pos_weight=None, subsample=0.7,\n",
       "              tree_method='exact', validate_parameters=1, verbosity=None)"
      ]
     },
     "execution_count": 69,
     "metadata": {},
     "output_type": "execute_result"
    }
   ],
   "source": [
    "model_3.best_estimator_"
   ]
  },
  {
   "cell_type": "code",
   "execution_count": 70,
   "metadata": {},
   "outputs": [],
   "source": [
    "pred_3 = model_3.predict(X_test)"
   ]
  },
  {
   "cell_type": "code",
   "execution_count": 71,
   "metadata": {},
   "outputs": [
    {
     "name": "stdout",
     "output_type": "stream",
     "text": [
      "Accuracy of 2nd test model:  72.12177878698253\n"
     ]
    }
   ],
   "source": [
    "score_3 = model_3.score(X_test,y_test)\n",
    "print(\"Accuracy of 2nd test model: \",score_3*100)"
   ]
  },
  {
   "cell_type": "code",
   "execution_count": 72,
   "metadata": {},
   "outputs": [
    {
     "name": "stdout",
     "output_type": "stream",
     "text": [
      "Fitting 3 folds for each of 18 candidates, totalling 54 fits\n"
     ]
    },
    {
     "name": "stderr",
     "output_type": "stream",
     "text": [
      "[Parallel(n_jobs=-1)]: Using backend LokyBackend with 8 concurrent workers.\n",
      "[Parallel(n_jobs=-1)]: Done  16 tasks      | elapsed: 14.3min\n",
      "[Parallel(n_jobs=-1)]: Done  54 out of  54 | elapsed: 59.8min finished\n"
     ]
    },
    {
     "data": {
      "text/plain": [
       "GridSearchCV(cv=3,\n",
       "             estimator=XGBClassifier(base_score=None, booster=None,\n",
       "                                     colsample_bylevel=None,\n",
       "                                     colsample_bynode=None,\n",
       "                                     colsample_bytree=None, gamma=None,\n",
       "                                     gpu_id=None, importance_type='gain',\n",
       "                                     interaction_constraints=None,\n",
       "                                     learning_rate=None, max_delta_step=None,\n",
       "                                     max_depth=None, min_child_weight=None,\n",
       "                                     missing=nan, monotone_constraints=None,\n",
       "                                     n_estimators=100, n_jobs=None,\n",
       "                                     num_parallel_tree=None, random_state=None,\n",
       "                                     reg_alpha=None, reg_lambda=None,\n",
       "                                     scale_pos_weight=None, subsample=None,\n",
       "                                     tree_method=None, validate_parameters=None,\n",
       "                                     verbosity=None),\n",
       "             n_jobs=-1,\n",
       "             param_grid={'learning_rate': [0.2, 0.3], 'max_depth': [5],\n",
       "                         'n_estimators': [200, 300, 500],\n",
       "                         'subsample': [0.5, 0.6, 0.7]},\n",
       "             verbose=3)"
      ]
     },
     "execution_count": 72,
     "metadata": {},
     "output_type": "execute_result"
    }
   ],
   "source": [
    "params_4 = {'max_depth':[5], 'n_estimators': [200,300,500],\n",
    "            'learning_rate': [0.20,0.30], 'subsample':[0.5,0.6,0.7]}\n",
    "model_4 = GridSearchCV(XGBClassifier(),params_4,refit=True,verbose=3,\n",
    "                       cv=3,n_jobs=-1)\n",
    "model_4.fit(Xres,yres)"
   ]
  },
  {
   "cell_type": "code",
   "execution_count": 73,
   "metadata": {},
   "outputs": [
    {
     "data": {
      "text/plain": [
       "{'learning_rate': 0.2, 'max_depth': 5, 'n_estimators': 300, 'subsample': 0.7}"
      ]
     },
     "execution_count": 73,
     "metadata": {},
     "output_type": "execute_result"
    }
   ],
   "source": [
    "model_4.best_params_"
   ]
  },
  {
   "cell_type": "code",
   "execution_count": 75,
   "metadata": {},
   "outputs": [
    {
     "data": {
      "text/plain": [
       "XGBClassifier(base_score=0.5, booster='gbtree', colsample_bylevel=1,\n",
       "              colsample_bynode=1, colsample_bytree=1, gamma=0, gpu_id=-1,\n",
       "              importance_type='gain', interaction_constraints='',\n",
       "              learning_rate=0.2, max_delta_step=0, max_depth=5,\n",
       "              min_child_weight=1, missing=nan, monotone_constraints='()',\n",
       "              n_estimators=300, n_jobs=0, num_parallel_tree=1,\n",
       "              objective='multi:softprob', random_state=0, reg_alpha=0,\n",
       "              reg_lambda=1, scale_pos_weight=None, subsample=0.7,\n",
       "              tree_method='exact', validate_parameters=1, verbosity=None)"
      ]
     },
     "execution_count": 75,
     "metadata": {},
     "output_type": "execute_result"
    }
   ],
   "source": [
    "model_4.best_estimator_"
   ]
  },
  {
   "cell_type": "code",
   "execution_count": 77,
   "metadata": {},
   "outputs": [],
   "source": [
    "pred_4 = model_4.predict(X_test)"
   ]
  },
  {
   "cell_type": "code",
   "execution_count": 78,
   "metadata": {},
   "outputs": [
    {
     "name": "stdout",
     "output_type": "stream",
     "text": [
      "Accuracy of 3rd test model:  67.00722783842245\n"
     ]
    }
   ],
   "source": [
    "score_4 = model_4.score(X_test,y_test)\n",
    "print(\"Accuracy of 3rd test model: \",score_4*100)"
   ]
  },
  {
   "cell_type": "code",
   "execution_count": 79,
   "metadata": {},
   "outputs": [],
   "source": [
    " params_5={'max_depth':[5,6], 'n_estimators': [200,300],\n",
    "            'learning_rate': [0.20], 'subsample':[0.5,0.7,0.9]}"
   ]
  },
  {
   "cell_type": "code",
   "execution_count": 80,
   "metadata": {},
   "outputs": [],
   "source": [
    "model_5 = GridSearchCV(XGBClassifier(),params_5,refit=True,verbose=3)"
   ]
  },
  {
   "cell_type": "code",
   "execution_count": 81,
   "metadata": {},
   "outputs": [
    {
     "name": "stdout",
     "output_type": "stream",
     "text": [
      "Fitting 5 folds for each of 12 candidates, totalling 60 fits\n",
      "[CV] learning_rate=0.2, max_depth=5, n_estimators=200, subsample=0.5 .\n"
     ]
    },
    {
     "name": "stderr",
     "output_type": "stream",
     "text": [
      "[Parallel(n_jobs=1)]: Using backend SequentialBackend with 1 concurrent workers.\n"
     ]
    },
    {
     "name": "stdout",
     "output_type": "stream",
     "text": [
      "[CV]  learning_rate=0.2, max_depth=5, n_estimators=200, subsample=0.5, score=1.000, total= 1.0min\n",
      "[CV] learning_rate=0.2, max_depth=5, n_estimators=200, subsample=0.5 .\n"
     ]
    },
    {
     "name": "stderr",
     "output_type": "stream",
     "text": [
      "[Parallel(n_jobs=1)]: Done   1 out of   1 | elapsed:   59.9s remaining:    0.0s\n"
     ]
    },
    {
     "name": "stdout",
     "output_type": "stream",
     "text": [
      "[CV]  learning_rate=0.2, max_depth=5, n_estimators=200, subsample=0.5, score=1.000, total=  56.2s\n",
      "[CV] learning_rate=0.2, max_depth=5, n_estimators=200, subsample=0.5 .\n"
     ]
    },
    {
     "name": "stderr",
     "output_type": "stream",
     "text": [
      "[Parallel(n_jobs=1)]: Done   2 out of   2 | elapsed:  1.9min remaining:    0.0s\n"
     ]
    },
    {
     "name": "stdout",
     "output_type": "stream",
     "text": [
      "[CV]  learning_rate=0.2, max_depth=5, n_estimators=200, subsample=0.5, score=1.000, total=  56.8s\n",
      "[CV] learning_rate=0.2, max_depth=5, n_estimators=200, subsample=0.5 .\n",
      "[CV]  learning_rate=0.2, max_depth=5, n_estimators=200, subsample=0.5, score=1.000, total= 1.1min\n",
      "[CV] learning_rate=0.2, max_depth=5, n_estimators=200, subsample=0.5 .\n",
      "[CV]  learning_rate=0.2, max_depth=5, n_estimators=200, subsample=0.5, score=1.000, total=  56.3s\n",
      "[CV] learning_rate=0.2, max_depth=5, n_estimators=200, subsample=0.7 .\n",
      "[CV]  learning_rate=0.2, max_depth=5, n_estimators=200, subsample=0.7, score=1.000, total=  58.1s\n",
      "[CV] learning_rate=0.2, max_depth=5, n_estimators=200, subsample=0.7 .\n",
      "[CV]  learning_rate=0.2, max_depth=5, n_estimators=200, subsample=0.7, score=1.000, total=  56.4s\n",
      "[CV] learning_rate=0.2, max_depth=5, n_estimators=200, subsample=0.7 .\n",
      "[CV]  learning_rate=0.2, max_depth=5, n_estimators=200, subsample=0.7, score=1.000, total=  59.9s\n",
      "[CV] learning_rate=0.2, max_depth=5, n_estimators=200, subsample=0.7 .\n",
      "[CV]  learning_rate=0.2, max_depth=5, n_estimators=200, subsample=0.7, score=1.000, total=  59.1s\n",
      "[CV] learning_rate=0.2, max_depth=5, n_estimators=200, subsample=0.7 .\n",
      "[CV]  learning_rate=0.2, max_depth=5, n_estimators=200, subsample=0.7, score=1.000, total=  57.6s\n",
      "[CV] learning_rate=0.2, max_depth=5, n_estimators=200, subsample=0.9 .\n",
      "[CV]  learning_rate=0.2, max_depth=5, n_estimators=200, subsample=0.9, score=1.000, total= 1.0min\n",
      "[CV] learning_rate=0.2, max_depth=5, n_estimators=200, subsample=0.9 .\n",
      "[CV]  learning_rate=0.2, max_depth=5, n_estimators=200, subsample=0.9, score=1.000, total= 1.0min\n",
      "[CV] learning_rate=0.2, max_depth=5, n_estimators=200, subsample=0.9 .\n",
      "[CV]  learning_rate=0.2, max_depth=5, n_estimators=200, subsample=0.9, score=1.000, total= 1.0min\n",
      "[CV] learning_rate=0.2, max_depth=5, n_estimators=200, subsample=0.9 .\n",
      "[CV]  learning_rate=0.2, max_depth=5, n_estimators=200, subsample=0.9, score=1.000, total= 1.0min\n",
      "[CV] learning_rate=0.2, max_depth=5, n_estimators=200, subsample=0.9 .\n",
      "[CV]  learning_rate=0.2, max_depth=5, n_estimators=200, subsample=0.9, score=1.000, total= 1.0min\n",
      "[CV] learning_rate=0.2, max_depth=5, n_estimators=300, subsample=0.5 .\n",
      "[CV]  learning_rate=0.2, max_depth=5, n_estimators=300, subsample=0.5, score=1.000, total= 1.3min\n",
      "[CV] learning_rate=0.2, max_depth=5, n_estimators=300, subsample=0.5 .\n",
      "[CV]  learning_rate=0.2, max_depth=5, n_estimators=300, subsample=0.5, score=1.000, total= 1.4min\n",
      "[CV] learning_rate=0.2, max_depth=5, n_estimators=300, subsample=0.5 .\n",
      "[CV]  learning_rate=0.2, max_depth=5, n_estimators=300, subsample=0.5, score=1.000, total= 1.3min\n",
      "[CV] learning_rate=0.2, max_depth=5, n_estimators=300, subsample=0.5 .\n",
      "[CV]  learning_rate=0.2, max_depth=5, n_estimators=300, subsample=0.5, score=1.000, total= 1.3min\n",
      "[CV] learning_rate=0.2, max_depth=5, n_estimators=300, subsample=0.5 .\n",
      "[CV]  learning_rate=0.2, max_depth=5, n_estimators=300, subsample=0.5, score=1.000, total= 1.3min\n",
      "[CV] learning_rate=0.2, max_depth=5, n_estimators=300, subsample=0.7 .\n",
      "[CV]  learning_rate=0.2, max_depth=5, n_estimators=300, subsample=0.7, score=1.000, total= 1.4min\n",
      "[CV] learning_rate=0.2, max_depth=5, n_estimators=300, subsample=0.7 .\n",
      "[CV]  learning_rate=0.2, max_depth=5, n_estimators=300, subsample=0.7, score=1.000, total= 1.5min\n",
      "[CV] learning_rate=0.2, max_depth=5, n_estimators=300, subsample=0.7 .\n",
      "[CV]  learning_rate=0.2, max_depth=5, n_estimators=300, subsample=0.7, score=1.000, total= 1.4min\n",
      "[CV] learning_rate=0.2, max_depth=5, n_estimators=300, subsample=0.7 .\n",
      "[CV]  learning_rate=0.2, max_depth=5, n_estimators=300, subsample=0.7, score=1.000, total= 1.4min\n",
      "[CV] learning_rate=0.2, max_depth=5, n_estimators=300, subsample=0.7 .\n",
      "[CV]  learning_rate=0.2, max_depth=5, n_estimators=300, subsample=0.7, score=1.000, total= 1.4min\n",
      "[CV] learning_rate=0.2, max_depth=5, n_estimators=300, subsample=0.9 .\n",
      "[CV]  learning_rate=0.2, max_depth=5, n_estimators=300, subsample=0.9, score=1.000, total= 1.3min\n",
      "[CV] learning_rate=0.2, max_depth=5, n_estimators=300, subsample=0.9 .\n",
      "[CV]  learning_rate=0.2, max_depth=5, n_estimators=300, subsample=0.9, score=1.000, total= 1.2min\n",
      "[CV] learning_rate=0.2, max_depth=5, n_estimators=300, subsample=0.9 .\n",
      "[CV]  learning_rate=0.2, max_depth=5, n_estimators=300, subsample=0.9, score=1.000, total= 1.2min\n",
      "[CV] learning_rate=0.2, max_depth=5, n_estimators=300, subsample=0.9 .\n",
      "[CV]  learning_rate=0.2, max_depth=5, n_estimators=300, subsample=0.9, score=1.000, total= 1.2min\n",
      "[CV] learning_rate=0.2, max_depth=5, n_estimators=300, subsample=0.9 .\n",
      "[CV]  learning_rate=0.2, max_depth=5, n_estimators=300, subsample=0.9, score=1.000, total= 1.2min\n",
      "[CV] learning_rate=0.2, max_depth=6, n_estimators=200, subsample=0.5 .\n",
      "[CV]  learning_rate=0.2, max_depth=6, n_estimators=200, subsample=0.5, score=1.000, total=  49.0s\n",
      "[CV] learning_rate=0.2, max_depth=6, n_estimators=200, subsample=0.5 .\n",
      "[CV]  learning_rate=0.2, max_depth=6, n_estimators=200, subsample=0.5, score=1.000, total=  53.8s\n",
      "[CV] learning_rate=0.2, max_depth=6, n_estimators=200, subsample=0.5 .\n",
      "[CV]  learning_rate=0.2, max_depth=6, n_estimators=200, subsample=0.5, score=1.000, total=  55.6s\n",
      "[CV] learning_rate=0.2, max_depth=6, n_estimators=200, subsample=0.5 .\n",
      "[CV]  learning_rate=0.2, max_depth=6, n_estimators=200, subsample=0.5, score=1.000, total=  50.4s\n",
      "[CV] learning_rate=0.2, max_depth=6, n_estimators=200, subsample=0.5 .\n",
      "[CV]  learning_rate=0.2, max_depth=6, n_estimators=200, subsample=0.5, score=1.000, total=  48.6s\n",
      "[CV] learning_rate=0.2, max_depth=6, n_estimators=200, subsample=0.7 .\n",
      "[CV]  learning_rate=0.2, max_depth=6, n_estimators=200, subsample=0.7, score=1.000, total=  51.5s\n",
      "[CV] learning_rate=0.2, max_depth=6, n_estimators=200, subsample=0.7 .\n",
      "[CV]  learning_rate=0.2, max_depth=6, n_estimators=200, subsample=0.7, score=1.000, total=  51.6s\n",
      "[CV] learning_rate=0.2, max_depth=6, n_estimators=200, subsample=0.7 .\n",
      "[CV]  learning_rate=0.2, max_depth=6, n_estimators=200, subsample=0.7, score=1.000, total=  51.4s\n",
      "[CV] learning_rate=0.2, max_depth=6, n_estimators=200, subsample=0.7 .\n",
      "[CV]  learning_rate=0.2, max_depth=6, n_estimators=200, subsample=0.7, score=1.000, total=  51.9s\n",
      "[CV] learning_rate=0.2, max_depth=6, n_estimators=200, subsample=0.7 .\n",
      "[CV]  learning_rate=0.2, max_depth=6, n_estimators=200, subsample=0.7, score=1.000, total=  53.5s\n",
      "[CV] learning_rate=0.2, max_depth=6, n_estimators=200, subsample=0.9 .\n",
      "[CV]  learning_rate=0.2, max_depth=6, n_estimators=200, subsample=0.9, score=1.000, total=  53.4s\n",
      "[CV] learning_rate=0.2, max_depth=6, n_estimators=200, subsample=0.9 .\n",
      "[CV]  learning_rate=0.2, max_depth=6, n_estimators=200, subsample=0.9, score=1.000, total=  54.2s\n",
      "[CV] learning_rate=0.2, max_depth=6, n_estimators=200, subsample=0.9 .\n",
      "[CV]  learning_rate=0.2, max_depth=6, n_estimators=200, subsample=0.9, score=1.000, total=  57.0s\n",
      "[CV] learning_rate=0.2, max_depth=6, n_estimators=200, subsample=0.9 .\n",
      "[CV]  learning_rate=0.2, max_depth=6, n_estimators=200, subsample=0.9, score=1.000, total=  54.5s\n",
      "[CV] learning_rate=0.2, max_depth=6, n_estimators=200, subsample=0.9 .\n",
      "[CV]  learning_rate=0.2, max_depth=6, n_estimators=200, subsample=0.9, score=1.000, total=  53.5s\n",
      "[CV] learning_rate=0.2, max_depth=6, n_estimators=300, subsample=0.5 .\n",
      "[CV]  learning_rate=0.2, max_depth=6, n_estimators=300, subsample=0.5, score=1.000, total= 1.2min\n",
      "[CV] learning_rate=0.2, max_depth=6, n_estimators=300, subsample=0.5 .\n",
      "[CV]  learning_rate=0.2, max_depth=6, n_estimators=300, subsample=0.5, score=1.000, total= 1.2min\n",
      "[CV] learning_rate=0.2, max_depth=6, n_estimators=300, subsample=0.5 .\n",
      "[CV]  learning_rate=0.2, max_depth=6, n_estimators=300, subsample=0.5, score=1.000, total= 1.2min\n",
      "[CV] learning_rate=0.2, max_depth=6, n_estimators=300, subsample=0.5 .\n",
      "[CV]  learning_rate=0.2, max_depth=6, n_estimators=300, subsample=0.5, score=1.000, total= 1.2min\n",
      "[CV] learning_rate=0.2, max_depth=6, n_estimators=300, subsample=0.5 .\n",
      "[CV]  learning_rate=0.2, max_depth=6, n_estimators=300, subsample=0.5, score=1.000, total= 1.2min\n",
      "[CV] learning_rate=0.2, max_depth=6, n_estimators=300, subsample=0.7 .\n",
      "[CV]  learning_rate=0.2, max_depth=6, n_estimators=300, subsample=0.7, score=1.000, total= 1.3min\n",
      "[CV] learning_rate=0.2, max_depth=6, n_estimators=300, subsample=0.7 .\n"
     ]
    },
    {
     "name": "stdout",
     "output_type": "stream",
     "text": [
      "[CV]  learning_rate=0.2, max_depth=6, n_estimators=300, subsample=0.7, score=1.000, total= 1.2min\n",
      "[CV] learning_rate=0.2, max_depth=6, n_estimators=300, subsample=0.7 .\n",
      "[CV]  learning_rate=0.2, max_depth=6, n_estimators=300, subsample=0.7, score=1.000, total= 1.2min\n",
      "[CV] learning_rate=0.2, max_depth=6, n_estimators=300, subsample=0.7 .\n",
      "[CV]  learning_rate=0.2, max_depth=6, n_estimators=300, subsample=0.7, score=1.000, total= 1.2min\n",
      "[CV] learning_rate=0.2, max_depth=6, n_estimators=300, subsample=0.7 .\n",
      "[CV]  learning_rate=0.2, max_depth=6, n_estimators=300, subsample=0.7, score=1.000, total= 1.2min\n",
      "[CV] learning_rate=0.2, max_depth=6, n_estimators=300, subsample=0.9 .\n",
      "[CV]  learning_rate=0.2, max_depth=6, n_estimators=300, subsample=0.9, score=1.000, total= 1.3min\n",
      "[CV] learning_rate=0.2, max_depth=6, n_estimators=300, subsample=0.9 .\n",
      "[CV]  learning_rate=0.2, max_depth=6, n_estimators=300, subsample=0.9, score=1.000, total= 1.3min\n",
      "[CV] learning_rate=0.2, max_depth=6, n_estimators=300, subsample=0.9 .\n",
      "[CV]  learning_rate=0.2, max_depth=6, n_estimators=300, subsample=0.9, score=1.000, total= 1.4min\n",
      "[CV] learning_rate=0.2, max_depth=6, n_estimators=300, subsample=0.9 .\n",
      "[CV]  learning_rate=0.2, max_depth=6, n_estimators=300, subsample=0.9, score=1.000, total= 1.1min\n",
      "[CV] learning_rate=0.2, max_depth=6, n_estimators=300, subsample=0.9 .\n",
      "[CV]  learning_rate=0.2, max_depth=6, n_estimators=300, subsample=0.9, score=1.000, total= 1.2min\n"
     ]
    },
    {
     "name": "stderr",
     "output_type": "stream",
     "text": [
      "[Parallel(n_jobs=1)]: Done  60 out of  60 | elapsed: 66.3min finished\n"
     ]
    },
    {
     "data": {
      "text/plain": [
       "GridSearchCV(estimator=XGBClassifier(base_score=None, booster=None,\n",
       "                                     colsample_bylevel=None,\n",
       "                                     colsample_bynode=None,\n",
       "                                     colsample_bytree=None, gamma=None,\n",
       "                                     gpu_id=None, importance_type='gain',\n",
       "                                     interaction_constraints=None,\n",
       "                                     learning_rate=None, max_delta_step=None,\n",
       "                                     max_depth=None, min_child_weight=None,\n",
       "                                     missing=nan, monotone_constraints=None,\n",
       "                                     n_estimators=100, n_jobs=None,\n",
       "                                     num_parallel_tree=None, random_state=None,\n",
       "                                     reg_alpha=None, reg_lambda=None,\n",
       "                                     scale_pos_weight=None, subsample=None,\n",
       "                                     tree_method=None, validate_parameters=None,\n",
       "                                     verbosity=None),\n",
       "             param_grid={'learning_rate': [0.2], 'max_depth': [5, 6],\n",
       "                         'n_estimators': [200, 300],\n",
       "                         'subsample': [0.5, 0.7, 0.9]},\n",
       "             verbose=3)"
      ]
     },
     "execution_count": 81,
     "metadata": {},
     "output_type": "execute_result"
    }
   ],
   "source": [
    "model_5.fit(Xres,yres)"
   ]
  },
  {
   "cell_type": "code",
   "execution_count": 82,
   "metadata": {},
   "outputs": [
    {
     "data": {
      "text/plain": [
       "{'learning_rate': 0.2, 'max_depth': 5, 'n_estimators': 200, 'subsample': 0.5}"
      ]
     },
     "execution_count": 82,
     "metadata": {},
     "output_type": "execute_result"
    }
   ],
   "source": [
    "model_5.best_params_"
   ]
  },
  {
   "cell_type": "code",
   "execution_count": 83,
   "metadata": {},
   "outputs": [
    {
     "data": {
      "text/plain": [
       "XGBClassifier(base_score=0.5, booster='gbtree', colsample_bylevel=1,\n",
       "              colsample_bynode=1, colsample_bytree=1, gamma=0, gpu_id=-1,\n",
       "              importance_type='gain', interaction_constraints='',\n",
       "              learning_rate=0.2, max_delta_step=0, max_depth=5,\n",
       "              min_child_weight=1, missing=nan, monotone_constraints='()',\n",
       "              n_estimators=200, n_jobs=0, num_parallel_tree=1,\n",
       "              objective='multi:softprob', random_state=0, reg_alpha=0,\n",
       "              reg_lambda=1, scale_pos_weight=None, subsample=0.5,\n",
       "              tree_method='exact', validate_parameters=1, verbosity=None)"
      ]
     },
     "execution_count": 83,
     "metadata": {},
     "output_type": "execute_result"
    }
   ],
   "source": [
    "model_5.best_estimator_"
   ]
  },
  {
   "cell_type": "code",
   "execution_count": 85,
   "metadata": {},
   "outputs": [],
   "source": [
    "pred_5 = model_5.predict(X_test)"
   ]
  },
  {
   "cell_type": "code",
   "execution_count": 86,
   "metadata": {},
   "outputs": [
    {
     "name": "stdout",
     "output_type": "stream",
     "text": [
      "Accuracy of 4th test model:  81.8871977440094\n"
     ]
    }
   ],
   "source": [
    "score_5 = model_5.score(X_test,y_test)\n",
    "print(\"Accuracy of 4th test model: \",score_5*100)"
   ]
  },
  {
   "cell_type": "code",
   "execution_count": 87,
   "metadata": {},
   "outputs": [
    {
     "name": "stdout",
     "output_type": "stream",
     "text": [
      "Fitting 5 folds for each of 18 candidates, totalling 90 fits\n"
     ]
    },
    {
     "name": "stderr",
     "output_type": "stream",
     "text": [
      "[Parallel(n_jobs=-1)]: Using backend LokyBackend with 8 concurrent workers.\n",
      "[Parallel(n_jobs=-1)]: Done  16 tasks      | elapsed: 16.3min\n",
      "[Parallel(n_jobs=-1)]: Done  90 out of  90 | elapsed: 109.4min finished\n"
     ]
    },
    {
     "data": {
      "text/plain": [
       "GridSearchCV(cv=5,\n",
       "             estimator=XGBClassifier(base_score=None, booster=None,\n",
       "                                     colsample_bylevel=None,\n",
       "                                     colsample_bynode=None,\n",
       "                                     colsample_bytree=None, gamma=None,\n",
       "                                     gpu_id=None, importance_type='gain',\n",
       "                                     interaction_constraints=None,\n",
       "                                     learning_rate=None, max_delta_step=None,\n",
       "                                     max_depth=None, min_child_weight=None,\n",
       "                                     missing=nan, monotone_constraints=None,\n",
       "                                     n_estimators=100, n_jobs=None,\n",
       "                                     num_parallel_tree=None, random_state=None,\n",
       "                                     reg_alpha=None, reg_lambda=None,\n",
       "                                     scale_pos_weight=None, subsample=None,\n",
       "                                     tree_method=None, validate_parameters=None,\n",
       "                                     verbosity=None),\n",
       "             n_jobs=-1,\n",
       "             param_grid={'learning_rate': [0.2, 0.3], 'max_depth': [5],\n",
       "                         'n_estimators': [200, 300, 500],\n",
       "                         'subsample': [0.5, 0.6, 0.7]},\n",
       "             verbose=3)"
      ]
     },
     "execution_count": 87,
     "metadata": {},
     "output_type": "execute_result"
    }
   ],
   "source": [
    "params_6 = {'max_depth':[5], 'n_estimators': [200,300,500],\n",
    "            'learning_rate': [0.20,0.30], 'subsample':[0.5,0.6,0.7]}\n",
    "model_6 = GridSearchCV(XGBClassifier(),params_4,refit=True,verbose=3,\n",
    "                       cv=5,n_jobs=-1)\n",
    "model_6.fit(Xres,yres)"
   ]
  },
  {
   "cell_type": "code",
   "execution_count": 88,
   "metadata": {},
   "outputs": [
    {
     "data": {
      "text/plain": [
       "{'learning_rate': 0.3, 'max_depth': 5, 'n_estimators': 500, 'subsample': 0.6}"
      ]
     },
     "execution_count": 88,
     "metadata": {},
     "output_type": "execute_result"
    }
   ],
   "source": [
    "model_6.best_params_"
   ]
  },
  {
   "cell_type": "code",
   "execution_count": 89,
   "metadata": {},
   "outputs": [
    {
     "data": {
      "text/plain": [
       "XGBClassifier(base_score=0.5, booster='gbtree', colsample_bylevel=1,\n",
       "              colsample_bynode=1, colsample_bytree=1, gamma=0, gpu_id=-1,\n",
       "              importance_type='gain', interaction_constraints='',\n",
       "              learning_rate=0.3, max_delta_step=0, max_depth=5,\n",
       "              min_child_weight=1, missing=nan, monotone_constraints='()',\n",
       "              n_estimators=500, n_jobs=0, num_parallel_tree=1,\n",
       "              objective='multi:softprob', random_state=0, reg_alpha=0,\n",
       "              reg_lambda=1, scale_pos_weight=None, subsample=0.6,\n",
       "              tree_method='exact', validate_parameters=1, verbosity=None)"
      ]
     },
     "execution_count": 89,
     "metadata": {},
     "output_type": "execute_result"
    }
   ],
   "source": [
    "model_6.best_estimator_"
   ]
  },
  {
   "cell_type": "code",
   "execution_count": 91,
   "metadata": {},
   "outputs": [],
   "source": [
    "pred_6 = model_6.predict(X_test)"
   ]
  },
  {
   "cell_type": "code",
   "execution_count": 92,
   "metadata": {},
   "outputs": [
    {
     "name": "stdout",
     "output_type": "stream",
     "text": [
      "Accuracy of 5th model:  90.48741227574007\n"
     ]
    }
   ],
   "source": [
    "score_6 = model_6.score(X_test,y_test)\n",
    "print(\"Accuracy of 5th model: \",score_6*100)"
   ]
  },
  {
   "cell_type": "code",
   "execution_count": 97,
   "metadata": {},
   "outputs": [
    {
     "name": "stdout",
     "output_type": "stream",
     "text": [
      "Results of various Parameter tuned models \n",
      "Base model 0:  61.75 %\n",
      "Test model 1:  81.89 %\n",
      "Test model 2:  72.12 %\n",
      "Test model 3:  67.01 %\n",
      "Test model 4:  81.89 %\n",
      "Test model 5:  90.49 %\n"
     ]
    }
   ],
   "source": [
    "print(\"Results of various Parameter tuned models \")\n",
    "print(\"Base model 0: \",round(score1*100,2),\"%\")\n",
    "print(\"Test model 1: \",round(score_2*100,2),\"%\")\n",
    "print(\"Test model 2: \",round(score_3*100,2),\"%\")\n",
    "print(\"Test model 3: \",round(score_4*100,2),\"%\")\n",
    "print(\"Test model 4: \",round(score_5*100,2),\"%\")\n",
    "print(\"Test model 5: \",round(score_6*100,2),\"%\")"
   ]
  },
  {
   "cell_type": "markdown",
   "metadata": {},
   "source": [
    "So after hyperparameter tuning, Accuracy has increased from 61.75% to 90.49%.  "
   ]
  },
  {
   "cell_type": "markdown",
   "metadata": {},
   "source": [
    "### K Fold Cross Validation"
   ]
  },
  {
   "cell_type": "code",
   "execution_count": 128,
   "metadata": {},
   "outputs": [],
   "source": [
    "# from sklearn.model_selection import KFold,StratifiedKFold,cross_val_score\n",
    "# def evaluate_model(model):\n",
    "    \n",
    "#     KF=KFold(n_splits=10,shuffle=True,random_state=42)\n",
    "#     score1 = cross_val_score(model, Xres, yres, scoring='accuracy', cv=KF)\n",
    "    \n",
    "#     SKF= StratifiedKFold(n_splits=10,shuffle=True)\n",
    "#     score2 = cross_val_score(model, Xres, yres, scoring='accuracy', cv=SKF)\n",
    "    \n",
    "#     list_scores=[np.mean(score1),np.mean(score2)]\n",
    "    \n",
    "#     return list_scores\n"
   ]
  },
  {
   "cell_type": "code",
   "execution_count": 130,
   "metadata": {
    "scrolled": true
   },
   "outputs": [],
   "source": [
    "# names=[\"KFold\",\"Stratified KFold\"]\n",
    "# print(\"KFOLD CROSS VALIDATION SCORES\")\n",
    "# print(\"(For Base Model 0)\")\n",
    "# scores_k1 = evaluate_model(model_1)\n",
    "\n",
    "# for (i,j) in zip(scores_k1,names):\n",
    "#     print(j,\"-\",round(i*100,2),'%')\n",
    "   "
   ]
  },
  {
   "cell_type": "markdown",
   "metadata": {},
   "source": [
    "### Results"
   ]
  },
  {
   "cell_type": "code",
   "execution_count": 117,
   "metadata": {},
   "outputs": [],
   "source": [
    "from sklearn.metrics import classification_report,confusion_matrix\n",
    "from sklearn.metrics import accuracy_score, f1_score, auc, roc_curve, roc_auc_score\n",
    "from sklearn import metrics\n"
   ]
  },
  {
   "cell_type": "code",
   "execution_count": 121,
   "metadata": {},
   "outputs": [
    {
     "name": "stdout",
     "output_type": "stream",
     "text": [
      "Results of various Parameter tuned models \n",
      "Base model 0:  61.75 %\n",
      "Test model 1:  81.89 %\n",
      "Test model 2:  72.12 %\n",
      "Test model 3:  67.01 %\n",
      "Test model 4:  81.89 %\n",
      "Test model 5:  90.49 %\n"
     ]
    }
   ],
   "source": [
    "print(\"Results of various Parameter tuned models \")\n",
    "print(\"Base model 0: \",round(score1*100,2),\"%\")\n",
    "print(\"Test model 1: \",round(score_2*100,2),\"%\")\n",
    "print(\"Test model 2: \",round(score_3*100,2),\"%\")\n",
    "print(\"Test model 3: \",round(score_4*100,2),\"%\")\n",
    "print(\"Test model 4: \",round(score_5*100,2),\"%\")\n",
    "print(\"Test model 5: \",round(score_6*100,2),\"%\")"
   ]
  },
  {
   "cell_type": "code",
   "execution_count": 150,
   "metadata": {},
   "outputs": [
    {
     "data": {
      "image/png": "[encoded data removed]",
      "text/plain": [
       "<Figure size 504x432 with 1 Axes>"
      ]
     },
     "metadata": {},
     "output_type": "display_data"
    }
   ],
   "source": [
    "plt.figure(figsize=(7,6))\n",
    "results = [score1*100,score_2*100,score_3*100,score_4*100,score_5*100,score_6*100]\n",
    "model_names = ['Base model 0','Test model 1','Test model 2','Test model 3','Test model 4', 'Test model 5']\n",
    "sns.barplot(x = model_names, y=results, palette='viridis')\n",
    "plt.xlabel('Models')\n",
    "plt.ylabel('Accuracy (in %)')\n",
    "plt.title('Comparison between the test models')\n",
    "plt.show()"
   ]
  },
  {
   "cell_type": "code",
   "execution_count": 123,
   "metadata": {
    "scrolled": true
   },
   "outputs": [
    {
     "name": "stdout",
     "output_type": "stream",
     "text": [
      "[[378939   1481      0   4889]\n",
      " [   181 266694      0  63237]\n",
      " [     0      0    107      0]\n",
      " [     5      0      0  18158]]\n"
     ]
    }
   ],
   "source": [
    "print(confusion_matrix(y_test,pred_6))"
   ]
  },
  {
   "cell_type": "code",
   "execution_count": 119,
   "metadata": {},
   "outputs": [
    {
     "name": "stdout",
     "output_type": "stream",
     "text": [
      "              precision    recall  f1-score   support\n",
      "\n",
      "           0       1.00      0.98      0.99    385309\n",
      "           1       0.99      0.81      0.89    330112\n",
      "           2       1.00      1.00      1.00       107\n",
      "           3       0.21      1.00      0.35     18163\n",
      "\n",
      "    accuracy                           0.90    733691\n",
      "   macro avg       0.80      0.95      0.81    733691\n",
      "weighted avg       0.98      0.90      0.93    733691\n",
      "\n"
     ]
    }
   ],
   "source": [
    "# Classification Report of tuned model (Test Model 5)\n",
    "print(classification_report(y_test,pred_6))"
   ]
  },
  {
   "cell_type": "markdown",
   "metadata": {},
   "source": [
    "##### Inferences from the report:  \n",
    " - Recall of the model is 0.90, i.e. 90% of the predicted vaues were true(1).\n",
    " - Precision of the model is 0.98, i.e. 98% of the predicted true values were correct.\n",
    " - F1-Score is also pretty high, 0.93 that means the precision and recall of our model is high.\n"
   ]
  },
  {
   "cell_type": "code",
   "execution_count": 124,
   "metadata": {},
   "outputs": [
    {
     "name": "stdout",
     "output_type": "stream",
     "text": [
      "[[381229    647      0   3433]\n",
      " [   457  53532      0 276123]\n",
      " [     0      0    107      0]\n",
      " [     5      1      0  18157]]\n"
     ]
    }
   ],
   "source": [
    "print(confusion_matrix(y_test,pred_1))"
   ]
  },
  {
   "cell_type": "code",
   "execution_count": 120,
   "metadata": {
    "scrolled": true
   },
   "outputs": [
    {
     "name": "stdout",
     "output_type": "stream",
     "text": [
      "              precision    recall  f1-score   support\n",
      "\n",
      "           0       1.00      0.99      0.99    385309\n",
      "           1       0.99      0.16      0.28    330112\n",
      "           2       1.00      1.00      1.00       107\n",
      "           3       0.06      1.00      0.11     18163\n",
      "\n",
      "    accuracy                           0.62    733691\n",
      "   macro avg       0.76      0.79      0.60    733691\n",
      "weighted avg       0.97      0.62      0.65    733691\n",
      "\n"
     ]
    }
   ],
   "source": [
    "# Classification Report of base model\n",
    "print(classification_report(y_test,pred_1))"
   ]
  },
  {
   "cell_type": "markdown",
   "metadata": {},
   "source": [
    "##### Inferences from the report:  \n",
    " - Recall of the model is 0.62, i.e. 62% of the predicted vaues were true(1).\n",
    " - Precision of the model is 0.97, i.e. 97% of the predicted true values were correct.\n",
    " - F1 score is not very high, 0.65 this is due to low recall.\n"
   ]
  },
  {
   "cell_type": "code",
   "execution_count": null,
   "metadata": {},
   "outputs": [],
   "source": []
  }
 ],
 "metadata": {
  "kernelspec": {
   "display_name": "Python 3",
   "language": "python",
   "name": "python3"
  },
  "language_info": {
   "codemirror_mode": {
    "name": "ipython",
    "version": 3
   },
   "file_extension": ".py",
   "mimetype": "text/x-python",
   "name": "python",
   "nbconvert_exporter": "python",
   "pygments_lexer": "ipython3",
   "version": "3.7.6"
  }
 },
 "nbformat": 4,
 "nbformat_minor": 4
}

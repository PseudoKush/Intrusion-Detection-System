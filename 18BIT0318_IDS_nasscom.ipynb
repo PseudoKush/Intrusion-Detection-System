{
  "nbformat": 4,
  "nbformat_minor": 0,
  "metadata": {
    "colab": {
      "name": "18BIT0318_IDS_nasscom.ipynb",
      "provenance": [],
      "collapsed_sections": [],
      "mount_file_id": "1u7EmXTuwACosSYpPCtKkmYn5WCGGs8ZC",
      "authorship_tag": "ABX9TyPobKjyWr10aAFDFHdtAb1+",
      "include_colab_link": true
    },
    "kernelspec": {
      "name": "python3",
      "display_name": "Python 3"
    }
  },
  "cells": [
    {
      "cell_type": "markdown",
      "metadata": {
        "id": "view-in-github",
        "colab_type": "text"
      },
      "source": [
        "<a href=\"https://colab.research.google.com/github/akshitsawnani/Intrusion-Detection-System/blob/main/18BIT0318_IDS_nasscom.ipynb\" target=\"_parent\"><img src=\"https://colab.research.google.com/assets/colab-badge.svg\" alt=\"Open In Colab\"/></a>"
      ]
    },
    {
      "cell_type": "code",
      "metadata": {
        "id": "4_ix2uUW7c4N"
      },
      "source": [
        "import pandas as pd\n",
        "import numpy as np\n",
        "import seaborn as sns\n",
        "import sklearn\n",
        "import warnings; warnings.simplefilter('ignore')\n",
        "from sklearn.preprocessing import StandardScaler"
      ],
      "execution_count": null,
      "outputs": []
    },
    {
      "cell_type": "code",
      "metadata": {
        "id": "edUz8u5YO9fY"
      },
      "source": [
        "data_train=pd.read_csv(\"/content/drive/My Drive/DATASETIOT/UNSW_2018_IoT_Botnet_Final_10_best_Training.csv\")"
      ],
      "execution_count": null,
      "outputs": []
    },
    {
      "cell_type": "code",
      "metadata": {
        "id": "TKEg5KuG7vh9"
      },
      "source": [
        "data_test=pd.read_csv(\"/content/drive/My Drive/DATASETIOT/UNSW_2018_IoT_Botnet_Final_10_best_Testing.csv\")"
      ],
      "execution_count": null,
      "outputs": []
    },
    {
      "cell_type": "code",
      "metadata": {
        "id": "6RBzAgvV73pi",
        "outputId": "77ed01c0-fe85-4e1f-ecfd-eb33c270dc37",
        "colab": {
          "base_uri": "https://localhost:8080/",
          "height": 215
        }
      },
      "source": [
        "data_train.head()"
      ],
      "execution_count": null,
      "outputs": [
        {
          "output_type": "execute_result",
          "data": {
            "text/html": [
              "<div>\n",
              "<style scoped>\n",
              "    .dataframe tbody tr th:only-of-type {\n",
              "        vertical-align: middle;\n",
              "    }\n",
              "\n",
              "    .dataframe tbody tr th {\n",
              "        vertical-align: top;\n",
              "    }\n",
              "\n",
              "    .dataframe thead th {\n",
              "        text-align: right;\n",
              "    }\n",
              "</style>\n",
              "<table border=\"1\" class=\"dataframe\">\n",
              "  <thead>\n",
              "    <tr style=\"text-align: right;\">\n",
              "      <th></th>\n",
              "      <th>pkSeqID</th>\n",
              "      <th>proto</th>\n",
              "      <th>saddr</th>\n",
              "      <th>sport</th>\n",
              "      <th>daddr</th>\n",
              "      <th>dport</th>\n",
              "      <th>seq</th>\n",
              "      <th>stddev</th>\n",
              "      <th>N_IN_Conn_P_SrcIP</th>\n",
              "      <th>min</th>\n",
              "      <th>state_number</th>\n",
              "      <th>mean</th>\n",
              "      <th>N_IN_Conn_P_DstIP</th>\n",
              "      <th>drate</th>\n",
              "      <th>srate</th>\n",
              "      <th>max</th>\n",
              "      <th>attack</th>\n",
              "      <th>category</th>\n",
              "      <th>subcategory</th>\n",
              "    </tr>\n",
              "  </thead>\n",
              "  <tbody>\n",
              "    <tr>\n",
              "      <th>0</th>\n",
              "      <td>3142762</td>\n",
              "      <td>udp</td>\n",
              "      <td>192.168.100.150</td>\n",
              "      <td>6551</td>\n",
              "      <td>192.168.100.3</td>\n",
              "      <td>80</td>\n",
              "      <td>251984</td>\n",
              "      <td>1.900363</td>\n",
              "      <td>100</td>\n",
              "      <td>0.000000</td>\n",
              "      <td>4</td>\n",
              "      <td>2.687519</td>\n",
              "      <td>100</td>\n",
              "      <td>0.0</td>\n",
              "      <td>0.494549</td>\n",
              "      <td>4.031619</td>\n",
              "      <td>1</td>\n",
              "      <td>DDoS</td>\n",
              "      <td>UDP</td>\n",
              "    </tr>\n",
              "    <tr>\n",
              "      <th>1</th>\n",
              "      <td>2432264</td>\n",
              "      <td>tcp</td>\n",
              "      <td>192.168.100.150</td>\n",
              "      <td>5532</td>\n",
              "      <td>192.168.100.3</td>\n",
              "      <td>80</td>\n",
              "      <td>256724</td>\n",
              "      <td>0.078003</td>\n",
              "      <td>38</td>\n",
              "      <td>3.856930</td>\n",
              "      <td>3</td>\n",
              "      <td>3.934927</td>\n",
              "      <td>100</td>\n",
              "      <td>0.0</td>\n",
              "      <td>0.256493</td>\n",
              "      <td>4.012924</td>\n",
              "      <td>1</td>\n",
              "      <td>DDoS</td>\n",
              "      <td>TCP</td>\n",
              "    </tr>\n",
              "    <tr>\n",
              "      <th>2</th>\n",
              "      <td>1976315</td>\n",
              "      <td>tcp</td>\n",
              "      <td>192.168.100.147</td>\n",
              "      <td>27165</td>\n",
              "      <td>192.168.100.3</td>\n",
              "      <td>80</td>\n",
              "      <td>62921</td>\n",
              "      <td>0.268666</td>\n",
              "      <td>100</td>\n",
              "      <td>2.974100</td>\n",
              "      <td>3</td>\n",
              "      <td>3.341429</td>\n",
              "      <td>100</td>\n",
              "      <td>0.0</td>\n",
              "      <td>0.294880</td>\n",
              "      <td>3.609205</td>\n",
              "      <td>1</td>\n",
              "      <td>DDoS</td>\n",
              "      <td>TCP</td>\n",
              "    </tr>\n",
              "    <tr>\n",
              "      <th>3</th>\n",
              "      <td>1240757</td>\n",
              "      <td>udp</td>\n",
              "      <td>192.168.100.150</td>\n",
              "      <td>48719</td>\n",
              "      <td>192.168.100.3</td>\n",
              "      <td>80</td>\n",
              "      <td>99168</td>\n",
              "      <td>1.823185</td>\n",
              "      <td>63</td>\n",
              "      <td>0.000000</td>\n",
              "      <td>4</td>\n",
              "      <td>3.222832</td>\n",
              "      <td>63</td>\n",
              "      <td>0.0</td>\n",
              "      <td>0.461435</td>\n",
              "      <td>4.942302</td>\n",
              "      <td>1</td>\n",
              "      <td>DoS</td>\n",
              "      <td>UDP</td>\n",
              "    </tr>\n",
              "    <tr>\n",
              "      <th>4</th>\n",
              "      <td>3257991</td>\n",
              "      <td>udp</td>\n",
              "      <td>192.168.100.147</td>\n",
              "      <td>22461</td>\n",
              "      <td>192.168.100.3</td>\n",
              "      <td>80</td>\n",
              "      <td>105063</td>\n",
              "      <td>0.822418</td>\n",
              "      <td>100</td>\n",
              "      <td>2.979995</td>\n",
              "      <td>4</td>\n",
              "      <td>3.983222</td>\n",
              "      <td>100</td>\n",
              "      <td>0.0</td>\n",
              "      <td>1.002999</td>\n",
              "      <td>4.994452</td>\n",
              "      <td>1</td>\n",
              "      <td>DDoS</td>\n",
              "      <td>UDP</td>\n",
              "    </tr>\n",
              "  </tbody>\n",
              "</table>\n",
              "</div>"
            ],
            "text/plain": [
              "   pkSeqID proto            saddr  sport  ...       max attack  category  subcategory\n",
              "0  3142762   udp  192.168.100.150   6551  ...  4.031619      1      DDoS          UDP\n",
              "1  2432264   tcp  192.168.100.150   5532  ...  4.012924      1      DDoS          TCP\n",
              "2  1976315   tcp  192.168.100.147  27165  ...  3.609205      1      DDoS          TCP\n",
              "3  1240757   udp  192.168.100.150  48719  ...  4.942302      1       DoS          UDP\n",
              "4  3257991   udp  192.168.100.147  22461  ...  4.994452      1      DDoS          UDP\n",
              "\n",
              "[5 rows x 19 columns]"
            ]
          },
          "metadata": {
            "tags": []
          },
          "execution_count": 4
        }
      ]
    },
    {
      "cell_type": "code",
      "metadata": {
        "id": "eXlAnRcd8AHj",
        "outputId": "f3f3696c-a5c0-473b-adea-71a31db9617c",
        "colab": {
          "base_uri": "https://localhost:8080/"
        }
      },
      "source": [
        "data_train.info()"
      ],
      "execution_count": null,
      "outputs": [
        {
          "output_type": "stream",
          "text": [
            "<class 'pandas.core.frame.DataFrame'>\n",
            "RangeIndex: 2934817 entries, 0 to 2934816\n",
            "Data columns (total 19 columns):\n",
            " #   Column             Dtype  \n",
            "---  ------             -----  \n",
            " 0   pkSeqID            int64  \n",
            " 1   proto              object \n",
            " 2   saddr              object \n",
            " 3   sport              object \n",
            " 4   daddr              object \n",
            " 5   dport              object \n",
            " 6   seq                int64  \n",
            " 7   stddev             float64\n",
            " 8   N_IN_Conn_P_SrcIP  int64  \n",
            " 9   min                float64\n",
            " 10  state_number       int64  \n",
            " 11  mean               float64\n",
            " 12  N_IN_Conn_P_DstIP  int64  \n",
            " 13  drate              float64\n",
            " 14  srate              float64\n",
            " 15  max                float64\n",
            " 16  attack             int64  \n",
            " 17  category           object \n",
            " 18  subcategory        object \n",
            "dtypes: float64(6), int64(6), object(7)\n",
            "memory usage: 425.4+ MB\n"
          ],
          "name": "stdout"
        }
      ]
    },
    {
      "cell_type": "code",
      "metadata": {
        "id": "DDjdBKmI8EHE",
        "outputId": "9aff2023-f6ba-4a0c-beb8-66cc9f52b990",
        "colab": {
          "base_uri": "https://localhost:8080/"
        }
      },
      "source": [
        "data_train.shape"
      ],
      "execution_count": null,
      "outputs": [
        {
          "output_type": "execute_result",
          "data": {
            "text/plain": [
              "(2934817, 19)"
            ]
          },
          "metadata": {
            "tags": []
          },
          "execution_count": 6
        }
      ]
    },
    {
      "cell_type": "code",
      "metadata": {
        "id": "ww_RDg7K8F1B",
        "outputId": "a97bc63c-8e20-4aa9-dab8-3f1c3121a0fc",
        "colab": {
          "base_uri": "https://localhost:8080/"
        }
      },
      "source": [
        "data_test.shape"
      ],
      "execution_count": null,
      "outputs": [
        {
          "output_type": "execute_result",
          "data": {
            "text/plain": [
              "(733705, 19)"
            ]
          },
          "metadata": {
            "tags": []
          },
          "execution_count": 7
        }
      ]
    },
    {
      "cell_type": "code",
      "metadata": {
        "id": "Fwjr0qd_8MKa",
        "outputId": "f20f4d9e-8e64-4932-ec1e-94c50992f404",
        "colab": {
          "base_uri": "https://localhost:8080/"
        }
      },
      "source": [
        "data_train.isnull().sum()"
      ],
      "execution_count": null,
      "outputs": [
        {
          "output_type": "execute_result",
          "data": {
            "text/plain": [
              "pkSeqID              0\n",
              "proto                0\n",
              "saddr                0\n",
              "sport                0\n",
              "daddr                0\n",
              "dport                0\n",
              "seq                  0\n",
              "stddev               0\n",
              "N_IN_Conn_P_SrcIP    0\n",
              "min                  0\n",
              "state_number         0\n",
              "mean                 0\n",
              "N_IN_Conn_P_DstIP    0\n",
              "drate                0\n",
              "srate                0\n",
              "max                  0\n",
              "attack               0\n",
              "category             0\n",
              "subcategory          0\n",
              "dtype: int64"
            ]
          },
          "metadata": {
            "tags": []
          },
          "execution_count": 8
        }
      ]
    },
    {
      "cell_type": "code",
      "metadata": {
        "id": "MGSMtDbF8PBS"
      },
      "source": [
        "data_train.drop([\"pkSeqID\",\"seq\",\"subcategory\"], axis=1, inplace=True)"
      ],
      "execution_count": null,
      "outputs": []
    },
    {
      "cell_type": "code",
      "metadata": {
        "id": "NqJN5ACB8QkG"
      },
      "source": [
        "data_test.drop([\"pkSeqID\",\"seq\",\"subcategory\"], axis=1, inplace=True)"
      ],
      "execution_count": null,
      "outputs": []
    },
    {
      "cell_type": "code",
      "metadata": {
        "id": "ADzr8nAZ8T8b",
        "outputId": "9a056147-a0b4-48e7-e314-4ddfcec1e044",
        "colab": {
          "base_uri": "https://localhost:8080/"
        }
      },
      "source": [
        "data_train.dtypes[data_train.dtypes=='object']"
      ],
      "execution_count": null,
      "outputs": [
        {
          "output_type": "execute_result",
          "data": {
            "text/plain": [
              "proto       object\n",
              "saddr       object\n",
              "sport       object\n",
              "daddr       object\n",
              "dport       object\n",
              "category    object\n",
              "dtype: object"
            ]
          },
          "metadata": {
            "tags": []
          },
          "execution_count": 11
        }
      ]
    },
    {
      "cell_type": "code",
      "metadata": {
        "id": "Lg5KOeEV8Ykr",
        "outputId": "c79abf19-bd6c-489e-954f-395d33cd4c8f",
        "colab": {
          "base_uri": "https://localhost:8080/"
        }
      },
      "source": [
        "data_train['saddr'].value_counts()"
      ],
      "execution_count": null,
      "outputs": [
        {
          "output_type": "execute_result",
          "data": {
            "text/plain": [
              "192.168.100.147              761360\n",
              "192.168.100.148              738642\n",
              "192.168.100.150              712260\n",
              "192.168.100.149              711466\n",
              "192.168.100.3                  6609\n",
              "192.168.100.5                  4107\n",
              "192.168.100.6                   272\n",
              "192.168.100.7                    34\n",
              "192.168.100.4                    17\n",
              "192.168.100.1                    14\n",
              "192.168.100.27                    9\n",
              "192.168.100.46                    8\n",
              "fe80::250:56ff:febe:254           5\n",
              "192.168.100.55                    3\n",
              "fe80::250:56ff:febe:89ee          2\n",
              "fe80::250:56ff:febe:26db          2\n",
              "fe80::2c6a:ff9b:7e14:166a         2\n",
              "fe80::250:56ff:febe:c038          2\n",
              "fe80::c0c0:aa20:45b9:bdd9         2\n",
              "fe80::250:56ff:febe:e9d9          1\n",
              "Name: saddr, dtype: int64"
            ]
          },
          "metadata": {
            "tags": []
          },
          "execution_count": 12
        }
      ]
    },
    {
      "cell_type": "code",
      "metadata": {
        "id": "xqCpGTnI8bvE",
        "outputId": "bf2b6103-fe29-45e3-992c-070743c56253",
        "colab": {
          "base_uri": "https://localhost:8080/"
        }
      },
      "source": [
        "data_train['sport'].value_counts()"
      ],
      "execution_count": null,
      "outputs": [
        {
          "output_type": "execute_result",
          "data": {
            "text/plain": [
              "0x0303    7156\n",
              "80        3220\n",
              "1822       878\n",
              "60541      869\n",
              "1216       868\n",
              "          ... \n",
              "32047       31\n",
              "18992       30\n",
              "39305       30\n",
              "0x000d      10\n",
              "0x0011       8\n",
              "Name: sport, Length: 65541, dtype: int64"
            ]
          },
          "metadata": {
            "tags": []
          },
          "execution_count": 13
        }
      ]
    },
    {
      "cell_type": "code",
      "metadata": {
        "id": "l1mYPc6j8dDX",
        "outputId": "d6682e26-d2cc-4d73-8708-b9133ce9e60d",
        "colab": {
          "base_uri": "https://localhost:8080/"
        }
      },
      "source": [
        "data_train['daddr'].value_counts()"
      ],
      "execution_count": null,
      "outputs": [
        {
          "output_type": "execute_result",
          "data": {
            "text/plain": [
              "192.168.100.3      1900562\n",
              "192.168.100.5       361192\n",
              "192.168.100.7       332161\n",
              "192.168.100.6       329679\n",
              "192.168.100.150       3040\n",
              "                    ...   \n",
              "205.251.192.170          1\n",
              "205.251.194.201          1\n",
              "205.251.194.154          1\n",
              "224.0.0.252              1\n",
              "216.239.36.10            1\n",
              "Name: daddr, Length: 81, dtype: int64"
            ]
          },
          "metadata": {
            "tags": []
          },
          "execution_count": 14
        }
      ]
    },
    {
      "cell_type": "code",
      "metadata": {
        "id": "8D3DZKYH8h1e",
        "outputId": "95ab39d1-a3bc-4c6d-fba5-62bdc7b0894e",
        "colab": {
          "base_uri": "https://localhost:8080/"
        }
      },
      "source": [
        "data_train['dport'].value_counts()"
      ],
      "execution_count": null,
      "outputs": [
        {
          "output_type": "execute_result",
          "data": {
            "text/plain": [
              "80       2858794\n",
              "1           5379\n",
              "3306        3757\n",
              "53           275\n",
              "-1           166\n",
              "          ...   \n",
              "40335          1\n",
              "49723          1\n",
              "30593          1\n",
              "8241           1\n",
              "65165          1\n",
              "Name: dport, Length: 6906, dtype: int64"
            ]
          },
          "metadata": {
            "tags": []
          },
          "execution_count": 15
        }
      ]
    },
    {
      "cell_type": "code",
      "metadata": {
        "id": "ZOa-NK4F8kvj",
        "outputId": "09336abc-17c8-40b1-936a-5999080d44c7",
        "colab": {
          "base_uri": "https://localhost:8080/"
        }
      },
      "source": [
        "data_train['category'].value_counts()"
      ],
      "execution_count": null,
      "outputs": [
        {
          "output_type": "execute_result",
          "data": {
            "text/plain": [
              "DDoS              1541315\n",
              "DoS               1320148\n",
              "Reconnaissance      72919\n",
              "Normal                370\n",
              "Theft                  65\n",
              "Name: category, dtype: int64"
            ]
          },
          "metadata": {
            "tags": []
          },
          "execution_count": 16
        }
      ]
    },
    {
      "cell_type": "code",
      "metadata": {
        "id": "O6o91tKt8wz1",
        "outputId": "5e094caf-a162-49d6-99c3-38be265e37b7",
        "colab": {
          "base_uri": "https://localhost:8080/"
        }
      },
      "source": [
        "data_train.shape"
      ],
      "execution_count": null,
      "outputs": [
        {
          "output_type": "execute_result",
          "data": {
            "text/plain": [
              "(2934817, 16)"
            ]
          },
          "metadata": {
            "tags": []
          },
          "execution_count": 17
        }
      ]
    },
    {
      "cell_type": "code",
      "metadata": {
        "id": "oy8odb1x80Tp"
      },
      "source": [
        "indexNames = data_train[data_train['category']=='Theft'].index\n",
        "data_train.drop(indexNames , inplace=True)"
      ],
      "execution_count": null,
      "outputs": []
    },
    {
      "cell_type": "code",
      "metadata": {
        "id": "7lGMWplc9DOi",
        "outputId": "77f7d8b9-73a1-4881-dc55-22b478c2a080",
        "colab": {
          "base_uri": "https://localhost:8080/"
        }
      },
      "source": [
        "data_train.shape"
      ],
      "execution_count": null,
      "outputs": [
        {
          "output_type": "execute_result",
          "data": {
            "text/plain": [
              "(2934752, 16)"
            ]
          },
          "metadata": {
            "tags": []
          },
          "execution_count": 19
        }
      ]
    },
    {
      "cell_type": "code",
      "metadata": {
        "id": "Rj8bKX7g9GQh"
      },
      "source": [
        "data_train['sport']=data_train['sport'].replace(['0x0303'],'771') \n",
        "data_train['sport']=data_train['sport'].replace(['0x0011'],'17')\n",
        "data_train['sport']=data_train['sport'].replace(['0x000d'],'13')\n",
        "data_train['sport']=data_train['sport'].replace(['0x0008'],'8')"
      ],
      "execution_count": null,
      "outputs": []
    },
    {
      "cell_type": "code",
      "metadata": {
        "id": "QrVe0Oj89QHV"
      },
      "source": [
        "data_train[\"sport\"] = data_train[\"sport\"].astype(str).astype(int)"
      ],
      "execution_count": null,
      "outputs": []
    },
    {
      "cell_type": "code",
      "metadata": {
        "id": "_RBjCDvc9SbT"
      },
      "source": [
        "data_test['sport']=data_test['sport'].replace(['0x0303'],'771') \n",
        "data_test['sport']=data_test['sport'].replace(['0x0011'],'17')\n",
        "data_test['sport']=data_test['sport'].replace(['0x000d'],'13')\n",
        "data_test['sport']=data_test['sport'].replace(['0x0008'],'8')"
      ],
      "execution_count": null,
      "outputs": []
    },
    {
      "cell_type": "code",
      "metadata": {
        "id": "03DpU8Z29ait"
      },
      "source": [
        "data_test[\"sport\"] = data_test[\"sport\"].astype(str).astype(int)"
      ],
      "execution_count": null,
      "outputs": []
    },
    {
      "cell_type": "code",
      "metadata": {
        "id": "XHVq3H629dwa"
      },
      "source": [
        "data_train['dport']=data_train.dport.apply(lambda x: int(x,16) if len(x)>1 and x[1]==\"x\" else int(x))"
      ],
      "execution_count": null,
      "outputs": []
    },
    {
      "cell_type": "code",
      "metadata": {
        "id": "4wZ_plOs9kB9"
      },
      "source": [
        "data_test['dport']=data_test.dport.apply(lambda x: int(x,16) if len(x)>1 and x[1]==\"x\" else int(x))"
      ],
      "execution_count": null,
      "outputs": []
    },
    {
      "cell_type": "code",
      "metadata": {
        "id": "m3XIdV_h9osd",
        "outputId": "5e6a6332-9c4a-4d17-ef36-55a180b33eaa",
        "colab": {
          "base_uri": "https://localhost:8080/"
        }
      },
      "source": [
        "data_train['dport'].value_counts()"
      ],
      "execution_count": null,
      "outputs": [
        {
          "output_type": "execute_result",
          "data": {
            "text/plain": [
              " 80       2858794\n",
              " 1           5379\n",
              " 3306        3757\n",
              " 53           275\n",
              "-1            163\n",
              "           ...   \n",
              " 13445          1\n",
              " 6636           1\n",
              " 29153          1\n",
              " 29152          1\n",
              " 8863           1\n",
              "Name: dport, Length: 6778, dtype: int64"
            ]
          },
          "metadata": {
            "tags": []
          },
          "execution_count": 26
        }
      ]
    },
    {
      "cell_type": "code",
      "metadata": {
        "id": "1qhgZSut9sz9",
        "outputId": "47a984ac-3be7-44e1-fde9-e9f8688192c4",
        "colab": {
          "base_uri": "https://localhost:8080/"
        }
      },
      "source": [
        "data_train['sport'].value_counts()"
      ],
      "execution_count": null,
      "outputs": [
        {
          "output_type": "execute_result",
          "data": {
            "text/plain": [
              "771      7203\n",
              "80       3220\n",
              "1822      878\n",
              "60541     869\n",
              "1216      868\n",
              "         ... \n",
              "56775      31\n",
              "39364      31\n",
              "32047      31\n",
              "39305      30\n",
              "18992      30\n",
              "Name: sport, Length: 65537, dtype: int64"
            ]
          },
          "metadata": {
            "tags": []
          },
          "execution_count": 27
        }
      ]
    },
    {
      "cell_type": "code",
      "metadata": {
        "id": "ld8rmVvA9u7U"
      },
      "source": [
        "from sklearn.preprocessing import LabelEncoder\n",
        "le = LabelEncoder()\n",
        "data_train[\"saddr_enc\"]= le.fit_transform(data_train.saddr)\n",
        "data_train[\"daddr_enc\"]= le.fit_transform(data_train.daddr)\n",
        "data_train[\"proto_enc\"]= le.fit_transform(data_train.proto)\n",
        "data_train[\"category_enc\"]= le.fit_transform(data_train.category)\n",
        "data_train.drop(['saddr','daddr','proto','category'], axis=1, inplace=True)"
      ],
      "execution_count": null,
      "outputs": []
    },
    {
      "cell_type": "code",
      "metadata": {
        "id": "m4DfwwD296Wp"
      },
      "source": [
        "from sklearn.preprocessing import LabelEncoder\n",
        "le = LabelEncoder()\n",
        "data_test[\"saddr_enc\"]= le.fit_transform(data_test.saddr)\n",
        "data_test[\"daddr_enc\"]= le.fit_transform(data_test.daddr)\n",
        "data_test[\"proto_enc\"]= le.fit_transform(data_test.proto)\n",
        "data_test[\"category_enc\"]= le.fit_transform(data_test.category)\n",
        "data_test.drop(['saddr','daddr','proto','category'], axis=1, inplace=True)"
      ],
      "execution_count": null,
      "outputs": []
    },
    {
      "cell_type": "code",
      "metadata": {
        "id": "P0kab72K-D8Y",
        "outputId": "514d9f4f-de39-439d-d4e0-e8cbf25403dc",
        "colab": {
          "base_uri": "https://localhost:8080/",
          "height": 195
        }
      },
      "source": [
        "data_train.head()"
      ],
      "execution_count": null,
      "outputs": [
        {
          "output_type": "execute_result",
          "data": {
            "text/html": [
              "<div>\n",
              "<style scoped>\n",
              "    .dataframe tbody tr th:only-of-type {\n",
              "        vertical-align: middle;\n",
              "    }\n",
              "\n",
              "    .dataframe tbody tr th {\n",
              "        vertical-align: top;\n",
              "    }\n",
              "\n",
              "    .dataframe thead th {\n",
              "        text-align: right;\n",
              "    }\n",
              "</style>\n",
              "<table border=\"1\" class=\"dataframe\">\n",
              "  <thead>\n",
              "    <tr style=\"text-align: right;\">\n",
              "      <th></th>\n",
              "      <th>sport</th>\n",
              "      <th>dport</th>\n",
              "      <th>stddev</th>\n",
              "      <th>N_IN_Conn_P_SrcIP</th>\n",
              "      <th>min</th>\n",
              "      <th>state_number</th>\n",
              "      <th>mean</th>\n",
              "      <th>N_IN_Conn_P_DstIP</th>\n",
              "      <th>drate</th>\n",
              "      <th>srate</th>\n",
              "      <th>max</th>\n",
              "      <th>attack</th>\n",
              "      <th>saddr_enc</th>\n",
              "      <th>daddr_enc</th>\n",
              "      <th>proto_enc</th>\n",
              "      <th>category_enc</th>\n",
              "    </tr>\n",
              "  </thead>\n",
              "  <tbody>\n",
              "    <tr>\n",
              "      <th>0</th>\n",
              "      <td>6551</td>\n",
              "      <td>80</td>\n",
              "      <td>1.900363</td>\n",
              "      <td>100</td>\n",
              "      <td>0.000000</td>\n",
              "      <td>4</td>\n",
              "      <td>2.687519</td>\n",
              "      <td>100</td>\n",
              "      <td>0.0</td>\n",
              "      <td>0.494549</td>\n",
              "      <td>4.031619</td>\n",
              "      <td>1</td>\n",
              "      <td>4</td>\n",
              "      <td>15</td>\n",
              "      <td>4</td>\n",
              "      <td>0</td>\n",
              "    </tr>\n",
              "    <tr>\n",
              "      <th>1</th>\n",
              "      <td>5532</td>\n",
              "      <td>80</td>\n",
              "      <td>0.078003</td>\n",
              "      <td>38</td>\n",
              "      <td>3.856930</td>\n",
              "      <td>3</td>\n",
              "      <td>3.934927</td>\n",
              "      <td>100</td>\n",
              "      <td>0.0</td>\n",
              "      <td>0.256493</td>\n",
              "      <td>4.012924</td>\n",
              "      <td>1</td>\n",
              "      <td>4</td>\n",
              "      <td>15</td>\n",
              "      <td>3</td>\n",
              "      <td>0</td>\n",
              "    </tr>\n",
              "    <tr>\n",
              "      <th>2</th>\n",
              "      <td>27165</td>\n",
              "      <td>80</td>\n",
              "      <td>0.268666</td>\n",
              "      <td>100</td>\n",
              "      <td>2.974100</td>\n",
              "      <td>3</td>\n",
              "      <td>3.341429</td>\n",
              "      <td>100</td>\n",
              "      <td>0.0</td>\n",
              "      <td>0.294880</td>\n",
              "      <td>3.609205</td>\n",
              "      <td>1</td>\n",
              "      <td>1</td>\n",
              "      <td>15</td>\n",
              "      <td>3</td>\n",
              "      <td>0</td>\n",
              "    </tr>\n",
              "    <tr>\n",
              "      <th>3</th>\n",
              "      <td>48719</td>\n",
              "      <td>80</td>\n",
              "      <td>1.823185</td>\n",
              "      <td>63</td>\n",
              "      <td>0.000000</td>\n",
              "      <td>4</td>\n",
              "      <td>3.222832</td>\n",
              "      <td>63</td>\n",
              "      <td>0.0</td>\n",
              "      <td>0.461435</td>\n",
              "      <td>4.942302</td>\n",
              "      <td>1</td>\n",
              "      <td>4</td>\n",
              "      <td>15</td>\n",
              "      <td>4</td>\n",
              "      <td>1</td>\n",
              "    </tr>\n",
              "    <tr>\n",
              "      <th>4</th>\n",
              "      <td>22461</td>\n",
              "      <td>80</td>\n",
              "      <td>0.822418</td>\n",
              "      <td>100</td>\n",
              "      <td>2.979995</td>\n",
              "      <td>4</td>\n",
              "      <td>3.983222</td>\n",
              "      <td>100</td>\n",
              "      <td>0.0</td>\n",
              "      <td>1.002999</td>\n",
              "      <td>4.994452</td>\n",
              "      <td>1</td>\n",
              "      <td>1</td>\n",
              "      <td>15</td>\n",
              "      <td>4</td>\n",
              "      <td>0</td>\n",
              "    </tr>\n",
              "  </tbody>\n",
              "</table>\n",
              "</div>"
            ],
            "text/plain": [
              "   sport  dport    stddev  ...  daddr_enc  proto_enc  category_enc\n",
              "0   6551     80  1.900363  ...         15          4             0\n",
              "1   5532     80  0.078003  ...         15          3             0\n",
              "2  27165     80  0.268666  ...         15          3             0\n",
              "3  48719     80  1.823185  ...         15          4             1\n",
              "4  22461     80  0.822418  ...         15          4             0\n",
              "\n",
              "[5 rows x 16 columns]"
            ]
          },
          "metadata": {
            "tags": []
          },
          "execution_count": 30
        }
      ]
    },
    {
      "cell_type": "code",
      "metadata": {
        "id": "oeO4ya7q-IN2",
        "outputId": "22e89bf1-d552-4a81-c02b-056b67e6f26f",
        "colab": {
          "base_uri": "https://localhost:8080/"
        }
      },
      "source": [
        "data_train['category_enc'].value_counts()"
      ],
      "execution_count": null,
      "outputs": [
        {
          "output_type": "execute_result",
          "data": {
            "text/plain": [
              "0    1541315\n",
              "1    1320148\n",
              "3      72919\n",
              "2        370\n",
              "Name: category_enc, dtype: int64"
            ]
          },
          "metadata": {
            "tags": []
          },
          "execution_count": 31
        }
      ]
    },
    {
      "cell_type": "code",
      "metadata": {
        "id": "9Mc5sdom-KXU",
        "outputId": "878ce1ff-cc24-48bd-e53c-dd65f0f49064",
        "colab": {
          "base_uri": "https://localhost:8080/"
        }
      },
      "source": [
        "data_train.info()"
      ],
      "execution_count": null,
      "outputs": [
        {
          "output_type": "stream",
          "text": [
            "<class 'pandas.core.frame.DataFrame'>\n",
            "Int64Index: 2934752 entries, 0 to 2934816\n",
            "Data columns (total 16 columns):\n",
            " #   Column             Dtype  \n",
            "---  ------             -----  \n",
            " 0   sport              int64  \n",
            " 1   dport              int64  \n",
            " 2   stddev             float64\n",
            " 3   N_IN_Conn_P_SrcIP  int64  \n",
            " 4   min                float64\n",
            " 5   state_number       int64  \n",
            " 6   mean               float64\n",
            " 7   N_IN_Conn_P_DstIP  int64  \n",
            " 8   drate              float64\n",
            " 9   srate              float64\n",
            " 10  max                float64\n",
            " 11  attack             int64  \n",
            " 12  saddr_enc          int64  \n",
            " 13  daddr_enc          int64  \n",
            " 14  proto_enc          int64  \n",
            " 15  category_enc       int64  \n",
            "dtypes: float64(6), int64(10)\n",
            "memory usage: 380.6 MB\n"
          ],
          "name": "stdout"
        }
      ]
    },
    {
      "cell_type": "code",
      "metadata": {
        "id": "sU-x76YF-w9Z"
      },
      "source": [
        "y_train=data_train[\"category_enc\"]"
      ],
      "execution_count": null,
      "outputs": []
    },
    {
      "cell_type": "code",
      "metadata": {
        "id": "Wa0DwoYp-ze0"
      },
      "source": [
        "y_test=data_test[\"category_enc\"]"
      ],
      "execution_count": null,
      "outputs": []
    },
    {
      "cell_type": "code",
      "metadata": {
        "id": "CdGihyI8-4TU"
      },
      "source": [
        "from sklearn.preprocessing import StandardScaler\n",
        "scaler=StandardScaler()\n",
        "features = data_train.iloc[:,:-1]\n",
        "cols=features.columns\n",
        "scaled_features= scaler.fit_transform(features)\n",
        "data_train= pd.DataFrame(scaled_features,columns=cols)"
      ],
      "execution_count": null,
      "outputs": []
    },
    {
      "cell_type": "code",
      "metadata": {
        "id": "AP9STpyz-8E9"
      },
      "source": [
        "from sklearn.preprocessing import StandardScaler\n",
        "scaler=StandardScaler()\n",
        "features = data_test.iloc[:,:-1]\n",
        "cols=features.columns\n",
        "scaled_features= scaler.fit_transform(features)\n",
        "data_test= pd.DataFrame(scaled_features,columns=cols)"
      ],
      "execution_count": null,
      "outputs": []
    },
    {
      "cell_type": "code",
      "metadata": {
        "id": "b1YUGmeh_AEq",
        "outputId": "12d974f6-4a7c-4059-cfa2-ecd84abd7a4f",
        "colab": {
          "base_uri": "https://localhost:8080/",
          "height": 195
        }
      },
      "source": [
        "data_train.head()"
      ],
      "execution_count": null,
      "outputs": [
        {
          "output_type": "execute_result",
          "data": {
            "text/html": [
              "<div>\n",
              "<style scoped>\n",
              "    .dataframe tbody tr th:only-of-type {\n",
              "        vertical-align: middle;\n",
              "    }\n",
              "\n",
              "    .dataframe tbody tr th {\n",
              "        vertical-align: top;\n",
              "    }\n",
              "\n",
              "    .dataframe thead th {\n",
              "        text-align: right;\n",
              "    }\n",
              "</style>\n",
              "<table border=\"1\" class=\"dataframe\">\n",
              "  <thead>\n",
              "    <tr style=\"text-align: right;\">\n",
              "      <th></th>\n",
              "      <th>sport</th>\n",
              "      <th>dport</th>\n",
              "      <th>stddev</th>\n",
              "      <th>N_IN_Conn_P_SrcIP</th>\n",
              "      <th>min</th>\n",
              "      <th>state_number</th>\n",
              "      <th>mean</th>\n",
              "      <th>N_IN_Conn_P_DstIP</th>\n",
              "      <th>drate</th>\n",
              "      <th>srate</th>\n",
              "      <th>max</th>\n",
              "      <th>attack</th>\n",
              "      <th>saddr_enc</th>\n",
              "      <th>daddr_enc</th>\n",
              "      <th>proto_enc</th>\n",
              "    </tr>\n",
              "  </thead>\n",
              "  <tbody>\n",
              "    <tr>\n",
              "      <th>0</th>\n",
              "      <td>-1.380796</td>\n",
              "      <td>-0.094028</td>\n",
              "      <td>1.260991</td>\n",
              "      <td>0.715435</td>\n",
              "      <td>-0.685661</td>\n",
              "      <td>0.729327</td>\n",
              "      <td>0.301113</td>\n",
              "      <td>0.415159</td>\n",
              "      <td>-0.00763</td>\n",
              "      <td>-0.003355</td>\n",
              "      <td>0.543986</td>\n",
              "      <td>0.011229</td>\n",
              "      <td>1.301786</td>\n",
              "      <td>-0.638504</td>\n",
              "      <td>0.897321</td>\n",
              "    </tr>\n",
              "    <tr>\n",
              "      <th>1</th>\n",
              "      <td>-1.434107</td>\n",
              "      <td>-0.094028</td>\n",
              "      <td>-1.006649</td>\n",
              "      <td>-1.826659</td>\n",
              "      <td>1.914132</td>\n",
              "      <td>-0.113083</td>\n",
              "      <td>1.122991</td>\n",
              "      <td>0.415159</td>\n",
              "      <td>-0.00763</td>\n",
              "      <td>-0.003659</td>\n",
              "      <td>0.533940</td>\n",
              "      <td>0.011229</td>\n",
              "      <td>1.301786</td>\n",
              "      <td>-0.638504</td>\n",
              "      <td>-1.049199</td>\n",
              "    </tr>\n",
              "    <tr>\n",
              "      <th>2</th>\n",
              "      <td>-0.302346</td>\n",
              "      <td>-0.094028</td>\n",
              "      <td>-0.769399</td>\n",
              "      <td>0.715435</td>\n",
              "      <td>1.319054</td>\n",
              "      <td>-0.113083</td>\n",
              "      <td>0.731954</td>\n",
              "      <td>0.415159</td>\n",
              "      <td>-0.00763</td>\n",
              "      <td>-0.003610</td>\n",
              "      <td>0.316991</td>\n",
              "      <td>0.011229</td>\n",
              "      <td>-1.281470</td>\n",
              "      <td>-0.638504</td>\n",
              "      <td>-1.049199</td>\n",
              "    </tr>\n",
              "    <tr>\n",
              "      <th>3</th>\n",
              "      <td>0.825282</td>\n",
              "      <td>-0.094028</td>\n",
              "      <td>1.164956</td>\n",
              "      <td>-0.801621</td>\n",
              "      <td>-0.685661</td>\n",
              "      <td>0.729327</td>\n",
              "      <td>0.653814</td>\n",
              "      <td>-1.621898</td>\n",
              "      <td>-0.00763</td>\n",
              "      <td>-0.003397</td>\n",
              "      <td>1.033365</td>\n",
              "      <td>0.011229</td>\n",
              "      <td>1.301786</td>\n",
              "      <td>-0.638504</td>\n",
              "      <td>0.897321</td>\n",
              "    </tr>\n",
              "    <tr>\n",
              "      <th>4</th>\n",
              "      <td>-0.548442</td>\n",
              "      <td>-0.094028</td>\n",
              "      <td>-0.080342</td>\n",
              "      <td>0.715435</td>\n",
              "      <td>1.323028</td>\n",
              "      <td>0.729327</td>\n",
              "      <td>1.154811</td>\n",
              "      <td>0.415159</td>\n",
              "      <td>-0.00763</td>\n",
              "      <td>-0.002707</td>\n",
              "      <td>1.061389</td>\n",
              "      <td>0.011229</td>\n",
              "      <td>-1.281470</td>\n",
              "      <td>-0.638504</td>\n",
              "      <td>0.897321</td>\n",
              "    </tr>\n",
              "  </tbody>\n",
              "</table>\n",
              "</div>"
            ],
            "text/plain": [
              "      sport     dport    stddev  ...  saddr_enc  daddr_enc  proto_enc\n",
              "0 -1.380796 -0.094028  1.260991  ...   1.301786  -0.638504   0.897321\n",
              "1 -1.434107 -0.094028 -1.006649  ...   1.301786  -0.638504  -1.049199\n",
              "2 -0.302346 -0.094028 -0.769399  ...  -1.281470  -0.638504  -1.049199\n",
              "3  0.825282 -0.094028  1.164956  ...   1.301786  -0.638504   0.897321\n",
              "4 -0.548442 -0.094028 -0.080342  ...  -1.281470  -0.638504   0.897321\n",
              "\n",
              "[5 rows x 15 columns]"
            ]
          },
          "metadata": {
            "tags": []
          },
          "execution_count": 37
        }
      ]
    },
    {
      "cell_type": "code",
      "metadata": {
        "id": "Vt6i0E4B_COX",
        "outputId": "cbca58b3-c648-44a6-d443-9e4dc6d59133",
        "colab": {
          "base_uri": "https://localhost:8080/"
        }
      },
      "source": [
        "data_train.info()"
      ],
      "execution_count": null,
      "outputs": [
        {
          "output_type": "stream",
          "text": [
            "<class 'pandas.core.frame.DataFrame'>\n",
            "RangeIndex: 2934752 entries, 0 to 2934751\n",
            "Data columns (total 15 columns):\n",
            " #   Column             Dtype  \n",
            "---  ------             -----  \n",
            " 0   sport              float64\n",
            " 1   dport              float64\n",
            " 2   stddev             float64\n",
            " 3   N_IN_Conn_P_SrcIP  float64\n",
            " 4   min                float64\n",
            " 5   state_number       float64\n",
            " 6   mean               float64\n",
            " 7   N_IN_Conn_P_DstIP  float64\n",
            " 8   drate              float64\n",
            " 9   srate              float64\n",
            " 10  max                float64\n",
            " 11  attack             float64\n",
            " 12  saddr_enc          float64\n",
            " 13  daddr_enc          float64\n",
            " 14  proto_enc          float64\n",
            "dtypes: float64(15)\n",
            "memory usage: 335.9 MB\n"
          ],
          "name": "stdout"
        }
      ]
    },
    {
      "cell_type": "code",
      "metadata": {
        "id": "PkUiIRIb_Iss",
        "outputId": "13ae1930-a45f-4ece-81d8-92cfd4e38eba",
        "colab": {
          "base_uri": "https://localhost:8080/"
        }
      },
      "source": [
        "y_train.value_counts()"
      ],
      "execution_count": null,
      "outputs": [
        {
          "output_type": "execute_result",
          "data": {
            "text/plain": [
              "0    1541315\n",
              "1    1320148\n",
              "3      72919\n",
              "2        370\n",
              "Name: category_enc, dtype: int64"
            ]
          },
          "metadata": {
            "tags": []
          },
          "execution_count": 39
        }
      ]
    },
    {
      "cell_type": "code",
      "metadata": {
        "id": "TpX7Ef7E_L_v"
      },
      "source": [
        "\n",
        "import imblearn\n",
        "from imblearn.over_sampling import RandomOverSampler\n",
        "samp_strat= { 0 : 1541315, 1 : 1320148, 2 : 72919, 3 : 72919}\n",
        "random_over= RandomOverSampler(sampling_strategy=samp_strat,random_state=1)\n",
        "Xres,yres = random_over.fit_resample(data_train,y_train)"
      ],
      "execution_count": null,
      "outputs": []
    },
    {
      "cell_type": "code",
      "metadata": {
        "id": "tmJmAPFLRfGn",
        "outputId": "243ad8a3-53a8-4450-9691-d6eea8c07427",
        "colab": {
          "base_uri": "https://localhost:8080/"
        }
      },
      "source": [
        "pd.Series(yres).value_counts()"
      ],
      "execution_count": null,
      "outputs": [
        {
          "output_type": "execute_result",
          "data": {
            "text/plain": [
              "0    1541315\n",
              "1    1320148\n",
              "3      72919\n",
              "2      72919\n",
              "dtype: int64"
            ]
          },
          "metadata": {
            "tags": []
          },
          "execution_count": 41
        }
      ]
    },
    {
      "cell_type": "code",
      "metadata": {
        "id": "VUTJ3ptWReBs"
      },
      "source": [
        "import imblearn\n",
        "from imblearn.under_sampling import RandomUnderSampler\n",
        "samp_strat= { 0 : 72919, 1 : 72919, 2 : 72919, 3 : 72919}\n",
        "random_under= RandomUnderSampler(sampling_strategy=samp_strat,random_state=1)\n",
        "Xres1,yres1 = random_under.fit_resample(Xres,yres)\n"
      ],
      "execution_count": null,
      "outputs": []
    },
    {
      "cell_type": "code",
      "metadata": {
        "id": "wy35Ry7U_SX4",
        "outputId": "10701d54-0f4a-4ed1-8489-8a3733082899",
        "colab": {
          "base_uri": "https://localhost:8080/"
        }
      },
      "source": [
        "pd.Series(yres1).value_counts()"
      ],
      "execution_count": null,
      "outputs": [
        {
          "output_type": "execute_result",
          "data": {
            "text/plain": [
              "3    72919\n",
              "2    72919\n",
              "1    72919\n",
              "0    72919\n",
              "dtype: int64"
            ]
          },
          "metadata": {
            "tags": []
          },
          "execution_count": 43
        }
      ]
    },
    {
      "cell_type": "code",
      "metadata": {
        "id": "sFeSUlIi_Xni",
        "outputId": "f545332c-815c-4585-b564-05050cdf1d9b",
        "colab": {
          "base_uri": "https://localhost:8080/"
        }
      },
      "source": [
        "from sklearn.linear_model import LogisticRegression\n",
        "import time\n",
        "start = time.time()\n",
        "logisticRegr = LogisticRegression()\n",
        "logisticRegr.fit(Xres1, yres1)\n",
        "pred= logisticRegr.predict(data_test)\n",
        "score = logisticRegr.score(data_test, y_test)\n",
        "end = time.time()\n",
        "print(end - start, \"seconds\\n\")\n",
        "score"
      ],
      "execution_count": null,
      "outputs": [
        {
          "output_type": "stream",
          "text": [
            "24.991817712783813 seconds\n",
            "\n"
          ],
          "name": "stdout"
        },
        {
          "output_type": "execute_result",
          "data": {
            "text/plain": [
              "0.9798488493331788"
            ]
          },
          "metadata": {
            "tags": []
          },
          "execution_count": 44
        }
      ]
    },
    {
      "cell_type": "code",
      "metadata": {
        "id": "R9pAibEO_exa",
        "outputId": "8c3529bf-5677-4d85-bf9e-bdfaa7b064ce",
        "colab": {
          "base_uri": "https://localhost:8080/",
          "height": 69
        }
      },
      "source": [
        "from sklearn.metrics import classification_report,confusion_matrix\n",
        "classification_report(y_test,pred)"
      ],
      "execution_count": null,
      "outputs": [
        {
          "output_type": "execute_result",
          "data": {
            "application/vnd.google.colaboratory.intrinsic+json": {
              "type": "string"
            },
            "text/plain": [
              "'              precision    recall  f1-score   support\\n\\n           0       0.98      0.99      0.98    385309\\n           1       0.99      0.97      0.98    330112\\n           2       1.00      1.00      1.00       107\\n           3       0.83      0.96      0.89     18163\\n           4       0.00      0.00      0.00        14\\n\\n    accuracy                           0.98    733705\\n   macro avg       0.76      0.78      0.77    733705\\nweighted avg       0.98      0.98      0.98    733705\\n'"
            ]
          },
          "metadata": {
            "tags": []
          },
          "execution_count": 45
        }
      ]
    },
    {
      "cell_type": "code",
      "metadata": {
        "id": "tTZ2nwty_gwg",
        "outputId": "004b7517-b40a-4699-9dff-9c3aa5fd63c9",
        "colab": {
          "base_uri": "https://localhost:8080/"
        }
      },
      "source": [
        "confusion_matrix(y_test,pred)"
      ],
      "execution_count": null,
      "outputs": [
        {
          "output_type": "execute_result",
          "data": {
            "text/plain": [
              "array([[379950,   2001,      0,   3358,      0],\n",
              "       [  8428, 321510,      0,    174,      0],\n",
              "       [     0,      0,    107,      0,      0],\n",
              "       [   384,    426,      0,  17353,      0],\n",
              "       [     0,     13,      0,      1,      0]])"
            ]
          },
          "metadata": {
            "tags": []
          },
          "execution_count": 46
        }
      ]
    },
    {
      "cell_type": "code",
      "metadata": {
        "id": "Nu0nMF39_lII",
        "outputId": "318ba4be-d54e-4eb8-ac49-f4c6d6404680",
        "colab": {
          "base_uri": "https://localhost:8080/"
        }
      },
      "source": [
        "from sklearn.metrics import f1_score\n",
        "f1_score(y_test,pred,average='micro')"
      ],
      "execution_count": null,
      "outputs": [
        {
          "output_type": "execute_result",
          "data": {
            "text/plain": [
              "0.9798488493331788"
            ]
          },
          "metadata": {
            "tags": []
          },
          "execution_count": 47
        }
      ]
    },
    {
      "cell_type": "code",
      "metadata": {
        "id": "iETVTD8K_opE",
        "outputId": "7810d2f0-cf9c-4717-80ad-22075c6d20bb",
        "colab": {
          "base_uri": "https://localhost:8080/"
        }
      },
      "source": [
        "from sklearn.metrics import recall_score\n",
        "recall_score(y_test, pred, average='micro')"
      ],
      "execution_count": null,
      "outputs": [
        {
          "output_type": "execute_result",
          "data": {
            "text/plain": [
              "0.9798488493331788"
            ]
          },
          "metadata": {
            "tags": []
          },
          "execution_count": 48
        }
      ]
    },
    {
      "cell_type": "code",
      "metadata": {
        "id": "ljdlGUpb_r4P",
        "outputId": "544ebdd2-ef4b-4349-a631-b9597294464c",
        "colab": {
          "base_uri": "https://localhost:8080/"
        }
      },
      "source": [
        "from sklearn.metrics import precision_score\n",
        "precision_score(y_test,pred, average='micro')"
      ],
      "execution_count": null,
      "outputs": [
        {
          "output_type": "execute_result",
          "data": {
            "text/plain": [
              "0.9798488493331788"
            ]
          },
          "metadata": {
            "tags": []
          },
          "execution_count": 49
        }
      ]
    },
    {
      "cell_type": "code",
      "metadata": {
        "id": "45bQrFdH_4O4",
        "outputId": "511c2675-e7d2-43cd-b31d-21c67dc7da5b",
        "colab": {
          "base_uri": "https://localhost:8080/"
        }
      },
      "source": [
        "y_test\n"
      ],
      "execution_count": null,
      "outputs": [
        {
          "output_type": "execute_result",
          "data": {
            "text/plain": [
              "0         1\n",
              "1         0\n",
              "2         0\n",
              "3         0\n",
              "4         1\n",
              "         ..\n",
              "733700    1\n",
              "733701    0\n",
              "733702    0\n",
              "733703    1\n",
              "733704    0\n",
              "Name: category_enc, Length: 733705, dtype: int64"
            ]
          },
          "metadata": {
            "tags": []
          },
          "execution_count": 50
        }
      ]
    },
    {
      "cell_type": "code",
      "metadata": {
        "id": "quh_2jAAU1yb"
      },
      "source": [
        "y_pred_proba=logisticRegr.predict_proba(data_test)\n"
      ],
      "execution_count": null,
      "outputs": []
    },
    {
      "cell_type": "code",
      "metadata": {
        "id": "PWyfauGwALIi",
        "outputId": "052d104a-a901-4298-90e5-5fec57d96c14",
        "colab": {
          "base_uri": "https://localhost:8080/"
        }
      },
      "source": [
        "from sklearn.metrics import classification_report,confusion_matrix\n",
        "prediction = logisticRegr.predict(data_test)\n",
        "print(classification_report(y_test,prediction))"
      ],
      "execution_count": null,
      "outputs": [
        {
          "output_type": "stream",
          "text": [
            "              precision    recall  f1-score   support\n",
            "\n",
            "           0       0.98      0.99      0.98    385309\n",
            "           1       0.99      0.97      0.98    330112\n",
            "           2       1.00      1.00      1.00       107\n",
            "           3       0.83      0.96      0.89     18163\n",
            "           4       0.00      0.00      0.00        14\n",
            "\n",
            "    accuracy                           0.98    733705\n",
            "   macro avg       0.76      0.78      0.77    733705\n",
            "weighted avg       0.98      0.98      0.98    733705\n",
            "\n"
          ],
          "name": "stdout"
        }
      ]
    },
    {
      "cell_type": "code",
      "metadata": {
        "id": "CmlBlYmsBt2O",
        "outputId": "fcd78411-b90b-4b2d-f11e-89b2b788b915",
        "colab": {
          "base_uri": "https://localhost:8080/",
          "height": 483
        }
      },
      "source": [
        "from sklearn.metrics import f1_score\n",
        "import matplotlib.pyplot as plt\n",
        "from itertools import cycle\n",
        "\n",
        "plt.figure(figsize=(7, 8))\n",
        "f_scores = np.linspace(0.2, 0.8, num=4)\n",
        "lines = []\n",
        "labels = []\n",
        "for f1_score in f_scores:\n",
        "    x = np.linspace(0.01, 1)\n",
        "    y = f1_score * x / (2 * x - f1_score)\n",
        "    l, = plt.plot(x[y >= 0], y[y >= 0], color='gray', alpha=0.2)\n",
        "    plt.annotate('f1={0:0.1f}'.format(f1_score), xy=(0.9, y[45] + 0.02))\n",
        "lines.append(l)\n",
        "labels.append('iso-f1 curves')\n",
        "plt.show()"
      ],
      "execution_count": null,
      "outputs": [
        {
          "output_type": "display_data",
          "data": {
            "image/png": "[encoded data removed]",
            "text/plain": [
              "<Figure size 504x576 with 1 Axes>"
            ]
          },
          "metadata": {
            "tags": [],
            "needs_background": "light"
          }
        }
      ]
    },
    {
      "cell_type": "code",
      "metadata": {
        "id": "BmbDpRs0VrYD",
        "outputId": "bac76f7d-8e81-4628-957c-1963c27836ae",
        "colab": {
          "base_uri": "https://localhost:8080/"
        }
      },
      "source": [
        "from sklearn.linear_model import LogisticRegression\n",
        "lr2 = LogisticRegression(penalty='l2',C = 25, solver = 'lbfgs',max_iter=1000,n_jobs=100)\n",
        "from sklearn.model_selection import cross_val_score\n",
        "scores = cross_val_score(lr2, Xres1, yres1, cv=10)\n",
        "scores"
      ],
      "execution_count": null,
      "outputs": [
        {
          "output_type": "execute_result",
          "data": {
            "text/plain": [
              "array([0.98608064, 0.98649205, 0.98693774, 0.987452  , 0.98669775,\n",
              "       0.98676632, 0.98717729, 0.98724586, 0.98587445, 0.987143  ])"
            ]
          },
          "metadata": {
            "tags": []
          },
          "execution_count": 54
        }
      ]
    },
    {
      "cell_type": "code",
      "metadata": {
        "id": "pkl2JC_6Vwwz",
        "outputId": "4490254e-0d77-41f3-e26f-0c37ed600a56",
        "colab": {
          "base_uri": "https://localhost:8080/"
        }
      },
      "source": [
        "scores.mean()"
      ],
      "execution_count": null,
      "outputs": [
        {
          "output_type": "execute_result",
          "data": {
            "text/plain": [
              "0.986786709546766"
            ]
          },
          "metadata": {
            "tags": []
          },
          "execution_count": 55
        }
      ]
    },
    {
      "cell_type": "code",
      "metadata": {
        "id": "VRNjDoxBRMEn",
        "outputId": "12faf59f-a5fa-4ba6-d8d5-86ce8295a39f",
        "colab": {
          "base_uri": "https://localhost:8080/"
        }
      },
      "source": [
        "import time\n",
        "start = time.time()\n",
        "lr2.fit (Xres1,yres1)\n",
        "prediction= lr2.predict(data_test)\n",
        "score = lr2.score(data_test, y_test)\n",
        "end = time.time()\n",
        "print(end - start, \"seconds\\n\")\n",
        "score"
      ],
      "execution_count": null,
      "outputs": [
        {
          "output_type": "stream",
          "text": [
            "166.57019662857056 seconds\n",
            "\n"
          ],
          "name": "stdout"
        },
        {
          "output_type": "execute_result",
          "data": {
            "text/plain": [
              "0.9861851834184039"
            ]
          },
          "metadata": {
            "tags": []
          },
          "execution_count": 56
        }
      ]
    }
  ]
}
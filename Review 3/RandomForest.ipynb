{
  "nbformat": 4,
  "nbformat_minor": 0,
  "metadata": {
    "colab": {
      "name": "RandomForest.ipynb",
      "provenance": []
    },
    "kernelspec": {
      "name": "python3",
      "display_name": "Python 3"
    },
    "language_info": {
      "name": "python"
    }
  },
  "cells": [
    {
      "cell_type": "code",
      "metadata": {
        "id": "1GQ6Hw7wb92F"
      },
      "source": [
        "import numpy as np\n",
        "import pandas as pd"
      ],
      "execution_count": null,
      "outputs": []
    },
    {
      "cell_type": "code",
      "metadata": {
        "id": "UYWJH_bMcCb8"
      },
      "source": [
        "import matplotlib.pyplot as plt\n",
        "%matplotlib inline\n",
        "import seaborn as sns\n",
        "sns.set_style('darkgrid')"
      ],
      "execution_count": null,
      "outputs": []
    },
    {
      "cell_type": "code",
      "metadata": {
        "id": "nuZFl3xUcG-L"
      },
      "source": [
        "data_test = pd.read_csv('https://cloudstor.aarnet.edu.au/plus/s/umT99TnxvbpkkoE/download?path=%2FCSV%2FTraning%20and%20Testing%20Tets%20(5%25%20of%20the%20entier%20dataset)%2F10-best%20features%2F10-best%20Training-Testing%20split&files=UNSW_2018_IoT_Botnet_Final_10_best_Testing.csv')\n",
        "data_train = pd.read_csv('https://cloudstor.aarnet.edu.au/plus/s/umT99TnxvbpkkoE/download?path=%2FCSV%2FTraning%20and%20Testing%20Tets%20(5%25%20of%20the%20entier%20dataset)%2F10-best%20features%2F10-best%20Training-Testing%20split&files=UNSW_2018_IoT_Botnet_Final_10_best_Training.csv')"
      ],
      "execution_count": null,
      "outputs": []
    },
    {
      "cell_type": "code",
      "metadata": {
        "colab": {
          "base_uri": "https://localhost:8080/",
          "height": 222
        },
        "id": "uMaPHfrPcgwb",
        "outputId": "6243852c-7d64-4d04-d94b-fd364b159fcf"
      },
      "source": [
        "data_train.head()"
      ],
      "execution_count": null,
      "outputs": [
        {
          "output_type": "execute_result",
          "data": {
            "text/html": [
              "<div>\n",
              "<style scoped>\n",
              "    .dataframe tbody tr th:only-of-type {\n",
              "        vertical-align: middle;\n",
              "    }\n",
              "\n",
              "    .dataframe tbody tr th {\n",
              "        vertical-align: top;\n",
              "    }\n",
              "\n",
              "    .dataframe thead th {\n",
              "        text-align: right;\n",
              "    }\n",
              "</style>\n",
              "<table border=\"1\" class=\"dataframe\">\n",
              "  <thead>\n",
              "    <tr style=\"text-align: right;\">\n",
              "      <th></th>\n",
              "      <th>pkSeqID</th>\n",
              "      <th>proto</th>\n",
              "      <th>saddr</th>\n",
              "      <th>sport</th>\n",
              "      <th>daddr</th>\n",
              "      <th>dport</th>\n",
              "      <th>seq</th>\n",
              "      <th>stddev</th>\n",
              "      <th>N_IN_Conn_P_SrcIP</th>\n",
              "      <th>min</th>\n",
              "      <th>state_number</th>\n",
              "      <th>mean</th>\n",
              "      <th>N_IN_Conn_P_DstIP</th>\n",
              "      <th>drate</th>\n",
              "      <th>srate</th>\n",
              "      <th>max</th>\n",
              "      <th>attack</th>\n",
              "      <th>category</th>\n",
              "      <th>subcategory</th>\n",
              "    </tr>\n",
              "  </thead>\n",
              "  <tbody>\n",
              "    <tr>\n",
              "      <th>0</th>\n",
              "      <td>3142762</td>\n",
              "      <td>udp</td>\n",
              "      <td>192.168.100.150</td>\n",
              "      <td>6551</td>\n",
              "      <td>192.168.100.3</td>\n",
              "      <td>80</td>\n",
              "      <td>251984</td>\n",
              "      <td>1.900363</td>\n",
              "      <td>100</td>\n",
              "      <td>0.000000</td>\n",
              "      <td>4</td>\n",
              "      <td>2.687519</td>\n",
              "      <td>100</td>\n",
              "      <td>0.0</td>\n",
              "      <td>0.494549</td>\n",
              "      <td>4.031619</td>\n",
              "      <td>1</td>\n",
              "      <td>DDoS</td>\n",
              "      <td>UDP</td>\n",
              "    </tr>\n",
              "    <tr>\n",
              "      <th>1</th>\n",
              "      <td>2432264</td>\n",
              "      <td>tcp</td>\n",
              "      <td>192.168.100.150</td>\n",
              "      <td>5532</td>\n",
              "      <td>192.168.100.3</td>\n",
              "      <td>80</td>\n",
              "      <td>256724</td>\n",
              "      <td>0.078003</td>\n",
              "      <td>38</td>\n",
              "      <td>3.856930</td>\n",
              "      <td>3</td>\n",
              "      <td>3.934927</td>\n",
              "      <td>100</td>\n",
              "      <td>0.0</td>\n",
              "      <td>0.256493</td>\n",
              "      <td>4.012924</td>\n",
              "      <td>1</td>\n",
              "      <td>DDoS</td>\n",
              "      <td>TCP</td>\n",
              "    </tr>\n",
              "    <tr>\n",
              "      <th>2</th>\n",
              "      <td>1976315</td>\n",
              "      <td>tcp</td>\n",
              "      <td>192.168.100.147</td>\n",
              "      <td>27165</td>\n",
              "      <td>192.168.100.3</td>\n",
              "      <td>80</td>\n",
              "      <td>62921</td>\n",
              "      <td>0.268666</td>\n",
              "      <td>100</td>\n",
              "      <td>2.974100</td>\n",
              "      <td>3</td>\n",
              "      <td>3.341429</td>\n",
              "      <td>100</td>\n",
              "      <td>0.0</td>\n",
              "      <td>0.294880</td>\n",
              "      <td>3.609205</td>\n",
              "      <td>1</td>\n",
              "      <td>DDoS</td>\n",
              "      <td>TCP</td>\n",
              "    </tr>\n",
              "    <tr>\n",
              "      <th>3</th>\n",
              "      <td>1240757</td>\n",
              "      <td>udp</td>\n",
              "      <td>192.168.100.150</td>\n",
              "      <td>48719</td>\n",
              "      <td>192.168.100.3</td>\n",
              "      <td>80</td>\n",
              "      <td>99168</td>\n",
              "      <td>1.823185</td>\n",
              "      <td>63</td>\n",
              "      <td>0.000000</td>\n",
              "      <td>4</td>\n",
              "      <td>3.222832</td>\n",
              "      <td>63</td>\n",
              "      <td>0.0</td>\n",
              "      <td>0.461435</td>\n",
              "      <td>4.942302</td>\n",
              "      <td>1</td>\n",
              "      <td>DoS</td>\n",
              "      <td>UDP</td>\n",
              "    </tr>\n",
              "    <tr>\n",
              "      <th>4</th>\n",
              "      <td>3257991</td>\n",
              "      <td>udp</td>\n",
              "      <td>192.168.100.147</td>\n",
              "      <td>22461</td>\n",
              "      <td>192.168.100.3</td>\n",
              "      <td>80</td>\n",
              "      <td>105063</td>\n",
              "      <td>0.822418</td>\n",
              "      <td>100</td>\n",
              "      <td>2.979995</td>\n",
              "      <td>4</td>\n",
              "      <td>3.983222</td>\n",
              "      <td>100</td>\n",
              "      <td>0.0</td>\n",
              "      <td>1.002999</td>\n",
              "      <td>4.994452</td>\n",
              "      <td>1</td>\n",
              "      <td>DDoS</td>\n",
              "      <td>UDP</td>\n",
              "    </tr>\n",
              "  </tbody>\n",
              "</table>\n",
              "</div>"
            ],
            "text/plain": [
              "   pkSeqID proto            saddr  sport  ...       max attack  category  subcategory\n",
              "0  3142762   udp  192.168.100.150   6551  ...  4.031619      1      DDoS          UDP\n",
              "1  2432264   tcp  192.168.100.150   5532  ...  4.012924      1      DDoS          TCP\n",
              "2  1976315   tcp  192.168.100.147  27165  ...  3.609205      1      DDoS          TCP\n",
              "3  1240757   udp  192.168.100.150  48719  ...  4.942302      1       DoS          UDP\n",
              "4  3257991   udp  192.168.100.147  22461  ...  4.994452      1      DDoS          UDP\n",
              "\n",
              "[5 rows x 19 columns]"
            ]
          },
          "metadata": {
            "tags": []
          },
          "execution_count": 4
        }
      ]
    },
    {
      "cell_type": "code",
      "metadata": {
        "colab": {
          "base_uri": "https://localhost:8080/"
        },
        "id": "QnTs1G7mcjyV",
        "outputId": "f8897d3a-4754-48b4-bf35-ae8ecf47c1e2"
      },
      "source": [
        "data_train.info()"
      ],
      "execution_count": null,
      "outputs": [
        {
          "output_type": "stream",
          "text": [
            "<class 'pandas.core.frame.DataFrame'>\n",
            "RangeIndex: 2934817 entries, 0 to 2934816\n",
            "Data columns (total 19 columns):\n",
            " #   Column             Dtype  \n",
            "---  ------             -----  \n",
            " 0   pkSeqID            int64  \n",
            " 1   proto              object \n",
            " 2   saddr              object \n",
            " 3   sport              object \n",
            " 4   daddr              object \n",
            " 5   dport              object \n",
            " 6   seq                int64  \n",
            " 7   stddev             float64\n",
            " 8   N_IN_Conn_P_SrcIP  int64  \n",
            " 9   min                float64\n",
            " 10  state_number       int64  \n",
            " 11  mean               float64\n",
            " 12  N_IN_Conn_P_DstIP  int64  \n",
            " 13  drate              float64\n",
            " 14  srate              float64\n",
            " 15  max                float64\n",
            " 16  attack             int64  \n",
            " 17  category           object \n",
            " 18  subcategory        object \n",
            "dtypes: float64(6), int64(6), object(7)\n",
            "memory usage: 425.4+ MB\n"
          ],
          "name": "stdout"
        }
      ]
    },
    {
      "cell_type": "markdown",
      "metadata": {
        "id": "BPLNKGNkcr4F"
      },
      "source": [
        "# **Data Preprocessing**"
      ]
    },
    {
      "cell_type": "code",
      "metadata": {
        "colab": {
          "base_uri": "https://localhost:8080/"
        },
        "id": "vpiSt2-rctCj",
        "outputId": "44fa1af8-f718-448c-cd4e-719fd479190c"
      },
      "source": [
        "data_train.dtypes[data_train.dtypes=='object']"
      ],
      "execution_count": null,
      "outputs": [
        {
          "output_type": "execute_result",
          "data": {
            "text/plain": [
              "proto          object\n",
              "saddr          object\n",
              "sport          object\n",
              "daddr          object\n",
              "dport          object\n",
              "category       object\n",
              "subcategory    object\n",
              "dtype: object"
            ]
          },
          "metadata": {
            "tags": []
          },
          "execution_count": 6
        }
      ]
    },
    {
      "cell_type": "code",
      "metadata": {
        "colab": {
          "base_uri": "https://localhost:8080/"
        },
        "id": "yr2TfODldSVi",
        "outputId": "16f8d294-281a-49e5-b7c8-ad8f06721d27"
      },
      "source": [
        "data_train['category'].value_counts()"
      ],
      "execution_count": null,
      "outputs": [
        {
          "output_type": "execute_result",
          "data": {
            "text/plain": [
              "DDoS              1541315\n",
              "DoS               1320148\n",
              "Reconnaissance      72919\n",
              "Normal                370\n",
              "Theft                  65\n",
              "Name: category, dtype: int64"
            ]
          },
          "metadata": {
            "tags": []
          },
          "execution_count": 7
        }
      ]
    },
    {
      "cell_type": "code",
      "metadata": {
        "colab": {
          "base_uri": "https://localhost:8080/",
          "height": 437
        },
        "id": "1Y6eiaQ6dW4o",
        "outputId": "dad867d3-c02c-4fd1-889d-d27fca14bad5"
      },
      "source": [
        "data_train.groupby(['category','subcategory']).count()"
      ],
      "execution_count": null,
      "outputs": [
        {
          "output_type": "execute_result",
          "data": {
            "text/html": [
              "<div>\n",
              "<style scoped>\n",
              "    .dataframe tbody tr th:only-of-type {\n",
              "        vertical-align: middle;\n",
              "    }\n",
              "\n",
              "    .dataframe tbody tr th {\n",
              "        vertical-align: top;\n",
              "    }\n",
              "\n",
              "    .dataframe thead th {\n",
              "        text-align: right;\n",
              "    }\n",
              "</style>\n",
              "<table border=\"1\" class=\"dataframe\">\n",
              "  <thead>\n",
              "    <tr style=\"text-align: right;\">\n",
              "      <th></th>\n",
              "      <th></th>\n",
              "      <th>pkSeqID</th>\n",
              "      <th>proto</th>\n",
              "      <th>saddr</th>\n",
              "      <th>sport</th>\n",
              "      <th>daddr</th>\n",
              "      <th>dport</th>\n",
              "      <th>seq</th>\n",
              "      <th>stddev</th>\n",
              "      <th>N_IN_Conn_P_SrcIP</th>\n",
              "      <th>min</th>\n",
              "      <th>state_number</th>\n",
              "      <th>mean</th>\n",
              "      <th>N_IN_Conn_P_DstIP</th>\n",
              "      <th>drate</th>\n",
              "      <th>srate</th>\n",
              "      <th>max</th>\n",
              "      <th>attack</th>\n",
              "    </tr>\n",
              "    <tr>\n",
              "      <th>category</th>\n",
              "      <th>subcategory</th>\n",
              "      <th></th>\n",
              "      <th></th>\n",
              "      <th></th>\n",
              "      <th></th>\n",
              "      <th></th>\n",
              "      <th></th>\n",
              "      <th></th>\n",
              "      <th></th>\n",
              "      <th></th>\n",
              "      <th></th>\n",
              "      <th></th>\n",
              "      <th></th>\n",
              "      <th></th>\n",
              "      <th></th>\n",
              "      <th></th>\n",
              "      <th></th>\n",
              "      <th></th>\n",
              "    </tr>\n",
              "  </thead>\n",
              "  <tbody>\n",
              "    <tr>\n",
              "      <th rowspan=\"3\" valign=\"top\">DDoS</th>\n",
              "      <th>HTTP</th>\n",
              "      <td>786</td>\n",
              "      <td>786</td>\n",
              "      <td>786</td>\n",
              "      <td>786</td>\n",
              "      <td>786</td>\n",
              "      <td>786</td>\n",
              "      <td>786</td>\n",
              "      <td>786</td>\n",
              "      <td>786</td>\n",
              "      <td>786</td>\n",
              "      <td>786</td>\n",
              "      <td>786</td>\n",
              "      <td>786</td>\n",
              "      <td>786</td>\n",
              "      <td>786</td>\n",
              "      <td>786</td>\n",
              "      <td>786</td>\n",
              "    </tr>\n",
              "    <tr>\n",
              "      <th>TCP</th>\n",
              "      <td>782228</td>\n",
              "      <td>782228</td>\n",
              "      <td>782228</td>\n",
              "      <td>782228</td>\n",
              "      <td>782228</td>\n",
              "      <td>782228</td>\n",
              "      <td>782228</td>\n",
              "      <td>782228</td>\n",
              "      <td>782228</td>\n",
              "      <td>782228</td>\n",
              "      <td>782228</td>\n",
              "      <td>782228</td>\n",
              "      <td>782228</td>\n",
              "      <td>782228</td>\n",
              "      <td>782228</td>\n",
              "      <td>782228</td>\n",
              "      <td>782228</td>\n",
              "    </tr>\n",
              "    <tr>\n",
              "      <th>UDP</th>\n",
              "      <td>758301</td>\n",
              "      <td>758301</td>\n",
              "      <td>758301</td>\n",
              "      <td>758301</td>\n",
              "      <td>758301</td>\n",
              "      <td>758301</td>\n",
              "      <td>758301</td>\n",
              "      <td>758301</td>\n",
              "      <td>758301</td>\n",
              "      <td>758301</td>\n",
              "      <td>758301</td>\n",
              "      <td>758301</td>\n",
              "      <td>758301</td>\n",
              "      <td>758301</td>\n",
              "      <td>758301</td>\n",
              "      <td>758301</td>\n",
              "      <td>758301</td>\n",
              "    </tr>\n",
              "    <tr>\n",
              "      <th rowspan=\"3\" valign=\"top\">DoS</th>\n",
              "      <th>HTTP</th>\n",
              "      <td>1184</td>\n",
              "      <td>1184</td>\n",
              "      <td>1184</td>\n",
              "      <td>1184</td>\n",
              "      <td>1184</td>\n",
              "      <td>1184</td>\n",
              "      <td>1184</td>\n",
              "      <td>1184</td>\n",
              "      <td>1184</td>\n",
              "      <td>1184</td>\n",
              "      <td>1184</td>\n",
              "      <td>1184</td>\n",
              "      <td>1184</td>\n",
              "      <td>1184</td>\n",
              "      <td>1184</td>\n",
              "      <td>1184</td>\n",
              "      <td>1184</td>\n",
              "    </tr>\n",
              "    <tr>\n",
              "      <th>TCP</th>\n",
              "      <td>492615</td>\n",
              "      <td>492615</td>\n",
              "      <td>492615</td>\n",
              "      <td>492615</td>\n",
              "      <td>492615</td>\n",
              "      <td>492615</td>\n",
              "      <td>492615</td>\n",
              "      <td>492615</td>\n",
              "      <td>492615</td>\n",
              "      <td>492615</td>\n",
              "      <td>492615</td>\n",
              "      <td>492615</td>\n",
              "      <td>492615</td>\n",
              "      <td>492615</td>\n",
              "      <td>492615</td>\n",
              "      <td>492615</td>\n",
              "      <td>492615</td>\n",
              "    </tr>\n",
              "    <tr>\n",
              "      <th>UDP</th>\n",
              "      <td>826349</td>\n",
              "      <td>826349</td>\n",
              "      <td>826349</td>\n",
              "      <td>826349</td>\n",
              "      <td>826349</td>\n",
              "      <td>826349</td>\n",
              "      <td>826349</td>\n",
              "      <td>826349</td>\n",
              "      <td>826349</td>\n",
              "      <td>826349</td>\n",
              "      <td>826349</td>\n",
              "      <td>826349</td>\n",
              "      <td>826349</td>\n",
              "      <td>826349</td>\n",
              "      <td>826349</td>\n",
              "      <td>826349</td>\n",
              "      <td>826349</td>\n",
              "    </tr>\n",
              "    <tr>\n",
              "      <th>Normal</th>\n",
              "      <th>Normal</th>\n",
              "      <td>370</td>\n",
              "      <td>370</td>\n",
              "      <td>370</td>\n",
              "      <td>370</td>\n",
              "      <td>370</td>\n",
              "      <td>370</td>\n",
              "      <td>370</td>\n",
              "      <td>370</td>\n",
              "      <td>370</td>\n",
              "      <td>370</td>\n",
              "      <td>370</td>\n",
              "      <td>370</td>\n",
              "      <td>370</td>\n",
              "      <td>370</td>\n",
              "      <td>370</td>\n",
              "      <td>370</td>\n",
              "      <td>370</td>\n",
              "    </tr>\n",
              "    <tr>\n",
              "      <th rowspan=\"2\" valign=\"top\">Reconnaissance</th>\n",
              "      <th>OS_Fingerprint</th>\n",
              "      <td>14293</td>\n",
              "      <td>14293</td>\n",
              "      <td>14293</td>\n",
              "      <td>14293</td>\n",
              "      <td>14293</td>\n",
              "      <td>14293</td>\n",
              "      <td>14293</td>\n",
              "      <td>14293</td>\n",
              "      <td>14293</td>\n",
              "      <td>14293</td>\n",
              "      <td>14293</td>\n",
              "      <td>14293</td>\n",
              "      <td>14293</td>\n",
              "      <td>14293</td>\n",
              "      <td>14293</td>\n",
              "      <td>14293</td>\n",
              "      <td>14293</td>\n",
              "    </tr>\n",
              "    <tr>\n",
              "      <th>Service_Scan</th>\n",
              "      <td>58626</td>\n",
              "      <td>58626</td>\n",
              "      <td>58626</td>\n",
              "      <td>58626</td>\n",
              "      <td>58626</td>\n",
              "      <td>58626</td>\n",
              "      <td>58626</td>\n",
              "      <td>58626</td>\n",
              "      <td>58626</td>\n",
              "      <td>58626</td>\n",
              "      <td>58626</td>\n",
              "      <td>58626</td>\n",
              "      <td>58626</td>\n",
              "      <td>58626</td>\n",
              "      <td>58626</td>\n",
              "      <td>58626</td>\n",
              "      <td>58626</td>\n",
              "    </tr>\n",
              "    <tr>\n",
              "      <th rowspan=\"2\" valign=\"top\">Theft</th>\n",
              "      <th>Data_Exfiltration</th>\n",
              "      <td>6</td>\n",
              "      <td>6</td>\n",
              "      <td>6</td>\n",
              "      <td>6</td>\n",
              "      <td>6</td>\n",
              "      <td>6</td>\n",
              "      <td>6</td>\n",
              "      <td>6</td>\n",
              "      <td>6</td>\n",
              "      <td>6</td>\n",
              "      <td>6</td>\n",
              "      <td>6</td>\n",
              "      <td>6</td>\n",
              "      <td>6</td>\n",
              "      <td>6</td>\n",
              "      <td>6</td>\n",
              "      <td>6</td>\n",
              "    </tr>\n",
              "    <tr>\n",
              "      <th>Keylogging</th>\n",
              "      <td>59</td>\n",
              "      <td>59</td>\n",
              "      <td>59</td>\n",
              "      <td>59</td>\n",
              "      <td>59</td>\n",
              "      <td>59</td>\n",
              "      <td>59</td>\n",
              "      <td>59</td>\n",
              "      <td>59</td>\n",
              "      <td>59</td>\n",
              "      <td>59</td>\n",
              "      <td>59</td>\n",
              "      <td>59</td>\n",
              "      <td>59</td>\n",
              "      <td>59</td>\n",
              "      <td>59</td>\n",
              "      <td>59</td>\n",
              "    </tr>\n",
              "  </tbody>\n",
              "</table>\n",
              "</div>"
            ],
            "text/plain": [
              "                                  pkSeqID   proto  ...     max  attack\n",
              "category       subcategory                         ...                \n",
              "DDoS           HTTP                   786     786  ...     786     786\n",
              "               TCP                 782228  782228  ...  782228  782228\n",
              "               UDP                 758301  758301  ...  758301  758301\n",
              "DoS            HTTP                  1184    1184  ...    1184    1184\n",
              "               TCP                 492615  492615  ...  492615  492615\n",
              "               UDP                 826349  826349  ...  826349  826349\n",
              "Normal         Normal                 370     370  ...     370     370\n",
              "Reconnaissance OS_Fingerprint       14293   14293  ...   14293   14293\n",
              "               Service_Scan         58626   58626  ...   58626   58626\n",
              "Theft          Data_Exfiltration        6       6  ...       6       6\n",
              "               Keylogging              59      59  ...      59      59\n",
              "\n",
              "[11 rows x 17 columns]"
            ]
          },
          "metadata": {
            "tags": []
          },
          "execution_count": 8
        }
      ]
    },
    {
      "cell_type": "code",
      "metadata": {
        "colab": {
          "base_uri": "https://localhost:8080/"
        },
        "id": "UTUpQj7LdYJI",
        "outputId": "4671edaa-37e8-4851-a503-d48c767873c0"
      },
      "source": [
        "data_train.groupby(['category'])['subcategory'].value_counts()"
      ],
      "execution_count": null,
      "outputs": [
        {
          "output_type": "execute_result",
          "data": {
            "text/plain": [
              "category        subcategory      \n",
              "DDoS            TCP                  782228\n",
              "                UDP                  758301\n",
              "                HTTP                    786\n",
              "DoS             UDP                  826349\n",
              "                TCP                  492615\n",
              "                HTTP                   1184\n",
              "Normal          Normal                  370\n",
              "Reconnaissance  Service_Scan          58626\n",
              "                OS_Fingerprint        14293\n",
              "Theft           Keylogging               59\n",
              "                Data_Exfiltration         6\n",
              "Name: subcategory, dtype: int64"
            ]
          },
          "metadata": {
            "tags": []
          },
          "execution_count": 9
        }
      ]
    },
    {
      "cell_type": "code",
      "metadata": {
        "colab": {
          "base_uri": "https://localhost:8080/",
          "height": 222
        },
        "id": "RU51_VNFdavW",
        "outputId": "548b4ad6-d272-439d-840e-b53ab52a0490"
      },
      "source": [
        "#Merging category and subcategory into one column\n",
        "data_train['target'] = data_train['category'] + \"_\" + data_train['subcategory']\n",
        "data_train.head()"
      ],
      "execution_count": null,
      "outputs": [
        {
          "output_type": "execute_result",
          "data": {
            "text/html": [
              "<div>\n",
              "<style scoped>\n",
              "    .dataframe tbody tr th:only-of-type {\n",
              "        vertical-align: middle;\n",
              "    }\n",
              "\n",
              "    .dataframe tbody tr th {\n",
              "        vertical-align: top;\n",
              "    }\n",
              "\n",
              "    .dataframe thead th {\n",
              "        text-align: right;\n",
              "    }\n",
              "</style>\n",
              "<table border=\"1\" class=\"dataframe\">\n",
              "  <thead>\n",
              "    <tr style=\"text-align: right;\">\n",
              "      <th></th>\n",
              "      <th>pkSeqID</th>\n",
              "      <th>proto</th>\n",
              "      <th>saddr</th>\n",
              "      <th>sport</th>\n",
              "      <th>daddr</th>\n",
              "      <th>dport</th>\n",
              "      <th>seq</th>\n",
              "      <th>stddev</th>\n",
              "      <th>N_IN_Conn_P_SrcIP</th>\n",
              "      <th>min</th>\n",
              "      <th>state_number</th>\n",
              "      <th>mean</th>\n",
              "      <th>N_IN_Conn_P_DstIP</th>\n",
              "      <th>drate</th>\n",
              "      <th>srate</th>\n",
              "      <th>max</th>\n",
              "      <th>attack</th>\n",
              "      <th>category</th>\n",
              "      <th>subcategory</th>\n",
              "      <th>target</th>\n",
              "    </tr>\n",
              "  </thead>\n",
              "  <tbody>\n",
              "    <tr>\n",
              "      <th>0</th>\n",
              "      <td>3142762</td>\n",
              "      <td>udp</td>\n",
              "      <td>192.168.100.150</td>\n",
              "      <td>6551</td>\n",
              "      <td>192.168.100.3</td>\n",
              "      <td>80</td>\n",
              "      <td>251984</td>\n",
              "      <td>1.900363</td>\n",
              "      <td>100</td>\n",
              "      <td>0.000000</td>\n",
              "      <td>4</td>\n",
              "      <td>2.687519</td>\n",
              "      <td>100</td>\n",
              "      <td>0.0</td>\n",
              "      <td>0.494549</td>\n",
              "      <td>4.031619</td>\n",
              "      <td>1</td>\n",
              "      <td>DDoS</td>\n",
              "      <td>UDP</td>\n",
              "      <td>DDoS_UDP</td>\n",
              "    </tr>\n",
              "    <tr>\n",
              "      <th>1</th>\n",
              "      <td>2432264</td>\n",
              "      <td>tcp</td>\n",
              "      <td>192.168.100.150</td>\n",
              "      <td>5532</td>\n",
              "      <td>192.168.100.3</td>\n",
              "      <td>80</td>\n",
              "      <td>256724</td>\n",
              "      <td>0.078003</td>\n",
              "      <td>38</td>\n",
              "      <td>3.856930</td>\n",
              "      <td>3</td>\n",
              "      <td>3.934927</td>\n",
              "      <td>100</td>\n",
              "      <td>0.0</td>\n",
              "      <td>0.256493</td>\n",
              "      <td>4.012924</td>\n",
              "      <td>1</td>\n",
              "      <td>DDoS</td>\n",
              "      <td>TCP</td>\n",
              "      <td>DDoS_TCP</td>\n",
              "    </tr>\n",
              "    <tr>\n",
              "      <th>2</th>\n",
              "      <td>1976315</td>\n",
              "      <td>tcp</td>\n",
              "      <td>192.168.100.147</td>\n",
              "      <td>27165</td>\n",
              "      <td>192.168.100.3</td>\n",
              "      <td>80</td>\n",
              "      <td>62921</td>\n",
              "      <td>0.268666</td>\n",
              "      <td>100</td>\n",
              "      <td>2.974100</td>\n",
              "      <td>3</td>\n",
              "      <td>3.341429</td>\n",
              "      <td>100</td>\n",
              "      <td>0.0</td>\n",
              "      <td>0.294880</td>\n",
              "      <td>3.609205</td>\n",
              "      <td>1</td>\n",
              "      <td>DDoS</td>\n",
              "      <td>TCP</td>\n",
              "      <td>DDoS_TCP</td>\n",
              "    </tr>\n",
              "    <tr>\n",
              "      <th>3</th>\n",
              "      <td>1240757</td>\n",
              "      <td>udp</td>\n",
              "      <td>192.168.100.150</td>\n",
              "      <td>48719</td>\n",
              "      <td>192.168.100.3</td>\n",
              "      <td>80</td>\n",
              "      <td>99168</td>\n",
              "      <td>1.823185</td>\n",
              "      <td>63</td>\n",
              "      <td>0.000000</td>\n",
              "      <td>4</td>\n",
              "      <td>3.222832</td>\n",
              "      <td>63</td>\n",
              "      <td>0.0</td>\n",
              "      <td>0.461435</td>\n",
              "      <td>4.942302</td>\n",
              "      <td>1</td>\n",
              "      <td>DoS</td>\n",
              "      <td>UDP</td>\n",
              "      <td>DoS_UDP</td>\n",
              "    </tr>\n",
              "    <tr>\n",
              "      <th>4</th>\n",
              "      <td>3257991</td>\n",
              "      <td>udp</td>\n",
              "      <td>192.168.100.147</td>\n",
              "      <td>22461</td>\n",
              "      <td>192.168.100.3</td>\n",
              "      <td>80</td>\n",
              "      <td>105063</td>\n",
              "      <td>0.822418</td>\n",
              "      <td>100</td>\n",
              "      <td>2.979995</td>\n",
              "      <td>4</td>\n",
              "      <td>3.983222</td>\n",
              "      <td>100</td>\n",
              "      <td>0.0</td>\n",
              "      <td>1.002999</td>\n",
              "      <td>4.994452</td>\n",
              "      <td>1</td>\n",
              "      <td>DDoS</td>\n",
              "      <td>UDP</td>\n",
              "      <td>DDoS_UDP</td>\n",
              "    </tr>\n",
              "  </tbody>\n",
              "</table>\n",
              "</div>"
            ],
            "text/plain": [
              "   pkSeqID proto            saddr  sport  ... attack category  subcategory    target\n",
              "0  3142762   udp  192.168.100.150   6551  ...      1     DDoS          UDP  DDoS_UDP\n",
              "1  2432264   tcp  192.168.100.150   5532  ...      1     DDoS          TCP  DDoS_TCP\n",
              "2  1976315   tcp  192.168.100.147  27165  ...      1     DDoS          TCP  DDoS_TCP\n",
              "3  1240757   udp  192.168.100.150  48719  ...      1      DoS          UDP   DoS_UDP\n",
              "4  3257991   udp  192.168.100.147  22461  ...      1     DDoS          UDP  DDoS_UDP\n",
              "\n",
              "[5 rows x 20 columns]"
            ]
          },
          "metadata": {
            "tags": []
          },
          "execution_count": 10
        }
      ]
    },
    {
      "cell_type": "code",
      "metadata": {
        "colab": {
          "base_uri": "https://localhost:8080/",
          "height": 554
        },
        "id": "KwH-Nmn1de_7",
        "outputId": "84f1edcb-6df7-4e3f-a0c0-0b608c6748bb"
      },
      "source": [
        "plt.figure(figsize=(10,5))\n",
        "plt.xticks(rotation=90)\n",
        "sns.countplot(data_train['target'],palette='Accent')"
      ],
      "execution_count": null,
      "outputs": [
        {
          "output_type": "stream",
          "text": [
            "/usr/local/lib/python3.7/dist-packages/seaborn/_decorators.py:43: FutureWarning: Pass the following variable as a keyword arg: x. From version 0.12, the only valid positional argument will be `data`, and passing other arguments without an explicit keyword will result in an error or misinterpretation.\n",
            "  FutureWarning\n"
          ],
          "name": "stderr"
        },
        {
          "output_type": "execute_result",
          "data": {
            "text/plain": [
              "<matplotlib.axes._subplots.AxesSubplot at 0x7fe9ed086950>"
            ]
          },
          "metadata": {
            "tags": []
          },
          "execution_count": 11
        },
        {
          "output_type": "display_data",
          "data": {
            "image/png": "[encoded data removed]",
            "text/plain": [
              "<Figure size 720x360 with 1 Axes>"
            ]
          },
          "metadata": {
            "tags": []
          }
        }
      ]
    },
    {
      "cell_type": "code",
      "metadata": {
        "colab": {
          "base_uri": "https://localhost:8080/",
          "height": 222
        },
        "id": "ZtyJEKMjdh7n",
        "outputId": "b581ba2c-3eab-44c4-bac0-5e8ed39c43ef"
      },
      "source": [
        "#Merging category and subcategory into one column\n",
        "data_test['target'] = data_test['category'] + \"_\" + data_test['subcategory']\n",
        "data_test.head()"
      ],
      "execution_count": null,
      "outputs": [
        {
          "output_type": "execute_result",
          "data": {
            "text/html": [
              "<div>\n",
              "<style scoped>\n",
              "    .dataframe tbody tr th:only-of-type {\n",
              "        vertical-align: middle;\n",
              "    }\n",
              "\n",
              "    .dataframe tbody tr th {\n",
              "        vertical-align: top;\n",
              "    }\n",
              "\n",
              "    .dataframe thead th {\n",
              "        text-align: right;\n",
              "    }\n",
              "</style>\n",
              "<table border=\"1\" class=\"dataframe\">\n",
              "  <thead>\n",
              "    <tr style=\"text-align: right;\">\n",
              "      <th></th>\n",
              "      <th>pkSeqID</th>\n",
              "      <th>proto</th>\n",
              "      <th>saddr</th>\n",
              "      <th>sport</th>\n",
              "      <th>daddr</th>\n",
              "      <th>dport</th>\n",
              "      <th>seq</th>\n",
              "      <th>stddev</th>\n",
              "      <th>N_IN_Conn_P_SrcIP</th>\n",
              "      <th>min</th>\n",
              "      <th>state_number</th>\n",
              "      <th>mean</th>\n",
              "      <th>N_IN_Conn_P_DstIP</th>\n",
              "      <th>drate</th>\n",
              "      <th>srate</th>\n",
              "      <th>max</th>\n",
              "      <th>attack</th>\n",
              "      <th>category</th>\n",
              "      <th>subcategory</th>\n",
              "      <th>target</th>\n",
              "    </tr>\n",
              "  </thead>\n",
              "  <tbody>\n",
              "    <tr>\n",
              "      <th>0</th>\n",
              "      <td>792371</td>\n",
              "      <td>udp</td>\n",
              "      <td>192.168.100.150</td>\n",
              "      <td>48516</td>\n",
              "      <td>192.168.100.3</td>\n",
              "      <td>80</td>\n",
              "      <td>175094</td>\n",
              "      <td>0.226784</td>\n",
              "      <td>100</td>\n",
              "      <td>4.100436</td>\n",
              "      <td>4</td>\n",
              "      <td>4.457383</td>\n",
              "      <td>100</td>\n",
              "      <td>0.000000</td>\n",
              "      <td>0.404711</td>\n",
              "      <td>4.719438</td>\n",
              "      <td>1</td>\n",
              "      <td>DoS</td>\n",
              "      <td>UDP</td>\n",
              "      <td>DoS_UDP</td>\n",
              "    </tr>\n",
              "    <tr>\n",
              "      <th>1</th>\n",
              "      <td>2056418</td>\n",
              "      <td>tcp</td>\n",
              "      <td>192.168.100.148</td>\n",
              "      <td>22267</td>\n",
              "      <td>192.168.100.3</td>\n",
              "      <td>80</td>\n",
              "      <td>143024</td>\n",
              "      <td>0.451998</td>\n",
              "      <td>100</td>\n",
              "      <td>3.439257</td>\n",
              "      <td>1</td>\n",
              "      <td>3.806172</td>\n",
              "      <td>100</td>\n",
              "      <td>0.225077</td>\n",
              "      <td>0.401397</td>\n",
              "      <td>4.442930</td>\n",
              "      <td>1</td>\n",
              "      <td>DDoS</td>\n",
              "      <td>TCP</td>\n",
              "      <td>DDoS_TCP</td>\n",
              "    </tr>\n",
              "    <tr>\n",
              "      <th>2</th>\n",
              "      <td>2795650</td>\n",
              "      <td>udp</td>\n",
              "      <td>192.168.100.149</td>\n",
              "      <td>28629</td>\n",
              "      <td>192.168.100.3</td>\n",
              "      <td>80</td>\n",
              "      <td>167033</td>\n",
              "      <td>1.931553</td>\n",
              "      <td>73</td>\n",
              "      <td>0.000000</td>\n",
              "      <td>4</td>\n",
              "      <td>2.731204</td>\n",
              "      <td>100</td>\n",
              "      <td>0.000000</td>\n",
              "      <td>0.407287</td>\n",
              "      <td>4.138455</td>\n",
              "      <td>1</td>\n",
              "      <td>DDoS</td>\n",
              "      <td>UDP</td>\n",
              "      <td>DDoS_UDP</td>\n",
              "    </tr>\n",
              "    <tr>\n",
              "      <th>3</th>\n",
              "      <td>2118009</td>\n",
              "      <td>tcp</td>\n",
              "      <td>192.168.100.148</td>\n",
              "      <td>42142</td>\n",
              "      <td>192.168.100.3</td>\n",
              "      <td>80</td>\n",
              "      <td>204615</td>\n",
              "      <td>0.428798</td>\n",
              "      <td>56</td>\n",
              "      <td>3.271411</td>\n",
              "      <td>1</td>\n",
              "      <td>3.626428</td>\n",
              "      <td>100</td>\n",
              "      <td>0.000000</td>\n",
              "      <td>0.343654</td>\n",
              "      <td>4.229700</td>\n",
              "      <td>1</td>\n",
              "      <td>DDoS</td>\n",
              "      <td>TCP</td>\n",
              "      <td>DDoS_TCP</td>\n",
              "    </tr>\n",
              "    <tr>\n",
              "      <th>4</th>\n",
              "      <td>303688</td>\n",
              "      <td>tcp</td>\n",
              "      <td>192.168.100.149</td>\n",
              "      <td>1645</td>\n",
              "      <td>192.168.100.5</td>\n",
              "      <td>80</td>\n",
              "      <td>40058</td>\n",
              "      <td>2.058381</td>\n",
              "      <td>100</td>\n",
              "      <td>0.000000</td>\n",
              "      <td>3</td>\n",
              "      <td>1.188407</td>\n",
              "      <td>100</td>\n",
              "      <td>0.000000</td>\n",
              "      <td>0.135842</td>\n",
              "      <td>4.753628</td>\n",
              "      <td>1</td>\n",
              "      <td>DoS</td>\n",
              "      <td>TCP</td>\n",
              "      <td>DoS_TCP</td>\n",
              "    </tr>\n",
              "  </tbody>\n",
              "</table>\n",
              "</div>"
            ],
            "text/plain": [
              "   pkSeqID proto            saddr  sport  ... attack category  subcategory    target\n",
              "0   792371   udp  192.168.100.150  48516  ...      1      DoS          UDP   DoS_UDP\n",
              "1  2056418   tcp  192.168.100.148  22267  ...      1     DDoS          TCP  DDoS_TCP\n",
              "2  2795650   udp  192.168.100.149  28629  ...      1     DDoS          UDP  DDoS_UDP\n",
              "3  2118009   tcp  192.168.100.148  42142  ...      1     DDoS          TCP  DDoS_TCP\n",
              "4   303688   tcp  192.168.100.149   1645  ...      1      DoS          TCP   DoS_TCP\n",
              "\n",
              "[5 rows x 20 columns]"
            ]
          },
          "metadata": {
            "tags": []
          },
          "execution_count": 12
        }
      ]
    },
    {
      "cell_type": "code",
      "metadata": {
        "id": "BsygxgjgdpKs"
      },
      "source": [
        "#Dropping Theft since it has very low values\n",
        "indexNames = data_train[data_train['category']=='Theft'].index\n",
        "data_train.drop(indexNames , inplace=True)"
      ],
      "execution_count": null,
      "outputs": []
    },
    {
      "cell_type": "code",
      "metadata": {
        "id": "NO2z0DBZdp7h"
      },
      "source": [
        "indexNames = data_test[data_test['category']=='Theft'].index\n",
        "data_test.drop(indexNames , inplace=True)"
      ],
      "execution_count": null,
      "outputs": []
    },
    {
      "cell_type": "code",
      "metadata": {
        "id": "CcEZN0KPdsM6"
      },
      "source": [
        "data_train.drop([\"pkSeqID\",\"seq\"], axis=1, inplace=True)\n",
        "data_test.drop([\"pkSeqID\",\"seq\"], axis=1, inplace=True)"
      ],
      "execution_count": null,
      "outputs": []
    },
    {
      "cell_type": "code",
      "metadata": {
        "colab": {
          "base_uri": "https://localhost:8080/",
          "height": 453
        },
        "id": "1hYltDA4dupC",
        "outputId": "3090420c-f9b1-4ab1-864e-1914eb468c75"
      },
      "source": [
        "data_train[data_train['category']=='Normal']"
      ],
      "execution_count": null,
      "outputs": [
        {
          "output_type": "execute_result",
          "data": {
            "text/html": [
              "<div>\n",
              "<style scoped>\n",
              "    .dataframe tbody tr th:only-of-type {\n",
              "        vertical-align: middle;\n",
              "    }\n",
              "\n",
              "    .dataframe tbody tr th {\n",
              "        vertical-align: top;\n",
              "    }\n",
              "\n",
              "    .dataframe thead th {\n",
              "        text-align: right;\n",
              "    }\n",
              "</style>\n",
              "<table border=\"1\" class=\"dataframe\">\n",
              "  <thead>\n",
              "    <tr style=\"text-align: right;\">\n",
              "      <th></th>\n",
              "      <th>proto</th>\n",
              "      <th>saddr</th>\n",
              "      <th>sport</th>\n",
              "      <th>daddr</th>\n",
              "      <th>dport</th>\n",
              "      <th>stddev</th>\n",
              "      <th>N_IN_Conn_P_SrcIP</th>\n",
              "      <th>min</th>\n",
              "      <th>state_number</th>\n",
              "      <th>mean</th>\n",
              "      <th>N_IN_Conn_P_DstIP</th>\n",
              "      <th>drate</th>\n",
              "      <th>srate</th>\n",
              "      <th>max</th>\n",
              "      <th>attack</th>\n",
              "      <th>category</th>\n",
              "      <th>subcategory</th>\n",
              "      <th>target</th>\n",
              "    </tr>\n",
              "  </thead>\n",
              "  <tbody>\n",
              "    <tr>\n",
              "      <th>3377</th>\n",
              "      <td>tcp</td>\n",
              "      <td>192.168.100.5</td>\n",
              "      <td>0</td>\n",
              "      <td>192.168.100.3</td>\n",
              "      <td>0</td>\n",
              "      <td>0.235357</td>\n",
              "      <td>7</td>\n",
              "      <td>0.598172</td>\n",
              "      <td>2</td>\n",
              "      <td>4.898582</td>\n",
              "      <td>7</td>\n",
              "      <td>0.000000</td>\n",
              "      <td>10.932437</td>\n",
              "      <td>4.999866</td>\n",
              "      <td>0</td>\n",
              "      <td>Normal</td>\n",
              "      <td>Normal</td>\n",
              "      <td>Normal_Normal</td>\n",
              "    </tr>\n",
              "    <tr>\n",
              "      <th>7683</th>\n",
              "      <td>udp</td>\n",
              "      <td>192.168.100.150</td>\n",
              "      <td>46295</td>\n",
              "      <td>192.168.217.2</td>\n",
              "      <td>53</td>\n",
              "      <td>0.000000</td>\n",
              "      <td>11</td>\n",
              "      <td>0.000000</td>\n",
              "      <td>4</td>\n",
              "      <td>0.000000</td>\n",
              "      <td>20</td>\n",
              "      <td>0.000000</td>\n",
              "      <td>0.400001</td>\n",
              "      <td>0.000000</td>\n",
              "      <td>0</td>\n",
              "      <td>Normal</td>\n",
              "      <td>Normal</td>\n",
              "      <td>Normal_Normal</td>\n",
              "    </tr>\n",
              "    <tr>\n",
              "      <th>8844</th>\n",
              "      <td>tcp</td>\n",
              "      <td>192.168.100.3</td>\n",
              "      <td>80</td>\n",
              "      <td>192.168.100.55</td>\n",
              "      <td>8080</td>\n",
              "      <td>0.228494</td>\n",
              "      <td>20</td>\n",
              "      <td>0.768694</td>\n",
              "      <td>2</td>\n",
              "      <td>4.947914</td>\n",
              "      <td>2</td>\n",
              "      <td>17.633553</td>\n",
              "      <td>17.634146</td>\n",
              "      <td>4.999863</td>\n",
              "      <td>0</td>\n",
              "      <td>Normal</td>\n",
              "      <td>Normal</td>\n",
              "      <td>Normal_Normal</td>\n",
              "    </tr>\n",
              "    <tr>\n",
              "      <th>10110</th>\n",
              "      <td>udp</td>\n",
              "      <td>192.168.100.147</td>\n",
              "      <td>38275</td>\n",
              "      <td>192.168.217.2</td>\n",
              "      <td>53</td>\n",
              "      <td>0.000000</td>\n",
              "      <td>18</td>\n",
              "      <td>0.000000</td>\n",
              "      <td>4</td>\n",
              "      <td>0.000000</td>\n",
              "      <td>18</td>\n",
              "      <td>0.000000</td>\n",
              "      <td>0.399866</td>\n",
              "      <td>0.000000</td>\n",
              "      <td>0</td>\n",
              "      <td>Normal</td>\n",
              "      <td>Normal</td>\n",
              "      <td>Normal_Normal</td>\n",
              "    </tr>\n",
              "    <tr>\n",
              "      <th>16479</th>\n",
              "      <td>udp</td>\n",
              "      <td>192.168.100.150</td>\n",
              "      <td>56155</td>\n",
              "      <td>255.255.255.255</td>\n",
              "      <td>3289</td>\n",
              "      <td>0.000000</td>\n",
              "      <td>14</td>\n",
              "      <td>0.000000</td>\n",
              "      <td>4</td>\n",
              "      <td>0.000000</td>\n",
              "      <td>2</td>\n",
              "      <td>0.000000</td>\n",
              "      <td>0.000000</td>\n",
              "      <td>0.000000</td>\n",
              "      <td>0</td>\n",
              "      <td>Normal</td>\n",
              "      <td>Normal</td>\n",
              "      <td>Normal_Normal</td>\n",
              "    </tr>\n",
              "    <tr>\n",
              "      <th>...</th>\n",
              "      <td>...</td>\n",
              "      <td>...</td>\n",
              "      <td>...</td>\n",
              "      <td>...</td>\n",
              "      <td>...</td>\n",
              "      <td>...</td>\n",
              "      <td>...</td>\n",
              "      <td>...</td>\n",
              "      <td>...</td>\n",
              "      <td>...</td>\n",
              "      <td>...</td>\n",
              "      <td>...</td>\n",
              "      <td>...</td>\n",
              "      <td>...</td>\n",
              "      <td>...</td>\n",
              "      <td>...</td>\n",
              "      <td>...</td>\n",
              "      <td>...</td>\n",
              "    </tr>\n",
              "    <tr>\n",
              "      <th>2896922</th>\n",
              "      <td>udp</td>\n",
              "      <td>192.168.100.3</td>\n",
              "      <td>60946</td>\n",
              "      <td>192.31.80.30</td>\n",
              "      <td>53</td>\n",
              "      <td>0.000000</td>\n",
              "      <td>23</td>\n",
              "      <td>0.278547</td>\n",
              "      <td>2</td>\n",
              "      <td>0.278547</td>\n",
              "      <td>1</td>\n",
              "      <td>0.000000</td>\n",
              "      <td>0.000000</td>\n",
              "      <td>0.278547</td>\n",
              "      <td>0</td>\n",
              "      <td>Normal</td>\n",
              "      <td>Normal</td>\n",
              "      <td>Normal_Normal</td>\n",
              "    </tr>\n",
              "    <tr>\n",
              "      <th>2907572</th>\n",
              "      <td>ipv6-icmp</td>\n",
              "      <td>fe80::250:56ff:febe:c038</td>\n",
              "      <td>133</td>\n",
              "      <td>ff02::2</td>\n",
              "      <td>0</td>\n",
              "      <td>0.000000</td>\n",
              "      <td>1</td>\n",
              "      <td>0.000000</td>\n",
              "      <td>8</td>\n",
              "      <td>0.000000</td>\n",
              "      <td>3</td>\n",
              "      <td>0.000000</td>\n",
              "      <td>0.000000</td>\n",
              "      <td>0.000000</td>\n",
              "      <td>0</td>\n",
              "      <td>Normal</td>\n",
              "      <td>Normal</td>\n",
              "      <td>Normal_Normal</td>\n",
              "    </tr>\n",
              "    <tr>\n",
              "      <th>2912220</th>\n",
              "      <td>udp</td>\n",
              "      <td>192.168.100.4</td>\n",
              "      <td>60001</td>\n",
              "      <td>192.168.100.1</td>\n",
              "      <td>53</td>\n",
              "      <td>0.323125</td>\n",
              "      <td>7</td>\n",
              "      <td>0.000000</td>\n",
              "      <td>2</td>\n",
              "      <td>0.161776</td>\n",
              "      <td>4</td>\n",
              "      <td>0.555538</td>\n",
              "      <td>0.644334</td>\n",
              "      <td>0.808025</td>\n",
              "      <td>0</td>\n",
              "      <td>Normal</td>\n",
              "      <td>Normal</td>\n",
              "      <td>Normal_Normal</td>\n",
              "    </tr>\n",
              "    <tr>\n",
              "      <th>2917520</th>\n",
              "      <td>udp</td>\n",
              "      <td>192.168.100.148</td>\n",
              "      <td>41735</td>\n",
              "      <td>8.8.8.8</td>\n",
              "      <td>53</td>\n",
              "      <td>0.000000</td>\n",
              "      <td>20</td>\n",
              "      <td>0.007598</td>\n",
              "      <td>2</td>\n",
              "      <td>0.007598</td>\n",
              "      <td>15</td>\n",
              "      <td>0.000000</td>\n",
              "      <td>0.000000</td>\n",
              "      <td>0.007598</td>\n",
              "      <td>0</td>\n",
              "      <td>Normal</td>\n",
              "      <td>Normal</td>\n",
              "      <td>Normal_Normal</td>\n",
              "    </tr>\n",
              "    <tr>\n",
              "      <th>2932908</th>\n",
              "      <td>udp</td>\n",
              "      <td>192.168.100.147</td>\n",
              "      <td>57830</td>\n",
              "      <td>192.168.217.2</td>\n",
              "      <td>53</td>\n",
              "      <td>0.000000</td>\n",
              "      <td>12</td>\n",
              "      <td>0.000000</td>\n",
              "      <td>4</td>\n",
              "      <td>0.000000</td>\n",
              "      <td>8</td>\n",
              "      <td>0.000000</td>\n",
              "      <td>0.399842</td>\n",
              "      <td>0.000000</td>\n",
              "      <td>0</td>\n",
              "      <td>Normal</td>\n",
              "      <td>Normal</td>\n",
              "      <td>Normal_Normal</td>\n",
              "    </tr>\n",
              "  </tbody>\n",
              "</table>\n",
              "<p>370 rows × 18 columns</p>\n",
              "</div>"
            ],
            "text/plain": [
              "             proto                     saddr  ... subcategory         target\n",
              "3377           tcp             192.168.100.5  ...      Normal  Normal_Normal\n",
              "7683           udp           192.168.100.150  ...      Normal  Normal_Normal\n",
              "8844           tcp             192.168.100.3  ...      Normal  Normal_Normal\n",
              "10110          udp           192.168.100.147  ...      Normal  Normal_Normal\n",
              "16479          udp           192.168.100.150  ...      Normal  Normal_Normal\n",
              "...            ...                       ...  ...         ...            ...\n",
              "2896922        udp             192.168.100.3  ...      Normal  Normal_Normal\n",
              "2907572  ipv6-icmp  fe80::250:56ff:febe:c038  ...      Normal  Normal_Normal\n",
              "2912220        udp             192.168.100.4  ...      Normal  Normal_Normal\n",
              "2917520        udp           192.168.100.148  ...      Normal  Normal_Normal\n",
              "2932908        udp           192.168.100.147  ...      Normal  Normal_Normal\n",
              "\n",
              "[370 rows x 18 columns]"
            ]
          },
          "metadata": {
            "tags": []
          },
          "execution_count": 16
        }
      ]
    },
    {
      "cell_type": "code",
      "metadata": {
        "colab": {
          "base_uri": "https://localhost:8080/"
        },
        "id": "yWQu-9YCdw8-",
        "outputId": "41868197-d910-4f61-bc5a-0413f4d9db60"
      },
      "source": [
        "data_train['sport'].value_counts()"
      ],
      "execution_count": null,
      "outputs": [
        {
          "output_type": "execute_result",
          "data": {
            "text/plain": [
              "0x0303    7156\n",
              "80        3220\n",
              "1822       878\n",
              "60541      869\n",
              "1216       868\n",
              "          ... \n",
              "39364       31\n",
              "18992       30\n",
              "39305       30\n",
              "0x000d      10\n",
              "0x0011       8\n",
              "Name: sport, Length: 65541, dtype: int64"
            ]
          },
          "metadata": {
            "tags": []
          },
          "execution_count": 17
        }
      ]
    },
    {
      "cell_type": "code",
      "metadata": {
        "colab": {
          "base_uri": "https://localhost:8080/"
        },
        "id": "JXRtxSu5d1jK",
        "outputId": "6324c3bc-a498-4100-8a45-a668418b295f"
      },
      "source": [
        "# converting Hexadecimal value to decimal in port number\n",
        "check='0x'\n",
        "s_res = set([i for i in data_train['sport'] if i.startswith(check)])\n",
        "s_res"
      ],
      "execution_count": null,
      "outputs": [
        {
          "output_type": "execute_result",
          "data": {
            "text/plain": [
              "{'0x0008', '0x000d', '0x0011', '0x0303'}"
            ]
          },
          "metadata": {
            "tags": []
          },
          "execution_count": 18
        }
      ]
    },
    {
      "cell_type": "code",
      "metadata": {
        "id": "1c2Visuld21S"
      },
      "source": [
        "data_train['sport']=data_train['sport'].replace(['0x0303'],'771') \n",
        "data_train['sport']=data_train['sport'].replace(['0x0011'],'17')\n",
        "data_train['sport']=data_train['sport'].replace(['0x000d'],'13')\n",
        "data_train['sport']=data_train['sport'].replace(['0x0008'],'8')"
      ],
      "execution_count": null,
      "outputs": []
    },
    {
      "cell_type": "code",
      "metadata": {
        "id": "C-KySP-ld6PI"
      },
      "source": [
        "data_test['sport']=data_test['sport'].replace(['0x0303'],'771') \n",
        "data_test['sport']=data_test['sport'].replace(['0x0011'],'17')\n",
        "data_test['sport']=data_test['sport'].replace(['0x000d'],'13')\n",
        "data_test['sport']=data_test['sport'].replace(['0x0008'],'8')"
      ],
      "execution_count": null,
      "outputs": []
    },
    {
      "cell_type": "code",
      "metadata": {
        "id": "c0pKannyd9mI"
      },
      "source": [
        "data_train[\"sport\"] = data_train[\"sport\"].astype(str).astype(int)\n",
        "data_test[\"sport\"] = data_test[\"sport\"].astype(str).astype(int)"
      ],
      "execution_count": null,
      "outputs": []
    },
    {
      "cell_type": "code",
      "metadata": {
        "colab": {
          "base_uri": "https://localhost:8080/"
        },
        "id": "1gAibLU-eAka",
        "outputId": "0db4dfe6-eea4-4486-868b-5c8d14a03e94"
      },
      "source": [
        "check='0x'\n",
        "d_res = set([i for i in data_train['dport'] if i.startswith(check)])\n",
        "print(len(d_res))"
      ],
      "execution_count": null,
      "outputs": [
        {
          "output_type": "stream",
          "text": [
            "1062\n"
          ],
          "name": "stdout"
        }
      ]
    },
    {
      "cell_type": "code",
      "metadata": {
        "id": "3COWcj9QeEIE"
      },
      "source": [
        "data_train[\"dport\"] = data_train[\"dport\"].apply(lambda x: int(x,16) if len(x)>1 and x[1]==\"x\" else int(x))\n",
        "data_test[\"dport\"] = data_test[\"dport\"].apply(lambda x: int(x,16) if len(x)>1 and x[1]==\"x\" else int(x))"
      ],
      "execution_count": null,
      "outputs": []
    },
    {
      "cell_type": "code",
      "metadata": {
        "colab": {
          "base_uri": "https://localhost:8080/"
        },
        "id": "mypijn0weHO-",
        "outputId": "b101fc72-e14f-49fc-cf34-682f20d82859"
      },
      "source": [
        "data_train['dport'].value_counts()"
      ],
      "execution_count": null,
      "outputs": [
        {
          "output_type": "execute_result",
          "data": {
            "text/plain": [
              " 80       2858794\n",
              " 1           5379\n",
              " 3306        3757\n",
              " 53           275\n",
              "-1            163\n",
              "           ...   \n",
              " 13445          1\n",
              " 6636           1\n",
              " 29153          1\n",
              " 29152          1\n",
              " 8863           1\n",
              "Name: dport, Length: 6778, dtype: int64"
            ]
          },
          "metadata": {
            "tags": []
          },
          "execution_count": 24
        }
      ]
    },
    {
      "cell_type": "code",
      "metadata": {
        "colab": {
          "base_uri": "https://localhost:8080/"
        },
        "id": "hc44iq4YeJ3-",
        "outputId": "6c9e0d0c-b2a3-4e36-be08-39413a05b3e4"
      },
      "source": [
        "# checking for negative port numbers\n",
        "len(data_train[data_train['dport']<0]['dport'])"
      ],
      "execution_count": null,
      "outputs": [
        {
          "output_type": "execute_result",
          "data": {
            "text/plain": [
              "163"
            ]
          },
          "metadata": {
            "tags": []
          },
          "execution_count": 25
        }
      ]
    },
    {
      "cell_type": "code",
      "metadata": {
        "colab": {
          "base_uri": "https://localhost:8080/"
        },
        "id": "Wzmf7Z3SeMtE",
        "outputId": "5769ffda-c619-4737-c7a4-5829c19fc062"
      },
      "source": [
        "data_train[data_train['dport']==-1]['target'].value_counts()"
      ],
      "execution_count": null,
      "outputs": [
        {
          "output_type": "execute_result",
          "data": {
            "text/plain": [
              "Normal_Normal                    38\n",
              "Reconnaissance_Service_Scan      34\n",
              "Reconnaissance_OS_Fingerprint    26\n",
              "DoS_UDP                          18\n",
              "DoS_TCP                          17\n",
              "DDoS_TCP                         15\n",
              "DDoS_UDP                         10\n",
              "DoS_HTTP                          5\n",
              "Name: target, dtype: int64"
            ]
          },
          "metadata": {
            "tags": []
          },
          "execution_count": 26
        }
      ]
    },
    {
      "cell_type": "code",
      "metadata": {
        "id": "szHlGfygePMW"
      },
      "source": [
        "#Since dport can't be negative, we are dropping it\n",
        "indexNames = data_train[data_train['dport'] == -1].index\n",
        "data_train.drop(indexNames, inplace=True)"
      ],
      "execution_count": null,
      "outputs": []
    },
    {
      "cell_type": "code",
      "metadata": {
        "colab": {
          "base_uri": "https://localhost:8080/"
        },
        "id": "pjZFE_V_eRw0",
        "outputId": "78b777cc-753c-4608-ea9e-155c18c22c80"
      },
      "source": [
        "data_test[data_test['dport']==-1]['target'].value_counts()"
      ],
      "execution_count": null,
      "outputs": [
        {
          "output_type": "execute_result",
          "data": {
            "text/plain": [
              "Reconnaissance_Service_Scan      12\n",
              "Normal_Normal                     9\n",
              "DDoS_UDP                          6\n",
              "Reconnaissance_OS_Fingerprint     6\n",
              "DoS_UDP                           6\n",
              "DDoS_TCP                          3\n",
              "DoS_TCP                           2\n",
              "DDoS_HTTP                         1\n",
              "DoS_HTTP                          1\n",
              "Name: target, dtype: int64"
            ]
          },
          "metadata": {
            "tags": []
          },
          "execution_count": 28
        }
      ]
    },
    {
      "cell_type": "code",
      "metadata": {
        "id": "rPJDeye1eUUD"
      },
      "source": [
        "indexNames = data_test[data_test['dport']==-1].index\n",
        "data_test.drop(indexNames , inplace=True)"
      ],
      "execution_count": null,
      "outputs": []
    },
    {
      "cell_type": "code",
      "metadata": {
        "colab": {
          "base_uri": "https://localhost:8080/"
        },
        "id": "wAJdwy0veYaq",
        "outputId": "979bba02-3080-49ee-9871-bec9789e24d1"
      },
      "source": [
        "data_train.groupby(['category'])['subcategory'].value_counts()"
      ],
      "execution_count": null,
      "outputs": [
        {
          "output_type": "execute_result",
          "data": {
            "text/plain": [
              "category        subcategory   \n",
              "DDoS            TCP               782213\n",
              "                UDP               758291\n",
              "                HTTP                 786\n",
              "DoS             UDP               826331\n",
              "                TCP               492598\n",
              "                HTTP                1179\n",
              "Normal          Normal               332\n",
              "Reconnaissance  Service_Scan       58592\n",
              "                OS_Fingerprint     14267\n",
              "Name: subcategory, dtype: int64"
            ]
          },
          "metadata": {
            "tags": []
          },
          "execution_count": 30
        }
      ]
    },
    {
      "cell_type": "code",
      "metadata": {
        "colab": {
          "base_uri": "https://localhost:8080/"
        },
        "id": "8Lqok9Zwea3M",
        "outputId": "aaa649e3-9a35-473d-95e5-97f697778977"
      },
      "source": [
        "data_train['target'].value_counts()"
      ],
      "execution_count": null,
      "outputs": [
        {
          "output_type": "execute_result",
          "data": {
            "text/plain": [
              "DoS_UDP                          826331\n",
              "DDoS_TCP                         782213\n",
              "DDoS_UDP                         758291\n",
              "DoS_TCP                          492598\n",
              "Reconnaissance_Service_Scan       58592\n",
              "Reconnaissance_OS_Fingerprint     14267\n",
              "DoS_HTTP                           1179\n",
              "DDoS_HTTP                           786\n",
              "Normal_Normal                       332\n",
              "Name: target, dtype: int64"
            ]
          },
          "metadata": {
            "tags": []
          },
          "execution_count": 31
        }
      ]
    },
    {
      "cell_type": "code",
      "metadata": {
        "colab": {
          "base_uri": "https://localhost:8080/"
        },
        "id": "y-aJSi6qedPe",
        "outputId": "700ab5f1-3aa0-4b2c-a029-d91ab09e590f"
      },
      "source": [
        "data_train.dtypes[data_train.dtypes=='object']"
      ],
      "execution_count": null,
      "outputs": [
        {
          "output_type": "execute_result",
          "data": {
            "text/plain": [
              "proto          object\n",
              "saddr          object\n",
              "daddr          object\n",
              "category       object\n",
              "subcategory    object\n",
              "target         object\n",
              "dtype: object"
            ]
          },
          "metadata": {
            "tags": []
          },
          "execution_count": 32
        }
      ]
    },
    {
      "cell_type": "code",
      "metadata": {
        "id": "8i8GpbmqeeWF"
      },
      "source": [
        "data_train.drop([\"category\",\"subcategory\"], axis=1, inplace=True)\n",
        "data_test.drop([\"category\",\"subcategory\"], axis=1, inplace=True)"
      ],
      "execution_count": null,
      "outputs": []
    },
    {
      "cell_type": "markdown",
      "metadata": {
        "id": "5DdkeqhDehfM"
      },
      "source": [
        "# **Encoding Categorical columns**"
      ]
    },
    {
      "cell_type": "code",
      "metadata": {
        "id": "_qYzFqi3eojb"
      },
      "source": [
        "from sklearn.preprocessing import LabelEncoder\n",
        "le = LabelEncoder()\n",
        "data_train[\"saddr_enc\"]= le.fit_transform(data_train.saddr)\n",
        "data_train[\"daddr_enc\"]= le.fit_transform(data_train.daddr)\n",
        "data_train[\"proto_enc\"]= le.fit_transform(data_train.proto)\n",
        "data_train[\"target_enc\"]= le.fit_transform(data_train.target)"
      ],
      "execution_count": null,
      "outputs": []
    },
    {
      "cell_type": "code",
      "metadata": {
        "colab": {
          "base_uri": "https://localhost:8080/",
          "height": 222
        },
        "id": "ZVBmGZgnerfs",
        "outputId": "15af6532-df60-4979-e322-425ba127f8bd"
      },
      "source": [
        "data_train.head()"
      ],
      "execution_count": null,
      "outputs": [
        {
          "output_type": "execute_result",
          "data": {
            "text/html": [
              "<div>\n",
              "<style scoped>\n",
              "    .dataframe tbody tr th:only-of-type {\n",
              "        vertical-align: middle;\n",
              "    }\n",
              "\n",
              "    .dataframe tbody tr th {\n",
              "        vertical-align: top;\n",
              "    }\n",
              "\n",
              "    .dataframe thead th {\n",
              "        text-align: right;\n",
              "    }\n",
              "</style>\n",
              "<table border=\"1\" class=\"dataframe\">\n",
              "  <thead>\n",
              "    <tr style=\"text-align: right;\">\n",
              "      <th></th>\n",
              "      <th>proto</th>\n",
              "      <th>saddr</th>\n",
              "      <th>sport</th>\n",
              "      <th>daddr</th>\n",
              "      <th>dport</th>\n",
              "      <th>stddev</th>\n",
              "      <th>N_IN_Conn_P_SrcIP</th>\n",
              "      <th>min</th>\n",
              "      <th>state_number</th>\n",
              "      <th>mean</th>\n",
              "      <th>N_IN_Conn_P_DstIP</th>\n",
              "      <th>drate</th>\n",
              "      <th>srate</th>\n",
              "      <th>max</th>\n",
              "      <th>attack</th>\n",
              "      <th>target</th>\n",
              "      <th>saddr_enc</th>\n",
              "      <th>daddr_enc</th>\n",
              "      <th>proto_enc</th>\n",
              "      <th>target_enc</th>\n",
              "    </tr>\n",
              "  </thead>\n",
              "  <tbody>\n",
              "    <tr>\n",
              "      <th>0</th>\n",
              "      <td>udp</td>\n",
              "      <td>192.168.100.150</td>\n",
              "      <td>6551</td>\n",
              "      <td>192.168.100.3</td>\n",
              "      <td>80</td>\n",
              "      <td>1.900363</td>\n",
              "      <td>100</td>\n",
              "      <td>0.000000</td>\n",
              "      <td>4</td>\n",
              "      <td>2.687519</td>\n",
              "      <td>100</td>\n",
              "      <td>0.0</td>\n",
              "      <td>0.494549</td>\n",
              "      <td>4.031619</td>\n",
              "      <td>1</td>\n",
              "      <td>DDoS_UDP</td>\n",
              "      <td>3</td>\n",
              "      <td>14</td>\n",
              "      <td>3</td>\n",
              "      <td>2</td>\n",
              "    </tr>\n",
              "    <tr>\n",
              "      <th>1</th>\n",
              "      <td>tcp</td>\n",
              "      <td>192.168.100.150</td>\n",
              "      <td>5532</td>\n",
              "      <td>192.168.100.3</td>\n",
              "      <td>80</td>\n",
              "      <td>0.078003</td>\n",
              "      <td>38</td>\n",
              "      <td>3.856930</td>\n",
              "      <td>3</td>\n",
              "      <td>3.934927</td>\n",
              "      <td>100</td>\n",
              "      <td>0.0</td>\n",
              "      <td>0.256493</td>\n",
              "      <td>4.012924</td>\n",
              "      <td>1</td>\n",
              "      <td>DDoS_TCP</td>\n",
              "      <td>3</td>\n",
              "      <td>14</td>\n",
              "      <td>2</td>\n",
              "      <td>1</td>\n",
              "    </tr>\n",
              "    <tr>\n",
              "      <th>2</th>\n",
              "      <td>tcp</td>\n",
              "      <td>192.168.100.147</td>\n",
              "      <td>27165</td>\n",
              "      <td>192.168.100.3</td>\n",
              "      <td>80</td>\n",
              "      <td>0.268666</td>\n",
              "      <td>100</td>\n",
              "      <td>2.974100</td>\n",
              "      <td>3</td>\n",
              "      <td>3.341429</td>\n",
              "      <td>100</td>\n",
              "      <td>0.0</td>\n",
              "      <td>0.294880</td>\n",
              "      <td>3.609205</td>\n",
              "      <td>1</td>\n",
              "      <td>DDoS_TCP</td>\n",
              "      <td>0</td>\n",
              "      <td>14</td>\n",
              "      <td>2</td>\n",
              "      <td>1</td>\n",
              "    </tr>\n",
              "    <tr>\n",
              "      <th>3</th>\n",
              "      <td>udp</td>\n",
              "      <td>192.168.100.150</td>\n",
              "      <td>48719</td>\n",
              "      <td>192.168.100.3</td>\n",
              "      <td>80</td>\n",
              "      <td>1.823185</td>\n",
              "      <td>63</td>\n",
              "      <td>0.000000</td>\n",
              "      <td>4</td>\n",
              "      <td>3.222832</td>\n",
              "      <td>63</td>\n",
              "      <td>0.0</td>\n",
              "      <td>0.461435</td>\n",
              "      <td>4.942302</td>\n",
              "      <td>1</td>\n",
              "      <td>DoS_UDP</td>\n",
              "      <td>3</td>\n",
              "      <td>14</td>\n",
              "      <td>3</td>\n",
              "      <td>5</td>\n",
              "    </tr>\n",
              "    <tr>\n",
              "      <th>4</th>\n",
              "      <td>udp</td>\n",
              "      <td>192.168.100.147</td>\n",
              "      <td>22461</td>\n",
              "      <td>192.168.100.3</td>\n",
              "      <td>80</td>\n",
              "      <td>0.822418</td>\n",
              "      <td>100</td>\n",
              "      <td>2.979995</td>\n",
              "      <td>4</td>\n",
              "      <td>3.983222</td>\n",
              "      <td>100</td>\n",
              "      <td>0.0</td>\n",
              "      <td>1.002999</td>\n",
              "      <td>4.994452</td>\n",
              "      <td>1</td>\n",
              "      <td>DDoS_UDP</td>\n",
              "      <td>0</td>\n",
              "      <td>14</td>\n",
              "      <td>3</td>\n",
              "      <td>2</td>\n",
              "    </tr>\n",
              "  </tbody>\n",
              "</table>\n",
              "</div>"
            ],
            "text/plain": [
              "  proto            saddr  sport  ... daddr_enc  proto_enc  target_enc\n",
              "0   udp  192.168.100.150   6551  ...        14          3           2\n",
              "1   tcp  192.168.100.150   5532  ...        14          2           1\n",
              "2   tcp  192.168.100.147  27165  ...        14          2           1\n",
              "3   udp  192.168.100.150  48719  ...        14          3           5\n",
              "4   udp  192.168.100.147  22461  ...        14          3           2\n",
              "\n",
              "[5 rows x 20 columns]"
            ]
          },
          "metadata": {
            "tags": []
          },
          "execution_count": 35
        }
      ]
    },
    {
      "cell_type": "code",
      "metadata": {
        "id": "kdNeumhseux0"
      },
      "source": [
        "# Dropping Redundant Columns\n",
        "data_train.drop(['saddr','daddr','proto','target'], axis=1, inplace=True)"
      ],
      "execution_count": null,
      "outputs": []
    },
    {
      "cell_type": "code",
      "metadata": {
        "id": "syHEb1Okgjf8"
      },
      "source": [
        "data_test[\"saddr_enc\"]= le.fit_transform(data_test.saddr)\n",
        "data_test[\"daddr_enc\"]= le.fit_transform(data_test.daddr)\n",
        "data_test[\"proto_enc\"]= le.fit_transform(data_test.proto)\n",
        "data_test[\"target_enc\"]= le.fit_transform(data_test.target)\n",
        "data_test.drop(['saddr','daddr','proto','target'], axis=1, inplace=True)"
      ],
      "execution_count": null,
      "outputs": []
    },
    {
      "cell_type": "code",
      "metadata": {
        "colab": {
          "base_uri": "https://localhost:8080/"
        },
        "id": "jL_ymLs9fQOZ",
        "outputId": "090b3285-7f82-4bed-8d1e-d2c85ef3e189"
      },
      "source": [
        "data_train['target_enc'].value_counts()"
      ],
      "execution_count": null,
      "outputs": [
        {
          "output_type": "execute_result",
          "data": {
            "text/plain": [
              "5    826331\n",
              "1    782213\n",
              "2    758291\n",
              "4    492598\n",
              "8     58592\n",
              "7     14267\n",
              "3      1179\n",
              "0       786\n",
              "6       332\n",
              "Name: target_enc, dtype: int64"
            ]
          },
          "metadata": {
            "tags": []
          },
          "execution_count": 38
        }
      ]
    },
    {
      "cell_type": "markdown",
      "metadata": {
        "id": "E4reUJ_bfdxp"
      },
      "source": [
        "# **Scaling**"
      ]
    },
    {
      "cell_type": "code",
      "metadata": {
        "id": "Bzn8E2FdfVzz"
      },
      "source": [
        "y = data_train['target_enc']"
      ],
      "execution_count": null,
      "outputs": []
    },
    {
      "cell_type": "code",
      "metadata": {
        "id": "6Fh04PBIfjGV"
      },
      "source": [
        "from sklearn.preprocessing import StandardScaler\n",
        "scaler=StandardScaler()\n",
        "features = data_train.iloc[:,:-1]\n",
        "cols=features.columns\n",
        "scaled_features= scaler.fit_transform(features)\n",
        "data_train= pd.DataFrame(scaled_features,columns=cols)"
      ],
      "execution_count": null,
      "outputs": []
    },
    {
      "cell_type": "code",
      "metadata": {
        "colab": {
          "base_uri": "https://localhost:8080/",
          "height": 222
        },
        "id": "NPESBXOwflpU",
        "outputId": "09c55b89-58d1-43a4-8b5a-846bf22ba147"
      },
      "source": [
        "data_train.head()"
      ],
      "execution_count": null,
      "outputs": [
        {
          "output_type": "execute_result",
          "data": {
            "text/html": [
              "<div>\n",
              "<style scoped>\n",
              "    .dataframe tbody tr th:only-of-type {\n",
              "        vertical-align: middle;\n",
              "    }\n",
              "\n",
              "    .dataframe tbody tr th {\n",
              "        vertical-align: top;\n",
              "    }\n",
              "\n",
              "    .dataframe thead th {\n",
              "        text-align: right;\n",
              "    }\n",
              "</style>\n",
              "<table border=\"1\" class=\"dataframe\">\n",
              "  <thead>\n",
              "    <tr style=\"text-align: right;\">\n",
              "      <th></th>\n",
              "      <th>sport</th>\n",
              "      <th>dport</th>\n",
              "      <th>stddev</th>\n",
              "      <th>N_IN_Conn_P_SrcIP</th>\n",
              "      <th>min</th>\n",
              "      <th>state_number</th>\n",
              "      <th>mean</th>\n",
              "      <th>N_IN_Conn_P_DstIP</th>\n",
              "      <th>drate</th>\n",
              "      <th>srate</th>\n",
              "      <th>max</th>\n",
              "      <th>attack</th>\n",
              "      <th>saddr_enc</th>\n",
              "      <th>daddr_enc</th>\n",
              "      <th>proto_enc</th>\n",
              "    </tr>\n",
              "  </thead>\n",
              "  <tbody>\n",
              "    <tr>\n",
              "      <th>0</th>\n",
              "      <td>-1.380968</td>\n",
              "      <td>-0.094032</td>\n",
              "      <td>1.260943</td>\n",
              "      <td>0.715432</td>\n",
              "      <td>-0.685675</td>\n",
              "      <td>0.729274</td>\n",
              "      <td>0.301061</td>\n",
              "      <td>0.415148</td>\n",
              "      <td>-0.00763</td>\n",
              "      <td>-0.003355</td>\n",
              "      <td>0.543937</td>\n",
              "      <td>0.010637</td>\n",
              "      <td>1.302349</td>\n",
              "      <td>-0.643845</td>\n",
              "      <td>0.898098</td>\n",
              "    </tr>\n",
              "    <tr>\n",
              "      <th>1</th>\n",
              "      <td>-1.434281</td>\n",
              "      <td>-0.094032</td>\n",
              "      <td>-1.006704</td>\n",
              "      <td>-1.827146</td>\n",
              "      <td>1.914094</td>\n",
              "      <td>-0.113134</td>\n",
              "      <td>1.122958</td>\n",
              "      <td>0.415148</td>\n",
              "      <td>-0.00763</td>\n",
              "      <td>-0.003659</td>\n",
              "      <td>0.533890</td>\n",
              "      <td>0.010637</td>\n",
              "      <td>1.302349</td>\n",
              "      <td>-0.643845</td>\n",
              "      <td>-1.050938</td>\n",
              "    </tr>\n",
              "    <tr>\n",
              "      <th>2</th>\n",
              "      <td>-0.302458</td>\n",
              "      <td>-0.094032</td>\n",
              "      <td>-0.769453</td>\n",
              "      <td>0.715432</td>\n",
              "      <td>1.319021</td>\n",
              "      <td>-0.113134</td>\n",
              "      <td>0.731911</td>\n",
              "      <td>0.415148</td>\n",
              "      <td>-0.00763</td>\n",
              "      <td>-0.003610</td>\n",
              "      <td>0.316934</td>\n",
              "      <td>0.010637</td>\n",
              "      <td>-1.281797</td>\n",
              "      <td>-0.643845</td>\n",
              "      <td>-1.050938</td>\n",
              "    </tr>\n",
              "    <tr>\n",
              "      <th>3</th>\n",
              "      <td>0.825232</td>\n",
              "      <td>-0.094032</td>\n",
              "      <td>1.164907</td>\n",
              "      <td>-0.801913</td>\n",
              "      <td>-0.685675</td>\n",
              "      <td>0.729274</td>\n",
              "      <td>0.653770</td>\n",
              "      <td>-1.622798</td>\n",
              "      <td>-0.00763</td>\n",
              "      <td>-0.003397</td>\n",
              "      <td>1.033331</td>\n",
              "      <td>0.010637</td>\n",
              "      <td>1.302349</td>\n",
              "      <td>-0.643845</td>\n",
              "      <td>0.898098</td>\n",
              "    </tr>\n",
              "    <tr>\n",
              "      <th>4</th>\n",
              "      <td>-0.548568</td>\n",
              "      <td>-0.094032</td>\n",
              "      <td>-0.080394</td>\n",
              "      <td>0.715432</td>\n",
              "      <td>1.322995</td>\n",
              "      <td>0.729274</td>\n",
              "      <td>1.154778</td>\n",
              "      <td>0.415148</td>\n",
              "      <td>-0.00763</td>\n",
              "      <td>-0.002707</td>\n",
              "      <td>1.061356</td>\n",
              "      <td>0.010637</td>\n",
              "      <td>-1.281797</td>\n",
              "      <td>-0.643845</td>\n",
              "      <td>0.898098</td>\n",
              "    </tr>\n",
              "  </tbody>\n",
              "</table>\n",
              "</div>"
            ],
            "text/plain": [
              "      sport     dport    stddev  ...  saddr_enc  daddr_enc  proto_enc\n",
              "0 -1.380968 -0.094032  1.260943  ...   1.302349  -0.643845   0.898098\n",
              "1 -1.434281 -0.094032 -1.006704  ...   1.302349  -0.643845  -1.050938\n",
              "2 -0.302458 -0.094032 -0.769453  ...  -1.281797  -0.643845  -1.050938\n",
              "3  0.825232 -0.094032  1.164907  ...   1.302349  -0.643845   0.898098\n",
              "4 -0.548568 -0.094032 -0.080394  ...  -1.281797  -0.643845   0.898098\n",
              "\n",
              "[5 rows x 15 columns]"
            ]
          },
          "metadata": {
            "tags": []
          },
          "execution_count": 41
        }
      ]
    },
    {
      "cell_type": "code",
      "metadata": {
        "colab": {
          "base_uri": "https://localhost:8080/",
          "height": 222
        },
        "id": "bUE3ScEqgZsD",
        "outputId": "d12b3514-0658-490c-d1cd-df1e3255363c"
      },
      "source": [
        "data_test.head()"
      ],
      "execution_count": null,
      "outputs": [
        {
          "output_type": "execute_result",
          "data": {
            "text/html": [
              "<div>\n",
              "<style scoped>\n",
              "    .dataframe tbody tr th:only-of-type {\n",
              "        vertical-align: middle;\n",
              "    }\n",
              "\n",
              "    .dataframe tbody tr th {\n",
              "        vertical-align: top;\n",
              "    }\n",
              "\n",
              "    .dataframe thead th {\n",
              "        text-align: right;\n",
              "    }\n",
              "</style>\n",
              "<table border=\"1\" class=\"dataframe\">\n",
              "  <thead>\n",
              "    <tr style=\"text-align: right;\">\n",
              "      <th></th>\n",
              "      <th>sport</th>\n",
              "      <th>dport</th>\n",
              "      <th>stddev</th>\n",
              "      <th>N_IN_Conn_P_SrcIP</th>\n",
              "      <th>min</th>\n",
              "      <th>state_number</th>\n",
              "      <th>mean</th>\n",
              "      <th>N_IN_Conn_P_DstIP</th>\n",
              "      <th>drate</th>\n",
              "      <th>srate</th>\n",
              "      <th>max</th>\n",
              "      <th>attack</th>\n",
              "      <th>saddr_enc</th>\n",
              "      <th>daddr_enc</th>\n",
              "      <th>proto_enc</th>\n",
              "      <th>target_enc</th>\n",
              "    </tr>\n",
              "  </thead>\n",
              "  <tbody>\n",
              "    <tr>\n",
              "      <th>0</th>\n",
              "      <td>48516</td>\n",
              "      <td>80</td>\n",
              "      <td>0.226784</td>\n",
              "      <td>100</td>\n",
              "      <td>4.100436</td>\n",
              "      <td>4</td>\n",
              "      <td>4.457383</td>\n",
              "      <td>100</td>\n",
              "      <td>0.000000</td>\n",
              "      <td>0.404711</td>\n",
              "      <td>4.719438</td>\n",
              "      <td>1</td>\n",
              "      <td>3</td>\n",
              "      <td>12</td>\n",
              "      <td>3</td>\n",
              "      <td>5</td>\n",
              "    </tr>\n",
              "    <tr>\n",
              "      <th>1</th>\n",
              "      <td>22267</td>\n",
              "      <td>80</td>\n",
              "      <td>0.451998</td>\n",
              "      <td>100</td>\n",
              "      <td>3.439257</td>\n",
              "      <td>1</td>\n",
              "      <td>3.806172</td>\n",
              "      <td>100</td>\n",
              "      <td>0.225077</td>\n",
              "      <td>0.401397</td>\n",
              "      <td>4.442930</td>\n",
              "      <td>1</td>\n",
              "      <td>1</td>\n",
              "      <td>12</td>\n",
              "      <td>2</td>\n",
              "      <td>1</td>\n",
              "    </tr>\n",
              "    <tr>\n",
              "      <th>2</th>\n",
              "      <td>28629</td>\n",
              "      <td>80</td>\n",
              "      <td>1.931553</td>\n",
              "      <td>73</td>\n",
              "      <td>0.000000</td>\n",
              "      <td>4</td>\n",
              "      <td>2.731204</td>\n",
              "      <td>100</td>\n",
              "      <td>0.000000</td>\n",
              "      <td>0.407287</td>\n",
              "      <td>4.138455</td>\n",
              "      <td>1</td>\n",
              "      <td>2</td>\n",
              "      <td>12</td>\n",
              "      <td>3</td>\n",
              "      <td>2</td>\n",
              "    </tr>\n",
              "    <tr>\n",
              "      <th>3</th>\n",
              "      <td>42142</td>\n",
              "      <td>80</td>\n",
              "      <td>0.428798</td>\n",
              "      <td>56</td>\n",
              "      <td>3.271411</td>\n",
              "      <td>1</td>\n",
              "      <td>3.626428</td>\n",
              "      <td>100</td>\n",
              "      <td>0.000000</td>\n",
              "      <td>0.343654</td>\n",
              "      <td>4.229700</td>\n",
              "      <td>1</td>\n",
              "      <td>1</td>\n",
              "      <td>12</td>\n",
              "      <td>2</td>\n",
              "      <td>1</td>\n",
              "    </tr>\n",
              "    <tr>\n",
              "      <th>4</th>\n",
              "      <td>1645</td>\n",
              "      <td>80</td>\n",
              "      <td>2.058381</td>\n",
              "      <td>100</td>\n",
              "      <td>0.000000</td>\n",
              "      <td>3</td>\n",
              "      <td>1.188407</td>\n",
              "      <td>100</td>\n",
              "      <td>0.000000</td>\n",
              "      <td>0.135842</td>\n",
              "      <td>4.753628</td>\n",
              "      <td>1</td>\n",
              "      <td>2</td>\n",
              "      <td>14</td>\n",
              "      <td>2</td>\n",
              "      <td>4</td>\n",
              "    </tr>\n",
              "  </tbody>\n",
              "</table>\n",
              "</div>"
            ],
            "text/plain": [
              "   sport  dport    stddev  ...  daddr_enc  proto_enc  target_enc\n",
              "0  48516     80  0.226784  ...         12          3           5\n",
              "1  22267     80  0.451998  ...         12          2           1\n",
              "2  28629     80  1.931553  ...         12          3           2\n",
              "3  42142     80  0.428798  ...         12          2           1\n",
              "4   1645     80  2.058381  ...         14          2           4\n",
              "\n",
              "[5 rows x 16 columns]"
            ]
          },
          "metadata": {
            "tags": []
          },
          "execution_count": 42
        }
      ]
    },
    {
      "cell_type": "code",
      "metadata": {
        "id": "nOyIx7zbfoAG"
      },
      "source": [
        "ytest = data_test['target_enc']\n",
        "features = data_test.iloc[:,:-1]\n",
        "cols=features.columns\n",
        "scaled_features= scaler.fit_transform(features)\n",
        "data_test= pd.DataFrame(scaled_features,columns=cols)"
      ],
      "execution_count": null,
      "outputs": []
    },
    {
      "cell_type": "code",
      "metadata": {
        "colab": {
          "base_uri": "https://localhost:8080/",
          "height": 222
        },
        "id": "OqIuIDAGgI9n",
        "outputId": "738c280b-6794-4588-8acd-2d8219c4b3f5"
      },
      "source": [
        "data_test.head()"
      ],
      "execution_count": null,
      "outputs": [
        {
          "output_type": "execute_result",
          "data": {
            "text/html": [
              "<div>\n",
              "<style scoped>\n",
              "    .dataframe tbody tr th:only-of-type {\n",
              "        vertical-align: middle;\n",
              "    }\n",
              "\n",
              "    .dataframe tbody tr th {\n",
              "        vertical-align: top;\n",
              "    }\n",
              "\n",
              "    .dataframe thead th {\n",
              "        text-align: right;\n",
              "    }\n",
              "</style>\n",
              "<table border=\"1\" class=\"dataframe\">\n",
              "  <thead>\n",
              "    <tr style=\"text-align: right;\">\n",
              "      <th></th>\n",
              "      <th>sport</th>\n",
              "      <th>dport</th>\n",
              "      <th>stddev</th>\n",
              "      <th>N_IN_Conn_P_SrcIP</th>\n",
              "      <th>min</th>\n",
              "      <th>state_number</th>\n",
              "      <th>mean</th>\n",
              "      <th>N_IN_Conn_P_DstIP</th>\n",
              "      <th>drate</th>\n",
              "      <th>srate</th>\n",
              "      <th>max</th>\n",
              "      <th>attack</th>\n",
              "      <th>saddr_enc</th>\n",
              "      <th>daddr_enc</th>\n",
              "      <th>proto_enc</th>\n",
              "    </tr>\n",
              "  </thead>\n",
              "  <tbody>\n",
              "    <tr>\n",
              "      <th>0</th>\n",
              "      <td>0.815980</td>\n",
              "      <td>-0.094347</td>\n",
              "      <td>-0.822350</td>\n",
              "      <td>0.716722</td>\n",
              "      <td>2.076170</td>\n",
              "      <td>0.728973</td>\n",
              "      <td>1.465443</td>\n",
              "      <td>0.415659</td>\n",
              "      <td>-0.006811</td>\n",
              "      <td>-0.004605</td>\n",
              "      <td>0.911656</td>\n",
              "      <td>0.011558</td>\n",
              "      <td>1.303394</td>\n",
              "      <td>-0.667508</td>\n",
              "      <td>0.896919</td>\n",
              "    </tr>\n",
              "    <tr>\n",
              "      <th>1</th>\n",
              "      <td>-0.556663</td>\n",
              "      <td>-0.094347</td>\n",
              "      <td>-0.542236</td>\n",
              "      <td>0.716722</td>\n",
              "      <td>1.630704</td>\n",
              "      <td>-1.799696</td>\n",
              "      <td>1.036313</td>\n",
              "      <td>0.415659</td>\n",
              "      <td>-0.003783</td>\n",
              "      <td>-0.004613</td>\n",
              "      <td>0.763047</td>\n",
              "      <td>0.011558</td>\n",
              "      <td>-0.422688</td>\n",
              "      <td>-0.667508</td>\n",
              "      <td>-1.051749</td>\n",
              "    </tr>\n",
              "    <tr>\n",
              "      <th>2</th>\n",
              "      <td>-0.223974</td>\n",
              "      <td>-0.094347</td>\n",
              "      <td>1.297989</td>\n",
              "      <td>-0.388902</td>\n",
              "      <td>-0.686481</td>\n",
              "      <td>0.728973</td>\n",
              "      <td>0.327939</td>\n",
              "      <td>0.415659</td>\n",
              "      <td>-0.006811</td>\n",
              "      <td>-0.004599</td>\n",
              "      <td>0.599406</td>\n",
              "      <td>0.011558</td>\n",
              "      <td>0.440353</td>\n",
              "      <td>-0.667508</td>\n",
              "      <td>0.896919</td>\n",
              "    </tr>\n",
              "    <tr>\n",
              "      <th>3</th>\n",
              "      <td>0.482664</td>\n",
              "      <td>-0.094347</td>\n",
              "      <td>-0.571091</td>\n",
              "      <td>-1.085035</td>\n",
              "      <td>1.517618</td>\n",
              "      <td>-1.799696</td>\n",
              "      <td>0.917867</td>\n",
              "      <td>0.415659</td>\n",
              "      <td>-0.006811</td>\n",
              "      <td>-0.004757</td>\n",
              "      <td>0.648446</td>\n",
              "      <td>0.011558</td>\n",
              "      <td>-0.422688</td>\n",
              "      <td>-0.667508</td>\n",
              "      <td>-1.051749</td>\n",
              "    </tr>\n",
              "    <tr>\n",
              "      <th>4</th>\n",
              "      <td>-1.635053</td>\n",
              "      <td>-0.094347</td>\n",
              "      <td>1.455734</td>\n",
              "      <td>0.716722</td>\n",
              "      <td>-0.686481</td>\n",
              "      <td>-0.113916</td>\n",
              "      <td>-0.688722</td>\n",
              "      <td>0.415659</td>\n",
              "      <td>-0.006811</td>\n",
              "      <td>-0.005272</td>\n",
              "      <td>0.930031</td>\n",
              "      <td>0.011558</td>\n",
              "      <td>0.440353</td>\n",
              "      <td>0.636049</td>\n",
              "      <td>-1.051749</td>\n",
              "    </tr>\n",
              "  </tbody>\n",
              "</table>\n",
              "</div>"
            ],
            "text/plain": [
              "      sport     dport    stddev  ...  saddr_enc  daddr_enc  proto_enc\n",
              "0  0.815980 -0.094347 -0.822350  ...   1.303394  -0.667508   0.896919\n",
              "1 -0.556663 -0.094347 -0.542236  ...  -0.422688  -0.667508  -1.051749\n",
              "2 -0.223974 -0.094347  1.297989  ...   0.440353  -0.667508   0.896919\n",
              "3  0.482664 -0.094347 -0.571091  ...  -0.422688  -0.667508  -1.051749\n",
              "4 -1.635053 -0.094347  1.455734  ...   0.440353   0.636049  -1.051749\n",
              "\n",
              "[5 rows x 15 columns]"
            ]
          },
          "metadata": {
            "tags": []
          },
          "execution_count": 44
        }
      ]
    },
    {
      "cell_type": "code",
      "metadata": {
        "colab": {
          "base_uri": "https://localhost:8080/"
        },
        "id": "AgceGBpzgL64",
        "outputId": "2d8ba229-564c-47e2-d7a0-cc3a324b412c"
      },
      "source": [
        "y.value_counts()"
      ],
      "execution_count": null,
      "outputs": [
        {
          "output_type": "execute_result",
          "data": {
            "text/plain": [
              "5    826331\n",
              "1    782213\n",
              "2    758291\n",
              "4    492598\n",
              "8     58592\n",
              "7     14267\n",
              "3      1179\n",
              "0       786\n",
              "6       332\n",
              "Name: target_enc, dtype: int64"
            ]
          },
          "metadata": {
            "tags": []
          },
          "execution_count": 45
        }
      ]
    },
    {
      "cell_type": "code",
      "metadata": {
        "id": "lTr1SRrigN73"
      },
      "source": [
        "x = data_train\n",
        "xtest = data_test"
      ],
      "execution_count": null,
      "outputs": []
    },
    {
      "cell_type": "markdown",
      "metadata": {
        "id": "00x1mda-g34q"
      },
      "source": [
        "# **Sampling**"
      ]
    },
    {
      "cell_type": "code",
      "metadata": {
        "colab": {
          "base_uri": "https://localhost:8080/"
        },
        "id": "Y15eYPh5hIgM",
        "outputId": "c3f5e392-683e-4606-e6ad-6147ab0beefb"
      },
      "source": [
        "import imblearn\n",
        "from imblearn.under_sampling import RandomUnderSampler\n",
        "samp_strat= {5:70000, 1:70000, 2:70000, 4:65000, 8:58592, 7:14267, 3:1179, 0:786, 6:332}\n",
        "random_under= RandomUnderSampler(sampling_strategy=samp_strat,random_state=1)\n",
        "X_rus,y_rus = random_under.fit_resample(x,y)"
      ],
      "execution_count": null,
      "outputs": [
        {
          "output_type": "stream",
          "text": [
            "/usr/local/lib/python3.7/dist-packages/sklearn/externals/six.py:31: FutureWarning: The module is deprecated in version 0.21 and will be removed in version 0.23 since we've dropped support for Python 2.7. Please rely on the official version of six (https://pypi.org/project/six/).\n",
            "  \"(https://pypi.org/project/six/).\", FutureWarning)\n",
            "/usr/local/lib/python3.7/dist-packages/sklearn/utils/deprecation.py:144: FutureWarning: The sklearn.neighbors.base module is  deprecated in version 0.22 and will be removed in version 0.24. The corresponding classes / functions should instead be imported from sklearn.neighbors. Anything that cannot be imported from sklearn.neighbors is now part of the private API.\n",
            "  warnings.warn(message, FutureWarning)\n",
            "/usr/local/lib/python3.7/dist-packages/sklearn/utils/deprecation.py:87: FutureWarning: Function safe_indexing is deprecated; safe_indexing is deprecated in version 0.22 and will be removed in version 0.24.\n",
            "  warnings.warn(msg, category=FutureWarning)\n"
          ],
          "name": "stderr"
        }
      ]
    },
    {
      "cell_type": "code",
      "metadata": {
        "colab": {
          "base_uri": "https://localhost:8080/"
        },
        "id": "hhnoN3MRiJXQ",
        "outputId": "aa0c47d0-d8d2-45fa-e44b-ed9775187710"
      },
      "source": [
        "pd.Series(y_rus).value_counts()"
      ],
      "execution_count": null,
      "outputs": [
        {
          "output_type": "execute_result",
          "data": {
            "text/plain": [
              "5    70000\n",
              "2    70000\n",
              "1    70000\n",
              "4    65000\n",
              "8    58592\n",
              "7    14267\n",
              "3     1179\n",
              "0      786\n",
              "6      332\n",
              "dtype: int64"
            ]
          },
          "metadata": {
            "tags": []
          },
          "execution_count": 49
        }
      ]
    },
    {
      "cell_type": "code",
      "metadata": {
        "colab": {
          "base_uri": "https://localhost:8080/"
        },
        "id": "zAkWd_l-iaLe",
        "outputId": "06059a97-19bb-4a59-9ca0-d56b5650b47f"
      },
      "source": [
        "from imblearn.over_sampling import RandomOverSampler\n",
        "samp_strat= {5:70000, 1:70000, 2:70000, 4:65000, 8:58592, 7:30000, 3:20000, 0:15000, 6:8000}\n",
        "random_under= RandomOverSampler(sampling_strategy=samp_strat,random_state=1)\n",
        "Xres,yres = random_under.fit_resample(X_rus,y_rus)"
      ],
      "execution_count": null,
      "outputs": [
        {
          "output_type": "stream",
          "text": [
            "/usr/local/lib/python3.7/dist-packages/sklearn/utils/deprecation.py:87: FutureWarning: Function safe_indexing is deprecated; safe_indexing is deprecated in version 0.22 and will be removed in version 0.24.\n",
            "  warnings.warn(msg, category=FutureWarning)\n"
          ],
          "name": "stderr"
        }
      ]
    },
    {
      "cell_type": "code",
      "metadata": {
        "colab": {
          "base_uri": "https://localhost:8080/"
        },
        "id": "Q3TntxmGieh6",
        "outputId": "fe3e3739-38af-41b7-de6c-a942c27e8b69"
      },
      "source": [
        "pd.Series(yres).value_counts()"
      ],
      "execution_count": null,
      "outputs": [
        {
          "output_type": "execute_result",
          "data": {
            "text/plain": [
              "5    70000\n",
              "2    70000\n",
              "1    70000\n",
              "4    65000\n",
              "8    58592\n",
              "7    30000\n",
              "3    20000\n",
              "0    15000\n",
              "6     8000\n",
              "dtype: int64"
            ]
          },
          "metadata": {
            "tags": []
          },
          "execution_count": 51
        }
      ]
    },
    {
      "cell_type": "code",
      "metadata": {
        "colab": {
          "base_uri": "https://localhost:8080/",
          "height": 392
        },
        "id": "hOvEts_BihAE",
        "outputId": "21965561-79c5-47f5-ff8d-50d695a15b8e"
      },
      "source": [
        "plt.figure(figsize=(10,5))\n",
        "sns.countplot(yres,palette='magma')"
      ],
      "execution_count": null,
      "outputs": [
        {
          "output_type": "stream",
          "text": [
            "/usr/local/lib/python3.7/dist-packages/seaborn/_decorators.py:43: FutureWarning: Pass the following variable as a keyword arg: x. From version 0.12, the only valid positional argument will be `data`, and passing other arguments without an explicit keyword will result in an error or misinterpretation.\n",
            "  FutureWarning\n"
          ],
          "name": "stderr"
        },
        {
          "output_type": "execute_result",
          "data": {
            "text/plain": [
              "<matplotlib.axes._subplots.AxesSubplot at 0x7fe9f865cfd0>"
            ]
          },
          "metadata": {
            "tags": []
          },
          "execution_count": 52
        },
        {
          "output_type": "display_data",
          "data": {
            "image/png": "[encoded data removed]",
            "text/plain": [
              "<Figure size 720x360 with 1 Axes>"
            ]
          },
          "metadata": {
            "tags": []
          }
        }
      ]
    },
    {
      "cell_type": "markdown",
      "metadata": {
        "id": "PQf_2Dy7ilab"
      },
      "source": [
        "# **Light GBM**"
      ]
    },
    {
      "cell_type": "code",
      "metadata": {
        "id": "MMrBHPq9iqVK"
      },
      "source": [
        "# Train LightGBM Classifier\n",
        "from sklearn.ensemble import RandomForestClassifier"
      ],
      "execution_count": null,
      "outputs": []
    },
    {
      "cell_type": "code",
      "metadata": {
        "id": "41ZPSX-rlZY8"
      },
      "source": [
        "from sklearn import model_selection"
      ],
      "execution_count": null,
      "outputs": []
    },
    {
      "cell_type": "code",
      "metadata": {
        "id": "yJKwIgYXlaNZ"
      },
      "source": [
        "X_train, X_test, y_train, y_test = model_selection.train_test_split(Xres,yres, test_size=0.20, random_state=42, stratify=yres)"
      ],
      "execution_count": null,
      "outputs": []
    },
    {
      "cell_type": "code",
      "metadata": {
        "colab": {
          "base_uri": "https://localhost:8080/"
        },
        "id": "Sp_Sx-rKpUj4",
        "outputId": "5356bbf0-2d40-4578-ad94-faeb6ff40ca3"
      },
      "source": [
        "import time\n",
        "start = time.time()\n",
        "\n",
        "model_1 = RandomForestClassifier(random_state = 42)\n",
        "model_1.fit(X_train, y_train)\n",
        "pred_1 = model_1.predict(X_test)\n",
        "score_1 = model_1.score(X_test,y_test)\n",
        "\n",
        "end = time.time()\n",
        "\n",
        "print(\"Time taken: \",end - start, \"seconds\")\n",
        "print(\"Accuracy of base model: \",score_1)"
      ],
      "execution_count": null,
      "outputs": [
        {
          "output_type": "stream",
          "text": [
            "Time taken:  42.97265100479126 seconds\n",
            "Accuracy of base model:  0.9997786495161033\n"
          ],
          "name": "stdout"
        }
      ]
    },
    {
      "cell_type": "code",
      "metadata": {
        "colab": {
          "base_uri": "https://localhost:8080/"
        },
        "id": "hDg8C6g7pinD",
        "outputId": "11c88474-5315-4bdf-ed75-9bba11bc799c"
      },
      "source": [
        "pd.Series(pred_1).value_counts()"
      ],
      "execution_count": null,
      "outputs": [
        {
          "output_type": "execute_result",
          "data": {
            "text/plain": [
              "5    14000\n",
              "2    14000\n",
              "1    13999\n",
              "4    13001\n",
              "8    11718\n",
              "7     6001\n",
              "3     4000\n",
              "0     3000\n",
              "6     1600\n",
              "dtype: int64"
            ]
          },
          "metadata": {
            "tags": []
          },
          "execution_count": 57
        }
      ]
    },
    {
      "cell_type": "code",
      "metadata": {
        "colab": {
          "base_uri": "https://localhost:8080/"
        },
        "id": "A5qCLP_Lp8GS",
        "outputId": "4e28b86a-eaaf-4f20-dc9b-9e68978da912"
      },
      "source": [
        "from sklearn.metrics import classification_report,confusion_matrix, multilabel_confusion_matrix\n",
        "print(classification_report(y_test,pred_1))"
      ],
      "execution_count": null,
      "outputs": [
        {
          "output_type": "stream",
          "text": [
            "              precision    recall  f1-score   support\n",
            "\n",
            "           0       1.00      1.00      1.00      3000\n",
            "           1       1.00      1.00      1.00     14000\n",
            "           2       1.00      1.00      1.00     14000\n",
            "           3       1.00      1.00      1.00      4000\n",
            "           4       1.00      1.00      1.00     13000\n",
            "           5       1.00      1.00      1.00     14000\n",
            "           6       1.00      1.00      1.00      1600\n",
            "           7       1.00      1.00      1.00      6000\n",
            "           8       1.00      1.00      1.00     11719\n",
            "\n",
            "    accuracy                           1.00     81319\n",
            "   macro avg       1.00      1.00      1.00     81319\n",
            "weighted avg       1.00      1.00      1.00     81319\n",
            "\n"
          ],
          "name": "stdout"
        }
      ]
    },
    {
      "cell_type": "code",
      "metadata": {
        "colab": {
          "base_uri": "https://localhost:8080/"
        },
        "id": "1FnK_n2Rp_Ri",
        "outputId": "1132943f-52bd-4509-e38f-9a96f0fadef3"
      },
      "source": [
        "confusion_matrix(y_test,pred_1)"
      ],
      "execution_count": null,
      "outputs": [
        {
          "output_type": "execute_result",
          "data": {
            "text/plain": [
              "array([[ 3000,     0,     0,     0,     0,     0,     0,     0,     0],\n",
              "       [    0, 13998,     0,     0,     2,     0,     0,     0,     0],\n",
              "       [    0,     0, 14000,     0,     0,     0,     0,     0,     0],\n",
              "       [    0,     0,     0,  4000,     0,     0,     0,     0,     0],\n",
              "       [    0,     1,     0,     0, 12999,     0,     0,     0,     0],\n",
              "       [    0,     0,     0,     0,     0, 14000,     0,     0,     0],\n",
              "       [    0,     0,     0,     0,     0,     0,  1600,     0,     0],\n",
              "       [    0,     0,     0,     0,     0,     0,     0,  5993,     7],\n",
              "       [    0,     0,     0,     0,     0,     0,     0,     8, 11711]])"
            ]
          },
          "metadata": {
            "tags": []
          },
          "execution_count": 59
        }
      ]
    },
    {
      "cell_type": "code",
      "metadata": {
        "colab": {
          "base_uri": "https://localhost:8080/"
        },
        "id": "bi4AEXDPqICz",
        "outputId": "7d619446-5579-4c32-de62-a41f8a112aaa"
      },
      "source": [
        "multilabel_confusion_matrix(y_test,pred_1)"
      ],
      "execution_count": null,
      "outputs": [
        {
          "output_type": "execute_result",
          "data": {
            "text/plain": [
              "array([[[78319,     0],\n",
              "        [    0,  3000]],\n",
              "\n",
              "       [[67318,     1],\n",
              "        [    2, 13998]],\n",
              "\n",
              "       [[67319,     0],\n",
              "        [    0, 14000]],\n",
              "\n",
              "       [[77319,     0],\n",
              "        [    0,  4000]],\n",
              "\n",
              "       [[68317,     2],\n",
              "        [    1, 12999]],\n",
              "\n",
              "       [[67319,     0],\n",
              "        [    0, 14000]],\n",
              "\n",
              "       [[79719,     0],\n",
              "        [    0,  1600]],\n",
              "\n",
              "       [[75311,     8],\n",
              "        [    7,  5993]],\n",
              "\n",
              "       [[69593,     7],\n",
              "        [    8, 11711]]])"
            ]
          },
          "metadata": {
            "tags": []
          },
          "execution_count": 60
        }
      ]
    },
    {
      "cell_type": "code",
      "metadata": {
        "id": "FHOaSasTqL0R"
      },
      "source": [
        "from sklearn.model_selection import KFold,StratifiedKFold,cross_val_score"
      ],
      "execution_count": null,
      "outputs": []
    },
    {
      "cell_type": "code",
      "metadata": {
        "id": "i_ZR_lz5qOpI"
      },
      "source": [
        "#K-Fold CV\n",
        "model_1 = RandomForestClassifier(random_state = 42)\n",
        "model_1.fit(X_train, y_train)\n",
        "score_1 = cross_val_score(model_1, X_train, y_train)"
      ],
      "execution_count": null,
      "outputs": []
    },
    {
      "cell_type": "code",
      "metadata": {
        "colab": {
          "base_uri": "https://localhost:8080/"
        },
        "id": "uU0XqfyiqSqx",
        "outputId": "5c7db04f-f9fd-46b6-aecf-55c42075b82e"
      },
      "source": [
        "print(\"Cross Validation score: \",np.mean(score_1))"
      ],
      "execution_count": null,
      "outputs": [
        {
          "output_type": "stream",
          "text": [
            "Cross Validation score:  0.9997233098630509\n"
          ],
          "name": "stdout"
        }
      ]
    },
    {
      "cell_type": "code",
      "metadata": {
        "colab": {
          "base_uri": "https://localhost:8080/"
        },
        "id": "6qCf9AScqYZQ",
        "outputId": "3674bfa1-b2df-43c8-f176-df77af8e77de"
      },
      "source": [
        "pred_2 = model_1.predict(xtest)\n",
        "score_2 = model_1.score(xtest,ytest)\n",
        "print(\"Accuracy of test model: \",score_2)"
      ],
      "execution_count": null,
      "outputs": [
        {
          "output_type": "stream",
          "text": [
            "Accuracy of test model:  0.8773943801157236\n"
          ],
          "name": "stdout"
        }
      ]
    },
    {
      "cell_type": "markdown",
      "metadata": {
        "id": "V5zWStwOqz_j"
      },
      "source": [
        "# **Hyper parameter tuning**"
      ]
    },
    {
      "cell_type": "code",
      "metadata": {
        "colab": {
          "base_uri": "https://localhost:8080/"
        },
        "id": "QXlJgbWwqg3Z",
        "outputId": "04ebf11b-7c9c-4dc8-d368-2abccd272dfb"
      },
      "source": [
        "model_2 = RandomForestClassifier(random_state = 42, max_depth = 5, n_estimators = 500)\n",
        "model_2.fit(X_train, y_train)\n",
        "pred_3 = model_2.predict(X_test)\n",
        "score_4 = model_2.score(X_test,y_test)\n",
        "print(\"Accuracy of tuned model 1: \",score_4)"
      ],
      "execution_count": null,
      "outputs": [
        {
          "output_type": "stream",
          "text": [
            "Accuracy of tuned model 1:  0.9470234508540439\n"
          ],
          "name": "stdout"
        }
      ]
    },
    {
      "cell_type": "code",
      "metadata": {
        "colab": {
          "base_uri": "https://localhost:8080/"
        },
        "id": "sm2pcj3Wq9Fq",
        "outputId": "0e00fbe2-1977-4fbc-d87c-0e34cca73e3c"
      },
      "source": [
        "pred_4 = model_2.predict(xtest)\n",
        "score_5 = model_2.score(xtest,ytest)\n",
        "print(\"Accuracy of test model 1: \",score_5)"
      ],
      "execution_count": null,
      "outputs": [
        {
          "output_type": "stream",
          "text": [
            "Accuracy of test model 1:  0.9782387939671094\n"
          ],
          "name": "stdout"
        }
      ]
    },
    {
      "cell_type": "code",
      "metadata": {
        "colab": {
          "base_uri": "https://localhost:8080/"
        },
        "id": "yLQ4aoJDq_5U",
        "outputId": "1e5bc050-a03a-4728-c3ed-e34a7b9fbfe9"
      },
      "source": [
        "model_3 = RandomForestClassifier(random_state = 42,\n",
        "                        max_depth = 5, n_estimators = 200)\n",
        "model_3.fit(X_train, y_train)\n",
        "pred_5 = model_3.predict(X_test)\n",
        "score_6 = model_3.score(X_test,y_test)\n",
        "print(\"Accuracy of tuned model 2: \",score_6)"
      ],
      "execution_count": null,
      "outputs": [
        {
          "output_type": "stream",
          "text": [
            "Accuracy of tuned model 2:  0.9468266948683579\n"
          ],
          "name": "stdout"
        }
      ]
    },
    {
      "cell_type": "code",
      "metadata": {
        "colab": {
          "base_uri": "https://localhost:8080/"
        },
        "id": "9fB0daBFrE_Z",
        "outputId": "381e9688-fc0a-4c1d-a670-bf07a45138c9"
      },
      "source": [
        "pred_6 = model_3.predict(xtest)\n",
        "score_7 = model_3.score(xtest,ytest)\n",
        "print(\"Accuracy of test model 2: \",score_7)"
      ],
      "execution_count": null,
      "outputs": [
        {
          "output_type": "stream",
          "text": [
            "Accuracy of test model 2:  0.9721404766610554\n"
          ],
          "name": "stdout"
        }
      ]
    },
    {
      "cell_type": "code",
      "metadata": {
        "colab": {
          "base_uri": "https://localhost:8080/"
        },
        "id": "5iq91k4DrHH5",
        "outputId": "7896d85d-5223-4c61-c319-c93a16cc0a82"
      },
      "source": [
        "model_4 = RandomForestClassifier(random_state = 42,\n",
        "                        max_depth = 4, n_estimators = 300)\n",
        "model_4.fit(X_train, y_train)\n",
        "pred_7 = model_4.predict(X_test)\n",
        "score_8 = model_4.score(X_test,y_test)\n",
        "print(\"Accuracy of tuned model 3: \",score_8)"
      ],
      "execution_count": null,
      "outputs": [
        {
          "output_type": "stream",
          "text": [
            "Accuracy of tuned model 3:  0.9060613140840394\n"
          ],
          "name": "stdout"
        }
      ]
    },
    {
      "cell_type": "code",
      "metadata": {
        "colab": {
          "base_uri": "https://localhost:8080/"
        },
        "id": "p4xlXP45rKGb",
        "outputId": "8156e7b9-19a9-4ca0-89f0-ad98d9bf6397"
      },
      "source": [
        "pred_8 = model_4.predict(xtest)\n",
        "score_9 = model_4.score(xtest,ytest)\n",
        "print(\"Accuracy of test model 3: \",score_9)"
      ],
      "execution_count": null,
      "outputs": [
        {
          "output_type": "stream",
          "text": [
            "Accuracy of test model 3:  0.9734830878694737\n"
          ],
          "name": "stdout"
        }
      ]
    },
    {
      "cell_type": "code",
      "metadata": {
        "colab": {
          "base_uri": "https://localhost:8080/"
        },
        "id": "JwYjmMMyrNBp",
        "outputId": "6ec7d9a6-1d50-47b8-b796-11b1272a8ceb"
      },
      "source": [
        "model_5 = RandomForestClassifier(random_state = 42,\n",
        "                        max_depth = 5, n_estimators = 300)\n",
        "model_5.fit(X_train, y_train)\n",
        "pred_9 = model_5.predict(X_test)\n",
        "score_10 = model_5.score(X_test,y_test)\n",
        "print(\"Accuracy of tuned model 4: \",score_10)"
      ],
      "execution_count": null,
      "outputs": [
        {
          "output_type": "stream",
          "text": [
            "Accuracy of tuned model 4:  0.9463839939005645\n"
          ],
          "name": "stdout"
        }
      ]
    },
    {
      "cell_type": "code",
      "metadata": {
        "colab": {
          "base_uri": "https://localhost:8080/"
        },
        "id": "vCwyHuXSrRM1",
        "outputId": "b152fbb3-6c49-44fb-f589-42a83da5c2d1"
      },
      "source": [
        "pred_10 = model_5.predict(xtest)\n",
        "score_11 = model_5.score(xtest,ytest)\n",
        "print(\"Accuracy of test model 4: \",score_11)"
      ],
      "execution_count": null,
      "outputs": [
        {
          "output_type": "stream",
          "text": [
            "Accuracy of test model 4:  0.9798581057595976\n"
          ],
          "name": "stdout"
        }
      ]
    },
    {
      "cell_type": "markdown",
      "metadata": {
        "id": "oxipXe_PrTxL"
      },
      "source": [
        "# **Results**"
      ]
    },
    {
      "cell_type": "code",
      "metadata": {
        "colab": {
          "base_uri": "https://localhost:8080/"
        },
        "id": "rqhKV-i_rWy4",
        "outputId": "3be4631d-2bef-4172-9458-112a9a259ccf"
      },
      "source": [
        "print(\"Results of various Parameter tuned models \")\n",
        "print(\"\")\n",
        "print(\"Train model 0: \",round(np.mean(score_1)*100,2),\"%\")\n",
        "print(\"Test model 0: \",round(score_2*100,2),\"%\")\n",
        "print(\"\")\n",
        "print(\"Train model 1: \",round(score_4*100,2),\"%\")\n",
        "print(\"Test model 1: \",round(score_5*100,2),\"%\")\n",
        "print(\"\")\n",
        "print(\"Train model 2: \",round(score_6*100,2),\"%\")\n",
        "print(\"Test model 2: \",round(score_7*100,2),\"%\")\n",
        "print(\"\")\n",
        "print(\"Train model 3: \",round(score_8*100,2),\"%\")\n",
        "print(\"Test model 3: \",round(score_9*100,2),\"%\")\n",
        "print(\"\")\n",
        "print(\"Train model 4: \",round(score_10*100,2),\"%\")\n",
        "print(\"Test model 4: \",round(score_11*100,2),\"%\")"
      ],
      "execution_count": null,
      "outputs": [
        {
          "output_type": "stream",
          "text": [
            "Results of various Parameter tuned models \n",
            "\n",
            "Train model 0:  99.97 %\n",
            "Test model 0:  87.74 %\n",
            "\n",
            "Train model 1:  94.7 %\n",
            "Test model 1:  97.82 %\n",
            "\n",
            "Train model 2:  94.68 %\n",
            "Test model 2:  97.21 %\n",
            "\n",
            "Train model 3:  90.61 %\n",
            "Test model 3:  97.35 %\n",
            "\n",
            "Train model 4:  94.64 %\n",
            "Test model 4:  97.99 %\n"
          ],
          "name": "stdout"
        }
      ]
    },
    {
      "cell_type": "code",
      "metadata": {
        "colab": {
          "base_uri": "https://localhost:8080/",
          "height": 404
        },
        "id": "xK7y63QbrZPF",
        "outputId": "160c6b70-ca71-4b31-f72c-c4d605c5adcd"
      },
      "source": [
        "plt.figure(figsize=(7,6))\n",
        "results = [score_2*100,score_5*100,score_7*100,score_9*100,score_11*100]\n",
        "model_names = ['Test model 0','Test model 1','Test model 2','Test model 3','Test model 4']\n",
        "sns.barplot(x = model_names, y=results, palette='viridis')\n",
        "plt.xlabel('Models')\n",
        "plt.ylabel('Accuracy (in %)')\n",
        "plt.ylim([86, 100])\n",
        "plt.title('Comparison between the test models')\n",
        "plt.show()"
      ],
      "execution_count": null,
      "outputs": [
        {
          "output_type": "display_data",
          "data": {
            "image/png": "[encoded data removed]",
            "text/plain": [
              "<Figure size 504x432 with 1 Axes>"
            ]
          },
          "metadata": {
            "tags": []
          }
        }
      ]
    },
    {
      "cell_type": "markdown",
      "metadata": {
        "id": "S1aIdKxbhh3r"
      },
      "source": [
        "Test Model 4 has the best accuracy among all the other models.\n",
        "\n",
        "**Best Parameters are:**\n",
        "\n",
        "max_depth = 4,\n",
        "n_estimators = 300"
      ]
    },
    {
      "cell_type": "markdown",
      "metadata": {
        "id": "Ow9Ao7v3rfC0"
      },
      "source": [
        "# **Base Model**"
      ]
    },
    {
      "cell_type": "code",
      "metadata": {
        "colab": {
          "base_uri": "https://localhost:8080/"
        },
        "id": "qTCtOcNRrhnh",
        "outputId": "5b0b7c76-9f61-4c0d-c9e4-ad1304ec6e3b"
      },
      "source": [
        "multilabel_confusion_matrix(y_test,pred_1)"
      ],
      "execution_count": null,
      "outputs": [
        {
          "output_type": "execute_result",
          "data": {
            "text/plain": [
              "array([[[78319,     0],\n",
              "        [    0,  3000]],\n",
              "\n",
              "       [[67318,     1],\n",
              "        [    2, 13998]],\n",
              "\n",
              "       [[67319,     0],\n",
              "        [    0, 14000]],\n",
              "\n",
              "       [[77319,     0],\n",
              "        [    0,  4000]],\n",
              "\n",
              "       [[68317,     2],\n",
              "        [    1, 12999]],\n",
              "\n",
              "       [[67319,     0],\n",
              "        [    0, 14000]],\n",
              "\n",
              "       [[79719,     0],\n",
              "        [    0,  1600]],\n",
              "\n",
              "       [[75311,     8],\n",
              "        [    7,  5993]],\n",
              "\n",
              "       [[69593,     7],\n",
              "        [    8, 11711]]])"
            ]
          },
          "metadata": {
            "tags": []
          },
          "execution_count": 75
        }
      ]
    },
    {
      "cell_type": "code",
      "metadata": {
        "colab": {
          "base_uri": "https://localhost:8080/",
          "height": 325
        },
        "id": "E6oXF4Efrk5S",
        "outputId": "e2f0b322-7c3b-40e7-9417-f3fca05c28e7"
      },
      "source": [
        "cf = confusion_matrix(y_test,pred_1)\n",
        "label = ['DDoS_HTTP','DDoS_TCP','DDoS_UDP','DoS_HTTP','DoS_TCP','DoS_UDP',\n",
        "          'Normal_Normal','OS_Fingerprint','Service_Scan']\n",
        "cfm = pd.DataFrame(cf,index=label,columns=label)\n",
        "cfm"
      ],
      "execution_count": null,
      "outputs": [
        {
          "output_type": "execute_result",
          "data": {
            "text/html": [
              "<div>\n",
              "<style scoped>\n",
              "    .dataframe tbody tr th:only-of-type {\n",
              "        vertical-align: middle;\n",
              "    }\n",
              "\n",
              "    .dataframe tbody tr th {\n",
              "        vertical-align: top;\n",
              "    }\n",
              "\n",
              "    .dataframe thead th {\n",
              "        text-align: right;\n",
              "    }\n",
              "</style>\n",
              "<table border=\"1\" class=\"dataframe\">\n",
              "  <thead>\n",
              "    <tr style=\"text-align: right;\">\n",
              "      <th></th>\n",
              "      <th>DDoS_HTTP</th>\n",
              "      <th>DDoS_TCP</th>\n",
              "      <th>DDoS_UDP</th>\n",
              "      <th>DoS_HTTP</th>\n",
              "      <th>DoS_TCP</th>\n",
              "      <th>DoS_UDP</th>\n",
              "      <th>Normal_Normal</th>\n",
              "      <th>OS_Fingerprint</th>\n",
              "      <th>Service_Scan</th>\n",
              "    </tr>\n",
              "  </thead>\n",
              "  <tbody>\n",
              "    <tr>\n",
              "      <th>DDoS_HTTP</th>\n",
              "      <td>3000</td>\n",
              "      <td>0</td>\n",
              "      <td>0</td>\n",
              "      <td>0</td>\n",
              "      <td>0</td>\n",
              "      <td>0</td>\n",
              "      <td>0</td>\n",
              "      <td>0</td>\n",
              "      <td>0</td>\n",
              "    </tr>\n",
              "    <tr>\n",
              "      <th>DDoS_TCP</th>\n",
              "      <td>0</td>\n",
              "      <td>13998</td>\n",
              "      <td>0</td>\n",
              "      <td>0</td>\n",
              "      <td>2</td>\n",
              "      <td>0</td>\n",
              "      <td>0</td>\n",
              "      <td>0</td>\n",
              "      <td>0</td>\n",
              "    </tr>\n",
              "    <tr>\n",
              "      <th>DDoS_UDP</th>\n",
              "      <td>0</td>\n",
              "      <td>0</td>\n",
              "      <td>14000</td>\n",
              "      <td>0</td>\n",
              "      <td>0</td>\n",
              "      <td>0</td>\n",
              "      <td>0</td>\n",
              "      <td>0</td>\n",
              "      <td>0</td>\n",
              "    </tr>\n",
              "    <tr>\n",
              "      <th>DoS_HTTP</th>\n",
              "      <td>0</td>\n",
              "      <td>0</td>\n",
              "      <td>0</td>\n",
              "      <td>4000</td>\n",
              "      <td>0</td>\n",
              "      <td>0</td>\n",
              "      <td>0</td>\n",
              "      <td>0</td>\n",
              "      <td>0</td>\n",
              "    </tr>\n",
              "    <tr>\n",
              "      <th>DoS_TCP</th>\n",
              "      <td>0</td>\n",
              "      <td>1</td>\n",
              "      <td>0</td>\n",
              "      <td>0</td>\n",
              "      <td>12999</td>\n",
              "      <td>0</td>\n",
              "      <td>0</td>\n",
              "      <td>0</td>\n",
              "      <td>0</td>\n",
              "    </tr>\n",
              "    <tr>\n",
              "      <th>DoS_UDP</th>\n",
              "      <td>0</td>\n",
              "      <td>0</td>\n",
              "      <td>0</td>\n",
              "      <td>0</td>\n",
              "      <td>0</td>\n",
              "      <td>14000</td>\n",
              "      <td>0</td>\n",
              "      <td>0</td>\n",
              "      <td>0</td>\n",
              "    </tr>\n",
              "    <tr>\n",
              "      <th>Normal_Normal</th>\n",
              "      <td>0</td>\n",
              "      <td>0</td>\n",
              "      <td>0</td>\n",
              "      <td>0</td>\n",
              "      <td>0</td>\n",
              "      <td>0</td>\n",
              "      <td>1600</td>\n",
              "      <td>0</td>\n",
              "      <td>0</td>\n",
              "    </tr>\n",
              "    <tr>\n",
              "      <th>OS_Fingerprint</th>\n",
              "      <td>0</td>\n",
              "      <td>0</td>\n",
              "      <td>0</td>\n",
              "      <td>0</td>\n",
              "      <td>0</td>\n",
              "      <td>0</td>\n",
              "      <td>0</td>\n",
              "      <td>5993</td>\n",
              "      <td>7</td>\n",
              "    </tr>\n",
              "    <tr>\n",
              "      <th>Service_Scan</th>\n",
              "      <td>0</td>\n",
              "      <td>0</td>\n",
              "      <td>0</td>\n",
              "      <td>0</td>\n",
              "      <td>0</td>\n",
              "      <td>0</td>\n",
              "      <td>0</td>\n",
              "      <td>8</td>\n",
              "      <td>11711</td>\n",
              "    </tr>\n",
              "  </tbody>\n",
              "</table>\n",
              "</div>"
            ],
            "text/plain": [
              "                DDoS_HTTP  DDoS_TCP  ...  OS_Fingerprint  Service_Scan\n",
              "DDoS_HTTP            3000         0  ...               0             0\n",
              "DDoS_TCP                0     13998  ...               0             0\n",
              "DDoS_UDP                0         0  ...               0             0\n",
              "DoS_HTTP                0         0  ...               0             0\n",
              "DoS_TCP                 0         1  ...               0             0\n",
              "DoS_UDP                 0         0  ...               0             0\n",
              "Normal_Normal           0         0  ...               0             0\n",
              "OS_Fingerprint          0         0  ...            5993             7\n",
              "Service_Scan            0         0  ...               8         11711\n",
              "\n",
              "[9 rows x 9 columns]"
            ]
          },
          "metadata": {
            "tags": []
          },
          "execution_count": 76
        }
      ]
    },
    {
      "cell_type": "code",
      "metadata": {
        "colab": {
          "base_uri": "https://localhost:8080/"
        },
        "id": "F-lHMK00sOJt",
        "outputId": "e1289a17-cee6-4815-9f5d-d7b47d1eecbf"
      },
      "source": [
        "print(classification_report(y_test,pred_1))"
      ],
      "execution_count": null,
      "outputs": [
        {
          "output_type": "stream",
          "text": [
            "              precision    recall  f1-score   support\n",
            "\n",
            "           0       1.00      1.00      1.00      3000\n",
            "           1       1.00      1.00      1.00     14000\n",
            "           2       1.00      1.00      1.00     14000\n",
            "           3       1.00      1.00      1.00      4000\n",
            "           4       1.00      1.00      1.00     13000\n",
            "           5       1.00      1.00      1.00     14000\n",
            "           6       1.00      1.00      1.00      1600\n",
            "           7       1.00      1.00      1.00      6000\n",
            "           8       1.00      1.00      1.00     11719\n",
            "\n",
            "    accuracy                           1.00     81319\n",
            "   macro avg       1.00      1.00      1.00     81319\n",
            "weighted avg       1.00      1.00      1.00     81319\n",
            "\n"
          ],
          "name": "stdout"
        }
      ]
    },
    {
      "cell_type": "markdown",
      "metadata": {
        "id": "9w0cfCsssSGN"
      },
      "source": [
        "# **Tuned Model**"
      ]
    },
    {
      "cell_type": "code",
      "metadata": {
        "colab": {
          "base_uri": "https://localhost:8080/"
        },
        "id": "FBI_S8XmsQMt",
        "outputId": "557cd974-8da4-4681-94eb-696cf3d96e38"
      },
      "source": [
        "ytest.value_counts()"
      ],
      "execution_count": null,
      "outputs": [
        {
          "output_type": "execute_result",
          "data": {
            "text/plain": [
              "5    206620\n",
              "1    195149\n",
              "2    189948\n",
              "4    123183\n",
              "8     14530\n",
              "7      3615\n",
              "3       300\n",
              "0       202\n",
              "6        98\n",
              "Name: target_enc, dtype: int64"
            ]
          },
          "metadata": {
            "tags": []
          },
          "execution_count": 78
        }
      ]
    },
    {
      "cell_type": "code",
      "metadata": {
        "colab": {
          "base_uri": "https://localhost:8080/"
        },
        "id": "v_3LJ20ZsXww",
        "outputId": "1e120398-82b3-488c-c14a-0b1ff00f9f3e"
      },
      "source": [
        "#Test Model: 4\n",
        "multilabel_confusion_matrix(ytest,pred_10)"
      ],
      "execution_count": null,
      "outputs": [
        {
          "output_type": "execute_result",
          "data": {
            "text/plain": [
              "array([[[733397,     46],\n",
              "        [   117,     85]],\n",
              "\n",
              "       [[537961,    535],\n",
              "        [  4092, 191057]],\n",
              "\n",
              "       [[543697,      0],\n",
              "        [  7954, 181994]],\n",
              "\n",
              "       [[733338,      7],\n",
              "        [   120,    180]],\n",
              "\n",
              "       [[607019,   3443],\n",
              "        [   562, 122621]],\n",
              "\n",
              "       [[519074,   7951],\n",
              "        [     4, 206616]],\n",
              "\n",
              "       [[733544,      3],\n",
              "        [     1,     97]],\n",
              "\n",
              "       [[730030,      0],\n",
              "        [  1808,   1807]],\n",
              "\n",
              "       [[716323,   2792],\n",
              "        [   119,  14411]]])"
            ]
          },
          "metadata": {
            "tags": []
          },
          "execution_count": 84
        }
      ]
    },
    {
      "cell_type": "code",
      "metadata": {
        "colab": {
          "base_uri": "https://localhost:8080/",
          "height": 325
        },
        "id": "Rmp8W41SscRh",
        "outputId": "91c2c428-5664-498f-bf9f-d5e77d10ff50"
      },
      "source": [
        "conf = confusion_matrix(ytest,pred_10)\n",
        "label = ['DDoS_HTTP','DDoS_TCP','DDoS_UDP','DoS_HTTP','DoS_TCP','DoS_UDP',\n",
        "          'Normal_Normal','OS_Fingerprint','Service_Scan']\n",
        "cm = pd.DataFrame(conf,index=label,columns=label)\n",
        "cm"
      ],
      "execution_count": null,
      "outputs": [
        {
          "output_type": "execute_result",
          "data": {
            "text/html": [
              "<div>\n",
              "<style scoped>\n",
              "    .dataframe tbody tr th:only-of-type {\n",
              "        vertical-align: middle;\n",
              "    }\n",
              "\n",
              "    .dataframe tbody tr th {\n",
              "        vertical-align: top;\n",
              "    }\n",
              "\n",
              "    .dataframe thead th {\n",
              "        text-align: right;\n",
              "    }\n",
              "</style>\n",
              "<table border=\"1\" class=\"dataframe\">\n",
              "  <thead>\n",
              "    <tr style=\"text-align: right;\">\n",
              "      <th></th>\n",
              "      <th>DDoS_HTTP</th>\n",
              "      <th>DDoS_TCP</th>\n",
              "      <th>DDoS_UDP</th>\n",
              "      <th>DoS_HTTP</th>\n",
              "      <th>DoS_TCP</th>\n",
              "      <th>DoS_UDP</th>\n",
              "      <th>Normal_Normal</th>\n",
              "      <th>OS_Fingerprint</th>\n",
              "      <th>Service_Scan</th>\n",
              "    </tr>\n",
              "  </thead>\n",
              "  <tbody>\n",
              "    <tr>\n",
              "      <th>DDoS_HTTP</th>\n",
              "      <td>85</td>\n",
              "      <td>111</td>\n",
              "      <td>0</td>\n",
              "      <td>0</td>\n",
              "      <td>0</td>\n",
              "      <td>0</td>\n",
              "      <td>0</td>\n",
              "      <td>0</td>\n",
              "      <td>6</td>\n",
              "    </tr>\n",
              "    <tr>\n",
              "      <th>DDoS_TCP</th>\n",
              "      <td>19</td>\n",
              "      <td>191057</td>\n",
              "      <td>0</td>\n",
              "      <td>1</td>\n",
              "      <td>3313</td>\n",
              "      <td>0</td>\n",
              "      <td>0</td>\n",
              "      <td>0</td>\n",
              "      <td>759</td>\n",
              "    </tr>\n",
              "    <tr>\n",
              "      <th>DDoS_UDP</th>\n",
              "      <td>0</td>\n",
              "      <td>4</td>\n",
              "      <td>181994</td>\n",
              "      <td>0</td>\n",
              "      <td>0</td>\n",
              "      <td>7950</td>\n",
              "      <td>0</td>\n",
              "      <td>0</td>\n",
              "      <td>0</td>\n",
              "    </tr>\n",
              "    <tr>\n",
              "      <th>DoS_HTTP</th>\n",
              "      <td>26</td>\n",
              "      <td>59</td>\n",
              "      <td>0</td>\n",
              "      <td>180</td>\n",
              "      <td>4</td>\n",
              "      <td>0</td>\n",
              "      <td>0</td>\n",
              "      <td>0</td>\n",
              "      <td>31</td>\n",
              "    </tr>\n",
              "    <tr>\n",
              "      <th>DoS_TCP</th>\n",
              "      <td>0</td>\n",
              "      <td>276</td>\n",
              "      <td>0</td>\n",
              "      <td>5</td>\n",
              "      <td>122621</td>\n",
              "      <td>0</td>\n",
              "      <td>0</td>\n",
              "      <td>0</td>\n",
              "      <td>281</td>\n",
              "    </tr>\n",
              "    <tr>\n",
              "      <th>DoS_UDP</th>\n",
              "      <td>0</td>\n",
              "      <td>1</td>\n",
              "      <td>0</td>\n",
              "      <td>0</td>\n",
              "      <td>0</td>\n",
              "      <td>206616</td>\n",
              "      <td>3</td>\n",
              "      <td>0</td>\n",
              "      <td>0</td>\n",
              "    </tr>\n",
              "    <tr>\n",
              "      <th>Normal_Normal</th>\n",
              "      <td>0</td>\n",
              "      <td>0</td>\n",
              "      <td>0</td>\n",
              "      <td>0</td>\n",
              "      <td>0</td>\n",
              "      <td>0</td>\n",
              "      <td>97</td>\n",
              "      <td>0</td>\n",
              "      <td>1</td>\n",
              "    </tr>\n",
              "    <tr>\n",
              "      <th>OS_Fingerprint</th>\n",
              "      <td>0</td>\n",
              "      <td>18</td>\n",
              "      <td>0</td>\n",
              "      <td>1</td>\n",
              "      <td>74</td>\n",
              "      <td>1</td>\n",
              "      <td>0</td>\n",
              "      <td>1807</td>\n",
              "      <td>1714</td>\n",
              "    </tr>\n",
              "    <tr>\n",
              "      <th>Service_Scan</th>\n",
              "      <td>1</td>\n",
              "      <td>66</td>\n",
              "      <td>0</td>\n",
              "      <td>0</td>\n",
              "      <td>52</td>\n",
              "      <td>0</td>\n",
              "      <td>0</td>\n",
              "      <td>0</td>\n",
              "      <td>14411</td>\n",
              "    </tr>\n",
              "  </tbody>\n",
              "</table>\n",
              "</div>"
            ],
            "text/plain": [
              "                DDoS_HTTP  DDoS_TCP  ...  OS_Fingerprint  Service_Scan\n",
              "DDoS_HTTP              85       111  ...               0             6\n",
              "DDoS_TCP               19    191057  ...               0           759\n",
              "DDoS_UDP                0         4  ...               0             0\n",
              "DoS_HTTP               26        59  ...               0            31\n",
              "DoS_TCP                 0       276  ...               0           281\n",
              "DoS_UDP                 0         1  ...               0             0\n",
              "Normal_Normal           0         0  ...               0             1\n",
              "OS_Fingerprint          0        18  ...            1807          1714\n",
              "Service_Scan            1        66  ...               0         14411\n",
              "\n",
              "[9 rows x 9 columns]"
            ]
          },
          "metadata": {
            "tags": []
          },
          "execution_count": 85
        }
      ]
    },
    {
      "cell_type": "code",
      "metadata": {
        "colab": {
          "base_uri": "https://localhost:8080/"
        },
        "id": "ozAYwLA3sesN",
        "outputId": "a38f0041-80a2-4b04-d5c4-c76b1944f882"
      },
      "source": [
        "print(classification_report(ytest,pred_10))"
      ],
      "execution_count": null,
      "outputs": [
        {
          "output_type": "stream",
          "text": [
            "              precision    recall  f1-score   support\n",
            "\n",
            "           0       0.65      0.42      0.51       202\n",
            "           1       1.00      0.98      0.99    195149\n",
            "           2       1.00      0.96      0.98    189948\n",
            "           3       0.96      0.60      0.74       300\n",
            "           4       0.97      1.00      0.98    123183\n",
            "           5       0.96      1.00      0.98    206620\n",
            "           6       0.97      0.99      0.98        98\n",
            "           7       1.00      0.50      0.67      3615\n",
            "           8       0.84      0.99      0.91     14530\n",
            "\n",
            "    accuracy                           0.98    733645\n",
            "   macro avg       0.93      0.83      0.86    733645\n",
            "weighted avg       0.98      0.98      0.98    733645\n",
            "\n"
          ],
          "name": "stdout"
        }
      ]
    },
    {
      "cell_type": "code",
      "metadata": {
        "colab": {
          "base_uri": "https://localhost:8080/",
          "height": 404
        },
        "id": "FP6u3RzQsgxd",
        "outputId": "12d65c2f-10c1-46d5-fa65-dc37595af000"
      },
      "source": [
        "plt.figure(figsize=(7,6))\n",
        "results = [96.99, 99.65, 99.98, 97.98]\n",
        "model_names = ['Logistic Regression', 'SVM', 'XGBoost', 'Random Forest']\n",
        "sns.barplot(x = model_names, y=results, palette='viridis')\n",
        "plt.xlabel('Models')\n",
        "plt.ylabel('Accuracy (in %)')\n",
        "plt.ylim([95, 100])\n",
        "plt.title('Comparison between the models used')\n",
        "plt.show()"
      ],
      "execution_count": null,
      "outputs": [
        {
          "output_type": "display_data",
          "data": {
            "image/png": "[encoded data removed]",
            "text/plain": [
              "<Figure size 504x432 with 1 Axes>"
            ]
          },
          "metadata": {
            "tags": []
          }
        }
      ]
    },
    {
      "cell_type": "markdown",
      "metadata": {
        "id": "hyxF1HNHlYpU"
      },
      "source": [
        "## Therefore, we can see that XGBoost gives the best accuracy of 99.98%."
      ]
    }
  ]
}
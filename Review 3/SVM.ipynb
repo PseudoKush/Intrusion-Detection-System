{
 "cells": [
  {
   "cell_type": "code",
   "execution_count": 1,
   "metadata": {},
   "outputs": [],
   "source": [
    "import pandas as pd\n",
    "import numpy as np\n",
    "import matplotlib.pyplot as plt\n",
    "%matplotlib inline\n",
    "import seaborn as sns\n",
    "sns.set_style('darkgrid')"
   ]
  },
  {
   "cell_type": "code",
   "execution_count": 2,
   "metadata": {},
   "outputs": [],
   "source": [
    "train = pd.read_csv(\"10-best features/10-best Training-Testing split/UNSW_2018_IoT_Botnet_Final_10_best_Training.csv\")\n",
    "test = pd.read_csv(\"10-best features/10-best Training-Testing split/UNSW_2018_IoT_Botnet_Final_10_best_Testing.csv\")"
   ]
  },
  {
   "cell_type": "code",
   "execution_count": 3,
   "metadata": {},
   "outputs": [
    {
     "data": {
      "text/html": [
       "<div>\n",
       "<style scoped>\n",
       "    .dataframe tbody tr th:only-of-type {\n",
       "        vertical-align: middle;\n",
       "    }\n",
       "\n",
       "    .dataframe tbody tr th {\n",
       "        vertical-align: top;\n",
       "    }\n",
       "\n",
       "    .dataframe thead th {\n",
       "        text-align: right;\n",
       "    }\n",
       "</style>\n",
       "<table border=\"1\" class=\"dataframe\">\n",
       "  <thead>\n",
       "    <tr style=\"text-align: right;\">\n",
       "      <th></th>\n",
       "      <th>pkSeqID</th>\n",
       "      <th>proto</th>\n",
       "      <th>saddr</th>\n",
       "      <th>sport</th>\n",
       "      <th>daddr</th>\n",
       "      <th>dport</th>\n",
       "      <th>seq</th>\n",
       "      <th>stddev</th>\n",
       "      <th>N_IN_Conn_P_SrcIP</th>\n",
       "      <th>min</th>\n",
       "      <th>state_number</th>\n",
       "      <th>mean</th>\n",
       "      <th>N_IN_Conn_P_DstIP</th>\n",
       "      <th>drate</th>\n",
       "      <th>srate</th>\n",
       "      <th>max</th>\n",
       "      <th>attack</th>\n",
       "      <th>category</th>\n",
       "      <th>subcategory</th>\n",
       "    </tr>\n",
       "  </thead>\n",
       "  <tbody>\n",
       "    <tr>\n",
       "      <th>0</th>\n",
       "      <td>3142762</td>\n",
       "      <td>udp</td>\n",
       "      <td>192.168.100.150</td>\n",
       "      <td>6551</td>\n",
       "      <td>192.168.100.3</td>\n",
       "      <td>80</td>\n",
       "      <td>251984</td>\n",
       "      <td>1.900363</td>\n",
       "      <td>100</td>\n",
       "      <td>0.000000</td>\n",
       "      <td>4</td>\n",
       "      <td>2.687519</td>\n",
       "      <td>100</td>\n",
       "      <td>0.0</td>\n",
       "      <td>0.494549</td>\n",
       "      <td>4.031619</td>\n",
       "      <td>1</td>\n",
       "      <td>DDoS</td>\n",
       "      <td>UDP</td>\n",
       "    </tr>\n",
       "    <tr>\n",
       "      <th>1</th>\n",
       "      <td>2432264</td>\n",
       "      <td>tcp</td>\n",
       "      <td>192.168.100.150</td>\n",
       "      <td>5532</td>\n",
       "      <td>192.168.100.3</td>\n",
       "      <td>80</td>\n",
       "      <td>256724</td>\n",
       "      <td>0.078003</td>\n",
       "      <td>38</td>\n",
       "      <td>3.856930</td>\n",
       "      <td>3</td>\n",
       "      <td>3.934927</td>\n",
       "      <td>100</td>\n",
       "      <td>0.0</td>\n",
       "      <td>0.256493</td>\n",
       "      <td>4.012924</td>\n",
       "      <td>1</td>\n",
       "      <td>DDoS</td>\n",
       "      <td>TCP</td>\n",
       "    </tr>\n",
       "    <tr>\n",
       "      <th>2</th>\n",
       "      <td>1976315</td>\n",
       "      <td>tcp</td>\n",
       "      <td>192.168.100.147</td>\n",
       "      <td>27165</td>\n",
       "      <td>192.168.100.3</td>\n",
       "      <td>80</td>\n",
       "      <td>62921</td>\n",
       "      <td>0.268666</td>\n",
       "      <td>100</td>\n",
       "      <td>2.974100</td>\n",
       "      <td>3</td>\n",
       "      <td>3.341429</td>\n",
       "      <td>100</td>\n",
       "      <td>0.0</td>\n",
       "      <td>0.294880</td>\n",
       "      <td>3.609205</td>\n",
       "      <td>1</td>\n",
       "      <td>DDoS</td>\n",
       "      <td>TCP</td>\n",
       "    </tr>\n",
       "    <tr>\n",
       "      <th>3</th>\n",
       "      <td>1240757</td>\n",
       "      <td>udp</td>\n",
       "      <td>192.168.100.150</td>\n",
       "      <td>48719</td>\n",
       "      <td>192.168.100.3</td>\n",
       "      <td>80</td>\n",
       "      <td>99168</td>\n",
       "      <td>1.823185</td>\n",
       "      <td>63</td>\n",
       "      <td>0.000000</td>\n",
       "      <td>4</td>\n",
       "      <td>3.222832</td>\n",
       "      <td>63</td>\n",
       "      <td>0.0</td>\n",
       "      <td>0.461435</td>\n",
       "      <td>4.942302</td>\n",
       "      <td>1</td>\n",
       "      <td>DoS</td>\n",
       "      <td>UDP</td>\n",
       "    </tr>\n",
       "    <tr>\n",
       "      <th>4</th>\n",
       "      <td>3257991</td>\n",
       "      <td>udp</td>\n",
       "      <td>192.168.100.147</td>\n",
       "      <td>22461</td>\n",
       "      <td>192.168.100.3</td>\n",
       "      <td>80</td>\n",
       "      <td>105063</td>\n",
       "      <td>0.822418</td>\n",
       "      <td>100</td>\n",
       "      <td>2.979995</td>\n",
       "      <td>4</td>\n",
       "      <td>3.983222</td>\n",
       "      <td>100</td>\n",
       "      <td>0.0</td>\n",
       "      <td>1.002999</td>\n",
       "      <td>4.994452</td>\n",
       "      <td>1</td>\n",
       "      <td>DDoS</td>\n",
       "      <td>UDP</td>\n",
       "    </tr>\n",
       "  </tbody>\n",
       "</table>\n",
       "</div>"
      ],
      "text/plain": [
       "   pkSeqID proto            saddr  sport          daddr dport     seq  \\\n",
       "0  3142762   udp  192.168.100.150   6551  192.168.100.3    80  251984   \n",
       "1  2432264   tcp  192.168.100.150   5532  192.168.100.3    80  256724   \n",
       "2  1976315   tcp  192.168.100.147  27165  192.168.100.3    80   62921   \n",
       "3  1240757   udp  192.168.100.150  48719  192.168.100.3    80   99168   \n",
       "4  3257991   udp  192.168.100.147  22461  192.168.100.3    80  105063   \n",
       "\n",
       "     stddev  N_IN_Conn_P_SrcIP       min  state_number      mean  \\\n",
       "0  1.900363                100  0.000000             4  2.687519   \n",
       "1  0.078003                 38  3.856930             3  3.934927   \n",
       "2  0.268666                100  2.974100             3  3.341429   \n",
       "3  1.823185                 63  0.000000             4  3.222832   \n",
       "4  0.822418                100  2.979995             4  3.983222   \n",
       "\n",
       "   N_IN_Conn_P_DstIP  drate     srate       max  attack category subcategory  \n",
       "0                100    0.0  0.494549  4.031619       1     DDoS         UDP  \n",
       "1                100    0.0  0.256493  4.012924       1     DDoS         TCP  \n",
       "2                100    0.0  0.294880  3.609205       1     DDoS         TCP  \n",
       "3                 63    0.0  0.461435  4.942302       1      DoS         UDP  \n",
       "4                100    0.0  1.002999  4.994452       1     DDoS         UDP  "
      ]
     },
     "execution_count": 3,
     "metadata": {},
     "output_type": "execute_result"
    }
   ],
   "source": [
    "train.head()"
   ]
  },
  {
   "cell_type": "code",
   "execution_count": 4,
   "metadata": {},
   "outputs": [
    {
     "name": "stdout",
     "output_type": "stream",
     "text": [
      "<class 'pandas.core.frame.DataFrame'>\n",
      "RangeIndex: 2934817 entries, 0 to 2934816\n",
      "Data columns (total 19 columns):\n",
      " #   Column             Dtype  \n",
      "---  ------             -----  \n",
      " 0   pkSeqID            int64  \n",
      " 1   proto              object \n",
      " 2   saddr              object \n",
      " 3   sport              object \n",
      " 4   daddr              object \n",
      " 5   dport              object \n",
      " 6   seq                int64  \n",
      " 7   stddev             float64\n",
      " 8   N_IN_Conn_P_SrcIP  int64  \n",
      " 9   min                float64\n",
      " 10  state_number       int64  \n",
      " 11  mean               float64\n",
      " 12  N_IN_Conn_P_DstIP  int64  \n",
      " 13  drate              float64\n",
      " 14  srate              float64\n",
      " 15  max                float64\n",
      " 16  attack             int64  \n",
      " 17  category           object \n",
      " 18  subcategory        object \n",
      "dtypes: float64(6), int64(6), object(7)\n",
      "memory usage: 425.4+ MB\n"
     ]
    }
   ],
   "source": [
    "train.info()"
   ]
  },
  {
   "cell_type": "code",
   "execution_count": 5,
   "metadata": {},
   "outputs": [
    {
     "data": {
      "text/plain": [
       "(2934817, 19)"
      ]
     },
     "execution_count": 5,
     "metadata": {},
     "output_type": "execute_result"
    }
   ],
   "source": [
    "train.shape"
   ]
  },
  {
   "cell_type": "code",
   "execution_count": 6,
   "metadata": {},
   "outputs": [
    {
     "data": {
      "text/plain": [
       "pkSeqID              0\n",
       "proto                0\n",
       "saddr                0\n",
       "sport                0\n",
       "daddr                0\n",
       "dport                0\n",
       "seq                  0\n",
       "stddev               0\n",
       "N_IN_Conn_P_SrcIP    0\n",
       "min                  0\n",
       "state_number         0\n",
       "mean                 0\n",
       "N_IN_Conn_P_DstIP    0\n",
       "drate                0\n",
       "srate                0\n",
       "max                  0\n",
       "attack               0\n",
       "category             0\n",
       "subcategory          0\n",
       "dtype: int64"
      ]
     },
     "execution_count": 6,
     "metadata": {},
     "output_type": "execute_result"
    }
   ],
   "source": [
    "train.isnull().sum()"
   ]
  },
  {
   "cell_type": "code",
   "execution_count": 7,
   "metadata": {},
   "outputs": [
    {
     "data": {
      "text/plain": [
       "proto          object\n",
       "saddr          object\n",
       "sport          object\n",
       "daddr          object\n",
       "dport          object\n",
       "category       object\n",
       "subcategory    object\n",
       "dtype: object"
      ]
     },
     "execution_count": 7,
     "metadata": {},
     "output_type": "execute_result"
    }
   ],
   "source": [
    "train.dtypes[train.dtypes=='object']"
   ]
  },
  {
   "cell_type": "code",
   "execution_count": 8,
   "metadata": {},
   "outputs": [
    {
     "data": {
      "text/plain": [
       "DDoS              1541315\n",
       "DoS               1320148\n",
       "Reconnaissance      72919\n",
       "Normal                370\n",
       "Theft                  65\n",
       "Name: category, dtype: int64"
      ]
     },
     "execution_count": 8,
     "metadata": {},
     "output_type": "execute_result"
    }
   ],
   "source": [
    "train['category'].value_counts()"
   ]
  },
  {
   "cell_type": "code",
   "execution_count": 9,
   "metadata": {},
   "outputs": [
    {
     "data": {
      "text/html": [
       "<div>\n",
       "<style scoped>\n",
       "    .dataframe tbody tr th:only-of-type {\n",
       "        vertical-align: middle;\n",
       "    }\n",
       "\n",
       "    .dataframe tbody tr th {\n",
       "        vertical-align: top;\n",
       "    }\n",
       "\n",
       "    .dataframe thead th {\n",
       "        text-align: right;\n",
       "    }\n",
       "</style>\n",
       "<table border=\"1\" class=\"dataframe\">\n",
       "  <thead>\n",
       "    <tr style=\"text-align: right;\">\n",
       "      <th></th>\n",
       "      <th></th>\n",
       "      <th>pkSeqID</th>\n",
       "      <th>proto</th>\n",
       "      <th>saddr</th>\n",
       "      <th>sport</th>\n",
       "      <th>daddr</th>\n",
       "      <th>dport</th>\n",
       "      <th>seq</th>\n",
       "      <th>stddev</th>\n",
       "      <th>N_IN_Conn_P_SrcIP</th>\n",
       "      <th>min</th>\n",
       "      <th>state_number</th>\n",
       "      <th>mean</th>\n",
       "      <th>N_IN_Conn_P_DstIP</th>\n",
       "      <th>drate</th>\n",
       "      <th>srate</th>\n",
       "      <th>max</th>\n",
       "      <th>attack</th>\n",
       "    </tr>\n",
       "    <tr>\n",
       "      <th>category</th>\n",
       "      <th>subcategory</th>\n",
       "      <th></th>\n",
       "      <th></th>\n",
       "      <th></th>\n",
       "      <th></th>\n",
       "      <th></th>\n",
       "      <th></th>\n",
       "      <th></th>\n",
       "      <th></th>\n",
       "      <th></th>\n",
       "      <th></th>\n",
       "      <th></th>\n",
       "      <th></th>\n",
       "      <th></th>\n",
       "      <th></th>\n",
       "      <th></th>\n",
       "      <th></th>\n",
       "      <th></th>\n",
       "    </tr>\n",
       "  </thead>\n",
       "  <tbody>\n",
       "    <tr>\n",
       "      <th rowspan=\"3\" valign=\"top\">DDoS</th>\n",
       "      <th>HTTP</th>\n",
       "      <td>786</td>\n",
       "      <td>786</td>\n",
       "      <td>786</td>\n",
       "      <td>786</td>\n",
       "      <td>786</td>\n",
       "      <td>786</td>\n",
       "      <td>786</td>\n",
       "      <td>786</td>\n",
       "      <td>786</td>\n",
       "      <td>786</td>\n",
       "      <td>786</td>\n",
       "      <td>786</td>\n",
       "      <td>786</td>\n",
       "      <td>786</td>\n",
       "      <td>786</td>\n",
       "      <td>786</td>\n",
       "      <td>786</td>\n",
       "    </tr>\n",
       "    <tr>\n",
       "      <th>TCP</th>\n",
       "      <td>782228</td>\n",
       "      <td>782228</td>\n",
       "      <td>782228</td>\n",
       "      <td>782228</td>\n",
       "      <td>782228</td>\n",
       "      <td>782228</td>\n",
       "      <td>782228</td>\n",
       "      <td>782228</td>\n",
       "      <td>782228</td>\n",
       "      <td>782228</td>\n",
       "      <td>782228</td>\n",
       "      <td>782228</td>\n",
       "      <td>782228</td>\n",
       "      <td>782228</td>\n",
       "      <td>782228</td>\n",
       "      <td>782228</td>\n",
       "      <td>782228</td>\n",
       "    </tr>\n",
       "    <tr>\n",
       "      <th>UDP</th>\n",
       "      <td>758301</td>\n",
       "      <td>758301</td>\n",
       "      <td>758301</td>\n",
       "      <td>758301</td>\n",
       "      <td>758301</td>\n",
       "      <td>758301</td>\n",
       "      <td>758301</td>\n",
       "      <td>758301</td>\n",
       "      <td>758301</td>\n",
       "      <td>758301</td>\n",
       "      <td>758301</td>\n",
       "      <td>758301</td>\n",
       "      <td>758301</td>\n",
       "      <td>758301</td>\n",
       "      <td>758301</td>\n",
       "      <td>758301</td>\n",
       "      <td>758301</td>\n",
       "    </tr>\n",
       "    <tr>\n",
       "      <th rowspan=\"3\" valign=\"top\">DoS</th>\n",
       "      <th>HTTP</th>\n",
       "      <td>1184</td>\n",
       "      <td>1184</td>\n",
       "      <td>1184</td>\n",
       "      <td>1184</td>\n",
       "      <td>1184</td>\n",
       "      <td>1184</td>\n",
       "      <td>1184</td>\n",
       "      <td>1184</td>\n",
       "      <td>1184</td>\n",
       "      <td>1184</td>\n",
       "      <td>1184</td>\n",
       "      <td>1184</td>\n",
       "      <td>1184</td>\n",
       "      <td>1184</td>\n",
       "      <td>1184</td>\n",
       "      <td>1184</td>\n",
       "      <td>1184</td>\n",
       "    </tr>\n",
       "    <tr>\n",
       "      <th>TCP</th>\n",
       "      <td>492615</td>\n",
       "      <td>492615</td>\n",
       "      <td>492615</td>\n",
       "      <td>492615</td>\n",
       "      <td>492615</td>\n",
       "      <td>492615</td>\n",
       "      <td>492615</td>\n",
       "      <td>492615</td>\n",
       "      <td>492615</td>\n",
       "      <td>492615</td>\n",
       "      <td>492615</td>\n",
       "      <td>492615</td>\n",
       "      <td>492615</td>\n",
       "      <td>492615</td>\n",
       "      <td>492615</td>\n",
       "      <td>492615</td>\n",
       "      <td>492615</td>\n",
       "    </tr>\n",
       "    <tr>\n",
       "      <th>UDP</th>\n",
       "      <td>826349</td>\n",
       "      <td>826349</td>\n",
       "      <td>826349</td>\n",
       "      <td>826349</td>\n",
       "      <td>826349</td>\n",
       "      <td>826349</td>\n",
       "      <td>826349</td>\n",
       "      <td>826349</td>\n",
       "      <td>826349</td>\n",
       "      <td>826349</td>\n",
       "      <td>826349</td>\n",
       "      <td>826349</td>\n",
       "      <td>826349</td>\n",
       "      <td>826349</td>\n",
       "      <td>826349</td>\n",
       "      <td>826349</td>\n",
       "      <td>826349</td>\n",
       "    </tr>\n",
       "    <tr>\n",
       "      <th>Normal</th>\n",
       "      <th>Normal</th>\n",
       "      <td>370</td>\n",
       "      <td>370</td>\n",
       "      <td>370</td>\n",
       "      <td>370</td>\n",
       "      <td>370</td>\n",
       "      <td>370</td>\n",
       "      <td>370</td>\n",
       "      <td>370</td>\n",
       "      <td>370</td>\n",
       "      <td>370</td>\n",
       "      <td>370</td>\n",
       "      <td>370</td>\n",
       "      <td>370</td>\n",
       "      <td>370</td>\n",
       "      <td>370</td>\n",
       "      <td>370</td>\n",
       "      <td>370</td>\n",
       "    </tr>\n",
       "    <tr>\n",
       "      <th rowspan=\"2\" valign=\"top\">Reconnaissance</th>\n",
       "      <th>OS_Fingerprint</th>\n",
       "      <td>14293</td>\n",
       "      <td>14293</td>\n",
       "      <td>14293</td>\n",
       "      <td>14293</td>\n",
       "      <td>14293</td>\n",
       "      <td>14293</td>\n",
       "      <td>14293</td>\n",
       "      <td>14293</td>\n",
       "      <td>14293</td>\n",
       "      <td>14293</td>\n",
       "      <td>14293</td>\n",
       "      <td>14293</td>\n",
       "      <td>14293</td>\n",
       "      <td>14293</td>\n",
       "      <td>14293</td>\n",
       "      <td>14293</td>\n",
       "      <td>14293</td>\n",
       "    </tr>\n",
       "    <tr>\n",
       "      <th>Service_Scan</th>\n",
       "      <td>58626</td>\n",
       "      <td>58626</td>\n",
       "      <td>58626</td>\n",
       "      <td>58626</td>\n",
       "      <td>58626</td>\n",
       "      <td>58626</td>\n",
       "      <td>58626</td>\n",
       "      <td>58626</td>\n",
       "      <td>58626</td>\n",
       "      <td>58626</td>\n",
       "      <td>58626</td>\n",
       "      <td>58626</td>\n",
       "      <td>58626</td>\n",
       "      <td>58626</td>\n",
       "      <td>58626</td>\n",
       "      <td>58626</td>\n",
       "      <td>58626</td>\n",
       "    </tr>\n",
       "    <tr>\n",
       "      <th rowspan=\"2\" valign=\"top\">Theft</th>\n",
       "      <th>Data_Exfiltration</th>\n",
       "      <td>6</td>\n",
       "      <td>6</td>\n",
       "      <td>6</td>\n",
       "      <td>6</td>\n",
       "      <td>6</td>\n",
       "      <td>6</td>\n",
       "      <td>6</td>\n",
       "      <td>6</td>\n",
       "      <td>6</td>\n",
       "      <td>6</td>\n",
       "      <td>6</td>\n",
       "      <td>6</td>\n",
       "      <td>6</td>\n",
       "      <td>6</td>\n",
       "      <td>6</td>\n",
       "      <td>6</td>\n",
       "      <td>6</td>\n",
       "    </tr>\n",
       "    <tr>\n",
       "      <th>Keylogging</th>\n",
       "      <td>59</td>\n",
       "      <td>59</td>\n",
       "      <td>59</td>\n",
       "      <td>59</td>\n",
       "      <td>59</td>\n",
       "      <td>59</td>\n",
       "      <td>59</td>\n",
       "      <td>59</td>\n",
       "      <td>59</td>\n",
       "      <td>59</td>\n",
       "      <td>59</td>\n",
       "      <td>59</td>\n",
       "      <td>59</td>\n",
       "      <td>59</td>\n",
       "      <td>59</td>\n",
       "      <td>59</td>\n",
       "      <td>59</td>\n",
       "    </tr>\n",
       "  </tbody>\n",
       "</table>\n",
       "</div>"
      ],
      "text/plain": [
       "                                  pkSeqID   proto   saddr   sport   daddr  \\\n",
       "category       subcategory                                                  \n",
       "DDoS           HTTP                   786     786     786     786     786   \n",
       "               TCP                 782228  782228  782228  782228  782228   \n",
       "               UDP                 758301  758301  758301  758301  758301   \n",
       "DoS            HTTP                  1184    1184    1184    1184    1184   \n",
       "               TCP                 492615  492615  492615  492615  492615   \n",
       "               UDP                 826349  826349  826349  826349  826349   \n",
       "Normal         Normal                 370     370     370     370     370   \n",
       "Reconnaissance OS_Fingerprint       14293   14293   14293   14293   14293   \n",
       "               Service_Scan         58626   58626   58626   58626   58626   \n",
       "Theft          Data_Exfiltration        6       6       6       6       6   \n",
       "               Keylogging              59      59      59      59      59   \n",
       "\n",
       "                                   dport     seq  stddev  N_IN_Conn_P_SrcIP  \\\n",
       "category       subcategory                                                    \n",
       "DDoS           HTTP                  786     786     786                786   \n",
       "               TCP                782228  782228  782228             782228   \n",
       "               UDP                758301  758301  758301             758301   \n",
       "DoS            HTTP                 1184    1184    1184               1184   \n",
       "               TCP                492615  492615  492615             492615   \n",
       "               UDP                826349  826349  826349             826349   \n",
       "Normal         Normal                370     370     370                370   \n",
       "Reconnaissance OS_Fingerprint      14293   14293   14293              14293   \n",
       "               Service_Scan        58626   58626   58626              58626   \n",
       "Theft          Data_Exfiltration       6       6       6                  6   \n",
       "               Keylogging             59      59      59                 59   \n",
       "\n",
       "                                     min  state_number    mean  \\\n",
       "category       subcategory                                       \n",
       "DDoS           HTTP                  786           786     786   \n",
       "               TCP                782228        782228  782228   \n",
       "               UDP                758301        758301  758301   \n",
       "DoS            HTTP                 1184          1184    1184   \n",
       "               TCP                492615        492615  492615   \n",
       "               UDP                826349        826349  826349   \n",
       "Normal         Normal                370           370     370   \n",
       "Reconnaissance OS_Fingerprint      14293         14293   14293   \n",
       "               Service_Scan        58626         58626   58626   \n",
       "Theft          Data_Exfiltration       6             6       6   \n",
       "               Keylogging             59            59      59   \n",
       "\n",
       "                                  N_IN_Conn_P_DstIP   drate   srate     max  \\\n",
       "category       subcategory                                                    \n",
       "DDoS           HTTP                             786     786     786     786   \n",
       "               TCP                           782228  782228  782228  782228   \n",
       "               UDP                           758301  758301  758301  758301   \n",
       "DoS            HTTP                            1184    1184    1184    1184   \n",
       "               TCP                           492615  492615  492615  492615   \n",
       "               UDP                           826349  826349  826349  826349   \n",
       "Normal         Normal                           370     370     370     370   \n",
       "Reconnaissance OS_Fingerprint                 14293   14293   14293   14293   \n",
       "               Service_Scan                   58626   58626   58626   58626   \n",
       "Theft          Data_Exfiltration                  6       6       6       6   \n",
       "               Keylogging                        59      59      59      59   \n",
       "\n",
       "                                  attack  \n",
       "category       subcategory                \n",
       "DDoS           HTTP                  786  \n",
       "               TCP                782228  \n",
       "               UDP                758301  \n",
       "DoS            HTTP                 1184  \n",
       "               TCP                492615  \n",
       "               UDP                826349  \n",
       "Normal         Normal                370  \n",
       "Reconnaissance OS_Fingerprint      14293  \n",
       "               Service_Scan        58626  \n",
       "Theft          Data_Exfiltration       6  \n",
       "               Keylogging             59  "
      ]
     },
     "execution_count": 9,
     "metadata": {},
     "output_type": "execute_result"
    }
   ],
   "source": [
    "train.groupby(['category','subcategory']).count()"
   ]
  },
  {
   "cell_type": "code",
   "execution_count": 10,
   "metadata": {},
   "outputs": [
    {
     "data": {
      "text/plain": [
       "category        subcategory      \n",
       "DDoS            TCP                  782228\n",
       "                UDP                  758301\n",
       "                HTTP                    786\n",
       "DoS             UDP                  826349\n",
       "                TCP                  492615\n",
       "                HTTP                   1184\n",
       "Normal          Normal                  370\n",
       "Reconnaissance  Service_Scan          58626\n",
       "                OS_Fingerprint        14293\n",
       "Theft           Keylogging               59\n",
       "                Data_Exfiltration         6\n",
       "Name: subcategory, dtype: int64"
      ]
     },
     "execution_count": 10,
     "metadata": {},
     "output_type": "execute_result"
    }
   ],
   "source": [
    "train.groupby(['category'])['subcategory'].value_counts()"
   ]
  },
  {
   "cell_type": "code",
   "execution_count": 11,
   "metadata": {},
   "outputs": [
    {
     "data": {
      "text/html": [
       "<div>\n",
       "<style scoped>\n",
       "    .dataframe tbody tr th:only-of-type {\n",
       "        vertical-align: middle;\n",
       "    }\n",
       "\n",
       "    .dataframe tbody tr th {\n",
       "        vertical-align: top;\n",
       "    }\n",
       "\n",
       "    .dataframe thead th {\n",
       "        text-align: right;\n",
       "    }\n",
       "</style>\n",
       "<table border=\"1\" class=\"dataframe\">\n",
       "  <thead>\n",
       "    <tr style=\"text-align: right;\">\n",
       "      <th></th>\n",
       "      <th>pkSeqID</th>\n",
       "      <th>proto</th>\n",
       "      <th>saddr</th>\n",
       "      <th>sport</th>\n",
       "      <th>daddr</th>\n",
       "      <th>dport</th>\n",
       "      <th>seq</th>\n",
       "      <th>stddev</th>\n",
       "      <th>N_IN_Conn_P_SrcIP</th>\n",
       "      <th>min</th>\n",
       "      <th>state_number</th>\n",
       "      <th>mean</th>\n",
       "      <th>N_IN_Conn_P_DstIP</th>\n",
       "      <th>drate</th>\n",
       "      <th>srate</th>\n",
       "      <th>max</th>\n",
       "      <th>attack</th>\n",
       "      <th>category</th>\n",
       "      <th>subcategory</th>\n",
       "      <th>target</th>\n",
       "    </tr>\n",
       "  </thead>\n",
       "  <tbody>\n",
       "    <tr>\n",
       "      <th>0</th>\n",
       "      <td>3142762</td>\n",
       "      <td>udp</td>\n",
       "      <td>192.168.100.150</td>\n",
       "      <td>6551</td>\n",
       "      <td>192.168.100.3</td>\n",
       "      <td>80</td>\n",
       "      <td>251984</td>\n",
       "      <td>1.900363</td>\n",
       "      <td>100</td>\n",
       "      <td>0.000000</td>\n",
       "      <td>4</td>\n",
       "      <td>2.687519</td>\n",
       "      <td>100</td>\n",
       "      <td>0.0</td>\n",
       "      <td>0.494549</td>\n",
       "      <td>4.031619</td>\n",
       "      <td>1</td>\n",
       "      <td>DDoS</td>\n",
       "      <td>UDP</td>\n",
       "      <td>DDoS_UDP</td>\n",
       "    </tr>\n",
       "    <tr>\n",
       "      <th>1</th>\n",
       "      <td>2432264</td>\n",
       "      <td>tcp</td>\n",
       "      <td>192.168.100.150</td>\n",
       "      <td>5532</td>\n",
       "      <td>192.168.100.3</td>\n",
       "      <td>80</td>\n",
       "      <td>256724</td>\n",
       "      <td>0.078003</td>\n",
       "      <td>38</td>\n",
       "      <td>3.856930</td>\n",
       "      <td>3</td>\n",
       "      <td>3.934927</td>\n",
       "      <td>100</td>\n",
       "      <td>0.0</td>\n",
       "      <td>0.256493</td>\n",
       "      <td>4.012924</td>\n",
       "      <td>1</td>\n",
       "      <td>DDoS</td>\n",
       "      <td>TCP</td>\n",
       "      <td>DDoS_TCP</td>\n",
       "    </tr>\n",
       "    <tr>\n",
       "      <th>2</th>\n",
       "      <td>1976315</td>\n",
       "      <td>tcp</td>\n",
       "      <td>192.168.100.147</td>\n",
       "      <td>27165</td>\n",
       "      <td>192.168.100.3</td>\n",
       "      <td>80</td>\n",
       "      <td>62921</td>\n",
       "      <td>0.268666</td>\n",
       "      <td>100</td>\n",
       "      <td>2.974100</td>\n",
       "      <td>3</td>\n",
       "      <td>3.341429</td>\n",
       "      <td>100</td>\n",
       "      <td>0.0</td>\n",
       "      <td>0.294880</td>\n",
       "      <td>3.609205</td>\n",
       "      <td>1</td>\n",
       "      <td>DDoS</td>\n",
       "      <td>TCP</td>\n",
       "      <td>DDoS_TCP</td>\n",
       "    </tr>\n",
       "    <tr>\n",
       "      <th>3</th>\n",
       "      <td>1240757</td>\n",
       "      <td>udp</td>\n",
       "      <td>192.168.100.150</td>\n",
       "      <td>48719</td>\n",
       "      <td>192.168.100.3</td>\n",
       "      <td>80</td>\n",
       "      <td>99168</td>\n",
       "      <td>1.823185</td>\n",
       "      <td>63</td>\n",
       "      <td>0.000000</td>\n",
       "      <td>4</td>\n",
       "      <td>3.222832</td>\n",
       "      <td>63</td>\n",
       "      <td>0.0</td>\n",
       "      <td>0.461435</td>\n",
       "      <td>4.942302</td>\n",
       "      <td>1</td>\n",
       "      <td>DoS</td>\n",
       "      <td>UDP</td>\n",
       "      <td>DoS_UDP</td>\n",
       "    </tr>\n",
       "    <tr>\n",
       "      <th>4</th>\n",
       "      <td>3257991</td>\n",
       "      <td>udp</td>\n",
       "      <td>192.168.100.147</td>\n",
       "      <td>22461</td>\n",
       "      <td>192.168.100.3</td>\n",
       "      <td>80</td>\n",
       "      <td>105063</td>\n",
       "      <td>0.822418</td>\n",
       "      <td>100</td>\n",
       "      <td>2.979995</td>\n",
       "      <td>4</td>\n",
       "      <td>3.983222</td>\n",
       "      <td>100</td>\n",
       "      <td>0.0</td>\n",
       "      <td>1.002999</td>\n",
       "      <td>4.994452</td>\n",
       "      <td>1</td>\n",
       "      <td>DDoS</td>\n",
       "      <td>UDP</td>\n",
       "      <td>DDoS_UDP</td>\n",
       "    </tr>\n",
       "  </tbody>\n",
       "</table>\n",
       "</div>"
      ],
      "text/plain": [
       "   pkSeqID proto            saddr  sport          daddr dport     seq  \\\n",
       "0  3142762   udp  192.168.100.150   6551  192.168.100.3    80  251984   \n",
       "1  2432264   tcp  192.168.100.150   5532  192.168.100.3    80  256724   \n",
       "2  1976315   tcp  192.168.100.147  27165  192.168.100.3    80   62921   \n",
       "3  1240757   udp  192.168.100.150  48719  192.168.100.3    80   99168   \n",
       "4  3257991   udp  192.168.100.147  22461  192.168.100.3    80  105063   \n",
       "\n",
       "     stddev  N_IN_Conn_P_SrcIP       min  state_number      mean  \\\n",
       "0  1.900363                100  0.000000             4  2.687519   \n",
       "1  0.078003                 38  3.856930             3  3.934927   \n",
       "2  0.268666                100  2.974100             3  3.341429   \n",
       "3  1.823185                 63  0.000000             4  3.222832   \n",
       "4  0.822418                100  2.979995             4  3.983222   \n",
       "\n",
       "   N_IN_Conn_P_DstIP  drate     srate       max  attack category subcategory  \\\n",
       "0                100    0.0  0.494549  4.031619       1     DDoS         UDP   \n",
       "1                100    0.0  0.256493  4.012924       1     DDoS         TCP   \n",
       "2                100    0.0  0.294880  3.609205       1     DDoS         TCP   \n",
       "3                 63    0.0  0.461435  4.942302       1      DoS         UDP   \n",
       "4                100    0.0  1.002999  4.994452       1     DDoS         UDP   \n",
       "\n",
       "     target  \n",
       "0  DDoS_UDP  \n",
       "1  DDoS_TCP  \n",
       "2  DDoS_TCP  \n",
       "3   DoS_UDP  \n",
       "4  DDoS_UDP  "
      ]
     },
     "execution_count": 11,
     "metadata": {},
     "output_type": "execute_result"
    }
   ],
   "source": [
    "train['target'] = train['category'] + \"_\" + train['subcategory']\n",
    "train.head()"
   ]
  },
  {
   "cell_type": "code",
   "execution_count": 12,
   "metadata": {},
   "outputs": [
    {
     "data": {
      "text/plain": [
       "<matplotlib.axes._subplots.AxesSubplot at 0x1b8808d3f10>"
      ]
     },
     "execution_count": 12,
     "metadata": {},
     "output_type": "execute_result"
    },
    {
     "data": {
      "image/png": "[encoded data removed]",
      "text/plain": [
       "<Figure size 720x360 with 1 Axes>"
      ]
     },
     "metadata": {},
     "output_type": "display_data"
    }
   ],
   "source": [
    "plt.figure(figsize=(10,5))\n",
    "plt.xticks(rotation=90)\n",
    "sns.countplot(train['target'],palette='Accent')"
   ]
  },
  {
   "cell_type": "code",
   "execution_count": 13,
   "metadata": {},
   "outputs": [],
   "source": [
    "drop_theft = train[train['category']=='Theft'].index\n",
    "train.drop(drop_theft , inplace=True)"
   ]
  },
  {
   "cell_type": "code",
   "execution_count": 14,
   "metadata": {},
   "outputs": [],
   "source": [
    "drop_theft = test[test['category']=='Theft'].index\n",
    "test.drop(drop_theft , inplace=True)"
   ]
  },
  {
   "cell_type": "code",
   "execution_count": 15,
   "metadata": {},
   "outputs": [
    {
     "data": {
      "text/html": [
       "<div>\n",
       "<style scoped>\n",
       "    .dataframe tbody tr th:only-of-type {\n",
       "        vertical-align: middle;\n",
       "    }\n",
       "\n",
       "    .dataframe tbody tr th {\n",
       "        vertical-align: top;\n",
       "    }\n",
       "\n",
       "    .dataframe thead th {\n",
       "        text-align: right;\n",
       "    }\n",
       "</style>\n",
       "<table border=\"1\" class=\"dataframe\">\n",
       "  <thead>\n",
       "    <tr style=\"text-align: right;\">\n",
       "      <th></th>\n",
       "      <th>pkSeqID</th>\n",
       "      <th>proto</th>\n",
       "      <th>saddr</th>\n",
       "      <th>sport</th>\n",
       "      <th>daddr</th>\n",
       "      <th>dport</th>\n",
       "      <th>seq</th>\n",
       "      <th>stddev</th>\n",
       "      <th>N_IN_Conn_P_SrcIP</th>\n",
       "      <th>min</th>\n",
       "      <th>state_number</th>\n",
       "      <th>mean</th>\n",
       "      <th>N_IN_Conn_P_DstIP</th>\n",
       "      <th>drate</th>\n",
       "      <th>srate</th>\n",
       "      <th>max</th>\n",
       "      <th>attack</th>\n",
       "      <th>category</th>\n",
       "      <th>subcategory</th>\n",
       "      <th>target</th>\n",
       "    </tr>\n",
       "  </thead>\n",
       "  <tbody>\n",
       "    <tr>\n",
       "      <th>0</th>\n",
       "      <td>792371</td>\n",
       "      <td>udp</td>\n",
       "      <td>192.168.100.150</td>\n",
       "      <td>48516</td>\n",
       "      <td>192.168.100.3</td>\n",
       "      <td>80</td>\n",
       "      <td>175094</td>\n",
       "      <td>0.226784</td>\n",
       "      <td>100</td>\n",
       "      <td>4.100436</td>\n",
       "      <td>4</td>\n",
       "      <td>4.457383</td>\n",
       "      <td>100</td>\n",
       "      <td>0.000000</td>\n",
       "      <td>0.404711</td>\n",
       "      <td>4.719438</td>\n",
       "      <td>1</td>\n",
       "      <td>DoS</td>\n",
       "      <td>UDP</td>\n",
       "      <td>DoS_UDP</td>\n",
       "    </tr>\n",
       "    <tr>\n",
       "      <th>1</th>\n",
       "      <td>2056418</td>\n",
       "      <td>tcp</td>\n",
       "      <td>192.168.100.148</td>\n",
       "      <td>22267</td>\n",
       "      <td>192.168.100.3</td>\n",
       "      <td>80</td>\n",
       "      <td>143024</td>\n",
       "      <td>0.451998</td>\n",
       "      <td>100</td>\n",
       "      <td>3.439257</td>\n",
       "      <td>1</td>\n",
       "      <td>3.806172</td>\n",
       "      <td>100</td>\n",
       "      <td>0.225077</td>\n",
       "      <td>0.401397</td>\n",
       "      <td>4.442930</td>\n",
       "      <td>1</td>\n",
       "      <td>DDoS</td>\n",
       "      <td>TCP</td>\n",
       "      <td>DDoS_TCP</td>\n",
       "    </tr>\n",
       "    <tr>\n",
       "      <th>2</th>\n",
       "      <td>2795650</td>\n",
       "      <td>udp</td>\n",
       "      <td>192.168.100.149</td>\n",
       "      <td>28629</td>\n",
       "      <td>192.168.100.3</td>\n",
       "      <td>80</td>\n",
       "      <td>167033</td>\n",
       "      <td>1.931553</td>\n",
       "      <td>73</td>\n",
       "      <td>0.000000</td>\n",
       "      <td>4</td>\n",
       "      <td>2.731204</td>\n",
       "      <td>100</td>\n",
       "      <td>0.000000</td>\n",
       "      <td>0.407287</td>\n",
       "      <td>4.138455</td>\n",
       "      <td>1</td>\n",
       "      <td>DDoS</td>\n",
       "      <td>UDP</td>\n",
       "      <td>DDoS_UDP</td>\n",
       "    </tr>\n",
       "    <tr>\n",
       "      <th>3</th>\n",
       "      <td>2118009</td>\n",
       "      <td>tcp</td>\n",
       "      <td>192.168.100.148</td>\n",
       "      <td>42142</td>\n",
       "      <td>192.168.100.3</td>\n",
       "      <td>80</td>\n",
       "      <td>204615</td>\n",
       "      <td>0.428798</td>\n",
       "      <td>56</td>\n",
       "      <td>3.271411</td>\n",
       "      <td>1</td>\n",
       "      <td>3.626428</td>\n",
       "      <td>100</td>\n",
       "      <td>0.000000</td>\n",
       "      <td>0.343654</td>\n",
       "      <td>4.229700</td>\n",
       "      <td>1</td>\n",
       "      <td>DDoS</td>\n",
       "      <td>TCP</td>\n",
       "      <td>DDoS_TCP</td>\n",
       "    </tr>\n",
       "    <tr>\n",
       "      <th>4</th>\n",
       "      <td>303688</td>\n",
       "      <td>tcp</td>\n",
       "      <td>192.168.100.149</td>\n",
       "      <td>1645</td>\n",
       "      <td>192.168.100.5</td>\n",
       "      <td>80</td>\n",
       "      <td>40058</td>\n",
       "      <td>2.058381</td>\n",
       "      <td>100</td>\n",
       "      <td>0.000000</td>\n",
       "      <td>3</td>\n",
       "      <td>1.188407</td>\n",
       "      <td>100</td>\n",
       "      <td>0.000000</td>\n",
       "      <td>0.135842</td>\n",
       "      <td>4.753628</td>\n",
       "      <td>1</td>\n",
       "      <td>DoS</td>\n",
       "      <td>TCP</td>\n",
       "      <td>DoS_TCP</td>\n",
       "    </tr>\n",
       "  </tbody>\n",
       "</table>\n",
       "</div>"
      ],
      "text/plain": [
       "   pkSeqID proto            saddr  sport          daddr dport     seq  \\\n",
       "0   792371   udp  192.168.100.150  48516  192.168.100.3    80  175094   \n",
       "1  2056418   tcp  192.168.100.148  22267  192.168.100.3    80  143024   \n",
       "2  2795650   udp  192.168.100.149  28629  192.168.100.3    80  167033   \n",
       "3  2118009   tcp  192.168.100.148  42142  192.168.100.3    80  204615   \n",
       "4   303688   tcp  192.168.100.149   1645  192.168.100.5    80   40058   \n",
       "\n",
       "     stddev  N_IN_Conn_P_SrcIP       min  state_number      mean  \\\n",
       "0  0.226784                100  4.100436             4  4.457383   \n",
       "1  0.451998                100  3.439257             1  3.806172   \n",
       "2  1.931553                 73  0.000000             4  2.731204   \n",
       "3  0.428798                 56  3.271411             1  3.626428   \n",
       "4  2.058381                100  0.000000             3  1.188407   \n",
       "\n",
       "   N_IN_Conn_P_DstIP     drate     srate       max  attack category  \\\n",
       "0                100  0.000000  0.404711  4.719438       1      DoS   \n",
       "1                100  0.225077  0.401397  4.442930       1     DDoS   \n",
       "2                100  0.000000  0.407287  4.138455       1     DDoS   \n",
       "3                100  0.000000  0.343654  4.229700       1     DDoS   \n",
       "4                100  0.000000  0.135842  4.753628       1      DoS   \n",
       "\n",
       "  subcategory    target  \n",
       "0         UDP   DoS_UDP  \n",
       "1         TCP  DDoS_TCP  \n",
       "2         UDP  DDoS_UDP  \n",
       "3         TCP  DDoS_TCP  \n",
       "4         TCP   DoS_TCP  "
      ]
     },
     "execution_count": 15,
     "metadata": {},
     "output_type": "execute_result"
    }
   ],
   "source": [
    "test['target'] = test['category'] + \"_\" + test['subcategory']\n",
    "test.head()"
   ]
  },
  {
   "cell_type": "code",
   "execution_count": 16,
   "metadata": {},
   "outputs": [],
   "source": [
    "train.drop([\"pkSeqID\",\"seq\"], axis=1, inplace=True)"
   ]
  },
  {
   "cell_type": "code",
   "execution_count": 17,
   "metadata": {},
   "outputs": [],
   "source": [
    "test.drop([\"pkSeqID\",\"seq\"], axis=1, inplace=True)"
   ]
  },
  {
   "cell_type": "code",
   "execution_count": 18,
   "metadata": {},
   "outputs": [
    {
     "data": {
      "text/html": [
       "<div>\n",
       "<style scoped>\n",
       "    .dataframe tbody tr th:only-of-type {\n",
       "        vertical-align: middle;\n",
       "    }\n",
       "\n",
       "    .dataframe tbody tr th {\n",
       "        vertical-align: top;\n",
       "    }\n",
       "\n",
       "    .dataframe thead th {\n",
       "        text-align: right;\n",
       "    }\n",
       "</style>\n",
       "<table border=\"1\" class=\"dataframe\">\n",
       "  <thead>\n",
       "    <tr style=\"text-align: right;\">\n",
       "      <th></th>\n",
       "      <th>proto</th>\n",
       "      <th>saddr</th>\n",
       "      <th>sport</th>\n",
       "      <th>daddr</th>\n",
       "      <th>dport</th>\n",
       "      <th>stddev</th>\n",
       "      <th>N_IN_Conn_P_SrcIP</th>\n",
       "      <th>min</th>\n",
       "      <th>state_number</th>\n",
       "      <th>mean</th>\n",
       "      <th>N_IN_Conn_P_DstIP</th>\n",
       "      <th>drate</th>\n",
       "      <th>srate</th>\n",
       "      <th>max</th>\n",
       "      <th>attack</th>\n",
       "      <th>category</th>\n",
       "      <th>subcategory</th>\n",
       "      <th>target</th>\n",
       "    </tr>\n",
       "  </thead>\n",
       "  <tbody>\n",
       "    <tr>\n",
       "      <th>3377</th>\n",
       "      <td>tcp</td>\n",
       "      <td>192.168.100.5</td>\n",
       "      <td>0</td>\n",
       "      <td>192.168.100.3</td>\n",
       "      <td>0</td>\n",
       "      <td>0.235357</td>\n",
       "      <td>7</td>\n",
       "      <td>0.598172</td>\n",
       "      <td>2</td>\n",
       "      <td>4.898582</td>\n",
       "      <td>7</td>\n",
       "      <td>0.000000</td>\n",
       "      <td>10.932437</td>\n",
       "      <td>4.999866</td>\n",
       "      <td>0</td>\n",
       "      <td>Normal</td>\n",
       "      <td>Normal</td>\n",
       "      <td>Normal_Normal</td>\n",
       "    </tr>\n",
       "    <tr>\n",
       "      <th>7683</th>\n",
       "      <td>udp</td>\n",
       "      <td>192.168.100.150</td>\n",
       "      <td>46295</td>\n",
       "      <td>192.168.217.2</td>\n",
       "      <td>53</td>\n",
       "      <td>0.000000</td>\n",
       "      <td>11</td>\n",
       "      <td>0.000000</td>\n",
       "      <td>4</td>\n",
       "      <td>0.000000</td>\n",
       "      <td>20</td>\n",
       "      <td>0.000000</td>\n",
       "      <td>0.400001</td>\n",
       "      <td>0.000000</td>\n",
       "      <td>0</td>\n",
       "      <td>Normal</td>\n",
       "      <td>Normal</td>\n",
       "      <td>Normal_Normal</td>\n",
       "    </tr>\n",
       "    <tr>\n",
       "      <th>8844</th>\n",
       "      <td>tcp</td>\n",
       "      <td>192.168.100.3</td>\n",
       "      <td>80</td>\n",
       "      <td>192.168.100.55</td>\n",
       "      <td>8080</td>\n",
       "      <td>0.228494</td>\n",
       "      <td>20</td>\n",
       "      <td>0.768694</td>\n",
       "      <td>2</td>\n",
       "      <td>4.947914</td>\n",
       "      <td>2</td>\n",
       "      <td>17.633553</td>\n",
       "      <td>17.634146</td>\n",
       "      <td>4.999863</td>\n",
       "      <td>0</td>\n",
       "      <td>Normal</td>\n",
       "      <td>Normal</td>\n",
       "      <td>Normal_Normal</td>\n",
       "    </tr>\n",
       "    <tr>\n",
       "      <th>10110</th>\n",
       "      <td>udp</td>\n",
       "      <td>192.168.100.147</td>\n",
       "      <td>38275</td>\n",
       "      <td>192.168.217.2</td>\n",
       "      <td>53</td>\n",
       "      <td>0.000000</td>\n",
       "      <td>18</td>\n",
       "      <td>0.000000</td>\n",
       "      <td>4</td>\n",
       "      <td>0.000000</td>\n",
       "      <td>18</td>\n",
       "      <td>0.000000</td>\n",
       "      <td>0.399866</td>\n",
       "      <td>0.000000</td>\n",
       "      <td>0</td>\n",
       "      <td>Normal</td>\n",
       "      <td>Normal</td>\n",
       "      <td>Normal_Normal</td>\n",
       "    </tr>\n",
       "    <tr>\n",
       "      <th>16479</th>\n",
       "      <td>udp</td>\n",
       "      <td>192.168.100.150</td>\n",
       "      <td>56155</td>\n",
       "      <td>255.255.255.255</td>\n",
       "      <td>3289</td>\n",
       "      <td>0.000000</td>\n",
       "      <td>14</td>\n",
       "      <td>0.000000</td>\n",
       "      <td>4</td>\n",
       "      <td>0.000000</td>\n",
       "      <td>2</td>\n",
       "      <td>0.000000</td>\n",
       "      <td>0.000000</td>\n",
       "      <td>0.000000</td>\n",
       "      <td>0</td>\n",
       "      <td>Normal</td>\n",
       "      <td>Normal</td>\n",
       "      <td>Normal_Normal</td>\n",
       "    </tr>\n",
       "    <tr>\n",
       "      <th>...</th>\n",
       "      <td>...</td>\n",
       "      <td>...</td>\n",
       "      <td>...</td>\n",
       "      <td>...</td>\n",
       "      <td>...</td>\n",
       "      <td>...</td>\n",
       "      <td>...</td>\n",
       "      <td>...</td>\n",
       "      <td>...</td>\n",
       "      <td>...</td>\n",
       "      <td>...</td>\n",
       "      <td>...</td>\n",
       "      <td>...</td>\n",
       "      <td>...</td>\n",
       "      <td>...</td>\n",
       "      <td>...</td>\n",
       "      <td>...</td>\n",
       "      <td>...</td>\n",
       "    </tr>\n",
       "    <tr>\n",
       "      <th>2896922</th>\n",
       "      <td>udp</td>\n",
       "      <td>192.168.100.3</td>\n",
       "      <td>60946</td>\n",
       "      <td>192.31.80.30</td>\n",
       "      <td>53</td>\n",
       "      <td>0.000000</td>\n",
       "      <td>23</td>\n",
       "      <td>0.278547</td>\n",
       "      <td>2</td>\n",
       "      <td>0.278547</td>\n",
       "      <td>1</td>\n",
       "      <td>0.000000</td>\n",
       "      <td>0.000000</td>\n",
       "      <td>0.278547</td>\n",
       "      <td>0</td>\n",
       "      <td>Normal</td>\n",
       "      <td>Normal</td>\n",
       "      <td>Normal_Normal</td>\n",
       "    </tr>\n",
       "    <tr>\n",
       "      <th>2907572</th>\n",
       "      <td>ipv6-icmp</td>\n",
       "      <td>fe80::250:56ff:febe:c038</td>\n",
       "      <td>133</td>\n",
       "      <td>ff02::2</td>\n",
       "      <td>0</td>\n",
       "      <td>0.000000</td>\n",
       "      <td>1</td>\n",
       "      <td>0.000000</td>\n",
       "      <td>8</td>\n",
       "      <td>0.000000</td>\n",
       "      <td>3</td>\n",
       "      <td>0.000000</td>\n",
       "      <td>0.000000</td>\n",
       "      <td>0.000000</td>\n",
       "      <td>0</td>\n",
       "      <td>Normal</td>\n",
       "      <td>Normal</td>\n",
       "      <td>Normal_Normal</td>\n",
       "    </tr>\n",
       "    <tr>\n",
       "      <th>2912220</th>\n",
       "      <td>udp</td>\n",
       "      <td>192.168.100.4</td>\n",
       "      <td>60001</td>\n",
       "      <td>192.168.100.1</td>\n",
       "      <td>53</td>\n",
       "      <td>0.323125</td>\n",
       "      <td>7</td>\n",
       "      <td>0.000000</td>\n",
       "      <td>2</td>\n",
       "      <td>0.161776</td>\n",
       "      <td>4</td>\n",
       "      <td>0.555538</td>\n",
       "      <td>0.644334</td>\n",
       "      <td>0.808025</td>\n",
       "      <td>0</td>\n",
       "      <td>Normal</td>\n",
       "      <td>Normal</td>\n",
       "      <td>Normal_Normal</td>\n",
       "    </tr>\n",
       "    <tr>\n",
       "      <th>2917520</th>\n",
       "      <td>udp</td>\n",
       "      <td>192.168.100.148</td>\n",
       "      <td>41735</td>\n",
       "      <td>8.8.8.8</td>\n",
       "      <td>53</td>\n",
       "      <td>0.000000</td>\n",
       "      <td>20</td>\n",
       "      <td>0.007598</td>\n",
       "      <td>2</td>\n",
       "      <td>0.007598</td>\n",
       "      <td>15</td>\n",
       "      <td>0.000000</td>\n",
       "      <td>0.000000</td>\n",
       "      <td>0.007598</td>\n",
       "      <td>0</td>\n",
       "      <td>Normal</td>\n",
       "      <td>Normal</td>\n",
       "      <td>Normal_Normal</td>\n",
       "    </tr>\n",
       "    <tr>\n",
       "      <th>2932908</th>\n",
       "      <td>udp</td>\n",
       "      <td>192.168.100.147</td>\n",
       "      <td>57830</td>\n",
       "      <td>192.168.217.2</td>\n",
       "      <td>53</td>\n",
       "      <td>0.000000</td>\n",
       "      <td>12</td>\n",
       "      <td>0.000000</td>\n",
       "      <td>4</td>\n",
       "      <td>0.000000</td>\n",
       "      <td>8</td>\n",
       "      <td>0.000000</td>\n",
       "      <td>0.399842</td>\n",
       "      <td>0.000000</td>\n",
       "      <td>0</td>\n",
       "      <td>Normal</td>\n",
       "      <td>Normal</td>\n",
       "      <td>Normal_Normal</td>\n",
       "    </tr>\n",
       "  </tbody>\n",
       "</table>\n",
       "<p>370 rows × 18 columns</p>\n",
       "</div>"
      ],
      "text/plain": [
       "             proto                     saddr  sport            daddr dport  \\\n",
       "3377           tcp             192.168.100.5      0    192.168.100.3     0   \n",
       "7683           udp           192.168.100.150  46295    192.168.217.2    53   \n",
       "8844           tcp             192.168.100.3     80   192.168.100.55  8080   \n",
       "10110          udp           192.168.100.147  38275    192.168.217.2    53   \n",
       "16479          udp           192.168.100.150  56155  255.255.255.255  3289   \n",
       "...            ...                       ...    ...              ...   ...   \n",
       "2896922        udp             192.168.100.3  60946     192.31.80.30    53   \n",
       "2907572  ipv6-icmp  fe80::250:56ff:febe:c038    133          ff02::2     0   \n",
       "2912220        udp             192.168.100.4  60001    192.168.100.1    53   \n",
       "2917520        udp           192.168.100.148  41735          8.8.8.8    53   \n",
       "2932908        udp           192.168.100.147  57830    192.168.217.2    53   \n",
       "\n",
       "           stddev  N_IN_Conn_P_SrcIP       min  state_number      mean  \\\n",
       "3377     0.235357                  7  0.598172             2  4.898582   \n",
       "7683     0.000000                 11  0.000000             4  0.000000   \n",
       "8844     0.228494                 20  0.768694             2  4.947914   \n",
       "10110    0.000000                 18  0.000000             4  0.000000   \n",
       "16479    0.000000                 14  0.000000             4  0.000000   \n",
       "...           ...                ...       ...           ...       ...   \n",
       "2896922  0.000000                 23  0.278547             2  0.278547   \n",
       "2907572  0.000000                  1  0.000000             8  0.000000   \n",
       "2912220  0.323125                  7  0.000000             2  0.161776   \n",
       "2917520  0.000000                 20  0.007598             2  0.007598   \n",
       "2932908  0.000000                 12  0.000000             4  0.000000   \n",
       "\n",
       "         N_IN_Conn_P_DstIP      drate      srate       max  attack category  \\\n",
       "3377                     7   0.000000  10.932437  4.999866       0   Normal   \n",
       "7683                    20   0.000000   0.400001  0.000000       0   Normal   \n",
       "8844                     2  17.633553  17.634146  4.999863       0   Normal   \n",
       "10110                   18   0.000000   0.399866  0.000000       0   Normal   \n",
       "16479                    2   0.000000   0.000000  0.000000       0   Normal   \n",
       "...                    ...        ...        ...       ...     ...      ...   \n",
       "2896922                  1   0.000000   0.000000  0.278547       0   Normal   \n",
       "2907572                  3   0.000000   0.000000  0.000000       0   Normal   \n",
       "2912220                  4   0.555538   0.644334  0.808025       0   Normal   \n",
       "2917520                 15   0.000000   0.000000  0.007598       0   Normal   \n",
       "2932908                  8   0.000000   0.399842  0.000000       0   Normal   \n",
       "\n",
       "        subcategory         target  \n",
       "3377         Normal  Normal_Normal  \n",
       "7683         Normal  Normal_Normal  \n",
       "8844         Normal  Normal_Normal  \n",
       "10110        Normal  Normal_Normal  \n",
       "16479        Normal  Normal_Normal  \n",
       "...             ...            ...  \n",
       "2896922      Normal  Normal_Normal  \n",
       "2907572      Normal  Normal_Normal  \n",
       "2912220      Normal  Normal_Normal  \n",
       "2917520      Normal  Normal_Normal  \n",
       "2932908      Normal  Normal_Normal  \n",
       "\n",
       "[370 rows x 18 columns]"
      ]
     },
     "execution_count": 18,
     "metadata": {},
     "output_type": "execute_result"
    }
   ],
   "source": [
    "train[train['category']=='Normal']"
   ]
  },
  {
   "cell_type": "code",
   "execution_count": 19,
   "metadata": {},
   "outputs": [
    {
     "data": {
      "text/plain": [
       "udp          1596819\n",
       "tcp          1330536\n",
       "icmp            7228\n",
       "arp              163\n",
       "ipv6-icmp          6\n",
       "Name: proto, dtype: int64"
      ]
     },
     "execution_count": 19,
     "metadata": {},
     "output_type": "execute_result"
    }
   ],
   "source": [
    "train['proto'].value_counts()"
   ]
  },
  {
   "cell_type": "code",
   "execution_count": 20,
   "metadata": {},
   "outputs": [
    {
     "data": {
      "text/plain": [
       "192.168.100.147              761360\n",
       "192.168.100.148              738642\n",
       "192.168.100.150              712238\n",
       "192.168.100.149              711465\n",
       "192.168.100.3                  6567\n",
       "192.168.100.5                  4107\n",
       "192.168.100.6                   272\n",
       "192.168.100.7                    34\n",
       "192.168.100.4                    17\n",
       "192.168.100.1                    14\n",
       "192.168.100.27                    9\n",
       "192.168.100.46                    8\n",
       "fe80::250:56ff:febe:254           5\n",
       "192.168.100.55                    3\n",
       "fe80::2c6a:ff9b:7e14:166a         2\n",
       "fe80::250:56ff:febe:26db          2\n",
       "fe80::250:56ff:febe:c038          2\n",
       "fe80::250:56ff:febe:89ee          2\n",
       "fe80::c0c0:aa20:45b9:bdd9         2\n",
       "fe80::250:56ff:febe:e9d9          1\n",
       "Name: saddr, dtype: int64"
      ]
     },
     "execution_count": 20,
     "metadata": {},
     "output_type": "execute_result"
    }
   ],
   "source": [
    "train['saddr'].value_counts()"
   ]
  },
  {
   "cell_type": "code",
   "execution_count": 21,
   "metadata": {},
   "outputs": [
    {
     "data": {
      "text/plain": [
       "0x0303    7156\n",
       "80        3220\n",
       "1822       878\n",
       "60541      869\n",
       "1216       868\n",
       "          ... \n",
       "961         31\n",
       "18992       30\n",
       "39305       30\n",
       "0x000d      10\n",
       "0x0011       8\n",
       "Name: sport, Length: 65541, dtype: int64"
      ]
     },
     "execution_count": 21,
     "metadata": {},
     "output_type": "execute_result"
    }
   ],
   "source": [
    "train['sport'].value_counts()"
   ]
  },
  {
   "cell_type": "code",
   "execution_count": 22,
   "metadata": {},
   "outputs": [
    {
     "data": {
      "text/plain": [
       "192.168.100.3      1900540\n",
       "192.168.100.5       361192\n",
       "192.168.100.7       332161\n",
       "192.168.100.6       329678\n",
       "192.168.100.150       3018\n",
       "                    ...   \n",
       "216.239.36.10            1\n",
       "205.251.198.119          1\n",
       "224.0.0.252              1\n",
       "192.48.79.30             1\n",
       "205.251.196.160          1\n",
       "Name: daddr, Length: 81, dtype: int64"
      ]
     },
     "execution_count": 22,
     "metadata": {},
     "output_type": "execute_result"
    }
   ],
   "source": [
    "train['daddr'].value_counts()"
   ]
  },
  {
   "cell_type": "code",
   "execution_count": 23,
   "metadata": {},
   "outputs": [
    {
     "data": {
      "text/plain": [
       "80       2858794\n",
       "1           5379\n",
       "3306        3757\n",
       "53           275\n",
       "-1           163\n",
       "          ...   \n",
       "25604          1\n",
       "1170           1\n",
       "4439           1\n",
       "3400           1\n",
       "8585           1\n",
       "Name: dport, Length: 6906, dtype: int64"
      ]
     },
     "execution_count": 23,
     "metadata": {},
     "output_type": "execute_result"
    }
   ],
   "source": [
    "train['dport'].value_counts()"
   ]
  },
  {
   "cell_type": "code",
   "execution_count": 24,
   "metadata": {},
   "outputs": [
    {
     "data": {
      "text/plain": [
       "DDoS              1541315\n",
       "DoS               1320148\n",
       "Reconnaissance      72919\n",
       "Normal                370\n",
       "Name: category, dtype: int64"
      ]
     },
     "execution_count": 24,
     "metadata": {},
     "output_type": "execute_result"
    }
   ],
   "source": [
    "train['category'].value_counts()"
   ]
  },
  {
   "cell_type": "code",
   "execution_count": 25,
   "metadata": {},
   "outputs": [
    {
     "data": {
      "text/plain": [
       "DDoS              385309\n",
       "DoS               330112\n",
       "Reconnaissance     18163\n",
       "Normal               107\n",
       "Name: category, dtype: int64"
      ]
     },
     "execution_count": 25,
     "metadata": {},
     "output_type": "execute_result"
    }
   ],
   "source": [
    "test['category'].value_counts()"
   ]
  },
  {
   "cell_type": "code",
   "execution_count": 26,
   "metadata": {},
   "outputs": [
    {
     "data": {
      "text/plain": [
       "{'0x0008', '0x000d', '0x0011', '0x0303'}"
      ]
     },
     "execution_count": 26,
     "metadata": {},
     "output_type": "execute_result"
    }
   ],
   "source": [
    "search_string='0x'\n",
    "result = set([i for i in train['sport'] if i.startswith(search_string)])\n",
    "result"
   ]
  },
  {
   "cell_type": "code",
   "execution_count": 27,
   "metadata": {},
   "outputs": [],
   "source": [
    "train['sport']=train['sport'].replace(['0x0303'],'771') \n",
    "train['sport']=train['sport'].replace(['0x0011'],'17')\n",
    "train['sport']=train['sport'].replace(['0x000d'],'13')\n",
    "train['sport']=train['sport'].replace(['0x0008'],'8')"
   ]
  },
  {
   "cell_type": "code",
   "execution_count": 28,
   "metadata": {},
   "outputs": [],
   "source": [
    "train[\"sport\"] = train[\"sport\"].astype(str).astype(int)"
   ]
  },
  {
   "cell_type": "code",
   "execution_count": 29,
   "metadata": {},
   "outputs": [
    {
     "name": "stdout",
     "output_type": "stream",
     "text": [
      "1062\n"
     ]
    }
   ],
   "source": [
    "search_string='0x'\n",
    "result = set([i for i in train['dport'] if i.startswith(search_string)])\n",
    "print(len(result))"
   ]
  },
  {
   "cell_type": "code",
   "execution_count": 30,
   "metadata": {},
   "outputs": [],
   "source": [
    "train['dport']=train.dport.apply(lambda x: int(x,16) if len(x)>1 and x[1]==\"x\" else int(x))"
   ]
  },
  {
   "cell_type": "code",
   "execution_count": 31,
   "metadata": {},
   "outputs": [
    {
     "data": {
      "text/plain": [
       " 80       2858794\n",
       " 1           5379\n",
       " 3306        3757\n",
       " 53           275\n",
       "-1            163\n",
       "           ...   \n",
       " 13445          1\n",
       " 6636           1\n",
       " 29153          1\n",
       " 29152          1\n",
       " 8863           1\n",
       "Name: dport, Length: 6778, dtype: int64"
      ]
     },
     "execution_count": 31,
     "metadata": {},
     "output_type": "execute_result"
    }
   ],
   "source": [
    "train['dport'].value_counts()"
   ]
  },
  {
   "cell_type": "code",
   "execution_count": 32,
   "metadata": {},
   "outputs": [],
   "source": [
    "test['sport']=test['sport'].replace(['0x0303'],'771') \n",
    "test['sport']=test['sport'].replace(['0x0011'],'17')\n",
    "test['sport']=test['sport'].replace(['0x000d'],'13')\n",
    "test['sport']=test['sport'].replace(['0x0008'],'8')"
   ]
  },
  {
   "cell_type": "code",
   "execution_count": 33,
   "metadata": {},
   "outputs": [],
   "source": [
    "test[\"sport\"] = test[\"sport\"].astype(str).astype(int)"
   ]
  },
  {
   "cell_type": "code",
   "execution_count": 34,
   "metadata": {},
   "outputs": [],
   "source": [
    "test['dport'] = test.dport.apply(lambda x: int(x,16) if len(x)>1 and x[1]==\"x\" else int(x))"
   ]
  },
  {
   "cell_type": "code",
   "execution_count": 35,
   "metadata": {},
   "outputs": [
    {
     "data": {
      "text/plain": [
       "163"
      ]
     },
     "execution_count": 35,
     "metadata": {},
     "output_type": "execute_result"
    }
   ],
   "source": [
    "len(train[train['dport']<0]['dport'])"
   ]
  },
  {
   "cell_type": "code",
   "execution_count": 36,
   "metadata": {},
   "outputs": [
    {
     "data": {
      "text/plain": [
       "Normal_Normal                    38\n",
       "Reconnaissance_Service_Scan      34\n",
       "Reconnaissance_OS_Fingerprint    26\n",
       "DoS_UDP                          18\n",
       "DoS_TCP                          17\n",
       "DDoS_TCP                         15\n",
       "DDoS_UDP                         10\n",
       "DoS_HTTP                          5\n",
       "Name: target, dtype: int64"
      ]
     },
     "execution_count": 36,
     "metadata": {},
     "output_type": "execute_result"
    }
   ],
   "source": [
    "train[train['dport']==-1]['target'].value_counts()"
   ]
  },
  {
   "cell_type": "code",
   "execution_count": 37,
   "metadata": {},
   "outputs": [],
   "source": [
    "Neg_train = train[train['dport'] == -1].index\n",
    "train.drop(Neg_train, inplace=True)"
   ]
  },
  {
   "cell_type": "code",
   "execution_count": 38,
   "metadata": {},
   "outputs": [
    {
     "data": {
      "text/plain": [
       "Reconnaissance_Service_Scan      12\n",
       "Normal_Normal                     9\n",
       "DoS_UDP                           6\n",
       "Reconnaissance_OS_Fingerprint     6\n",
       "DDoS_UDP                          6\n",
       "DDoS_TCP                          3\n",
       "DoS_TCP                           2\n",
       "DoS_HTTP                          1\n",
       "DDoS_HTTP                         1\n",
       "Name: target, dtype: int64"
      ]
     },
     "execution_count": 38,
     "metadata": {},
     "output_type": "execute_result"
    }
   ],
   "source": [
    "test[test['dport']==-1]['target'].value_counts()"
   ]
  },
  {
   "cell_type": "code",
   "execution_count": 39,
   "metadata": {},
   "outputs": [],
   "source": [
    "Neg_test = test[test['dport']==-1].index\n",
    "test.drop(Neg_test , inplace=True)"
   ]
  },
  {
   "cell_type": "code",
   "execution_count": 40,
   "metadata": {},
   "outputs": [
    {
     "data": {
      "text/plain": [
       "category        subcategory   \n",
       "DDoS            TCP               782213\n",
       "                UDP               758291\n",
       "                HTTP                 786\n",
       "DoS             UDP               826331\n",
       "                TCP               492598\n",
       "                HTTP                1179\n",
       "Normal          Normal               332\n",
       "Reconnaissance  Service_Scan       58592\n",
       "                OS_Fingerprint     14267\n",
       "Name: subcategory, dtype: int64"
      ]
     },
     "execution_count": 40,
     "metadata": {},
     "output_type": "execute_result"
    }
   ],
   "source": [
    "train.groupby(['category'])['subcategory'].value_counts()"
   ]
  },
  {
   "cell_type": "code",
   "execution_count": 41,
   "metadata": {},
   "outputs": [
    {
     "data": {
      "text/plain": [
       "DoS_UDP                          826331\n",
       "DDoS_TCP                         782213\n",
       "DDoS_UDP                         758291\n",
       "DoS_TCP                          492598\n",
       "Reconnaissance_Service_Scan       58592\n",
       "Reconnaissance_OS_Fingerprint     14267\n",
       "DoS_HTTP                           1179\n",
       "DDoS_HTTP                           786\n",
       "Normal_Normal                       332\n",
       "Name: target, dtype: int64"
      ]
     },
     "execution_count": 41,
     "metadata": {},
     "output_type": "execute_result"
    }
   ],
   "source": [
    "train['target'].value_counts()"
   ]
  },
  {
   "cell_type": "code",
   "execution_count": 42,
   "metadata": {},
   "outputs": [
    {
     "data": {
      "text/plain": [
       "proto          object\n",
       "saddr          object\n",
       "daddr          object\n",
       "category       object\n",
       "subcategory    object\n",
       "target         object\n",
       "dtype: object"
      ]
     },
     "execution_count": 42,
     "metadata": {},
     "output_type": "execute_result"
    }
   ],
   "source": [
    "train.dtypes[train.dtypes=='object']"
   ]
  },
  {
   "cell_type": "code",
   "execution_count": 43,
   "metadata": {},
   "outputs": [],
   "source": [
    "train.drop([\"category\",\"subcategory\"], axis=1, inplace=True)\n",
    "test.drop([\"category\",\"subcategory\"], axis=1, inplace=True)"
   ]
  },
  {
   "cell_type": "code",
   "execution_count": 44,
   "metadata": {},
   "outputs": [],
   "source": [
    "from sklearn.preprocessing import LabelEncoder\n",
    "le = LabelEncoder()\n",
    "train[\"saddr_enc\"]= le.fit_transform(train.saddr)\n",
    "train[\"daddr_enc\"]= le.fit_transform(train.daddr)\n",
    "train[\"proto_enc\"]= le.fit_transform(train.proto)\n",
    "train[\"target_enc\"]= le.fit_transform(train.target)\n",
    "train.drop(['saddr','daddr','proto','target'], axis=1, inplace=True)"
   ]
  },
  {
   "cell_type": "code",
   "execution_count": 45,
   "metadata": {},
   "outputs": [],
   "source": [
    "test[\"saddr_enc\"]= le.fit_transform(test.saddr)\n",
    "test[\"daddr_enc\"]= le.fit_transform(test.daddr)\n",
    "test[\"proto_enc\"]= le.fit_transform(test.proto)\n",
    "test[\"target_enc\"]= le.fit_transform(test.target)\n",
    "test.drop(['saddr','daddr','proto','target'], axis=1, inplace=True)"
   ]
  },
  {
   "cell_type": "code",
   "execution_count": 46,
   "metadata": {},
   "outputs": [
    {
     "data": {
      "text/html": [
       "<div>\n",
       "<style scoped>\n",
       "    .dataframe tbody tr th:only-of-type {\n",
       "        vertical-align: middle;\n",
       "    }\n",
       "\n",
       "    .dataframe tbody tr th {\n",
       "        vertical-align: top;\n",
       "    }\n",
       "\n",
       "    .dataframe thead th {\n",
       "        text-align: right;\n",
       "    }\n",
       "</style>\n",
       "<table border=\"1\" class=\"dataframe\">\n",
       "  <thead>\n",
       "    <tr style=\"text-align: right;\">\n",
       "      <th></th>\n",
       "      <th>sport</th>\n",
       "      <th>dport</th>\n",
       "      <th>stddev</th>\n",
       "      <th>N_IN_Conn_P_SrcIP</th>\n",
       "      <th>min</th>\n",
       "      <th>state_number</th>\n",
       "      <th>mean</th>\n",
       "      <th>N_IN_Conn_P_DstIP</th>\n",
       "      <th>drate</th>\n",
       "      <th>srate</th>\n",
       "      <th>max</th>\n",
       "      <th>attack</th>\n",
       "      <th>saddr_enc</th>\n",
       "      <th>daddr_enc</th>\n",
       "      <th>proto_enc</th>\n",
       "      <th>target_enc</th>\n",
       "    </tr>\n",
       "  </thead>\n",
       "  <tbody>\n",
       "    <tr>\n",
       "      <th>0</th>\n",
       "      <td>6551</td>\n",
       "      <td>80</td>\n",
       "      <td>1.900363</td>\n",
       "      <td>100</td>\n",
       "      <td>0.000000</td>\n",
       "      <td>4</td>\n",
       "      <td>2.687519</td>\n",
       "      <td>100</td>\n",
       "      <td>0.0</td>\n",
       "      <td>0.494549</td>\n",
       "      <td>4.031619</td>\n",
       "      <td>1</td>\n",
       "      <td>3</td>\n",
       "      <td>14</td>\n",
       "      <td>3</td>\n",
       "      <td>2</td>\n",
       "    </tr>\n",
       "    <tr>\n",
       "      <th>1</th>\n",
       "      <td>5532</td>\n",
       "      <td>80</td>\n",
       "      <td>0.078003</td>\n",
       "      <td>38</td>\n",
       "      <td>3.856930</td>\n",
       "      <td>3</td>\n",
       "      <td>3.934927</td>\n",
       "      <td>100</td>\n",
       "      <td>0.0</td>\n",
       "      <td>0.256493</td>\n",
       "      <td>4.012924</td>\n",
       "      <td>1</td>\n",
       "      <td>3</td>\n",
       "      <td>14</td>\n",
       "      <td>2</td>\n",
       "      <td>1</td>\n",
       "    </tr>\n",
       "    <tr>\n",
       "      <th>2</th>\n",
       "      <td>27165</td>\n",
       "      <td>80</td>\n",
       "      <td>0.268666</td>\n",
       "      <td>100</td>\n",
       "      <td>2.974100</td>\n",
       "      <td>3</td>\n",
       "      <td>3.341429</td>\n",
       "      <td>100</td>\n",
       "      <td>0.0</td>\n",
       "      <td>0.294880</td>\n",
       "      <td>3.609205</td>\n",
       "      <td>1</td>\n",
       "      <td>0</td>\n",
       "      <td>14</td>\n",
       "      <td>2</td>\n",
       "      <td>1</td>\n",
       "    </tr>\n",
       "    <tr>\n",
       "      <th>3</th>\n",
       "      <td>48719</td>\n",
       "      <td>80</td>\n",
       "      <td>1.823185</td>\n",
       "      <td>63</td>\n",
       "      <td>0.000000</td>\n",
       "      <td>4</td>\n",
       "      <td>3.222832</td>\n",
       "      <td>63</td>\n",
       "      <td>0.0</td>\n",
       "      <td>0.461435</td>\n",
       "      <td>4.942302</td>\n",
       "      <td>1</td>\n",
       "      <td>3</td>\n",
       "      <td>14</td>\n",
       "      <td>3</td>\n",
       "      <td>5</td>\n",
       "    </tr>\n",
       "    <tr>\n",
       "      <th>4</th>\n",
       "      <td>22461</td>\n",
       "      <td>80</td>\n",
       "      <td>0.822418</td>\n",
       "      <td>100</td>\n",
       "      <td>2.979995</td>\n",
       "      <td>4</td>\n",
       "      <td>3.983222</td>\n",
       "      <td>100</td>\n",
       "      <td>0.0</td>\n",
       "      <td>1.002999</td>\n",
       "      <td>4.994452</td>\n",
       "      <td>1</td>\n",
       "      <td>0</td>\n",
       "      <td>14</td>\n",
       "      <td>3</td>\n",
       "      <td>2</td>\n",
       "    </tr>\n",
       "  </tbody>\n",
       "</table>\n",
       "</div>"
      ],
      "text/plain": [
       "   sport  dport    stddev  N_IN_Conn_P_SrcIP       min  state_number  \\\n",
       "0   6551     80  1.900363                100  0.000000             4   \n",
       "1   5532     80  0.078003                 38  3.856930             3   \n",
       "2  27165     80  0.268666                100  2.974100             3   \n",
       "3  48719     80  1.823185                 63  0.000000             4   \n",
       "4  22461     80  0.822418                100  2.979995             4   \n",
       "\n",
       "       mean  N_IN_Conn_P_DstIP  drate     srate       max  attack  saddr_enc  \\\n",
       "0  2.687519                100    0.0  0.494549  4.031619       1          3   \n",
       "1  3.934927                100    0.0  0.256493  4.012924       1          3   \n",
       "2  3.341429                100    0.0  0.294880  3.609205       1          0   \n",
       "3  3.222832                 63    0.0  0.461435  4.942302       1          3   \n",
       "4  3.983222                100    0.0  1.002999  4.994452       1          0   \n",
       "\n",
       "   daddr_enc  proto_enc  target_enc  \n",
       "0         14          3           2  \n",
       "1         14          2           1  \n",
       "2         14          2           1  \n",
       "3         14          3           5  \n",
       "4         14          3           2  "
      ]
     },
     "execution_count": 46,
     "metadata": {},
     "output_type": "execute_result"
    }
   ],
   "source": [
    "train.head()"
   ]
  },
  {
   "cell_type": "code",
   "execution_count": 47,
   "metadata": {},
   "outputs": [
    {
     "data": {
      "text/plain": [
       "5    826331\n",
       "1    782213\n",
       "2    758291\n",
       "4    492598\n",
       "8     58592\n",
       "7     14267\n",
       "3      1179\n",
       "0       786\n",
       "6       332\n",
       "Name: target_enc, dtype: int64"
      ]
     },
     "execution_count": 47,
     "metadata": {},
     "output_type": "execute_result"
    }
   ],
   "source": [
    "train['target_enc'].value_counts()"
   ]
  },
  {
   "cell_type": "code",
   "execution_count": 48,
   "metadata": {},
   "outputs": [],
   "source": [
    "ytrain=train[\"target_enc\"]"
   ]
  },
  {
   "cell_type": "code",
   "execution_count": 49,
   "metadata": {},
   "outputs": [],
   "source": [
    "ytest=test[\"target_enc\"]"
   ]
  },
  {
   "cell_type": "code",
   "execution_count": 50,
   "metadata": {},
   "outputs": [],
   "source": [
    "from sklearn.preprocessing import StandardScaler\n",
    "scaler=StandardScaler()\n",
    "features = train.iloc[:,:-1]\n",
    "cols=features.columns\n",
    "scaled_features= scaler.fit_transform(features)\n",
    "train= pd.DataFrame(scaled_features,columns=cols)"
   ]
  },
  {
   "cell_type": "code",
   "execution_count": 51,
   "metadata": {},
   "outputs": [],
   "source": [
    "features = test.iloc[:,:-1]\n",
    "cols=features.columns\n",
    "scaled_features= scaler.fit_transform(features)\n",
    "test= pd.DataFrame(scaled_features,columns=cols)"
   ]
  },
  {
   "cell_type": "code",
   "execution_count": 52,
   "metadata": {
    "scrolled": false
   },
   "outputs": [
    {
     "data": {
      "text/html": [
       "<div>\n",
       "<style scoped>\n",
       "    .dataframe tbody tr th:only-of-type {\n",
       "        vertical-align: middle;\n",
       "    }\n",
       "\n",
       "    .dataframe tbody tr th {\n",
       "        vertical-align: top;\n",
       "    }\n",
       "\n",
       "    .dataframe thead th {\n",
       "        text-align: right;\n",
       "    }\n",
       "</style>\n",
       "<table border=\"1\" class=\"dataframe\">\n",
       "  <thead>\n",
       "    <tr style=\"text-align: right;\">\n",
       "      <th></th>\n",
       "      <th>sport</th>\n",
       "      <th>dport</th>\n",
       "      <th>stddev</th>\n",
       "      <th>N_IN_Conn_P_SrcIP</th>\n",
       "      <th>min</th>\n",
       "      <th>state_number</th>\n",
       "      <th>mean</th>\n",
       "      <th>N_IN_Conn_P_DstIP</th>\n",
       "      <th>drate</th>\n",
       "      <th>srate</th>\n",
       "      <th>max</th>\n",
       "      <th>attack</th>\n",
       "      <th>saddr_enc</th>\n",
       "      <th>daddr_enc</th>\n",
       "      <th>proto_enc</th>\n",
       "    </tr>\n",
       "  </thead>\n",
       "  <tbody>\n",
       "    <tr>\n",
       "      <th>0</th>\n",
       "      <td>-1.380968</td>\n",
       "      <td>-0.094032</td>\n",
       "      <td>1.260943</td>\n",
       "      <td>0.715432</td>\n",
       "      <td>-0.685675</td>\n",
       "      <td>0.729274</td>\n",
       "      <td>0.301061</td>\n",
       "      <td>0.415148</td>\n",
       "      <td>-0.00763</td>\n",
       "      <td>-0.003355</td>\n",
       "      <td>0.543937</td>\n",
       "      <td>0.010637</td>\n",
       "      <td>1.302349</td>\n",
       "      <td>-0.643845</td>\n",
       "      <td>0.898098</td>\n",
       "    </tr>\n",
       "    <tr>\n",
       "      <th>1</th>\n",
       "      <td>-1.434281</td>\n",
       "      <td>-0.094032</td>\n",
       "      <td>-1.006704</td>\n",
       "      <td>-1.827146</td>\n",
       "      <td>1.914094</td>\n",
       "      <td>-0.113134</td>\n",
       "      <td>1.122958</td>\n",
       "      <td>0.415148</td>\n",
       "      <td>-0.00763</td>\n",
       "      <td>-0.003659</td>\n",
       "      <td>0.533890</td>\n",
       "      <td>0.010637</td>\n",
       "      <td>1.302349</td>\n",
       "      <td>-0.643845</td>\n",
       "      <td>-1.050938</td>\n",
       "    </tr>\n",
       "    <tr>\n",
       "      <th>2</th>\n",
       "      <td>-0.302458</td>\n",
       "      <td>-0.094032</td>\n",
       "      <td>-0.769453</td>\n",
       "      <td>0.715432</td>\n",
       "      <td>1.319021</td>\n",
       "      <td>-0.113134</td>\n",
       "      <td>0.731911</td>\n",
       "      <td>0.415148</td>\n",
       "      <td>-0.00763</td>\n",
       "      <td>-0.003610</td>\n",
       "      <td>0.316934</td>\n",
       "      <td>0.010637</td>\n",
       "      <td>-1.281797</td>\n",
       "      <td>-0.643845</td>\n",
       "      <td>-1.050938</td>\n",
       "    </tr>\n",
       "    <tr>\n",
       "      <th>3</th>\n",
       "      <td>0.825232</td>\n",
       "      <td>-0.094032</td>\n",
       "      <td>1.164907</td>\n",
       "      <td>-0.801913</td>\n",
       "      <td>-0.685675</td>\n",
       "      <td>0.729274</td>\n",
       "      <td>0.653770</td>\n",
       "      <td>-1.622798</td>\n",
       "      <td>-0.00763</td>\n",
       "      <td>-0.003397</td>\n",
       "      <td>1.033331</td>\n",
       "      <td>0.010637</td>\n",
       "      <td>1.302349</td>\n",
       "      <td>-0.643845</td>\n",
       "      <td>0.898098</td>\n",
       "    </tr>\n",
       "    <tr>\n",
       "      <th>4</th>\n",
       "      <td>-0.548568</td>\n",
       "      <td>-0.094032</td>\n",
       "      <td>-0.080394</td>\n",
       "      <td>0.715432</td>\n",
       "      <td>1.322995</td>\n",
       "      <td>0.729274</td>\n",
       "      <td>1.154778</td>\n",
       "      <td>0.415148</td>\n",
       "      <td>-0.00763</td>\n",
       "      <td>-0.002707</td>\n",
       "      <td>1.061356</td>\n",
       "      <td>0.010637</td>\n",
       "      <td>-1.281797</td>\n",
       "      <td>-0.643845</td>\n",
       "      <td>0.898098</td>\n",
       "    </tr>\n",
       "  </tbody>\n",
       "</table>\n",
       "</div>"
      ],
      "text/plain": [
       "      sport     dport    stddev  N_IN_Conn_P_SrcIP       min  state_number  \\\n",
       "0 -1.380968 -0.094032  1.260943           0.715432 -0.685675      0.729274   \n",
       "1 -1.434281 -0.094032 -1.006704          -1.827146  1.914094     -0.113134   \n",
       "2 -0.302458 -0.094032 -0.769453           0.715432  1.319021     -0.113134   \n",
       "3  0.825232 -0.094032  1.164907          -0.801913 -0.685675      0.729274   \n",
       "4 -0.548568 -0.094032 -0.080394           0.715432  1.322995      0.729274   \n",
       "\n",
       "       mean  N_IN_Conn_P_DstIP    drate     srate       max    attack  \\\n",
       "0  0.301061           0.415148 -0.00763 -0.003355  0.543937  0.010637   \n",
       "1  1.122958           0.415148 -0.00763 -0.003659  0.533890  0.010637   \n",
       "2  0.731911           0.415148 -0.00763 -0.003610  0.316934  0.010637   \n",
       "3  0.653770          -1.622798 -0.00763 -0.003397  1.033331  0.010637   \n",
       "4  1.154778           0.415148 -0.00763 -0.002707  1.061356  0.010637   \n",
       "\n",
       "   saddr_enc  daddr_enc  proto_enc  \n",
       "0   1.302349  -0.643845   0.898098  \n",
       "1   1.302349  -0.643845  -1.050938  \n",
       "2  -1.281797  -0.643845  -1.050938  \n",
       "3   1.302349  -0.643845   0.898098  \n",
       "4  -1.281797  -0.643845   0.898098  "
      ]
     },
     "execution_count": 52,
     "metadata": {},
     "output_type": "execute_result"
    }
   ],
   "source": [
    "train.head()"
   ]
  },
  {
   "cell_type": "code",
   "execution_count": 53,
   "metadata": {
    "scrolled": false
   },
   "outputs": [
    {
     "data": {
      "text/plain": [
       "5    826331\n",
       "1    782213\n",
       "2    758291\n",
       "4    492598\n",
       "8     58592\n",
       "7     14267\n",
       "3      1179\n",
       "0       786\n",
       "6       332\n",
       "Name: target_enc, dtype: int64"
      ]
     },
     "execution_count": 53,
     "metadata": {},
     "output_type": "execute_result"
    }
   ],
   "source": [
    "ytrain.value_counts()"
   ]
  },
  {
   "cell_type": "code",
   "execution_count": 54,
   "metadata": {},
   "outputs": [],
   "source": [
    "xtrain = train\n",
    "xtest = test"
   ]
  },
  {
   "cell_type": "code",
   "execution_count": 55,
   "metadata": {},
   "outputs": [
    {
     "data": {
      "text/html": [
       "<div>\n",
       "<style scoped>\n",
       "    .dataframe tbody tr th:only-of-type {\n",
       "        vertical-align: middle;\n",
       "    }\n",
       "\n",
       "    .dataframe tbody tr th {\n",
       "        vertical-align: top;\n",
       "    }\n",
       "\n",
       "    .dataframe thead th {\n",
       "        text-align: right;\n",
       "    }\n",
       "</style>\n",
       "<table border=\"1\" class=\"dataframe\">\n",
       "  <thead>\n",
       "    <tr style=\"text-align: right;\">\n",
       "      <th></th>\n",
       "      <th>sport</th>\n",
       "      <th>dport</th>\n",
       "      <th>stddev</th>\n",
       "      <th>N_IN_Conn_P_SrcIP</th>\n",
       "      <th>min</th>\n",
       "      <th>state_number</th>\n",
       "      <th>mean</th>\n",
       "      <th>N_IN_Conn_P_DstIP</th>\n",
       "      <th>drate</th>\n",
       "      <th>srate</th>\n",
       "      <th>max</th>\n",
       "      <th>attack</th>\n",
       "      <th>saddr_enc</th>\n",
       "      <th>daddr_enc</th>\n",
       "      <th>proto_enc</th>\n",
       "    </tr>\n",
       "  </thead>\n",
       "  <tbody>\n",
       "    <tr>\n",
       "      <th>0</th>\n",
       "      <td>0.815980</td>\n",
       "      <td>-0.094347</td>\n",
       "      <td>-0.822350</td>\n",
       "      <td>0.716722</td>\n",
       "      <td>2.076170</td>\n",
       "      <td>0.728973</td>\n",
       "      <td>1.465443</td>\n",
       "      <td>0.415659</td>\n",
       "      <td>-0.006811</td>\n",
       "      <td>-0.004605</td>\n",
       "      <td>0.911656</td>\n",
       "      <td>0.011558</td>\n",
       "      <td>1.303394</td>\n",
       "      <td>-0.667508</td>\n",
       "      <td>0.896919</td>\n",
       "    </tr>\n",
       "    <tr>\n",
       "      <th>1</th>\n",
       "      <td>-0.556663</td>\n",
       "      <td>-0.094347</td>\n",
       "      <td>-0.542236</td>\n",
       "      <td>0.716722</td>\n",
       "      <td>1.630704</td>\n",
       "      <td>-1.799696</td>\n",
       "      <td>1.036313</td>\n",
       "      <td>0.415659</td>\n",
       "      <td>-0.003783</td>\n",
       "      <td>-0.004613</td>\n",
       "      <td>0.763047</td>\n",
       "      <td>0.011558</td>\n",
       "      <td>-0.422688</td>\n",
       "      <td>-0.667508</td>\n",
       "      <td>-1.051749</td>\n",
       "    </tr>\n",
       "    <tr>\n",
       "      <th>2</th>\n",
       "      <td>-0.223974</td>\n",
       "      <td>-0.094347</td>\n",
       "      <td>1.297989</td>\n",
       "      <td>-0.388902</td>\n",
       "      <td>-0.686481</td>\n",
       "      <td>0.728973</td>\n",
       "      <td>0.327939</td>\n",
       "      <td>0.415659</td>\n",
       "      <td>-0.006811</td>\n",
       "      <td>-0.004599</td>\n",
       "      <td>0.599406</td>\n",
       "      <td>0.011558</td>\n",
       "      <td>0.440353</td>\n",
       "      <td>-0.667508</td>\n",
       "      <td>0.896919</td>\n",
       "    </tr>\n",
       "    <tr>\n",
       "      <th>3</th>\n",
       "      <td>0.482664</td>\n",
       "      <td>-0.094347</td>\n",
       "      <td>-0.571091</td>\n",
       "      <td>-1.085035</td>\n",
       "      <td>1.517618</td>\n",
       "      <td>-1.799696</td>\n",
       "      <td>0.917867</td>\n",
       "      <td>0.415659</td>\n",
       "      <td>-0.006811</td>\n",
       "      <td>-0.004757</td>\n",
       "      <td>0.648446</td>\n",
       "      <td>0.011558</td>\n",
       "      <td>-0.422688</td>\n",
       "      <td>-0.667508</td>\n",
       "      <td>-1.051749</td>\n",
       "    </tr>\n",
       "    <tr>\n",
       "      <th>4</th>\n",
       "      <td>-1.635053</td>\n",
       "      <td>-0.094347</td>\n",
       "      <td>1.455734</td>\n",
       "      <td>0.716722</td>\n",
       "      <td>-0.686481</td>\n",
       "      <td>-0.113916</td>\n",
       "      <td>-0.688722</td>\n",
       "      <td>0.415659</td>\n",
       "      <td>-0.006811</td>\n",
       "      <td>-0.005272</td>\n",
       "      <td>0.930031</td>\n",
       "      <td>0.011558</td>\n",
       "      <td>0.440353</td>\n",
       "      <td>0.636049</td>\n",
       "      <td>-1.051749</td>\n",
       "    </tr>\n",
       "    <tr>\n",
       "      <th>...</th>\n",
       "      <td>...</td>\n",
       "      <td>...</td>\n",
       "      <td>...</td>\n",
       "      <td>...</td>\n",
       "      <td>...</td>\n",
       "      <td>...</td>\n",
       "      <td>...</td>\n",
       "      <td>...</td>\n",
       "      <td>...</td>\n",
       "      <td>...</td>\n",
       "      <td>...</td>\n",
       "      <td>...</td>\n",
       "      <td>...</td>\n",
       "      <td>...</td>\n",
       "      <td>...</td>\n",
       "    </tr>\n",
       "    <tr>\n",
       "      <th>733640</th>\n",
       "      <td>-0.810546</td>\n",
       "      <td>-0.094347</td>\n",
       "      <td>1.064642</td>\n",
       "      <td>-1.781169</td>\n",
       "      <td>-0.686481</td>\n",
       "      <td>0.728973</td>\n",
       "      <td>0.518543</td>\n",
       "      <td>-2.934982</td>\n",
       "      <td>-0.006811</td>\n",
       "      <td>-0.005052</td>\n",
       "      <td>0.548336</td>\n",
       "      <td>0.011558</td>\n",
       "      <td>-0.422688</td>\n",
       "      <td>1.287828</td>\n",
       "      <td>0.896919</td>\n",
       "    </tr>\n",
       "    <tr>\n",
       "      <th>733641</th>\n",
       "      <td>-1.672338</td>\n",
       "      <td>-0.094347</td>\n",
       "      <td>-0.240473</td>\n",
       "      <td>-0.716494</td>\n",
       "      <td>1.336287</td>\n",
       "      <td>0.728973</td>\n",
       "      <td>1.101708</td>\n",
       "      <td>0.415659</td>\n",
       "      <td>-0.006811</td>\n",
       "      <td>-0.003439</td>\n",
       "      <td>0.896713</td>\n",
       "      <td>0.011558</td>\n",
       "      <td>-1.285729</td>\n",
       "      <td>-0.667508</td>\n",
       "      <td>0.896919</td>\n",
       "    </tr>\n",
       "    <tr>\n",
       "      <th>733642</th>\n",
       "      <td>0.787951</td>\n",
       "      <td>-0.094347</td>\n",
       "      <td>1.065526</td>\n",
       "      <td>-1.207882</td>\n",
       "      <td>-0.686481</td>\n",
       "      <td>-1.799696</td>\n",
       "      <td>0.152049</td>\n",
       "      <td>0.415659</td>\n",
       "      <td>-0.003065</td>\n",
       "      <td>-0.004436</td>\n",
       "      <td>0.418655</td>\n",
       "      <td>0.011558</td>\n",
       "      <td>0.440353</td>\n",
       "      <td>-0.667508</td>\n",
       "      <td>-1.051749</td>\n",
       "    </tr>\n",
       "    <tr>\n",
       "      <th>733643</th>\n",
       "      <td>-0.408726</td>\n",
       "      <td>-0.094347</td>\n",
       "      <td>-1.104417</td>\n",
       "      <td>0.716722</td>\n",
       "      <td>-0.686481</td>\n",
       "      <td>-0.113916</td>\n",
       "      <td>-1.471849</td>\n",
       "      <td>0.415659</td>\n",
       "      <td>-0.006811</td>\n",
       "      <td>-0.005434</td>\n",
       "      <td>-1.624807</td>\n",
       "      <td>0.011558</td>\n",
       "      <td>-1.285729</td>\n",
       "      <td>1.939607</td>\n",
       "      <td>-1.051749</td>\n",
       "    </tr>\n",
       "    <tr>\n",
       "      <th>733644</th>\n",
       "      <td>0.094439</td>\n",
       "      <td>-0.094347</td>\n",
       "      <td>-0.990712</td>\n",
       "      <td>-0.716494</td>\n",
       "      <td>-0.686481</td>\n",
       "      <td>-0.113916</td>\n",
       "      <td>-1.437068</td>\n",
       "      <td>0.415659</td>\n",
       "      <td>-0.006811</td>\n",
       "      <td>-0.005376</td>\n",
       "      <td>-1.511338</td>\n",
       "      <td>0.011558</td>\n",
       "      <td>-1.285729</td>\n",
       "      <td>-0.667508</td>\n",
       "      <td>-1.051749</td>\n",
       "    </tr>\n",
       "  </tbody>\n",
       "</table>\n",
       "<p>733645 rows × 15 columns</p>\n",
       "</div>"
      ],
      "text/plain": [
       "           sport     dport    stddev  N_IN_Conn_P_SrcIP       min  \\\n",
       "0       0.815980 -0.094347 -0.822350           0.716722  2.076170   \n",
       "1      -0.556663 -0.094347 -0.542236           0.716722  1.630704   \n",
       "2      -0.223974 -0.094347  1.297989          -0.388902 -0.686481   \n",
       "3       0.482664 -0.094347 -0.571091          -1.085035  1.517618   \n",
       "4      -1.635053 -0.094347  1.455734           0.716722 -0.686481   \n",
       "...          ...       ...       ...                ...       ...   \n",
       "733640 -0.810546 -0.094347  1.064642          -1.781169 -0.686481   \n",
       "733641 -1.672338 -0.094347 -0.240473          -0.716494  1.336287   \n",
       "733642  0.787951 -0.094347  1.065526          -1.207882 -0.686481   \n",
       "733643 -0.408726 -0.094347 -1.104417           0.716722 -0.686481   \n",
       "733644  0.094439 -0.094347 -0.990712          -0.716494 -0.686481   \n",
       "\n",
       "        state_number      mean  N_IN_Conn_P_DstIP     drate     srate  \\\n",
       "0           0.728973  1.465443           0.415659 -0.006811 -0.004605   \n",
       "1          -1.799696  1.036313           0.415659 -0.003783 -0.004613   \n",
       "2           0.728973  0.327939           0.415659 -0.006811 -0.004599   \n",
       "3          -1.799696  0.917867           0.415659 -0.006811 -0.004757   \n",
       "4          -0.113916 -0.688722           0.415659 -0.006811 -0.005272   \n",
       "...              ...       ...                ...       ...       ...   \n",
       "733640      0.728973  0.518543          -2.934982 -0.006811 -0.005052   \n",
       "733641      0.728973  1.101708           0.415659 -0.006811 -0.003439   \n",
       "733642     -1.799696  0.152049           0.415659 -0.003065 -0.004436   \n",
       "733643     -0.113916 -1.471849           0.415659 -0.006811 -0.005434   \n",
       "733644     -0.113916 -1.437068           0.415659 -0.006811 -0.005376   \n",
       "\n",
       "             max    attack  saddr_enc  daddr_enc  proto_enc  \n",
       "0       0.911656  0.011558   1.303394  -0.667508   0.896919  \n",
       "1       0.763047  0.011558  -0.422688  -0.667508  -1.051749  \n",
       "2       0.599406  0.011558   0.440353  -0.667508   0.896919  \n",
       "3       0.648446  0.011558  -0.422688  -0.667508  -1.051749  \n",
       "4       0.930031  0.011558   0.440353   0.636049  -1.051749  \n",
       "...          ...       ...        ...        ...        ...  \n",
       "733640  0.548336  0.011558  -0.422688   1.287828   0.896919  \n",
       "733641  0.896713  0.011558  -1.285729  -0.667508   0.896919  \n",
       "733642  0.418655  0.011558   0.440353  -0.667508  -1.051749  \n",
       "733643 -1.624807  0.011558  -1.285729   1.939607  -1.051749  \n",
       "733644 -1.511338  0.011558  -1.285729  -0.667508  -1.051749  \n",
       "\n",
       "[733645 rows x 15 columns]"
      ]
     },
     "execution_count": 55,
     "metadata": {},
     "output_type": "execute_result"
    }
   ],
   "source": [
    "xtest"
   ]
  },
  {
   "cell_type": "code",
   "execution_count": 56,
   "metadata": {},
   "outputs": [],
   "source": [
    "import imblearn\n",
    "from imblearn.under_sampling import RandomUnderSampler\n",
    "samp_strat= {5:70000, 1:70000, 2:70000, 4:65000, 8:58592, 7:14267, 3:1179, 0:786, 6:332}\n",
    "random_under= RandomUnderSampler(sampling_strategy=samp_strat,random_state=1)\n",
    "Xres,yres = random_under.fit_resample(xtrain,ytrain)"
   ]
  },
  {
   "cell_type": "code",
   "execution_count": 57,
   "metadata": {},
   "outputs": [
    {
     "data": {
      "text/plain": [
       "5    70000\n",
       "2    70000\n",
       "1    70000\n",
       "4    65000\n",
       "8    58592\n",
       "7    14267\n",
       "3     1179\n",
       "0      786\n",
       "6      332\n",
       "Name: target_enc, dtype: int64"
      ]
     },
     "execution_count": 57,
     "metadata": {},
     "output_type": "execute_result"
    }
   ],
   "source": [
    "yres.value_counts()"
   ]
  },
  {
   "cell_type": "code",
   "execution_count": 58,
   "metadata": {},
   "outputs": [],
   "source": [
    "from imblearn.over_sampling import RandomOverSampler\n",
    "samp_strat= {5:70000, 1:70000, 2:70000, 4:65000, 8:58592, 7:30000, 3:20000, 0:15000, 6:8000}\n",
    "random_under= RandomOverSampler(sampling_strategy=samp_strat,random_state=1)\n",
    "Xres1,yres1 = random_under.fit_resample(Xres,yres)"
   ]
  },
  {
   "cell_type": "code",
   "execution_count": 59,
   "metadata": {},
   "outputs": [
    {
     "data": {
      "text/plain": [
       "5    70000\n",
       "2    70000\n",
       "1    70000\n",
       "4    65000\n",
       "8    58592\n",
       "7    30000\n",
       "3    20000\n",
       "0    15000\n",
       "6     8000\n",
       "Name: target_enc, dtype: int64"
      ]
     },
     "execution_count": 59,
     "metadata": {},
     "output_type": "execute_result"
    }
   ],
   "source": [
    "yres1.value_counts()"
   ]
  },
  {
   "cell_type": "code",
   "execution_count": 60,
   "metadata": {},
   "outputs": [
    {
     "data": {
      "text/plain": [
       "<matplotlib.axes._subplots.AxesSubplot at 0x1b8a1089d30>"
      ]
     },
     "execution_count": 60,
     "metadata": {},
     "output_type": "execute_result"
    },
    {
     "data": {
      "image/png": "[encoded data removed]",
      "text/plain": [
       "<Figure size 720x360 with 1 Axes>"
      ]
     },
     "metadata": {},
     "output_type": "display_data"
    }
   ],
   "source": [
    "plt.figure(figsize=(10,5))\n",
    "sns.countplot(yres1,palette='magma')"
   ]
  },
  {
   "cell_type": "code",
   "execution_count": 61,
   "metadata": {},
   "outputs": [],
   "source": [
    "from sklearn import model_selection\n",
    "from sklearn.model_selection import StratifiedKFold,cross_val_score\n",
    "from sklearn.svm import SVC"
   ]
  },
  {
   "cell_type": "code",
   "execution_count": 62,
   "metadata": {},
   "outputs": [],
   "source": [
    "X_train, X_test, y_train, y_test = model_selection.train_test_split(Xres1,yres1, test_size=0.20, random_state=42, stratify=yres1)"
   ]
  },
  {
   "cell_type": "code",
   "execution_count": 63,
   "metadata": {
    "scrolled": true
   },
   "outputs": [
    {
     "name": "stdout",
     "output_type": "stream",
     "text": [
      "[LibSVM]Time = 2171.627765893936 seconds\n",
      "Accuracy = 0.9085945473997467\n"
     ]
    }
   ],
   "source": [
    "import time\n",
    "start = time.time()\n",
    "model = SVC(verbose=1,random_state=42)\n",
    "model.fit(X_train,y_train)\n",
    "prediction = model.predict(X_test)\n",
    "score = model.score(X_test,y_test)\n",
    "end = time.time()\n",
    "print(\"Time =\",end - start, \"seconds\")\n",
    "print(\"Accuracy =\",score)"
   ]
  },
  {
   "cell_type": "code",
   "execution_count": 64,
   "metadata": {
    "scrolled": true
   },
   "outputs": [
    {
     "name": "stdout",
     "output_type": "stream",
     "text": [
      "              precision    recall  f1-score   support\n",
      "\n",
      "           0       0.73      0.55      0.63      3000\n",
      "           1       0.91      0.91      0.91     14000\n",
      "           2       1.00      0.99      0.99     14000\n",
      "           3       0.76      0.86      0.81      4000\n",
      "           4       0.89      0.98      0.93     13000\n",
      "           5       0.99      1.00      0.99     14000\n",
      "           6       1.00      1.00      1.00      1600\n",
      "           7       0.95      0.53      0.68      6000\n",
      "           8       0.81      0.92      0.86     11719\n",
      "\n",
      "    accuracy                           0.91     81319\n",
      "   macro avg       0.89      0.86      0.87     81319\n",
      "weighted avg       0.91      0.91      0.90     81319\n",
      "\n"
     ]
    }
   ],
   "source": [
    "from sklearn.metrics import classification_report,confusion_matrix\n",
    "print(classification_report(y_test,prediction))"
   ]
  },
  {
   "cell_type": "code",
   "execution_count": 65,
   "metadata": {},
   "outputs": [
    {
     "name": "stdout",
     "output_type": "stream",
     "text": [
      "[[ 1657   769     0   550    20     0     0     0     4]\n",
      " [  446 12680     0   170   354     0     0     0   350]\n",
      " [    0     0 13848     0     0   152     0     0     0]\n",
      " [   95    56     0  3450   309     0     0    90     0]\n",
      " [   19    57     0   232 12678     0     0     0    14]\n",
      " [    0     0     4     0     0 13996     0     0     0]\n",
      " [    0     0     0     0     0     0  1600     0     0]\n",
      " [   15    91     0    59   436     0     0  3184  2215]\n",
      " [   44   227     0    62   505     0     0    88 10793]]\n"
     ]
    }
   ],
   "source": [
    "print(confusion_matrix(y_test,prediction))"
   ]
  },
  {
   "cell_type": "code",
   "execution_count": 66,
   "metadata": {},
   "outputs": [],
   "source": [
    "from sklearn.metrics import multilabel_confusion_matrix"
   ]
  },
  {
   "cell_type": "code",
   "execution_count": 67,
   "metadata": {},
   "outputs": [
    {
     "data": {
      "text/plain": [
       "array([[[77700,   619],\n",
       "        [ 1343,  1657]],\n",
       "\n",
       "       [[66119,  1200],\n",
       "        [ 1320, 12680]],\n",
       "\n",
       "       [[67315,     4],\n",
       "        [  152, 13848]],\n",
       "\n",
       "       [[76246,  1073],\n",
       "        [  550,  3450]],\n",
       "\n",
       "       [[66695,  1624],\n",
       "        [  322, 12678]],\n",
       "\n",
       "       [[67167,   152],\n",
       "        [    4, 13996]],\n",
       "\n",
       "       [[79719,     0],\n",
       "        [    0,  1600]],\n",
       "\n",
       "       [[75141,   178],\n",
       "        [ 2816,  3184]],\n",
       "\n",
       "       [[67017,  2583],\n",
       "        [  926, 10793]]], dtype=int64)"
      ]
     },
     "execution_count": 67,
     "metadata": {},
     "output_type": "execute_result"
    }
   ],
   "source": [
    "multilabel_confusion_matrix(y_test,prediction)"
   ]
  },
  {
   "cell_type": "code",
   "execution_count": 68,
   "metadata": {},
   "outputs": [
    {
     "data": {
      "text/plain": [
       "0.9647336245731928"
      ]
     },
     "execution_count": 68,
     "metadata": {},
     "output_type": "execute_result"
    }
   ],
   "source": [
    "prediction1 = model.predict(xtest)\n",
    "score1 = model.score(xtest,ytest)\n",
    "score1"
   ]
  },
  {
   "cell_type": "code",
   "execution_count": 69,
   "metadata": {},
   "outputs": [
    {
     "data": {
      "text/plain": [
       "array([[[727058,   6385],\n",
       "        [    86,    116]],\n",
       "\n",
       "       [[537765,    731],\n",
       "        [ 18553, 176596]],\n",
       "\n",
       "       [[543670,     27],\n",
       "        [  1526, 188422]],\n",
       "\n",
       "       [[728210,   5135],\n",
       "        [    49,    251]],\n",
       "\n",
       "       [[604780,   5682],\n",
       "        [  2665, 120518]],\n",
       "\n",
       "       [[525503,   1522],\n",
       "        [    29, 206591]],\n",
       "\n",
       "       [[733547,      0],\n",
       "        [     1,     97]],\n",
       "\n",
       "       [[729791,    239],\n",
       "        [  1628,   1987]],\n",
       "\n",
       "       [[712963,   6152],\n",
       "        [  1336,  13194]]], dtype=int64)"
      ]
     },
     "execution_count": 69,
     "metadata": {},
     "output_type": "execute_result"
    }
   ],
   "source": [
    "multilabel_confusion_matrix(ytest,prediction1)"
   ]
  },
  {
   "cell_type": "code",
   "execution_count": 70,
   "metadata": {},
   "outputs": [],
   "source": [
    "model = SVC()\n",
    "skf = StratifiedKFold(n_splits=5,shuffle=True,random_state=42)\n",
    "scores = cross_val_score(model,Xres1,yres1,scoring='accuracy',cv=skf)"
   ]
  },
  {
   "cell_type": "code",
   "execution_count": 71,
   "metadata": {},
   "outputs": [
    {
     "data": {
      "text/plain": [
       "array([0.90800428, 0.90762306, 0.90596178, 0.91033965, 0.90978627])"
      ]
     },
     "execution_count": 71,
     "metadata": {},
     "output_type": "execute_result"
    }
   ],
   "source": [
    "scores"
   ]
  },
  {
   "cell_type": "code",
   "execution_count": 72,
   "metadata": {},
   "outputs": [
    {
     "data": {
      "text/plain": [
       "0.9083430098444522"
      ]
     },
     "execution_count": 72,
     "metadata": {},
     "output_type": "execute_result"
    }
   ],
   "source": [
    "from numpy import mean\n",
    "mean(scores)"
   ]
  },
  {
   "cell_type": "code",
   "execution_count": 73,
   "metadata": {},
   "outputs": [
    {
     "name": "stdout",
     "output_type": "stream",
     "text": [
      "Fitting 3 folds for each of 4 candidates, totalling 12 fits\n",
      "[CV] C=1, gamma=0.01 .................................................\n"
     ]
    },
    {
     "name": "stderr",
     "output_type": "stream",
     "text": [
      "[Parallel(n_jobs=1)]: Using backend SequentialBackend with 1 concurrent workers.\n"
     ]
    },
    {
     "name": "stdout",
     "output_type": "stream",
     "text": [
      "[CV] ..................... C=1, gamma=0.01, score=0.929, total=11.3min\n",
      "[CV] C=1, gamma=0.01 .................................................\n"
     ]
    },
    {
     "name": "stderr",
     "output_type": "stream",
     "text": [
      "[Parallel(n_jobs=1)]: Done   1 out of   1 | elapsed: 11.3min remaining:    0.0s\n"
     ]
    },
    {
     "name": "stdout",
     "output_type": "stream",
     "text": [
      "[CV] ..................... C=1, gamma=0.01, score=0.929, total=11.1min\n",
      "[CV] C=1, gamma=0.01 .................................................\n"
     ]
    },
    {
     "name": "stderr",
     "output_type": "stream",
     "text": [
      "[Parallel(n_jobs=1)]: Done   2 out of   2 | elapsed: 22.4min remaining:    0.0s\n"
     ]
    },
    {
     "name": "stdout",
     "output_type": "stream",
     "text": [
      "[CV] ..................... C=1, gamma=0.01, score=0.929, total=11.1min\n",
      "[CV] C=1, gamma=0.1 ..................................................\n",
      "[CV] ...................... C=1, gamma=0.1, score=0.956, total= 6.8min\n",
      "[CV] C=1, gamma=0.1 ..................................................\n",
      "[CV] ...................... C=1, gamma=0.1, score=0.955, total= 6.9min\n",
      "[CV] C=1, gamma=0.1 ..................................................\n",
      "[CV] ...................... C=1, gamma=0.1, score=0.957, total= 8.2min\n",
      "[CV] C=10, gamma=0.01 ................................................\n",
      "[CV] .................... C=10, gamma=0.01, score=0.943, total= 7.1min\n",
      "[CV] C=10, gamma=0.01 ................................................\n",
      "[CV] .................... C=10, gamma=0.01, score=0.942, total= 7.0min\n",
      "[CV] C=10, gamma=0.01 ................................................\n",
      "[CV] .................... C=10, gamma=0.01, score=0.943, total= 7.0min\n",
      "[CV] C=10, gamma=0.1 .................................................\n",
      "[CV] ..................... C=10, gamma=0.1, score=0.982, total= 4.5min\n",
      "[CV] C=10, gamma=0.1 .................................................\n",
      "[CV] ..................... C=10, gamma=0.1, score=0.982, total= 4.4min\n",
      "[CV] C=10, gamma=0.1 .................................................\n",
      "[CV] ..................... C=10, gamma=0.1, score=0.981, total= 4.4min\n"
     ]
    },
    {
     "name": "stderr",
     "output_type": "stream",
     "text": [
      "[Parallel(n_jobs=1)]: Done  12 out of  12 | elapsed: 89.7min finished\n"
     ]
    },
    {
     "name": "stdout",
     "output_type": "stream",
     "text": [
      "Best Score: 0.9817974761176725\n",
      "Best Params: {'C': 10, 'gamma': 0.1}\n"
     ]
    }
   ],
   "source": [
    "params = {'gamma':[0.01,0.1],'C':(1,10)}\n",
    "from sklearn.model_selection import GridSearchCV\n",
    "model1 = SVC(random_state=42)\n",
    "gscv = GridSearchCV(model1,params,verbose=3,cv=3)\n",
    "gscv.fit(Xres1,yres1)\n",
    "print(\"Best Score:\",gscv.best_score_)\n",
    "print(\"Best Params:\",gscv.best_params_)"
   ]
  },
  {
   "cell_type": "code",
   "execution_count": 74,
   "metadata": {},
   "outputs": [
    {
     "name": "stdout",
     "output_type": "stream",
     "text": [
      "Fitting 3 folds for each of 6 candidates, totalling 18 fits\n",
      "[CV] C=1, gamma=0.05 .................................................\n"
     ]
    },
    {
     "name": "stderr",
     "output_type": "stream",
     "text": [
      "[Parallel(n_jobs=1)]: Using backend SequentialBackend with 1 concurrent workers.\n"
     ]
    },
    {
     "name": "stdout",
     "output_type": "stream",
     "text": [
      "[CV] ..................... C=1, gamma=0.05, score=0.949, total= 6.6min\n",
      "[CV] C=1, gamma=0.05 .................................................\n"
     ]
    },
    {
     "name": "stderr",
     "output_type": "stream",
     "text": [
      "[Parallel(n_jobs=1)]: Done   1 out of   1 | elapsed:  6.6min remaining:    0.0s\n"
     ]
    },
    {
     "name": "stdout",
     "output_type": "stream",
     "text": [
      "[CV] ..................... C=1, gamma=0.05, score=0.949, total= 8.2min\n",
      "[CV] C=1, gamma=0.05 .................................................\n"
     ]
    },
    {
     "name": "stderr",
     "output_type": "stream",
     "text": [
      "[Parallel(n_jobs=1)]: Done   2 out of   2 | elapsed: 14.8min remaining:    0.0s\n"
     ]
    },
    {
     "name": "stdout",
     "output_type": "stream",
     "text": [
      "[CV] ..................... C=1, gamma=0.05, score=0.949, total= 6.7min\n",
      "[CV] C=1, gamma=0.5 ..................................................\n",
      "[CV] ...................... C=1, gamma=0.5, score=0.986, total= 8.2min\n",
      "[CV] C=1, gamma=0.5 ..................................................\n",
      "[CV] ...................... C=1, gamma=0.5, score=0.986, total= 8.2min\n",
      "[CV] C=1, gamma=0.5 ..................................................\n",
      "[CV] ...................... C=1, gamma=0.5, score=0.986, total= 9.4min\n",
      "[CV] C=5, gamma=0.05 .................................................\n",
      "[CV] ..................... C=5, gamma=0.05, score=0.959, total= 5.2min\n",
      "[CV] C=5, gamma=0.05 .................................................\n",
      "[CV] ..................... C=5, gamma=0.05, score=0.958, total= 5.3min\n",
      "[CV] C=5, gamma=0.05 .................................................\n",
      "[CV] ..................... C=5, gamma=0.05, score=0.960, total= 5.3min\n",
      "[CV] C=5, gamma=0.5 ..................................................\n",
      "[CV] ...................... C=5, gamma=0.5, score=0.990, total= 7.7min\n",
      "[CV] C=5, gamma=0.5 ..................................................\n",
      "[CV] ...................... C=5, gamma=0.5, score=0.990, total= 9.0min\n",
      "[CV] C=5, gamma=0.5 ..................................................\n",
      "[CV] ...................... C=5, gamma=0.5, score=0.990, total= 8.8min\n",
      "[CV] C=10, gamma=0.05 ................................................\n",
      "[CV] .................... C=10, gamma=0.05, score=0.965, total= 4.9min\n",
      "[CV] C=10, gamma=0.05 ................................................\n",
      "[CV] .................... C=10, gamma=0.05, score=0.962, total= 4.9min\n",
      "[CV] C=10, gamma=0.05 ................................................\n",
      "[CV] .................... C=10, gamma=0.05, score=0.965, total= 4.9min\n",
      "[CV] C=10, gamma=0.5 .................................................\n",
      "[CV] ..................... C=10, gamma=0.5, score=0.991, total= 7.7min\n",
      "[CV] C=10, gamma=0.5 .................................................\n",
      "[CV] ..................... C=10, gamma=0.5, score=0.991, total= 9.1min\n",
      "[CV] C=10, gamma=0.5 .................................................\n",
      "[CV] ..................... C=10, gamma=0.5, score=0.991, total= 8.0min\n"
     ]
    },
    {
     "name": "stderr",
     "output_type": "stream",
     "text": [
      "[Parallel(n_jobs=1)]: Done  18 out of  18 | elapsed: 128.0min finished\n"
     ]
    },
    {
     "name": "stdout",
     "output_type": "stream",
     "text": [
      "Best Score: 0.9913303757941726\n",
      "Best Params: {'C': 10, 'gamma': 0.5}\n"
     ]
    }
   ],
   "source": [
    "params = {'gamma':[0.05,0.5],'C':(1,5,10)}\n",
    "from sklearn.model_selection import GridSearchCV\n",
    "model1 = SVC(random_state=42)\n",
    "gscv = GridSearchCV(model1,params,verbose=3,cv=3)\n",
    "gscv.fit(Xres1,yres1)\n",
    "print(\"Best Score:\",gscv.best_score_)\n",
    "print(\"Best Params:\",gscv.best_params_)"
   ]
  },
  {
   "cell_type": "code",
   "execution_count": 75,
   "metadata": {},
   "outputs": [
    {
     "name": "stdout",
     "output_type": "stream",
     "text": [
      "[LibSVM]Time = 1269.5701718330383 seconds\n",
      "Accuracy =  0.9915640871137127\n"
     ]
    }
   ],
   "source": [
    "import time\n",
    "start = time.time()\n",
    "model1 = SVC(verbose=1,random_state=42,C=10,gamma=0.5)\n",
    "model1.fit(X_train,y_train)\n",
    "predict1 = model1.predict(X_test)\n",
    "scored = model1.score(X_test,y_test)\n",
    "end = time.time()\n",
    "print(\"Time =\",end - start, \"seconds\")\n",
    "print(\"Accuracy = \",scored)"
   ]
  },
  {
   "cell_type": "code",
   "execution_count": 76,
   "metadata": {},
   "outputs": [
    {
     "data": {
      "text/plain": [
       "array([[[78311,     8],\n",
       "        [    5,  2995]],\n",
       "\n",
       "       [[67309,    10],\n",
       "        [  118, 13882]],\n",
       "\n",
       "       [[67319,     0],\n",
       "        [    0, 14000]],\n",
       "\n",
       "       [[77315,     4],\n",
       "        [    0,  4000]],\n",
       "\n",
       "       [[68218,   101],\n",
       "        [   15, 12985]],\n",
       "\n",
       "       [[67319,     0],\n",
       "        [    0, 14000]],\n",
       "\n",
       "       [[79719,     0],\n",
       "        [    0,  1600]],\n",
       "\n",
       "       [[74832,   487],\n",
       "        [   52,  5948]],\n",
       "\n",
       "       [[69524,    76],\n",
       "        [  496, 11223]]], dtype=int64)"
      ]
     },
     "execution_count": 76,
     "metadata": {},
     "output_type": "execute_result"
    }
   ],
   "source": [
    "multilabel_confusion_matrix(y_test,predict1)"
   ]
  },
  {
   "cell_type": "code",
   "execution_count": 78,
   "metadata": {},
   "outputs": [
    {
     "data": {
      "text/plain": [
       "0.9964546885755372"
      ]
     },
     "execution_count": 78,
     "metadata": {},
     "output_type": "execute_result"
    }
   ],
   "source": [
    "predict2 = model1.predict(xtest)\n",
    "scored1 = model1.score(xtest,ytest)\n",
    "scored1"
   ]
  },
  {
   "cell_type": "code",
   "execution_count": 79,
   "metadata": {},
   "outputs": [
    {
     "data": {
      "text/plain": [
       "array([[[733408,     35],\n",
       "        [     0,    202]],\n",
       "\n",
       "       [[538481,     15],\n",
       "        [  1366, 193783]],\n",
       "\n",
       "       [[543679,     18],\n",
       "        [     4, 189944]],\n",
       "\n",
       "       [[733334,     11],\n",
       "        [     1,    299]],\n",
       "\n",
       "       [[609372,   1090],\n",
       "        [    30, 123153]],\n",
       "\n",
       "       [[527024,      1],\n",
       "        [    22, 206598]],\n",
       "\n",
       "       [[733547,      0],\n",
       "        [    98,      0]],\n",
       "\n",
       "       [[729094,    936],\n",
       "        [   132,   3483]],\n",
       "\n",
       "       [[718620,    495],\n",
       "        [   948,  13582]]], dtype=int64)"
      ]
     },
     "execution_count": 79,
     "metadata": {},
     "output_type": "execute_result"
    }
   ],
   "source": [
    "multilabel_confusion_matrix(ytest,predict2)"
   ]
  }
 ],
 "metadata": {
  "kernelspec": {
   "display_name": "Python 3",
   "language": "python",
   "name": "python3"
  },
  "language_info": {
   "codemirror_mode": {
    "name": "ipython",
    "version": 3
   },
   "file_extension": ".py",
   "mimetype": "text/x-python",
   "name": "python",
   "nbconvert_exporter": "python",
   "pygments_lexer": "ipython3",
   "version": "3.8.3"
  }
 },
 "nbformat": 4,
 "nbformat_minor": 4
}

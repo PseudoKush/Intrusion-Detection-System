{
  "nbformat": 4,
  "nbformat_minor": 0,
  "metadata": {
    "kernelspec": {
      "display_name": "Python 3",
      "language": "python",
      "name": "python3"
    },
    "language_info": {
      "codemirror_mode": {
        "name": "ipython",
        "version": 3
      },
      "file_extension": ".py",
      "mimetype": "text/x-python",
      "name": "python",
      "nbconvert_exporter": "python",
      "pygments_lexer": "ipython3",
      "version": "3.7.6"
    },
    "colab": {
      "name": "Copy of Review 3.ipynb",
      "provenance": [],
      "collapsed_sections": [
        "Dsyv32A5_MqU",
        "sDTL4SDl_Mqm"
      ],
      "toc_visible": true
    }
  },
  "cells": [
    {
      "cell_type": "code",
      "metadata": {
        "id": "MBPLWbGV_Mo1"
      },
      "source": [
        "import numpy as np\n",
        "import pandas as pd"
      ],
      "execution_count": 1,
      "outputs": []
    },
    {
      "cell_type": "code",
      "metadata": {
        "id": "we0Si6A1ZBtc",
        "outputId": "a02e7c17-184c-43e9-95a3-e695fd76d973",
        "colab": {
          "base_uri": "https://localhost:8080/"
        }
      },
      "source": [
        "from google.colab import drive\n",
        "drive.mount('/content/drive')"
      ],
      "execution_count": 2,
      "outputs": [
        {
          "output_type": "stream",
          "text": [
            "Drive already mounted at /content/drive; to attempt to forcibly remount, call drive.mount(\"/content/drive\", force_remount=True).\n"
          ],
          "name": "stdout"
        }
      ]
    },
    {
      "cell_type": "code",
      "metadata": {
        "id": "GV_ZmVg1_Mo5"
      },
      "source": [
        "import matplotlib.pyplot as plt\n",
        "%matplotlib inline\n",
        "import seaborn as sns\n",
        "sns.set_style('darkgrid')"
      ],
      "execution_count": 3,
      "outputs": []
    },
    {
      "cell_type": "code",
      "metadata": {
        "id": "EMM2v5I1_Mo7"
      },
      "source": [
        "data_train = pd.read_csv('/content/drive/My Drive/DATASETIOT/UNSW_2018_IoT_Botnet_Final_10_best_Training.csv')\n",
        "data_test = pd.read_csv('/content/drive/My Drive/DATASETIOT/UNSW_2018_IoT_Botnet_Final_10_best_Testing.csv')"
      ],
      "execution_count": 4,
      "outputs": []
    },
    {
      "cell_type": "code",
      "metadata": {
        "id": "CupZ2Epx_Mo-",
        "outputId": "491d91e7-1c43-4148-be3b-732a1dae1c46",
        "colab": {
          "base_uri": "https://localhost:8080/",
          "height": 214
        }
      },
      "source": [
        "data_train.head()"
      ],
      "execution_count": 5,
      "outputs": [
        {
          "output_type": "execute_result",
          "data": {
            "text/html": [
              "<div>\n",
              "<style scoped>\n",
              "    .dataframe tbody tr th:only-of-type {\n",
              "        vertical-align: middle;\n",
              "    }\n",
              "\n",
              "    .dataframe tbody tr th {\n",
              "        vertical-align: top;\n",
              "    }\n",
              "\n",
              "    .dataframe thead th {\n",
              "        text-align: right;\n",
              "    }\n",
              "</style>\n",
              "<table border=\"1\" class=\"dataframe\">\n",
              "  <thead>\n",
              "    <tr style=\"text-align: right;\">\n",
              "      <th></th>\n",
              "      <th>pkSeqID</th>\n",
              "      <th>proto</th>\n",
              "      <th>saddr</th>\n",
              "      <th>sport</th>\n",
              "      <th>daddr</th>\n",
              "      <th>dport</th>\n",
              "      <th>seq</th>\n",
              "      <th>stddev</th>\n",
              "      <th>N_IN_Conn_P_SrcIP</th>\n",
              "      <th>min</th>\n",
              "      <th>state_number</th>\n",
              "      <th>mean</th>\n",
              "      <th>N_IN_Conn_P_DstIP</th>\n",
              "      <th>drate</th>\n",
              "      <th>srate</th>\n",
              "      <th>max</th>\n",
              "      <th>attack</th>\n",
              "      <th>category</th>\n",
              "      <th>subcategory</th>\n",
              "    </tr>\n",
              "  </thead>\n",
              "  <tbody>\n",
              "    <tr>\n",
              "      <th>0</th>\n",
              "      <td>3142762</td>\n",
              "      <td>udp</td>\n",
              "      <td>192.168.100.150</td>\n",
              "      <td>6551</td>\n",
              "      <td>192.168.100.3</td>\n",
              "      <td>80</td>\n",
              "      <td>251984</td>\n",
              "      <td>1.900363</td>\n",
              "      <td>100</td>\n",
              "      <td>0.000000</td>\n",
              "      <td>4</td>\n",
              "      <td>2.687519</td>\n",
              "      <td>100</td>\n",
              "      <td>0.0</td>\n",
              "      <td>0.494549</td>\n",
              "      <td>4.031619</td>\n",
              "      <td>1</td>\n",
              "      <td>DDoS</td>\n",
              "      <td>UDP</td>\n",
              "    </tr>\n",
              "    <tr>\n",
              "      <th>1</th>\n",
              "      <td>2432264</td>\n",
              "      <td>tcp</td>\n",
              "      <td>192.168.100.150</td>\n",
              "      <td>5532</td>\n",
              "      <td>192.168.100.3</td>\n",
              "      <td>80</td>\n",
              "      <td>256724</td>\n",
              "      <td>0.078003</td>\n",
              "      <td>38</td>\n",
              "      <td>3.856930</td>\n",
              "      <td>3</td>\n",
              "      <td>3.934927</td>\n",
              "      <td>100</td>\n",
              "      <td>0.0</td>\n",
              "      <td>0.256493</td>\n",
              "      <td>4.012924</td>\n",
              "      <td>1</td>\n",
              "      <td>DDoS</td>\n",
              "      <td>TCP</td>\n",
              "    </tr>\n",
              "    <tr>\n",
              "      <th>2</th>\n",
              "      <td>1976315</td>\n",
              "      <td>tcp</td>\n",
              "      <td>192.168.100.147</td>\n",
              "      <td>27165</td>\n",
              "      <td>192.168.100.3</td>\n",
              "      <td>80</td>\n",
              "      <td>62921</td>\n",
              "      <td>0.268666</td>\n",
              "      <td>100</td>\n",
              "      <td>2.974100</td>\n",
              "      <td>3</td>\n",
              "      <td>3.341429</td>\n",
              "      <td>100</td>\n",
              "      <td>0.0</td>\n",
              "      <td>0.294880</td>\n",
              "      <td>3.609205</td>\n",
              "      <td>1</td>\n",
              "      <td>DDoS</td>\n",
              "      <td>TCP</td>\n",
              "    </tr>\n",
              "    <tr>\n",
              "      <th>3</th>\n",
              "      <td>1240757</td>\n",
              "      <td>udp</td>\n",
              "      <td>192.168.100.150</td>\n",
              "      <td>48719</td>\n",
              "      <td>192.168.100.3</td>\n",
              "      <td>80</td>\n",
              "      <td>99168</td>\n",
              "      <td>1.823185</td>\n",
              "      <td>63</td>\n",
              "      <td>0.000000</td>\n",
              "      <td>4</td>\n",
              "      <td>3.222832</td>\n",
              "      <td>63</td>\n",
              "      <td>0.0</td>\n",
              "      <td>0.461435</td>\n",
              "      <td>4.942302</td>\n",
              "      <td>1</td>\n",
              "      <td>DoS</td>\n",
              "      <td>UDP</td>\n",
              "    </tr>\n",
              "    <tr>\n",
              "      <th>4</th>\n",
              "      <td>3257991</td>\n",
              "      <td>udp</td>\n",
              "      <td>192.168.100.147</td>\n",
              "      <td>22461</td>\n",
              "      <td>192.168.100.3</td>\n",
              "      <td>80</td>\n",
              "      <td>105063</td>\n",
              "      <td>0.822418</td>\n",
              "      <td>100</td>\n",
              "      <td>2.979995</td>\n",
              "      <td>4</td>\n",
              "      <td>3.983222</td>\n",
              "      <td>100</td>\n",
              "      <td>0.0</td>\n",
              "      <td>1.002999</td>\n",
              "      <td>4.994452</td>\n",
              "      <td>1</td>\n",
              "      <td>DDoS</td>\n",
              "      <td>UDP</td>\n",
              "    </tr>\n",
              "  </tbody>\n",
              "</table>\n",
              "</div>"
            ],
            "text/plain": [
              "   pkSeqID proto            saddr  sport  ...       max attack  category  subcategory\n",
              "0  3142762   udp  192.168.100.150   6551  ...  4.031619      1      DDoS          UDP\n",
              "1  2432264   tcp  192.168.100.150   5532  ...  4.012924      1      DDoS          TCP\n",
              "2  1976315   tcp  192.168.100.147  27165  ...  3.609205      1      DDoS          TCP\n",
              "3  1240757   udp  192.168.100.150  48719  ...  4.942302      1       DoS          UDP\n",
              "4  3257991   udp  192.168.100.147  22461  ...  4.994452      1      DDoS          UDP\n",
              "\n",
              "[5 rows x 19 columns]"
            ]
          },
          "metadata": {
            "tags": []
          },
          "execution_count": 5
        }
      ]
    },
    {
      "cell_type": "code",
      "metadata": {
        "id": "rxU-mffV_MpB",
        "outputId": "0b6da712-7d39-46c1-e4cd-b121e7fc2fb2",
        "colab": {
          "base_uri": "https://localhost:8080/"
        }
      },
      "source": [
        "data_train.info()"
      ],
      "execution_count": 6,
      "outputs": [
        {
          "output_type": "stream",
          "text": [
            "<class 'pandas.core.frame.DataFrame'>\n",
            "RangeIndex: 2934817 entries, 0 to 2934816\n",
            "Data columns (total 19 columns):\n",
            " #   Column             Dtype  \n",
            "---  ------             -----  \n",
            " 0   pkSeqID            int64  \n",
            " 1   proto              object \n",
            " 2   saddr              object \n",
            " 3   sport              object \n",
            " 4   daddr              object \n",
            " 5   dport              object \n",
            " 6   seq                int64  \n",
            " 7   stddev             float64\n",
            " 8   N_IN_Conn_P_SrcIP  int64  \n",
            " 9   min                float64\n",
            " 10  state_number       int64  \n",
            " 11  mean               float64\n",
            " 12  N_IN_Conn_P_DstIP  int64  \n",
            " 13  drate              float64\n",
            " 14  srate              float64\n",
            " 15  max                float64\n",
            " 16  attack             int64  \n",
            " 17  category           object \n",
            " 18  subcategory        object \n",
            "dtypes: float64(6), int64(6), object(7)\n",
            "memory usage: 425.4+ MB\n"
          ],
          "name": "stdout"
        }
      ]
    },
    {
      "cell_type": "code",
      "metadata": {
        "id": "_WYAHxEq_MpE",
        "outputId": "6b567350-326f-4feb-9dd4-48d147d1ccdd",
        "colab": {
          "base_uri": "https://localhost:8080/"
        }
      },
      "source": [
        "data_train.dtypes[data_train.dtypes=='object']"
      ],
      "execution_count": 7,
      "outputs": [
        {
          "output_type": "execute_result",
          "data": {
            "text/plain": [
              "proto          object\n",
              "saddr          object\n",
              "sport          object\n",
              "daddr          object\n",
              "dport          object\n",
              "category       object\n",
              "subcategory    object\n",
              "dtype: object"
            ]
          },
          "metadata": {
            "tags": []
          },
          "execution_count": 7
        }
      ]
    },
    {
      "cell_type": "code",
      "metadata": {
        "id": "GQ0kMkuj_MpG",
        "outputId": "aa86467e-adc9-4cf4-bf38-d707081ed423",
        "colab": {
          "base_uri": "https://localhost:8080/"
        }
      },
      "source": [
        "data_train['category'].value_counts()"
      ],
      "execution_count": 8,
      "outputs": [
        {
          "output_type": "execute_result",
          "data": {
            "text/plain": [
              "DDoS              1541315\n",
              "DoS               1320148\n",
              "Reconnaissance      72919\n",
              "Normal                370\n",
              "Theft                  65\n",
              "Name: category, dtype: int64"
            ]
          },
          "metadata": {
            "tags": []
          },
          "execution_count": 8
        }
      ]
    },
    {
      "cell_type": "code",
      "metadata": {
        "id": "oBbN9kYb_MpJ",
        "outputId": "e6935d40-0c29-4170-ed43-6dd7af12f917",
        "colab": {
          "base_uri": "https://localhost:8080/",
          "height": 419
        }
      },
      "source": [
        "data_train.groupby(['category','subcategory']).count()"
      ],
      "execution_count": 9,
      "outputs": [
        {
          "output_type": "execute_result",
          "data": {
            "text/html": [
              "<div>\n",
              "<style scoped>\n",
              "    .dataframe tbody tr th:only-of-type {\n",
              "        vertical-align: middle;\n",
              "    }\n",
              "\n",
              "    .dataframe tbody tr th {\n",
              "        vertical-align: top;\n",
              "    }\n",
              "\n",
              "    .dataframe thead th {\n",
              "        text-align: right;\n",
              "    }\n",
              "</style>\n",
              "<table border=\"1\" class=\"dataframe\">\n",
              "  <thead>\n",
              "    <tr style=\"text-align: right;\">\n",
              "      <th></th>\n",
              "      <th></th>\n",
              "      <th>pkSeqID</th>\n",
              "      <th>proto</th>\n",
              "      <th>saddr</th>\n",
              "      <th>sport</th>\n",
              "      <th>daddr</th>\n",
              "      <th>dport</th>\n",
              "      <th>seq</th>\n",
              "      <th>stddev</th>\n",
              "      <th>N_IN_Conn_P_SrcIP</th>\n",
              "      <th>min</th>\n",
              "      <th>state_number</th>\n",
              "      <th>mean</th>\n",
              "      <th>N_IN_Conn_P_DstIP</th>\n",
              "      <th>drate</th>\n",
              "      <th>srate</th>\n",
              "      <th>max</th>\n",
              "      <th>attack</th>\n",
              "    </tr>\n",
              "    <tr>\n",
              "      <th>category</th>\n",
              "      <th>subcategory</th>\n",
              "      <th></th>\n",
              "      <th></th>\n",
              "      <th></th>\n",
              "      <th></th>\n",
              "      <th></th>\n",
              "      <th></th>\n",
              "      <th></th>\n",
              "      <th></th>\n",
              "      <th></th>\n",
              "      <th></th>\n",
              "      <th></th>\n",
              "      <th></th>\n",
              "      <th></th>\n",
              "      <th></th>\n",
              "      <th></th>\n",
              "      <th></th>\n",
              "      <th></th>\n",
              "    </tr>\n",
              "  </thead>\n",
              "  <tbody>\n",
              "    <tr>\n",
              "      <th rowspan=\"3\" valign=\"top\">DDoS</th>\n",
              "      <th>HTTP</th>\n",
              "      <td>786</td>\n",
              "      <td>786</td>\n",
              "      <td>786</td>\n",
              "      <td>786</td>\n",
              "      <td>786</td>\n",
              "      <td>786</td>\n",
              "      <td>786</td>\n",
              "      <td>786</td>\n",
              "      <td>786</td>\n",
              "      <td>786</td>\n",
              "      <td>786</td>\n",
              "      <td>786</td>\n",
              "      <td>786</td>\n",
              "      <td>786</td>\n",
              "      <td>786</td>\n",
              "      <td>786</td>\n",
              "      <td>786</td>\n",
              "    </tr>\n",
              "    <tr>\n",
              "      <th>TCP</th>\n",
              "      <td>782228</td>\n",
              "      <td>782228</td>\n",
              "      <td>782228</td>\n",
              "      <td>782228</td>\n",
              "      <td>782228</td>\n",
              "      <td>782228</td>\n",
              "      <td>782228</td>\n",
              "      <td>782228</td>\n",
              "      <td>782228</td>\n",
              "      <td>782228</td>\n",
              "      <td>782228</td>\n",
              "      <td>782228</td>\n",
              "      <td>782228</td>\n",
              "      <td>782228</td>\n",
              "      <td>782228</td>\n",
              "      <td>782228</td>\n",
              "      <td>782228</td>\n",
              "    </tr>\n",
              "    <tr>\n",
              "      <th>UDP</th>\n",
              "      <td>758301</td>\n",
              "      <td>758301</td>\n",
              "      <td>758301</td>\n",
              "      <td>758301</td>\n",
              "      <td>758301</td>\n",
              "      <td>758301</td>\n",
              "      <td>758301</td>\n",
              "      <td>758301</td>\n",
              "      <td>758301</td>\n",
              "      <td>758301</td>\n",
              "      <td>758301</td>\n",
              "      <td>758301</td>\n",
              "      <td>758301</td>\n",
              "      <td>758301</td>\n",
              "      <td>758301</td>\n",
              "      <td>758301</td>\n",
              "      <td>758301</td>\n",
              "    </tr>\n",
              "    <tr>\n",
              "      <th rowspan=\"3\" valign=\"top\">DoS</th>\n",
              "      <th>HTTP</th>\n",
              "      <td>1184</td>\n",
              "      <td>1184</td>\n",
              "      <td>1184</td>\n",
              "      <td>1184</td>\n",
              "      <td>1184</td>\n",
              "      <td>1184</td>\n",
              "      <td>1184</td>\n",
              "      <td>1184</td>\n",
              "      <td>1184</td>\n",
              "      <td>1184</td>\n",
              "      <td>1184</td>\n",
              "      <td>1184</td>\n",
              "      <td>1184</td>\n",
              "      <td>1184</td>\n",
              "      <td>1184</td>\n",
              "      <td>1184</td>\n",
              "      <td>1184</td>\n",
              "    </tr>\n",
              "    <tr>\n",
              "      <th>TCP</th>\n",
              "      <td>492615</td>\n",
              "      <td>492615</td>\n",
              "      <td>492615</td>\n",
              "      <td>492615</td>\n",
              "      <td>492615</td>\n",
              "      <td>492615</td>\n",
              "      <td>492615</td>\n",
              "      <td>492615</td>\n",
              "      <td>492615</td>\n",
              "      <td>492615</td>\n",
              "      <td>492615</td>\n",
              "      <td>492615</td>\n",
              "      <td>492615</td>\n",
              "      <td>492615</td>\n",
              "      <td>492615</td>\n",
              "      <td>492615</td>\n",
              "      <td>492615</td>\n",
              "    </tr>\n",
              "    <tr>\n",
              "      <th>UDP</th>\n",
              "      <td>826349</td>\n",
              "      <td>826349</td>\n",
              "      <td>826349</td>\n",
              "      <td>826349</td>\n",
              "      <td>826349</td>\n",
              "      <td>826349</td>\n",
              "      <td>826349</td>\n",
              "      <td>826349</td>\n",
              "      <td>826349</td>\n",
              "      <td>826349</td>\n",
              "      <td>826349</td>\n",
              "      <td>826349</td>\n",
              "      <td>826349</td>\n",
              "      <td>826349</td>\n",
              "      <td>826349</td>\n",
              "      <td>826349</td>\n",
              "      <td>826349</td>\n",
              "    </tr>\n",
              "    <tr>\n",
              "      <th>Normal</th>\n",
              "      <th>Normal</th>\n",
              "      <td>370</td>\n",
              "      <td>370</td>\n",
              "      <td>370</td>\n",
              "      <td>370</td>\n",
              "      <td>370</td>\n",
              "      <td>370</td>\n",
              "      <td>370</td>\n",
              "      <td>370</td>\n",
              "      <td>370</td>\n",
              "      <td>370</td>\n",
              "      <td>370</td>\n",
              "      <td>370</td>\n",
              "      <td>370</td>\n",
              "      <td>370</td>\n",
              "      <td>370</td>\n",
              "      <td>370</td>\n",
              "      <td>370</td>\n",
              "    </tr>\n",
              "    <tr>\n",
              "      <th rowspan=\"2\" valign=\"top\">Reconnaissance</th>\n",
              "      <th>OS_Fingerprint</th>\n",
              "      <td>14293</td>\n",
              "      <td>14293</td>\n",
              "      <td>14293</td>\n",
              "      <td>14293</td>\n",
              "      <td>14293</td>\n",
              "      <td>14293</td>\n",
              "      <td>14293</td>\n",
              "      <td>14293</td>\n",
              "      <td>14293</td>\n",
              "      <td>14293</td>\n",
              "      <td>14293</td>\n",
              "      <td>14293</td>\n",
              "      <td>14293</td>\n",
              "      <td>14293</td>\n",
              "      <td>14293</td>\n",
              "      <td>14293</td>\n",
              "      <td>14293</td>\n",
              "    </tr>\n",
              "    <tr>\n",
              "      <th>Service_Scan</th>\n",
              "      <td>58626</td>\n",
              "      <td>58626</td>\n",
              "      <td>58626</td>\n",
              "      <td>58626</td>\n",
              "      <td>58626</td>\n",
              "      <td>58626</td>\n",
              "      <td>58626</td>\n",
              "      <td>58626</td>\n",
              "      <td>58626</td>\n",
              "      <td>58626</td>\n",
              "      <td>58626</td>\n",
              "      <td>58626</td>\n",
              "      <td>58626</td>\n",
              "      <td>58626</td>\n",
              "      <td>58626</td>\n",
              "      <td>58626</td>\n",
              "      <td>58626</td>\n",
              "    </tr>\n",
              "    <tr>\n",
              "      <th rowspan=\"2\" valign=\"top\">Theft</th>\n",
              "      <th>Data_Exfiltration</th>\n",
              "      <td>6</td>\n",
              "      <td>6</td>\n",
              "      <td>6</td>\n",
              "      <td>6</td>\n",
              "      <td>6</td>\n",
              "      <td>6</td>\n",
              "      <td>6</td>\n",
              "      <td>6</td>\n",
              "      <td>6</td>\n",
              "      <td>6</td>\n",
              "      <td>6</td>\n",
              "      <td>6</td>\n",
              "      <td>6</td>\n",
              "      <td>6</td>\n",
              "      <td>6</td>\n",
              "      <td>6</td>\n",
              "      <td>6</td>\n",
              "    </tr>\n",
              "    <tr>\n",
              "      <th>Keylogging</th>\n",
              "      <td>59</td>\n",
              "      <td>59</td>\n",
              "      <td>59</td>\n",
              "      <td>59</td>\n",
              "      <td>59</td>\n",
              "      <td>59</td>\n",
              "      <td>59</td>\n",
              "      <td>59</td>\n",
              "      <td>59</td>\n",
              "      <td>59</td>\n",
              "      <td>59</td>\n",
              "      <td>59</td>\n",
              "      <td>59</td>\n",
              "      <td>59</td>\n",
              "      <td>59</td>\n",
              "      <td>59</td>\n",
              "      <td>59</td>\n",
              "    </tr>\n",
              "  </tbody>\n",
              "</table>\n",
              "</div>"
            ],
            "text/plain": [
              "                                  pkSeqID   proto  ...     max  attack\n",
              "category       subcategory                         ...                \n",
              "DDoS           HTTP                   786     786  ...     786     786\n",
              "               TCP                 782228  782228  ...  782228  782228\n",
              "               UDP                 758301  758301  ...  758301  758301\n",
              "DoS            HTTP                  1184    1184  ...    1184    1184\n",
              "               TCP                 492615  492615  ...  492615  492615\n",
              "               UDP                 826349  826349  ...  826349  826349\n",
              "Normal         Normal                 370     370  ...     370     370\n",
              "Reconnaissance OS_Fingerprint       14293   14293  ...   14293   14293\n",
              "               Service_Scan         58626   58626  ...   58626   58626\n",
              "Theft          Data_Exfiltration        6       6  ...       6       6\n",
              "               Keylogging              59      59  ...      59      59\n",
              "\n",
              "[11 rows x 17 columns]"
            ]
          },
          "metadata": {
            "tags": []
          },
          "execution_count": 9
        }
      ]
    },
    {
      "cell_type": "code",
      "metadata": {
        "id": "DVNlvjto_MpM",
        "outputId": "57c80afc-4200-48b0-bc07-ce2468532013",
        "colab": {
          "base_uri": "https://localhost:8080/"
        }
      },
      "source": [
        "data_train.groupby(['category'])['subcategory'].value_counts()"
      ],
      "execution_count": 10,
      "outputs": [
        {
          "output_type": "execute_result",
          "data": {
            "text/plain": [
              "category        subcategory      \n",
              "DDoS            TCP                  782228\n",
              "                UDP                  758301\n",
              "                HTTP                    786\n",
              "DoS             UDP                  826349\n",
              "                TCP                  492615\n",
              "                HTTP                   1184\n",
              "Normal          Normal                  370\n",
              "Reconnaissance  Service_Scan          58626\n",
              "                OS_Fingerprint        14293\n",
              "Theft           Keylogging               59\n",
              "                Data_Exfiltration         6\n",
              "Name: subcategory, dtype: int64"
            ]
          },
          "metadata": {
            "tags": []
          },
          "execution_count": 10
        }
      ]
    },
    {
      "cell_type": "code",
      "metadata": {
        "id": "1bUZoPEO_MpO",
        "outputId": "9dcb641a-8751-4bf3-992d-35fe248ace89",
        "colab": {
          "base_uri": "https://localhost:8080/",
          "height": 214
        }
      },
      "source": [
        "data_train['target'] = data_train['category'] + \"_\" + data_train['subcategory']\n",
        "data_train.head()"
      ],
      "execution_count": 11,
      "outputs": [
        {
          "output_type": "execute_result",
          "data": {
            "text/html": [
              "<div>\n",
              "<style scoped>\n",
              "    .dataframe tbody tr th:only-of-type {\n",
              "        vertical-align: middle;\n",
              "    }\n",
              "\n",
              "    .dataframe tbody tr th {\n",
              "        vertical-align: top;\n",
              "    }\n",
              "\n",
              "    .dataframe thead th {\n",
              "        text-align: right;\n",
              "    }\n",
              "</style>\n",
              "<table border=\"1\" class=\"dataframe\">\n",
              "  <thead>\n",
              "    <tr style=\"text-align: right;\">\n",
              "      <th></th>\n",
              "      <th>pkSeqID</th>\n",
              "      <th>proto</th>\n",
              "      <th>saddr</th>\n",
              "      <th>sport</th>\n",
              "      <th>daddr</th>\n",
              "      <th>dport</th>\n",
              "      <th>seq</th>\n",
              "      <th>stddev</th>\n",
              "      <th>N_IN_Conn_P_SrcIP</th>\n",
              "      <th>min</th>\n",
              "      <th>state_number</th>\n",
              "      <th>mean</th>\n",
              "      <th>N_IN_Conn_P_DstIP</th>\n",
              "      <th>drate</th>\n",
              "      <th>srate</th>\n",
              "      <th>max</th>\n",
              "      <th>attack</th>\n",
              "      <th>category</th>\n",
              "      <th>subcategory</th>\n",
              "      <th>target</th>\n",
              "    </tr>\n",
              "  </thead>\n",
              "  <tbody>\n",
              "    <tr>\n",
              "      <th>0</th>\n",
              "      <td>3142762</td>\n",
              "      <td>udp</td>\n",
              "      <td>192.168.100.150</td>\n",
              "      <td>6551</td>\n",
              "      <td>192.168.100.3</td>\n",
              "      <td>80</td>\n",
              "      <td>251984</td>\n",
              "      <td>1.900363</td>\n",
              "      <td>100</td>\n",
              "      <td>0.000000</td>\n",
              "      <td>4</td>\n",
              "      <td>2.687519</td>\n",
              "      <td>100</td>\n",
              "      <td>0.0</td>\n",
              "      <td>0.494549</td>\n",
              "      <td>4.031619</td>\n",
              "      <td>1</td>\n",
              "      <td>DDoS</td>\n",
              "      <td>UDP</td>\n",
              "      <td>DDoS_UDP</td>\n",
              "    </tr>\n",
              "    <tr>\n",
              "      <th>1</th>\n",
              "      <td>2432264</td>\n",
              "      <td>tcp</td>\n",
              "      <td>192.168.100.150</td>\n",
              "      <td>5532</td>\n",
              "      <td>192.168.100.3</td>\n",
              "      <td>80</td>\n",
              "      <td>256724</td>\n",
              "      <td>0.078003</td>\n",
              "      <td>38</td>\n",
              "      <td>3.856930</td>\n",
              "      <td>3</td>\n",
              "      <td>3.934927</td>\n",
              "      <td>100</td>\n",
              "      <td>0.0</td>\n",
              "      <td>0.256493</td>\n",
              "      <td>4.012924</td>\n",
              "      <td>1</td>\n",
              "      <td>DDoS</td>\n",
              "      <td>TCP</td>\n",
              "      <td>DDoS_TCP</td>\n",
              "    </tr>\n",
              "    <tr>\n",
              "      <th>2</th>\n",
              "      <td>1976315</td>\n",
              "      <td>tcp</td>\n",
              "      <td>192.168.100.147</td>\n",
              "      <td>27165</td>\n",
              "      <td>192.168.100.3</td>\n",
              "      <td>80</td>\n",
              "      <td>62921</td>\n",
              "      <td>0.268666</td>\n",
              "      <td>100</td>\n",
              "      <td>2.974100</td>\n",
              "      <td>3</td>\n",
              "      <td>3.341429</td>\n",
              "      <td>100</td>\n",
              "      <td>0.0</td>\n",
              "      <td>0.294880</td>\n",
              "      <td>3.609205</td>\n",
              "      <td>1</td>\n",
              "      <td>DDoS</td>\n",
              "      <td>TCP</td>\n",
              "      <td>DDoS_TCP</td>\n",
              "    </tr>\n",
              "    <tr>\n",
              "      <th>3</th>\n",
              "      <td>1240757</td>\n",
              "      <td>udp</td>\n",
              "      <td>192.168.100.150</td>\n",
              "      <td>48719</td>\n",
              "      <td>192.168.100.3</td>\n",
              "      <td>80</td>\n",
              "      <td>99168</td>\n",
              "      <td>1.823185</td>\n",
              "      <td>63</td>\n",
              "      <td>0.000000</td>\n",
              "      <td>4</td>\n",
              "      <td>3.222832</td>\n",
              "      <td>63</td>\n",
              "      <td>0.0</td>\n",
              "      <td>0.461435</td>\n",
              "      <td>4.942302</td>\n",
              "      <td>1</td>\n",
              "      <td>DoS</td>\n",
              "      <td>UDP</td>\n",
              "      <td>DoS_UDP</td>\n",
              "    </tr>\n",
              "    <tr>\n",
              "      <th>4</th>\n",
              "      <td>3257991</td>\n",
              "      <td>udp</td>\n",
              "      <td>192.168.100.147</td>\n",
              "      <td>22461</td>\n",
              "      <td>192.168.100.3</td>\n",
              "      <td>80</td>\n",
              "      <td>105063</td>\n",
              "      <td>0.822418</td>\n",
              "      <td>100</td>\n",
              "      <td>2.979995</td>\n",
              "      <td>4</td>\n",
              "      <td>3.983222</td>\n",
              "      <td>100</td>\n",
              "      <td>0.0</td>\n",
              "      <td>1.002999</td>\n",
              "      <td>4.994452</td>\n",
              "      <td>1</td>\n",
              "      <td>DDoS</td>\n",
              "      <td>UDP</td>\n",
              "      <td>DDoS_UDP</td>\n",
              "    </tr>\n",
              "  </tbody>\n",
              "</table>\n",
              "</div>"
            ],
            "text/plain": [
              "   pkSeqID proto            saddr  sport  ... attack category  subcategory    target\n",
              "0  3142762   udp  192.168.100.150   6551  ...      1     DDoS          UDP  DDoS_UDP\n",
              "1  2432264   tcp  192.168.100.150   5532  ...      1     DDoS          TCP  DDoS_TCP\n",
              "2  1976315   tcp  192.168.100.147  27165  ...      1     DDoS          TCP  DDoS_TCP\n",
              "3  1240757   udp  192.168.100.150  48719  ...      1      DoS          UDP   DoS_UDP\n",
              "4  3257991   udp  192.168.100.147  22461  ...      1     DDoS          UDP  DDoS_UDP\n",
              "\n",
              "[5 rows x 20 columns]"
            ]
          },
          "metadata": {
            "tags": []
          },
          "execution_count": 11
        }
      ]
    },
    {
      "cell_type": "code",
      "metadata": {
        "id": "oeXG_r2T_MpR",
        "outputId": "b471fb75-e281-44a9-fa2a-e3b4145f8e0e",
        "colab": {
          "base_uri": "https://localhost:8080/",
          "height": 555
        }
      },
      "source": [
        "plt.figure(figsize=(10,5))\n",
        "plt.xticks(rotation=90)\n",
        "sns.countplot(data_train['target'],palette='Accent')"
      ],
      "execution_count": 12,
      "outputs": [
        {
          "output_type": "stream",
          "text": [
            "/usr/local/lib/python3.6/dist-packages/seaborn/_decorators.py:43: FutureWarning: Pass the following variable as a keyword arg: x. From version 0.12, the only valid positional argument will be `data`, and passing other arguments without an explicit keyword will result in an error or misinterpretation.\n",
            "  FutureWarning\n"
          ],
          "name": "stderr"
        },
        {
          "output_type": "execute_result",
          "data": {
            "text/plain": [
              "<matplotlib.axes._subplots.AxesSubplot at 0x7f9b061b9128>"
            ]
          },
          "metadata": {
            "tags": []
          },
          "execution_count": 12
        },
        {
          "output_type": "display_data",
          "data": {
            "image/png": "[encoded data removed]",
            "text/plain": [
              "<Figure size 720x360 with 1 Axes>"
            ]
          },
          "metadata": {
            "tags": []
          }
        }
      ]
    },
    {
      "cell_type": "code",
      "metadata": {
        "id": "vHTO3363_MpU"
      },
      "source": [
        "indexNames = data_train[data_train['category']=='Theft'].index\n",
        "data_train.drop(indexNames , inplace=True)"
      ],
      "execution_count": 13,
      "outputs": []
    },
    {
      "cell_type": "code",
      "metadata": {
        "id": "ta6LXmnj_MpZ"
      },
      "source": [
        "indexNames = data_test[data_test['category']=='Theft'].index\n",
        "data_test.drop(indexNames , inplace=True)"
      ],
      "execution_count": 14,
      "outputs": []
    },
    {
      "cell_type": "code",
      "metadata": {
        "id": "sTAVYAuu_Mpd",
        "outputId": "311412af-90fb-4cb8-feff-2e5e72891052",
        "colab": {
          "base_uri": "https://localhost:8080/",
          "height": 214
        }
      },
      "source": [
        "data_test['target'] = data_test['category'] + \"_\" + data_test['subcategory']\n",
        "data_test.head()"
      ],
      "execution_count": 15,
      "outputs": [
        {
          "output_type": "execute_result",
          "data": {
            "text/html": [
              "<div>\n",
              "<style scoped>\n",
              "    .dataframe tbody tr th:only-of-type {\n",
              "        vertical-align: middle;\n",
              "    }\n",
              "\n",
              "    .dataframe tbody tr th {\n",
              "        vertical-align: top;\n",
              "    }\n",
              "\n",
              "    .dataframe thead th {\n",
              "        text-align: right;\n",
              "    }\n",
              "</style>\n",
              "<table border=\"1\" class=\"dataframe\">\n",
              "  <thead>\n",
              "    <tr style=\"text-align: right;\">\n",
              "      <th></th>\n",
              "      <th>pkSeqID</th>\n",
              "      <th>proto</th>\n",
              "      <th>saddr</th>\n",
              "      <th>sport</th>\n",
              "      <th>daddr</th>\n",
              "      <th>dport</th>\n",
              "      <th>seq</th>\n",
              "      <th>stddev</th>\n",
              "      <th>N_IN_Conn_P_SrcIP</th>\n",
              "      <th>min</th>\n",
              "      <th>state_number</th>\n",
              "      <th>mean</th>\n",
              "      <th>N_IN_Conn_P_DstIP</th>\n",
              "      <th>drate</th>\n",
              "      <th>srate</th>\n",
              "      <th>max</th>\n",
              "      <th>attack</th>\n",
              "      <th>category</th>\n",
              "      <th>subcategory</th>\n",
              "      <th>target</th>\n",
              "    </tr>\n",
              "  </thead>\n",
              "  <tbody>\n",
              "    <tr>\n",
              "      <th>0</th>\n",
              "      <td>792371</td>\n",
              "      <td>udp</td>\n",
              "      <td>192.168.100.150</td>\n",
              "      <td>48516</td>\n",
              "      <td>192.168.100.3</td>\n",
              "      <td>80</td>\n",
              "      <td>175094</td>\n",
              "      <td>0.226784</td>\n",
              "      <td>100</td>\n",
              "      <td>4.100436</td>\n",
              "      <td>4</td>\n",
              "      <td>4.457383</td>\n",
              "      <td>100</td>\n",
              "      <td>0.000000</td>\n",
              "      <td>0.404711</td>\n",
              "      <td>4.719438</td>\n",
              "      <td>1</td>\n",
              "      <td>DoS</td>\n",
              "      <td>UDP</td>\n",
              "      <td>DoS_UDP</td>\n",
              "    </tr>\n",
              "    <tr>\n",
              "      <th>1</th>\n",
              "      <td>2056418</td>\n",
              "      <td>tcp</td>\n",
              "      <td>192.168.100.148</td>\n",
              "      <td>22267</td>\n",
              "      <td>192.168.100.3</td>\n",
              "      <td>80</td>\n",
              "      <td>143024</td>\n",
              "      <td>0.451998</td>\n",
              "      <td>100</td>\n",
              "      <td>3.439257</td>\n",
              "      <td>1</td>\n",
              "      <td>3.806172</td>\n",
              "      <td>100</td>\n",
              "      <td>0.225077</td>\n",
              "      <td>0.401397</td>\n",
              "      <td>4.442930</td>\n",
              "      <td>1</td>\n",
              "      <td>DDoS</td>\n",
              "      <td>TCP</td>\n",
              "      <td>DDoS_TCP</td>\n",
              "    </tr>\n",
              "    <tr>\n",
              "      <th>2</th>\n",
              "      <td>2795650</td>\n",
              "      <td>udp</td>\n",
              "      <td>192.168.100.149</td>\n",
              "      <td>28629</td>\n",
              "      <td>192.168.100.3</td>\n",
              "      <td>80</td>\n",
              "      <td>167033</td>\n",
              "      <td>1.931553</td>\n",
              "      <td>73</td>\n",
              "      <td>0.000000</td>\n",
              "      <td>4</td>\n",
              "      <td>2.731204</td>\n",
              "      <td>100</td>\n",
              "      <td>0.000000</td>\n",
              "      <td>0.407287</td>\n",
              "      <td>4.138455</td>\n",
              "      <td>1</td>\n",
              "      <td>DDoS</td>\n",
              "      <td>UDP</td>\n",
              "      <td>DDoS_UDP</td>\n",
              "    </tr>\n",
              "    <tr>\n",
              "      <th>3</th>\n",
              "      <td>2118009</td>\n",
              "      <td>tcp</td>\n",
              "      <td>192.168.100.148</td>\n",
              "      <td>42142</td>\n",
              "      <td>192.168.100.3</td>\n",
              "      <td>80</td>\n",
              "      <td>204615</td>\n",
              "      <td>0.428798</td>\n",
              "      <td>56</td>\n",
              "      <td>3.271411</td>\n",
              "      <td>1</td>\n",
              "      <td>3.626428</td>\n",
              "      <td>100</td>\n",
              "      <td>0.000000</td>\n",
              "      <td>0.343654</td>\n",
              "      <td>4.229700</td>\n",
              "      <td>1</td>\n",
              "      <td>DDoS</td>\n",
              "      <td>TCP</td>\n",
              "      <td>DDoS_TCP</td>\n",
              "    </tr>\n",
              "    <tr>\n",
              "      <th>4</th>\n",
              "      <td>303688</td>\n",
              "      <td>tcp</td>\n",
              "      <td>192.168.100.149</td>\n",
              "      <td>1645</td>\n",
              "      <td>192.168.100.5</td>\n",
              "      <td>80</td>\n",
              "      <td>40058</td>\n",
              "      <td>2.058381</td>\n",
              "      <td>100</td>\n",
              "      <td>0.000000</td>\n",
              "      <td>3</td>\n",
              "      <td>1.188407</td>\n",
              "      <td>100</td>\n",
              "      <td>0.000000</td>\n",
              "      <td>0.135842</td>\n",
              "      <td>4.753628</td>\n",
              "      <td>1</td>\n",
              "      <td>DoS</td>\n",
              "      <td>TCP</td>\n",
              "      <td>DoS_TCP</td>\n",
              "    </tr>\n",
              "  </tbody>\n",
              "</table>\n",
              "</div>"
            ],
            "text/plain": [
              "   pkSeqID proto            saddr  sport  ... attack category  subcategory    target\n",
              "0   792371   udp  192.168.100.150  48516  ...      1      DoS          UDP   DoS_UDP\n",
              "1  2056418   tcp  192.168.100.148  22267  ...      1     DDoS          TCP  DDoS_TCP\n",
              "2  2795650   udp  192.168.100.149  28629  ...      1     DDoS          UDP  DDoS_UDP\n",
              "3  2118009   tcp  192.168.100.148  42142  ...      1     DDoS          TCP  DDoS_TCP\n",
              "4   303688   tcp  192.168.100.149   1645  ...      1      DoS          TCP   DoS_TCP\n",
              "\n",
              "[5 rows x 20 columns]"
            ]
          },
          "metadata": {
            "tags": []
          },
          "execution_count": 15
        }
      ]
    },
    {
      "cell_type": "code",
      "metadata": {
        "id": "j_zEi_z9_Mpk"
      },
      "source": [
        "data_train.drop([\"pkSeqID\",\"seq\"], axis=1, inplace=True)\n",
        "data_test.drop([\"pkSeqID\",\"seq\"], axis=1, inplace=True)"
      ],
      "execution_count": 16,
      "outputs": []
    },
    {
      "cell_type": "code",
      "metadata": {
        "id": "Y5Awfa-z_Mpo",
        "outputId": "7eea91a2-6f2f-48a7-c3f6-1ef2b013798d",
        "colab": {
          "base_uri": "https://localhost:8080/",
          "height": 436
        }
      },
      "source": [
        "data_train[data_train['category']=='Normal']"
      ],
      "execution_count": 17,
      "outputs": [
        {
          "output_type": "execute_result",
          "data": {
            "text/html": [
              "<div>\n",
              "<style scoped>\n",
              "    .dataframe tbody tr th:only-of-type {\n",
              "        vertical-align: middle;\n",
              "    }\n",
              "\n",
              "    .dataframe tbody tr th {\n",
              "        vertical-align: top;\n",
              "    }\n",
              "\n",
              "    .dataframe thead th {\n",
              "        text-align: right;\n",
              "    }\n",
              "</style>\n",
              "<table border=\"1\" class=\"dataframe\">\n",
              "  <thead>\n",
              "    <tr style=\"text-align: right;\">\n",
              "      <th></th>\n",
              "      <th>proto</th>\n",
              "      <th>saddr</th>\n",
              "      <th>sport</th>\n",
              "      <th>daddr</th>\n",
              "      <th>dport</th>\n",
              "      <th>stddev</th>\n",
              "      <th>N_IN_Conn_P_SrcIP</th>\n",
              "      <th>min</th>\n",
              "      <th>state_number</th>\n",
              "      <th>mean</th>\n",
              "      <th>N_IN_Conn_P_DstIP</th>\n",
              "      <th>drate</th>\n",
              "      <th>srate</th>\n",
              "      <th>max</th>\n",
              "      <th>attack</th>\n",
              "      <th>category</th>\n",
              "      <th>subcategory</th>\n",
              "      <th>target</th>\n",
              "    </tr>\n",
              "  </thead>\n",
              "  <tbody>\n",
              "    <tr>\n",
              "      <th>3377</th>\n",
              "      <td>tcp</td>\n",
              "      <td>192.168.100.5</td>\n",
              "      <td>0</td>\n",
              "      <td>192.168.100.3</td>\n",
              "      <td>0</td>\n",
              "      <td>0.235357</td>\n",
              "      <td>7</td>\n",
              "      <td>0.598172</td>\n",
              "      <td>2</td>\n",
              "      <td>4.898582</td>\n",
              "      <td>7</td>\n",
              "      <td>0.000000</td>\n",
              "      <td>10.932437</td>\n",
              "      <td>4.999866</td>\n",
              "      <td>0</td>\n",
              "      <td>Normal</td>\n",
              "      <td>Normal</td>\n",
              "      <td>Normal_Normal</td>\n",
              "    </tr>\n",
              "    <tr>\n",
              "      <th>7683</th>\n",
              "      <td>udp</td>\n",
              "      <td>192.168.100.150</td>\n",
              "      <td>46295</td>\n",
              "      <td>192.168.217.2</td>\n",
              "      <td>53</td>\n",
              "      <td>0.000000</td>\n",
              "      <td>11</td>\n",
              "      <td>0.000000</td>\n",
              "      <td>4</td>\n",
              "      <td>0.000000</td>\n",
              "      <td>20</td>\n",
              "      <td>0.000000</td>\n",
              "      <td>0.400001</td>\n",
              "      <td>0.000000</td>\n",
              "      <td>0</td>\n",
              "      <td>Normal</td>\n",
              "      <td>Normal</td>\n",
              "      <td>Normal_Normal</td>\n",
              "    </tr>\n",
              "    <tr>\n",
              "      <th>8844</th>\n",
              "      <td>tcp</td>\n",
              "      <td>192.168.100.3</td>\n",
              "      <td>80</td>\n",
              "      <td>192.168.100.55</td>\n",
              "      <td>8080</td>\n",
              "      <td>0.228494</td>\n",
              "      <td>20</td>\n",
              "      <td>0.768694</td>\n",
              "      <td>2</td>\n",
              "      <td>4.947914</td>\n",
              "      <td>2</td>\n",
              "      <td>17.633553</td>\n",
              "      <td>17.634146</td>\n",
              "      <td>4.999863</td>\n",
              "      <td>0</td>\n",
              "      <td>Normal</td>\n",
              "      <td>Normal</td>\n",
              "      <td>Normal_Normal</td>\n",
              "    </tr>\n",
              "    <tr>\n",
              "      <th>10110</th>\n",
              "      <td>udp</td>\n",
              "      <td>192.168.100.147</td>\n",
              "      <td>38275</td>\n",
              "      <td>192.168.217.2</td>\n",
              "      <td>53</td>\n",
              "      <td>0.000000</td>\n",
              "      <td>18</td>\n",
              "      <td>0.000000</td>\n",
              "      <td>4</td>\n",
              "      <td>0.000000</td>\n",
              "      <td>18</td>\n",
              "      <td>0.000000</td>\n",
              "      <td>0.399866</td>\n",
              "      <td>0.000000</td>\n",
              "      <td>0</td>\n",
              "      <td>Normal</td>\n",
              "      <td>Normal</td>\n",
              "      <td>Normal_Normal</td>\n",
              "    </tr>\n",
              "    <tr>\n",
              "      <th>16479</th>\n",
              "      <td>udp</td>\n",
              "      <td>192.168.100.150</td>\n",
              "      <td>56155</td>\n",
              "      <td>255.255.255.255</td>\n",
              "      <td>3289</td>\n",
              "      <td>0.000000</td>\n",
              "      <td>14</td>\n",
              "      <td>0.000000</td>\n",
              "      <td>4</td>\n",
              "      <td>0.000000</td>\n",
              "      <td>2</td>\n",
              "      <td>0.000000</td>\n",
              "      <td>0.000000</td>\n",
              "      <td>0.000000</td>\n",
              "      <td>0</td>\n",
              "      <td>Normal</td>\n",
              "      <td>Normal</td>\n",
              "      <td>Normal_Normal</td>\n",
              "    </tr>\n",
              "    <tr>\n",
              "      <th>...</th>\n",
              "      <td>...</td>\n",
              "      <td>...</td>\n",
              "      <td>...</td>\n",
              "      <td>...</td>\n",
              "      <td>...</td>\n",
              "      <td>...</td>\n",
              "      <td>...</td>\n",
              "      <td>...</td>\n",
              "      <td>...</td>\n",
              "      <td>...</td>\n",
              "      <td>...</td>\n",
              "      <td>...</td>\n",
              "      <td>...</td>\n",
              "      <td>...</td>\n",
              "      <td>...</td>\n",
              "      <td>...</td>\n",
              "      <td>...</td>\n",
              "      <td>...</td>\n",
              "    </tr>\n",
              "    <tr>\n",
              "      <th>2896922</th>\n",
              "      <td>udp</td>\n",
              "      <td>192.168.100.3</td>\n",
              "      <td>60946</td>\n",
              "      <td>192.31.80.30</td>\n",
              "      <td>53</td>\n",
              "      <td>0.000000</td>\n",
              "      <td>23</td>\n",
              "      <td>0.278547</td>\n",
              "      <td>2</td>\n",
              "      <td>0.278547</td>\n",
              "      <td>1</td>\n",
              "      <td>0.000000</td>\n",
              "      <td>0.000000</td>\n",
              "      <td>0.278547</td>\n",
              "      <td>0</td>\n",
              "      <td>Normal</td>\n",
              "      <td>Normal</td>\n",
              "      <td>Normal_Normal</td>\n",
              "    </tr>\n",
              "    <tr>\n",
              "      <th>2907572</th>\n",
              "      <td>ipv6-icmp</td>\n",
              "      <td>fe80::250:56ff:febe:c038</td>\n",
              "      <td>133</td>\n",
              "      <td>ff02::2</td>\n",
              "      <td>0</td>\n",
              "      <td>0.000000</td>\n",
              "      <td>1</td>\n",
              "      <td>0.000000</td>\n",
              "      <td>8</td>\n",
              "      <td>0.000000</td>\n",
              "      <td>3</td>\n",
              "      <td>0.000000</td>\n",
              "      <td>0.000000</td>\n",
              "      <td>0.000000</td>\n",
              "      <td>0</td>\n",
              "      <td>Normal</td>\n",
              "      <td>Normal</td>\n",
              "      <td>Normal_Normal</td>\n",
              "    </tr>\n",
              "    <tr>\n",
              "      <th>2912220</th>\n",
              "      <td>udp</td>\n",
              "      <td>192.168.100.4</td>\n",
              "      <td>60001</td>\n",
              "      <td>192.168.100.1</td>\n",
              "      <td>53</td>\n",
              "      <td>0.323125</td>\n",
              "      <td>7</td>\n",
              "      <td>0.000000</td>\n",
              "      <td>2</td>\n",
              "      <td>0.161776</td>\n",
              "      <td>4</td>\n",
              "      <td>0.555538</td>\n",
              "      <td>0.644334</td>\n",
              "      <td>0.808025</td>\n",
              "      <td>0</td>\n",
              "      <td>Normal</td>\n",
              "      <td>Normal</td>\n",
              "      <td>Normal_Normal</td>\n",
              "    </tr>\n",
              "    <tr>\n",
              "      <th>2917520</th>\n",
              "      <td>udp</td>\n",
              "      <td>192.168.100.148</td>\n",
              "      <td>41735</td>\n",
              "      <td>8.8.8.8</td>\n",
              "      <td>53</td>\n",
              "      <td>0.000000</td>\n",
              "      <td>20</td>\n",
              "      <td>0.007598</td>\n",
              "      <td>2</td>\n",
              "      <td>0.007598</td>\n",
              "      <td>15</td>\n",
              "      <td>0.000000</td>\n",
              "      <td>0.000000</td>\n",
              "      <td>0.007598</td>\n",
              "      <td>0</td>\n",
              "      <td>Normal</td>\n",
              "      <td>Normal</td>\n",
              "      <td>Normal_Normal</td>\n",
              "    </tr>\n",
              "    <tr>\n",
              "      <th>2932908</th>\n",
              "      <td>udp</td>\n",
              "      <td>192.168.100.147</td>\n",
              "      <td>57830</td>\n",
              "      <td>192.168.217.2</td>\n",
              "      <td>53</td>\n",
              "      <td>0.000000</td>\n",
              "      <td>12</td>\n",
              "      <td>0.000000</td>\n",
              "      <td>4</td>\n",
              "      <td>0.000000</td>\n",
              "      <td>8</td>\n",
              "      <td>0.000000</td>\n",
              "      <td>0.399842</td>\n",
              "      <td>0.000000</td>\n",
              "      <td>0</td>\n",
              "      <td>Normal</td>\n",
              "      <td>Normal</td>\n",
              "      <td>Normal_Normal</td>\n",
              "    </tr>\n",
              "  </tbody>\n",
              "</table>\n",
              "<p>370 rows × 18 columns</p>\n",
              "</div>"
            ],
            "text/plain": [
              "             proto                     saddr  ... subcategory         target\n",
              "3377           tcp             192.168.100.5  ...      Normal  Normal_Normal\n",
              "7683           udp           192.168.100.150  ...      Normal  Normal_Normal\n",
              "8844           tcp             192.168.100.3  ...      Normal  Normal_Normal\n",
              "10110          udp           192.168.100.147  ...      Normal  Normal_Normal\n",
              "16479          udp           192.168.100.150  ...      Normal  Normal_Normal\n",
              "...            ...                       ...  ...         ...            ...\n",
              "2896922        udp             192.168.100.3  ...      Normal  Normal_Normal\n",
              "2907572  ipv6-icmp  fe80::250:56ff:febe:c038  ...      Normal  Normal_Normal\n",
              "2912220        udp             192.168.100.4  ...      Normal  Normal_Normal\n",
              "2917520        udp           192.168.100.148  ...      Normal  Normal_Normal\n",
              "2932908        udp           192.168.100.147  ...      Normal  Normal_Normal\n",
              "\n",
              "[370 rows x 18 columns]"
            ]
          },
          "metadata": {
            "tags": []
          },
          "execution_count": 17
        }
      ]
    },
    {
      "cell_type": "code",
      "metadata": {
        "id": "QE0HqkQp_Mpr",
        "outputId": "792d791f-bd60-41cd-e11e-f4d888b99902",
        "colab": {
          "base_uri": "https://localhost:8080/"
        }
      },
      "source": [
        "data_train['sport'].value_counts()"
      ],
      "execution_count": 18,
      "outputs": [
        {
          "output_type": "execute_result",
          "data": {
            "text/plain": [
              "0x0303    7156\n",
              "80        3220\n",
              "1822       878\n",
              "60541      869\n",
              "1216       868\n",
              "          ... \n",
              "32047       31\n",
              "18992       30\n",
              "39305       30\n",
              "0x000d      10\n",
              "0x0011       8\n",
              "Name: sport, Length: 65541, dtype: int64"
            ]
          },
          "metadata": {
            "tags": []
          },
          "execution_count": 18
        }
      ]
    },
    {
      "cell_type": "code",
      "metadata": {
        "id": "HnbShAl-_Mpu",
        "outputId": "5e8df0df-e432-4bec-c022-e49a52bc8ef5",
        "colab": {
          "base_uri": "https://localhost:8080/"
        }
      },
      "source": [
        "check='0x'\n",
        "s_res = set([i for i in data_train['sport'] if i.startswith(check)])\n",
        "s_res"
      ],
      "execution_count": 19,
      "outputs": [
        {
          "output_type": "execute_result",
          "data": {
            "text/plain": [
              "{'0x0008', '0x000d', '0x0011', '0x0303'}"
            ]
          },
          "metadata": {
            "tags": []
          },
          "execution_count": 19
        }
      ]
    },
    {
      "cell_type": "code",
      "metadata": {
        "id": "IN2GcybJ_Mpw"
      },
      "source": [
        "data_train['sport']=data_train['sport'].replace(['0x0303'],'771') \n",
        "data_train['sport']=data_train['sport'].replace(['0x0011'],'17')\n",
        "data_train['sport']=data_train['sport'].replace(['0x000d'],'13')\n",
        "data_train['sport']=data_train['sport'].replace(['0x0008'],'8')"
      ],
      "execution_count": 20,
      "outputs": []
    },
    {
      "cell_type": "code",
      "metadata": {
        "id": "4wXkyqSR_Mp0"
      },
      "source": [
        "data_test['sport']=data_test['sport'].replace(['0x0303'],'771') \n",
        "data_test['sport']=data_test['sport'].replace(['0x0011'],'17')\n",
        "data_test['sport']=data_test['sport'].replace(['0x000d'],'13')\n",
        "data_test['sport']=data_test['sport'].replace(['0x0008'],'8')"
      ],
      "execution_count": 21,
      "outputs": []
    },
    {
      "cell_type": "code",
      "metadata": {
        "id": "l-h5JAVZ_Mp2"
      },
      "source": [
        "data_train[\"sport\"] = data_train[\"sport\"].astype(str).astype(int)\n",
        "data_test[\"sport\"] = data_test[\"sport\"].astype(str).astype(int)"
      ],
      "execution_count": 22,
      "outputs": []
    },
    {
      "cell_type": "code",
      "metadata": {
        "id": "2-u11pwS_Mp4",
        "outputId": "7350e4c2-d14f-4306-8269-8e85b76e1109",
        "colab": {
          "base_uri": "https://localhost:8080/"
        }
      },
      "source": [
        "check='0x'\n",
        "d_res = set([i for i in data_train['dport'] if i.startswith(check)])\n",
        "print(len(d_res))"
      ],
      "execution_count": 23,
      "outputs": [
        {
          "output_type": "stream",
          "text": [
            "1062\n"
          ],
          "name": "stdout"
        }
      ]
    },
    {
      "cell_type": "code",
      "metadata": {
        "id": "oA7oUuxc_Mp7"
      },
      "source": [
        "data_train[\"dport\"] = data_train[\"dport\"].apply(lambda x: int(x,16) if len(x)>1 and x[1]==\"x\" else int(x))\n",
        "data_test[\"dport\"] = data_test[\"dport\"].apply(lambda x: int(x,16) if len(x)>1 and x[1]==\"x\" else int(x))"
      ],
      "execution_count": 24,
      "outputs": []
    },
    {
      "cell_type": "code",
      "metadata": {
        "id": "5Qk4L20M_Mp9",
        "outputId": "6f82603f-d4bc-4c1f-c4ad-b4d9f21b5d20",
        "colab": {
          "base_uri": "https://localhost:8080/"
        }
      },
      "source": [
        "data_train['dport'].value_counts()"
      ],
      "execution_count": 25,
      "outputs": [
        {
          "output_type": "execute_result",
          "data": {
            "text/plain": [
              " 80       2858794\n",
              " 1           5379\n",
              " 3306        3757\n",
              " 53           275\n",
              "-1            163\n",
              "           ...   \n",
              " 13445          1\n",
              " 6636           1\n",
              " 29153          1\n",
              " 29152          1\n",
              " 8863           1\n",
              "Name: dport, Length: 6778, dtype: int64"
            ]
          },
          "metadata": {
            "tags": []
          },
          "execution_count": 25
        }
      ]
    },
    {
      "cell_type": "code",
      "metadata": {
        "id": "zfaMdYz__Mp_",
        "outputId": "78e9b966-2a8d-493b-efa6-1d12808ccf14",
        "colab": {
          "base_uri": "https://localhost:8080/"
        }
      },
      "source": [
        "len(data_train[data_train['dport']<0]['dport'])"
      ],
      "execution_count": 26,
      "outputs": [
        {
          "output_type": "execute_result",
          "data": {
            "text/plain": [
              "163"
            ]
          },
          "metadata": {
            "tags": []
          },
          "execution_count": 26
        }
      ]
    },
    {
      "cell_type": "code",
      "metadata": {
        "id": "DpzSGUzg_MqB",
        "outputId": "5e0993f9-b83b-48e1-db70-bd361a550b50",
        "colab": {
          "base_uri": "https://localhost:8080/"
        }
      },
      "source": [
        "data_train[data_train['dport']==-1]['target'].value_counts()"
      ],
      "execution_count": 27,
      "outputs": [
        {
          "output_type": "execute_result",
          "data": {
            "text/plain": [
              "Normal_Normal                    38\n",
              "Reconnaissance_Service_Scan      34\n",
              "Reconnaissance_OS_Fingerprint    26\n",
              "DoS_UDP                          18\n",
              "DoS_TCP                          17\n",
              "DDoS_TCP                         15\n",
              "DDoS_UDP                         10\n",
              "DoS_HTTP                          5\n",
              "Name: target, dtype: int64"
            ]
          },
          "metadata": {
            "tags": []
          },
          "execution_count": 27
        }
      ]
    },
    {
      "cell_type": "code",
      "metadata": {
        "id": "871ckwuq_MqE"
      },
      "source": [
        "#Since dport can't be negative, we are dropping it\n",
        "indexNames = data_train[data_train['dport'] == -1].index\n",
        "data_train.drop(indexNames, inplace=True)"
      ],
      "execution_count": 28,
      "outputs": []
    },
    {
      "cell_type": "code",
      "metadata": {
        "id": "STnfZ5lP_MqG",
        "outputId": "9c5e715c-a635-4c76-d773-0b0da1194ad9",
        "colab": {
          "base_uri": "https://localhost:8080/"
        }
      },
      "source": [
        "data_test[data_test['dport']==-1]['target'].value_counts()"
      ],
      "execution_count": 29,
      "outputs": [
        {
          "output_type": "execute_result",
          "data": {
            "text/plain": [
              "Reconnaissance_Service_Scan      12\n",
              "Normal_Normal                     9\n",
              "DDoS_UDP                          6\n",
              "Reconnaissance_OS_Fingerprint     6\n",
              "DoS_UDP                           6\n",
              "DDoS_TCP                          3\n",
              "DoS_TCP                           2\n",
              "DDoS_HTTP                         1\n",
              "DoS_HTTP                          1\n",
              "Name: target, dtype: int64"
            ]
          },
          "metadata": {
            "tags": []
          },
          "execution_count": 29
        }
      ]
    },
    {
      "cell_type": "code",
      "metadata": {
        "id": "UeSr-wtu_MqI"
      },
      "source": [
        "indexNames = data_test[data_test['dport']==-1].index\n",
        "data_test.drop(indexNames , inplace=True)"
      ],
      "execution_count": 30,
      "outputs": []
    },
    {
      "cell_type": "code",
      "metadata": {
        "id": "OE7_dXQ3_MqK",
        "outputId": "e095b228-5143-465a-f00f-1a67ecc63b68",
        "colab": {
          "base_uri": "https://localhost:8080/"
        }
      },
      "source": [
        "data_train.groupby(['category'])['subcategory'].value_counts()"
      ],
      "execution_count": 31,
      "outputs": [
        {
          "output_type": "execute_result",
          "data": {
            "text/plain": [
              "category        subcategory   \n",
              "DDoS            TCP               782213\n",
              "                UDP               758291\n",
              "                HTTP                 786\n",
              "DoS             UDP               826331\n",
              "                TCP               492598\n",
              "                HTTP                1179\n",
              "Normal          Normal               332\n",
              "Reconnaissance  Service_Scan       58592\n",
              "                OS_Fingerprint     14267\n",
              "Name: subcategory, dtype: int64"
            ]
          },
          "metadata": {
            "tags": []
          },
          "execution_count": 31
        }
      ]
    },
    {
      "cell_type": "code",
      "metadata": {
        "scrolled": true,
        "id": "AJlBTqnN_MqM",
        "outputId": "9ab09ca6-6eb6-45a0-893c-8733f24ce23c",
        "colab": {
          "base_uri": "https://localhost:8080/"
        }
      },
      "source": [
        "data_train['target'].value_counts()"
      ],
      "execution_count": 32,
      "outputs": [
        {
          "output_type": "execute_result",
          "data": {
            "text/plain": [
              "DoS_UDP                          826331\n",
              "DDoS_TCP                         782213\n",
              "DDoS_UDP                         758291\n",
              "DoS_TCP                          492598\n",
              "Reconnaissance_Service_Scan       58592\n",
              "Reconnaissance_OS_Fingerprint     14267\n",
              "DoS_HTTP                           1179\n",
              "DDoS_HTTP                           786\n",
              "Normal_Normal                       332\n",
              "Name: target, dtype: int64"
            ]
          },
          "metadata": {
            "tags": []
          },
          "execution_count": 32
        }
      ]
    },
    {
      "cell_type": "code",
      "metadata": {
        "scrolled": true,
        "id": "__Lc2e5N_MqQ",
        "outputId": "420899c5-d43d-4ca3-8856-381e907395c7",
        "colab": {
          "base_uri": "https://localhost:8080/"
        }
      },
      "source": [
        "data_train.dtypes[data_train.dtypes=='object']"
      ],
      "execution_count": 33,
      "outputs": [
        {
          "output_type": "execute_result",
          "data": {
            "text/plain": [
              "proto          object\n",
              "saddr          object\n",
              "daddr          object\n",
              "category       object\n",
              "subcategory    object\n",
              "target         object\n",
              "dtype: object"
            ]
          },
          "metadata": {
            "tags": []
          },
          "execution_count": 33
        }
      ]
    },
    {
      "cell_type": "code",
      "metadata": {
        "id": "4R7Doe_V_MqS"
      },
      "source": [
        "data_train.drop([\"category\",\"subcategory\"], axis=1, inplace=True)\n",
        "data_test.drop([\"category\",\"subcategory\"], axis=1, inplace=True)"
      ],
      "execution_count": 34,
      "outputs": []
    },
    {
      "cell_type": "markdown",
      "metadata": {
        "id": "Dsyv32A5_MqU"
      },
      "source": [
        "### Encoding Categorical columns"
      ]
    },
    {
      "cell_type": "code",
      "metadata": {
        "id": "zIJ8EJB1_MqV"
      },
      "source": [
        "from sklearn.preprocessing import LabelEncoder\n",
        "le = LabelEncoder()\n",
        "data_train[\"saddr_enc\"]= le.fit_transform(data_train.saddr)\n",
        "data_train[\"daddr_enc\"]= le.fit_transform(data_train.daddr)\n",
        "data_train[\"proto_enc\"]= le.fit_transform(data_train.proto)\n",
        "data_train[\"target_enc\"]= le.fit_transform(data_train.target)"
      ],
      "execution_count": 35,
      "outputs": []
    },
    {
      "cell_type": "code",
      "metadata": {
        "id": "0w6Fw7GP_MqX",
        "outputId": "cb087807-772d-495b-b13a-2779b7cafa2b",
        "colab": {
          "base_uri": "https://localhost:8080/",
          "height": 0
        }
      },
      "source": [
        "data_train.head()"
      ],
      "execution_count": 36,
      "outputs": [
        {
          "output_type": "execute_result",
          "data": {
            "text/html": [
              "<div>\n",
              "<style scoped>\n",
              "    .dataframe tbody tr th:only-of-type {\n",
              "        vertical-align: middle;\n",
              "    }\n",
              "\n",
              "    .dataframe tbody tr th {\n",
              "        vertical-align: top;\n",
              "    }\n",
              "\n",
              "    .dataframe thead th {\n",
              "        text-align: right;\n",
              "    }\n",
              "</style>\n",
              "<table border=\"1\" class=\"dataframe\">\n",
              "  <thead>\n",
              "    <tr style=\"text-align: right;\">\n",
              "      <th></th>\n",
              "      <th>proto</th>\n",
              "      <th>saddr</th>\n",
              "      <th>sport</th>\n",
              "      <th>daddr</th>\n",
              "      <th>dport</th>\n",
              "      <th>stddev</th>\n",
              "      <th>N_IN_Conn_P_SrcIP</th>\n",
              "      <th>min</th>\n",
              "      <th>state_number</th>\n",
              "      <th>mean</th>\n",
              "      <th>N_IN_Conn_P_DstIP</th>\n",
              "      <th>drate</th>\n",
              "      <th>srate</th>\n",
              "      <th>max</th>\n",
              "      <th>attack</th>\n",
              "      <th>target</th>\n",
              "      <th>saddr_enc</th>\n",
              "      <th>daddr_enc</th>\n",
              "      <th>proto_enc</th>\n",
              "      <th>target_enc</th>\n",
              "    </tr>\n",
              "  </thead>\n",
              "  <tbody>\n",
              "    <tr>\n",
              "      <th>0</th>\n",
              "      <td>udp</td>\n",
              "      <td>192.168.100.150</td>\n",
              "      <td>6551</td>\n",
              "      <td>192.168.100.3</td>\n",
              "      <td>80</td>\n",
              "      <td>1.900363</td>\n",
              "      <td>100</td>\n",
              "      <td>0.000000</td>\n",
              "      <td>4</td>\n",
              "      <td>2.687519</td>\n",
              "      <td>100</td>\n",
              "      <td>0.0</td>\n",
              "      <td>0.494549</td>\n",
              "      <td>4.031619</td>\n",
              "      <td>1</td>\n",
              "      <td>DDoS_UDP</td>\n",
              "      <td>3</td>\n",
              "      <td>14</td>\n",
              "      <td>3</td>\n",
              "      <td>2</td>\n",
              "    </tr>\n",
              "    <tr>\n",
              "      <th>1</th>\n",
              "      <td>tcp</td>\n",
              "      <td>192.168.100.150</td>\n",
              "      <td>5532</td>\n",
              "      <td>192.168.100.3</td>\n",
              "      <td>80</td>\n",
              "      <td>0.078003</td>\n",
              "      <td>38</td>\n",
              "      <td>3.856930</td>\n",
              "      <td>3</td>\n",
              "      <td>3.934927</td>\n",
              "      <td>100</td>\n",
              "      <td>0.0</td>\n",
              "      <td>0.256493</td>\n",
              "      <td>4.012924</td>\n",
              "      <td>1</td>\n",
              "      <td>DDoS_TCP</td>\n",
              "      <td>3</td>\n",
              "      <td>14</td>\n",
              "      <td>2</td>\n",
              "      <td>1</td>\n",
              "    </tr>\n",
              "    <tr>\n",
              "      <th>2</th>\n",
              "      <td>tcp</td>\n",
              "      <td>192.168.100.147</td>\n",
              "      <td>27165</td>\n",
              "      <td>192.168.100.3</td>\n",
              "      <td>80</td>\n",
              "      <td>0.268666</td>\n",
              "      <td>100</td>\n",
              "      <td>2.974100</td>\n",
              "      <td>3</td>\n",
              "      <td>3.341429</td>\n",
              "      <td>100</td>\n",
              "      <td>0.0</td>\n",
              "      <td>0.294880</td>\n",
              "      <td>3.609205</td>\n",
              "      <td>1</td>\n",
              "      <td>DDoS_TCP</td>\n",
              "      <td>0</td>\n",
              "      <td>14</td>\n",
              "      <td>2</td>\n",
              "      <td>1</td>\n",
              "    </tr>\n",
              "    <tr>\n",
              "      <th>3</th>\n",
              "      <td>udp</td>\n",
              "      <td>192.168.100.150</td>\n",
              "      <td>48719</td>\n",
              "      <td>192.168.100.3</td>\n",
              "      <td>80</td>\n",
              "      <td>1.823185</td>\n",
              "      <td>63</td>\n",
              "      <td>0.000000</td>\n",
              "      <td>4</td>\n",
              "      <td>3.222832</td>\n",
              "      <td>63</td>\n",
              "      <td>0.0</td>\n",
              "      <td>0.461435</td>\n",
              "      <td>4.942302</td>\n",
              "      <td>1</td>\n",
              "      <td>DoS_UDP</td>\n",
              "      <td>3</td>\n",
              "      <td>14</td>\n",
              "      <td>3</td>\n",
              "      <td>5</td>\n",
              "    </tr>\n",
              "    <tr>\n",
              "      <th>4</th>\n",
              "      <td>udp</td>\n",
              "      <td>192.168.100.147</td>\n",
              "      <td>22461</td>\n",
              "      <td>192.168.100.3</td>\n",
              "      <td>80</td>\n",
              "      <td>0.822418</td>\n",
              "      <td>100</td>\n",
              "      <td>2.979995</td>\n",
              "      <td>4</td>\n",
              "      <td>3.983222</td>\n",
              "      <td>100</td>\n",
              "      <td>0.0</td>\n",
              "      <td>1.002999</td>\n",
              "      <td>4.994452</td>\n",
              "      <td>1</td>\n",
              "      <td>DDoS_UDP</td>\n",
              "      <td>0</td>\n",
              "      <td>14</td>\n",
              "      <td>3</td>\n",
              "      <td>2</td>\n",
              "    </tr>\n",
              "  </tbody>\n",
              "</table>\n",
              "</div>"
            ],
            "text/plain": [
              "  proto            saddr  sport  ... daddr_enc  proto_enc  target_enc\n",
              "0   udp  192.168.100.150   6551  ...        14          3           2\n",
              "1   tcp  192.168.100.150   5532  ...        14          2           1\n",
              "2   tcp  192.168.100.147  27165  ...        14          2           1\n",
              "3   udp  192.168.100.150  48719  ...        14          3           5\n",
              "4   udp  192.168.100.147  22461  ...        14          3           2\n",
              "\n",
              "[5 rows x 20 columns]"
            ]
          },
          "metadata": {
            "tags": []
          },
          "execution_count": 36
        }
      ]
    },
    {
      "cell_type": "code",
      "metadata": {
        "id": "ZkpS9ml__Mqb"
      },
      "source": [
        "# Dropping Redundant Columns\n",
        "data_train.drop(['saddr','daddr','proto','target'], axis=1, inplace=True)"
      ],
      "execution_count": 37,
      "outputs": []
    },
    {
      "cell_type": "code",
      "metadata": {
        "id": "-QLx1sZ1_Mqf"
      },
      "source": [
        "data_test[\"saddr_enc\"]= le.fit_transform(data_test.saddr)\n",
        "data_test[\"daddr_enc\"]= le.fit_transform(data_test.daddr)\n",
        "data_test[\"proto_enc\"]= le.fit_transform(data_test.proto)\n",
        "data_test[\"target_enc\"]= le.fit_transform(data_test.target)\n",
        "data_test.drop(['saddr','daddr','proto','target'], axis=1, inplace=True)"
      ],
      "execution_count": 38,
      "outputs": []
    },
    {
      "cell_type": "code",
      "metadata": {
        "id": "-71tTKoO_Mqi",
        "outputId": "e8b34a36-bd56-4cdd-a2c7-675ff90ecf50",
        "colab": {
          "base_uri": "https://localhost:8080/"
        }
      },
      "source": [
        "data_train['target_enc'].value_counts()"
      ],
      "execution_count": 39,
      "outputs": [
        {
          "output_type": "execute_result",
          "data": {
            "text/plain": [
              "5    826331\n",
              "1    782213\n",
              "2    758291\n",
              "4    492598\n",
              "8     58592\n",
              "7     14267\n",
              "3      1179\n",
              "0       786\n",
              "6       332\n",
              "Name: target_enc, dtype: int64"
            ]
          },
          "metadata": {
            "tags": []
          },
          "execution_count": 39
        }
      ]
    },
    {
      "cell_type": "markdown",
      "metadata": {
        "id": "O7H4boSV_Mqk"
      },
      "source": [
        "5 - DoS_UDP                          \n",
        "1 - DDoS_TCP                         \n",
        "2 - DDoS_UDP                         \n",
        "4 - DoS_TCP                          \n",
        "8 - Reconnaissance_Service_Scan       \n",
        "7 - Reconnaissance_OS_Fingerprint     \n",
        "3 - DoS_HTTP                           \n",
        "0 - DDoS_HTTP                           \n",
        "6 - Normal_Normal                       "
      ]
    },
    {
      "cell_type": "code",
      "metadata": {
        "id": "NhuNeOpW_Mqk"
      },
      "source": [
        ""
      ],
      "execution_count": 39,
      "outputs": []
    },
    {
      "cell_type": "markdown",
      "metadata": {
        "id": "sDTL4SDl_Mqm"
      },
      "source": [
        "### Scaling"
      ]
    },
    {
      "cell_type": "code",
      "metadata": {
        "id": "Sk611ESd_Mqn"
      },
      "source": [
        "y = data_train['target_enc']"
      ],
      "execution_count": 40,
      "outputs": []
    },
    {
      "cell_type": "code",
      "metadata": {
        "id": "w216EG9S_Mqq"
      },
      "source": [
        "from sklearn.preprocessing import StandardScaler\n",
        "scaler=StandardScaler()\n",
        "features = data_train.iloc[:,:-1]\n",
        "cols=features.columns\n",
        "scaled_features= scaler.fit_transform(features)\n",
        "data_train= pd.DataFrame(scaled_features,columns=cols)"
      ],
      "execution_count": 41,
      "outputs": []
    },
    {
      "cell_type": "code",
      "metadata": {
        "id": "da4PQfnQ_Mqw",
        "outputId": "7362b334-9544-4bda-fe77-bd5eaa8dadf4",
        "colab": {
          "base_uri": "https://localhost:8080/",
          "height": 0
        }
      },
      "source": [
        "data_train.head()"
      ],
      "execution_count": 42,
      "outputs": [
        {
          "output_type": "execute_result",
          "data": {
            "text/html": [
              "<div>\n",
              "<style scoped>\n",
              "    .dataframe tbody tr th:only-of-type {\n",
              "        vertical-align: middle;\n",
              "    }\n",
              "\n",
              "    .dataframe tbody tr th {\n",
              "        vertical-align: top;\n",
              "    }\n",
              "\n",
              "    .dataframe thead th {\n",
              "        text-align: right;\n",
              "    }\n",
              "</style>\n",
              "<table border=\"1\" class=\"dataframe\">\n",
              "  <thead>\n",
              "    <tr style=\"text-align: right;\">\n",
              "      <th></th>\n",
              "      <th>sport</th>\n",
              "      <th>dport</th>\n",
              "      <th>stddev</th>\n",
              "      <th>N_IN_Conn_P_SrcIP</th>\n",
              "      <th>min</th>\n",
              "      <th>state_number</th>\n",
              "      <th>mean</th>\n",
              "      <th>N_IN_Conn_P_DstIP</th>\n",
              "      <th>drate</th>\n",
              "      <th>srate</th>\n",
              "      <th>max</th>\n",
              "      <th>attack</th>\n",
              "      <th>saddr_enc</th>\n",
              "      <th>daddr_enc</th>\n",
              "      <th>proto_enc</th>\n",
              "    </tr>\n",
              "  </thead>\n",
              "  <tbody>\n",
              "    <tr>\n",
              "      <th>0</th>\n",
              "      <td>-1.380968</td>\n",
              "      <td>-0.094032</td>\n",
              "      <td>1.260943</td>\n",
              "      <td>0.715432</td>\n",
              "      <td>-0.685675</td>\n",
              "      <td>0.729274</td>\n",
              "      <td>0.301061</td>\n",
              "      <td>0.415148</td>\n",
              "      <td>-0.00763</td>\n",
              "      <td>-0.003355</td>\n",
              "      <td>0.543937</td>\n",
              "      <td>0.010637</td>\n",
              "      <td>1.302349</td>\n",
              "      <td>-0.643845</td>\n",
              "      <td>0.898098</td>\n",
              "    </tr>\n",
              "    <tr>\n",
              "      <th>1</th>\n",
              "      <td>-1.434281</td>\n",
              "      <td>-0.094032</td>\n",
              "      <td>-1.006704</td>\n",
              "      <td>-1.827146</td>\n",
              "      <td>1.914094</td>\n",
              "      <td>-0.113134</td>\n",
              "      <td>1.122958</td>\n",
              "      <td>0.415148</td>\n",
              "      <td>-0.00763</td>\n",
              "      <td>-0.003659</td>\n",
              "      <td>0.533890</td>\n",
              "      <td>0.010637</td>\n",
              "      <td>1.302349</td>\n",
              "      <td>-0.643845</td>\n",
              "      <td>-1.050938</td>\n",
              "    </tr>\n",
              "    <tr>\n",
              "      <th>2</th>\n",
              "      <td>-0.302458</td>\n",
              "      <td>-0.094032</td>\n",
              "      <td>-0.769453</td>\n",
              "      <td>0.715432</td>\n",
              "      <td>1.319021</td>\n",
              "      <td>-0.113134</td>\n",
              "      <td>0.731911</td>\n",
              "      <td>0.415148</td>\n",
              "      <td>-0.00763</td>\n",
              "      <td>-0.003610</td>\n",
              "      <td>0.316934</td>\n",
              "      <td>0.010637</td>\n",
              "      <td>-1.281797</td>\n",
              "      <td>-0.643845</td>\n",
              "      <td>-1.050938</td>\n",
              "    </tr>\n",
              "    <tr>\n",
              "      <th>3</th>\n",
              "      <td>0.825232</td>\n",
              "      <td>-0.094032</td>\n",
              "      <td>1.164907</td>\n",
              "      <td>-0.801913</td>\n",
              "      <td>-0.685675</td>\n",
              "      <td>0.729274</td>\n",
              "      <td>0.653770</td>\n",
              "      <td>-1.622798</td>\n",
              "      <td>-0.00763</td>\n",
              "      <td>-0.003397</td>\n",
              "      <td>1.033331</td>\n",
              "      <td>0.010637</td>\n",
              "      <td>1.302349</td>\n",
              "      <td>-0.643845</td>\n",
              "      <td>0.898098</td>\n",
              "    </tr>\n",
              "    <tr>\n",
              "      <th>4</th>\n",
              "      <td>-0.548568</td>\n",
              "      <td>-0.094032</td>\n",
              "      <td>-0.080394</td>\n",
              "      <td>0.715432</td>\n",
              "      <td>1.322995</td>\n",
              "      <td>0.729274</td>\n",
              "      <td>1.154778</td>\n",
              "      <td>0.415148</td>\n",
              "      <td>-0.00763</td>\n",
              "      <td>-0.002707</td>\n",
              "      <td>1.061356</td>\n",
              "      <td>0.010637</td>\n",
              "      <td>-1.281797</td>\n",
              "      <td>-0.643845</td>\n",
              "      <td>0.898098</td>\n",
              "    </tr>\n",
              "  </tbody>\n",
              "</table>\n",
              "</div>"
            ],
            "text/plain": [
              "      sport     dport    stddev  ...  saddr_enc  daddr_enc  proto_enc\n",
              "0 -1.380968 -0.094032  1.260943  ...   1.302349  -0.643845   0.898098\n",
              "1 -1.434281 -0.094032 -1.006704  ...   1.302349  -0.643845  -1.050938\n",
              "2 -0.302458 -0.094032 -0.769453  ...  -1.281797  -0.643845  -1.050938\n",
              "3  0.825232 -0.094032  1.164907  ...   1.302349  -0.643845   0.898098\n",
              "4 -0.548568 -0.094032 -0.080394  ...  -1.281797  -0.643845   0.898098\n",
              "\n",
              "[5 rows x 15 columns]"
            ]
          },
          "metadata": {
            "tags": []
          },
          "execution_count": 42
        }
      ]
    },
    {
      "cell_type": "code",
      "metadata": {
        "id": "4BQTyHoH_Mqz"
      },
      "source": [
        "ytest = data_test['target_enc']\n",
        "features = data_test.iloc[:,:-1]\n",
        "cols=features.columns\n",
        "scaled_features= scaler.fit_transform(features)\n",
        "data_test= pd.DataFrame(scaled_features,columns=cols)"
      ],
      "execution_count": 43,
      "outputs": []
    },
    {
      "cell_type": "code",
      "metadata": {
        "id": "9Sq3TCwP_Mq1",
        "outputId": "0270b720-11b3-4891-e7e9-4757d8b7109b",
        "colab": {
          "base_uri": "https://localhost:8080/",
          "height": 0
        }
      },
      "source": [
        "data_test.head()"
      ],
      "execution_count": 44,
      "outputs": [
        {
          "output_type": "execute_result",
          "data": {
            "text/html": [
              "<div>\n",
              "<style scoped>\n",
              "    .dataframe tbody tr th:only-of-type {\n",
              "        vertical-align: middle;\n",
              "    }\n",
              "\n",
              "    .dataframe tbody tr th {\n",
              "        vertical-align: top;\n",
              "    }\n",
              "\n",
              "    .dataframe thead th {\n",
              "        text-align: right;\n",
              "    }\n",
              "</style>\n",
              "<table border=\"1\" class=\"dataframe\">\n",
              "  <thead>\n",
              "    <tr style=\"text-align: right;\">\n",
              "      <th></th>\n",
              "      <th>sport</th>\n",
              "      <th>dport</th>\n",
              "      <th>stddev</th>\n",
              "      <th>N_IN_Conn_P_SrcIP</th>\n",
              "      <th>min</th>\n",
              "      <th>state_number</th>\n",
              "      <th>mean</th>\n",
              "      <th>N_IN_Conn_P_DstIP</th>\n",
              "      <th>drate</th>\n",
              "      <th>srate</th>\n",
              "      <th>max</th>\n",
              "      <th>attack</th>\n",
              "      <th>saddr_enc</th>\n",
              "      <th>daddr_enc</th>\n",
              "      <th>proto_enc</th>\n",
              "    </tr>\n",
              "  </thead>\n",
              "  <tbody>\n",
              "    <tr>\n",
              "      <th>0</th>\n",
              "      <td>0.815980</td>\n",
              "      <td>-0.094347</td>\n",
              "      <td>-0.822350</td>\n",
              "      <td>0.716722</td>\n",
              "      <td>2.076170</td>\n",
              "      <td>0.728973</td>\n",
              "      <td>1.465443</td>\n",
              "      <td>0.415659</td>\n",
              "      <td>-0.006811</td>\n",
              "      <td>-0.004605</td>\n",
              "      <td>0.911656</td>\n",
              "      <td>0.011558</td>\n",
              "      <td>1.303394</td>\n",
              "      <td>-0.667508</td>\n",
              "      <td>0.896919</td>\n",
              "    </tr>\n",
              "    <tr>\n",
              "      <th>1</th>\n",
              "      <td>-0.556663</td>\n",
              "      <td>-0.094347</td>\n",
              "      <td>-0.542236</td>\n",
              "      <td>0.716722</td>\n",
              "      <td>1.630704</td>\n",
              "      <td>-1.799696</td>\n",
              "      <td>1.036313</td>\n",
              "      <td>0.415659</td>\n",
              "      <td>-0.003783</td>\n",
              "      <td>-0.004613</td>\n",
              "      <td>0.763047</td>\n",
              "      <td>0.011558</td>\n",
              "      <td>-0.422688</td>\n",
              "      <td>-0.667508</td>\n",
              "      <td>-1.051749</td>\n",
              "    </tr>\n",
              "    <tr>\n",
              "      <th>2</th>\n",
              "      <td>-0.223974</td>\n",
              "      <td>-0.094347</td>\n",
              "      <td>1.297989</td>\n",
              "      <td>-0.388902</td>\n",
              "      <td>-0.686481</td>\n",
              "      <td>0.728973</td>\n",
              "      <td>0.327939</td>\n",
              "      <td>0.415659</td>\n",
              "      <td>-0.006811</td>\n",
              "      <td>-0.004599</td>\n",
              "      <td>0.599406</td>\n",
              "      <td>0.011558</td>\n",
              "      <td>0.440353</td>\n",
              "      <td>-0.667508</td>\n",
              "      <td>0.896919</td>\n",
              "    </tr>\n",
              "    <tr>\n",
              "      <th>3</th>\n",
              "      <td>0.482664</td>\n",
              "      <td>-0.094347</td>\n",
              "      <td>-0.571091</td>\n",
              "      <td>-1.085035</td>\n",
              "      <td>1.517618</td>\n",
              "      <td>-1.799696</td>\n",
              "      <td>0.917867</td>\n",
              "      <td>0.415659</td>\n",
              "      <td>-0.006811</td>\n",
              "      <td>-0.004757</td>\n",
              "      <td>0.648446</td>\n",
              "      <td>0.011558</td>\n",
              "      <td>-0.422688</td>\n",
              "      <td>-0.667508</td>\n",
              "      <td>-1.051749</td>\n",
              "    </tr>\n",
              "    <tr>\n",
              "      <th>4</th>\n",
              "      <td>-1.635053</td>\n",
              "      <td>-0.094347</td>\n",
              "      <td>1.455734</td>\n",
              "      <td>0.716722</td>\n",
              "      <td>-0.686481</td>\n",
              "      <td>-0.113916</td>\n",
              "      <td>-0.688722</td>\n",
              "      <td>0.415659</td>\n",
              "      <td>-0.006811</td>\n",
              "      <td>-0.005272</td>\n",
              "      <td>0.930031</td>\n",
              "      <td>0.011558</td>\n",
              "      <td>0.440353</td>\n",
              "      <td>0.636049</td>\n",
              "      <td>-1.051749</td>\n",
              "    </tr>\n",
              "  </tbody>\n",
              "</table>\n",
              "</div>"
            ],
            "text/plain": [
              "      sport     dport    stddev  ...  saddr_enc  daddr_enc  proto_enc\n",
              "0  0.815980 -0.094347 -0.822350  ...   1.303394  -0.667508   0.896919\n",
              "1 -0.556663 -0.094347 -0.542236  ...  -0.422688  -0.667508  -1.051749\n",
              "2 -0.223974 -0.094347  1.297989  ...   0.440353  -0.667508   0.896919\n",
              "3  0.482664 -0.094347 -0.571091  ...  -0.422688  -0.667508  -1.051749\n",
              "4 -1.635053 -0.094347  1.455734  ...   0.440353   0.636049  -1.051749\n",
              "\n",
              "[5 rows x 15 columns]"
            ]
          },
          "metadata": {
            "tags": []
          },
          "execution_count": 44
        }
      ]
    },
    {
      "cell_type": "code",
      "metadata": {
        "id": "Y-6BNdh9_Mq5",
        "outputId": "b0c3ecc8-7b67-48b8-8e2d-fb5de6158ed1",
        "colab": {
          "base_uri": "https://localhost:8080/"
        }
      },
      "source": [
        "y.value_counts()"
      ],
      "execution_count": 45,
      "outputs": [
        {
          "output_type": "execute_result",
          "data": {
            "text/plain": [
              "5    826331\n",
              "1    782213\n",
              "2    758291\n",
              "4    492598\n",
              "8     58592\n",
              "7     14267\n",
              "3      1179\n",
              "0       786\n",
              "6       332\n",
              "Name: target_enc, dtype: int64"
            ]
          },
          "metadata": {
            "tags": []
          },
          "execution_count": 45
        }
      ]
    },
    {
      "cell_type": "code",
      "metadata": {
        "id": "3kzVF1Ff_Mq8"
      },
      "source": [
        "x = data_train\n",
        "xtest = data_test"
      ],
      "execution_count": 46,
      "outputs": []
    },
    {
      "cell_type": "markdown",
      "metadata": {
        "id": "B4DiD7Ko_Mq-"
      },
      "source": [
        "### Sampling"
      ]
    },
    {
      "cell_type": "code",
      "metadata": {
        "id": "vpJ4-SzQ_Mq-",
        "outputId": "13c28e48-511d-46ca-fc67-870774da2a65",
        "colab": {
          "base_uri": "https://localhost:8080/"
        }
      },
      "source": [
        "import imblearn\n",
        "from imblearn.under_sampling import RandomUnderSampler\n",
        "samp_strat= {5:70000, 1:70000, 2:70000, 4:65000, 8:58592, 7:14267, 3:1179, 0:786, 6:332}\n",
        "random_under= RandomUnderSampler(sampling_strategy=samp_strat,random_state=1)\n",
        "X_rus,y_rus = random_under.fit_resample(x,y)"
      ],
      "execution_count": 47,
      "outputs": [
        {
          "output_type": "stream",
          "text": [
            "/usr/local/lib/python3.6/dist-packages/sklearn/externals/six.py:31: FutureWarning: The module is deprecated in version 0.21 and will be removed in version 0.23 since we've dropped support for Python 2.7. Please rely on the official version of six (https://pypi.org/project/six/).\n",
            "  \"(https://pypi.org/project/six/).\", FutureWarning)\n",
            "/usr/local/lib/python3.6/dist-packages/sklearn/utils/deprecation.py:144: FutureWarning: The sklearn.neighbors.base module is  deprecated in version 0.22 and will be removed in version 0.24. The corresponding classes / functions should instead be imported from sklearn.neighbors. Anything that cannot be imported from sklearn.neighbors is now part of the private API.\n",
            "  warnings.warn(message, FutureWarning)\n",
            "/usr/local/lib/python3.6/dist-packages/sklearn/utils/deprecation.py:87: FutureWarning: Function safe_indexing is deprecated; safe_indexing is deprecated in version 0.22 and will be removed in version 0.24.\n",
            "  warnings.warn(msg, category=FutureWarning)\n"
          ],
          "name": "stderr"
        }
      ]
    },
    {
      "cell_type": "code",
      "metadata": {
        "id": "HxGwNUap_MrA",
        "outputId": "891cf1dc-5d62-40d7-df4b-5206b5a3aea1",
        "colab": {
          "base_uri": "https://localhost:8080/"
        }
      },
      "source": [
        "pd.Series(y_rus).value_counts()"
      ],
      "execution_count": 48,
      "outputs": [
        {
          "output_type": "execute_result",
          "data": {
            "text/plain": [
              "5    70000\n",
              "2    70000\n",
              "1    70000\n",
              "4    65000\n",
              "8    58592\n",
              "7    14267\n",
              "3     1179\n",
              "0      786\n",
              "6      332\n",
              "dtype: int64"
            ]
          },
          "metadata": {
            "tags": []
          },
          "execution_count": 48
        }
      ]
    },
    {
      "cell_type": "code",
      "metadata": {
        "id": "qYt7ywKo_MrC",
        "outputId": "8a3b3d39-3d75-40e2-8891-83114b09c2c2",
        "colab": {
          "base_uri": "https://localhost:8080/"
        }
      },
      "source": [
        "from imblearn.over_sampling import RandomOverSampler\n",
        "samp_strat= {5:70000, 1:70000, 2:70000, 4:65000, 8:58592, 7:30000, 3:20000, 0:15000, 6:8000}\n",
        "random_under= RandomOverSampler(sampling_strategy=samp_strat,random_state=1)\n",
        "Xres,yres = random_under.fit_resample(X_rus,y_rus)"
      ],
      "execution_count": 49,
      "outputs": [
        {
          "output_type": "stream",
          "text": [
            "/usr/local/lib/python3.6/dist-packages/sklearn/utils/deprecation.py:87: FutureWarning: Function safe_indexing is deprecated; safe_indexing is deprecated in version 0.22 and will be removed in version 0.24.\n",
            "  warnings.warn(msg, category=FutureWarning)\n"
          ],
          "name": "stderr"
        }
      ]
    },
    {
      "cell_type": "code",
      "metadata": {
        "id": "kENtGoW2_MrF",
        "outputId": "b0013a26-186b-4814-f4d5-6800e5b6f31d",
        "colab": {
          "base_uri": "https://localhost:8080/",
          "height": 393
        }
      },
      "source": [
        "plt.figure(figsize=(10,5))\n",
        "sns.countplot(yres,palette='magma')"
      ],
      "execution_count": 50,
      "outputs": [
        {
          "output_type": "stream",
          "text": [
            "/usr/local/lib/python3.6/dist-packages/seaborn/_decorators.py:43: FutureWarning: Pass the following variable as a keyword arg: x. From version 0.12, the only valid positional argument will be `data`, and passing other arguments without an explicit keyword will result in an error or misinterpretation.\n",
            "  FutureWarning\n"
          ],
          "name": "stderr"
        },
        {
          "output_type": "execute_result",
          "data": {
            "text/plain": [
              "<matplotlib.axes._subplots.AxesSubplot at 0x7f9b03723588>"
            ]
          },
          "metadata": {
            "tags": []
          },
          "execution_count": 50
        },
        {
          "output_type": "display_data",
          "data": {
            "image/png": "[encoded data removed]",
            "text/plain": [
              "<Figure size 720x360 with 1 Axes>"
            ]
          },
          "metadata": {
            "tags": []
          }
        }
      ]
    },
    {
      "cell_type": "code",
      "metadata": {
        "id": "zehrjSPJ_MrI"
      },
      "source": [
        "from sklearn import model_selection"
      ],
      "execution_count": 51,
      "outputs": []
    },
    {
      "cell_type": "code",
      "metadata": {
        "id": "9bsnXQIO_MrL"
      },
      "source": [
        "X_train, X_test, y_train, y_test = model_selection.train_test_split(Xres,yres, test_size=0.20, random_state=42, stratify=yres)"
      ],
      "execution_count": 52,
      "outputs": []
    },
    {
      "cell_type": "code",
      "metadata": {
        "id": "Ty5DWWRj_MrN",
        "outputId": "e29ae21b-ddd1-4bd3-d68a-6f369d1d5fe5",
        "colab": {
          "base_uri": "https://localhost:8080/"
        }
      },
      "source": [
        "import time\n",
        "start = time.time()\n",
        "from sklearn.linear_model import LogisticRegression\n",
        "model_1 = LogisticRegression(solver='liblinear')\n",
        "model_1.fit(X_train, y_train)\n",
        "pred_1= model_1.predict(X_test)\n",
        "score1 = model_1.score(X_test, y_test)\n",
        "end = time.time()\n",
        "print(end - start, \"seconds\\n\")\n",
        "print(\"Accuracy of base model: \",score1)\n"
      ],
      "execution_count": 53,
      "outputs": [
        {
          "output_type": "stream",
          "text": [
            "190.6386501789093 seconds\n",
            "\n",
            "Accuracy of base model:  0.8727234717593674\n"
          ],
          "name": "stdout"
        }
      ]
    },
    {
      "cell_type": "code",
      "metadata": {
        "id": "p1cydW9b_MrP",
        "outputId": "23741bf8-0084-4b72-aecc-656e4342b5d4",
        "colab": {
          "base_uri": "https://localhost:8080/"
        }
      },
      "source": [
        "pred_2 = model_1.predict(xtest)\n",
        "score2 = model_1.score(xtest,ytest)\n",
        "print(\"Accuracy of test model: \",score2)"
      ],
      "execution_count": 54,
      "outputs": [
        {
          "output_type": "stream",
          "text": [
            "Accuracy of test model:  0.966810923539314\n"
          ],
          "name": "stdout"
        }
      ]
    },
    {
      "cell_type": "code",
      "metadata": {
        "id": "X2Hw3eKPKnwz",
        "outputId": "91b6f55e-d1a2-4d17-8673-2c406b454e10",
        "colab": {
          "base_uri": "https://localhost:8080/"
        }
      },
      "source": [
        "from sklearn.metrics import multilabel_confusion_matrix\n",
        "multilabel_confusion_matrix(y_test,pred_1)"
      ],
      "execution_count": 55,
      "outputs": [
        {
          "output_type": "execute_result",
          "data": {
            "text/plain": [
              "array([[[77165,  1154],\n",
              "        [ 1244,  1756]],\n",
              "\n",
              "       [[66081,  1238],\n",
              "        [ 1120, 12880]],\n",
              "\n",
              "       [[67307,    12],\n",
              "        [    0, 14000]],\n",
              "\n",
              "       [[76675,   644],\n",
              "        [ 2199,  1801]],\n",
              "\n",
              "       [[66233,  2086],\n",
              "        [  463, 12537]],\n",
              "\n",
              "       [[67315,     4],\n",
              "        [    5, 13995]],\n",
              "\n",
              "       [[79719,     0],\n",
              "        [    0,  1600]],\n",
              "\n",
              "       [[72875,  2444],\n",
              "        [ 2172,  3828]],\n",
              "\n",
              "       [[66832,  2768],\n",
              "        [ 3147,  8572]]])"
            ]
          },
          "metadata": {
            "tags": []
          },
          "execution_count": 55
        }
      ]
    },
    {
      "cell_type": "code",
      "metadata": {
        "id": "h9FGaOSi_MrS"
      },
      "source": [
        "from sklearn.model_selection import KFold,StratifiedKFold,cross_val_score"
      ],
      "execution_count": 56,
      "outputs": []
    },
    {
      "cell_type": "code",
      "metadata": {
        "id": "LfsHTvZ9_MrT",
        "outputId": "b230277e-5e0b-49dd-830d-bbbdecac5dee",
        "colab": {
          "base_uri": "https://localhost:8080/"
        }
      },
      "source": [
        "model_1 = LogisticRegression(solver='liblinear')\n",
        "model_1.fit(X_train,y_train)\n",
        "score3 = cross_val_score(model_1, X_train, y_train)\n",
        "score3"
      ],
      "execution_count": 70,
      "outputs": [
        {
          "output_type": "execute_result",
          "data": {
            "text/plain": [
              "array([0.87193913, 0.86987933, 0.87244639, 0.87156824, 0.86963138])"
            ]
          },
          "metadata": {
            "tags": []
          },
          "execution_count": 70
        }
      ]
    },
    {
      "cell_type": "code",
      "metadata": {
        "id": "gK97_eLGWvzL",
        "outputId": "9979c2aa-3c65-4d84-9471-498d3c5eeb0a",
        "colab": {
          "base_uri": "https://localhost:8080/"
        }
      },
      "source": [
        "score3.mean()"
      ],
      "execution_count": 69,
      "outputs": [
        {
          "output_type": "execute_result",
          "data": {
            "text/plain": [
              "0.8797809752995279"
            ]
          },
          "metadata": {
            "tags": []
          },
          "execution_count": 69
        }
      ]
    },
    {
      "cell_type": "code",
      "metadata": {
        "id": "QJK0Dk1IZP_N"
      },
      "source": [
        "from sklearn.linear_model import LogisticRegression\n",
        "logModel=LogisticRegression()\n",
        "param_grid= [\n",
        "             {'solver' : ['lbfgs'],'penalty' : ['l1','l2'],'C':[0.0001,.009,0.01,1,5,10,25], 'max_iter' : [1000], 'n_jobs' : [100] }  ]"
      ],
      "execution_count": 59,
      "outputs": []
    },
    {
      "cell_type": "code",
      "metadata": {
        "id": "bZf8HN46Zsft"
      },
      "source": [
        "from sklearn.model_selection import GridSearchCV"
      ],
      "execution_count": 60,
      "outputs": []
    },
    {
      "cell_type": "code",
      "metadata": {
        "id": "0QPzcHu5Z5JE"
      },
      "source": [
        "clf = GridSearchCV(logModel, param_grid = param_grid, cv=3, verbose=3)"
      ],
      "execution_count": 61,
      "outputs": []
    },
    {
      "cell_type": "code",
      "metadata": {
        "id": "hfPtQUc2aJVc",
        "outputId": "ada9ebbd-85b4-4716-ea7e-214013a48707",
        "colab": {
          "base_uri": "https://localhost:8080/"
        }
      },
      "source": [
        "best_clf = clf.fit(X_train,y_train)"
      ],
      "execution_count": 62,
      "outputs": [
        {
          "output_type": "stream",
          "text": [
            "[Parallel(n_jobs=1)]: Using backend SequentialBackend with 1 concurrent workers.\n"
          ],
          "name": "stderr"
        },
        {
          "output_type": "stream",
          "text": [
            "Fitting 3 folds for each of 14 candidates, totalling 42 fits\n",
            "[CV] C=0.0001, max_iter=1000, n_jobs=100, penalty=l1, solver=lbfgs ...\n",
            "[CV]  C=0.0001, max_iter=1000, n_jobs=100, penalty=l1, solver=lbfgs, score=nan, total=   0.0s\n",
            "[CV] C=0.0001, max_iter=1000, n_jobs=100, penalty=l1, solver=lbfgs ...\n",
            "[CV]  C=0.0001, max_iter=1000, n_jobs=100, penalty=l1, solver=lbfgs, score=nan, total=   0.0s\n",
            "[CV] C=0.0001, max_iter=1000, n_jobs=100, penalty=l1, solver=lbfgs ...\n",
            "[CV]  C=0.0001, max_iter=1000, n_jobs=100, penalty=l1, solver=lbfgs, score=nan, total=   0.0s\n",
            "[CV] C=0.0001, max_iter=1000, n_jobs=100, penalty=l2, solver=lbfgs ...\n"
          ],
          "name": "stdout"
        },
        {
          "output_type": "stream",
          "text": [
            "/usr/local/lib/python3.6/dist-packages/sklearn/model_selection/_validation.py:536: FitFailedWarning: Estimator fit failed. The score on this train-test partition for these parameters will be set to nan. Details: \n",
            "ValueError: Solver lbfgs supports only 'l2' or 'none' penalties, got l1 penalty.\n",
            "\n",
            "  FitFailedWarning)\n",
            "[Parallel(n_jobs=1)]: Done   1 out of   1 | elapsed:    0.0s remaining:    0.0s\n",
            "[Parallel(n_jobs=1)]: Done   2 out of   2 | elapsed:    0.0s remaining:    0.0s\n"
          ],
          "name": "stderr"
        },
        {
          "output_type": "stream",
          "text": [
            "[CV]  C=0.0001, max_iter=1000, n_jobs=100, penalty=l2, solver=lbfgs, score=0.773, total=  53.6s\n",
            "[CV] C=0.0001, max_iter=1000, n_jobs=100, penalty=l2, solver=lbfgs ...\n",
            "[CV]  C=0.0001, max_iter=1000, n_jobs=100, penalty=l2, solver=lbfgs, score=0.770, total=  26.9s\n",
            "[CV] C=0.0001, max_iter=1000, n_jobs=100, penalty=l2, solver=lbfgs ...\n",
            "[CV]  C=0.0001, max_iter=1000, n_jobs=100, penalty=l2, solver=lbfgs, score=0.768, total=  23.6s\n",
            "[CV] C=0.009, max_iter=1000, n_jobs=100, penalty=l1, solver=lbfgs ....\n",
            "[CV]  C=0.009, max_iter=1000, n_jobs=100, penalty=l1, solver=lbfgs, score=nan, total=   0.0s\n",
            "[CV] C=0.009, max_iter=1000, n_jobs=100, penalty=l1, solver=lbfgs ....\n",
            "[CV]  C=0.009, max_iter=1000, n_jobs=100, penalty=l1, solver=lbfgs, score=nan, total=   0.0s\n",
            "[CV] C=0.009, max_iter=1000, n_jobs=100, penalty=l1, solver=lbfgs ....\n",
            "[CV]  C=0.009, max_iter=1000, n_jobs=100, penalty=l1, solver=lbfgs, score=nan, total=   0.0s\n",
            "[CV] C=0.009, max_iter=1000, n_jobs=100, penalty=l2, solver=lbfgs ....\n"
          ],
          "name": "stdout"
        },
        {
          "output_type": "stream",
          "text": [
            "/usr/local/lib/python3.6/dist-packages/sklearn/model_selection/_validation.py:536: FitFailedWarning: Estimator fit failed. The score on this train-test partition for these parameters will be set to nan. Details: \n",
            "ValueError: Solver lbfgs supports only 'l2' or 'none' penalties, got l1 penalty.\n",
            "\n",
            "  FitFailedWarning)\n"
          ],
          "name": "stderr"
        },
        {
          "output_type": "stream",
          "text": [
            "[CV]  C=0.009, max_iter=1000, n_jobs=100, penalty=l2, solver=lbfgs, score=0.868, total= 1.5min\n",
            "[CV] C=0.009, max_iter=1000, n_jobs=100, penalty=l2, solver=lbfgs ....\n",
            "[CV]  C=0.009, max_iter=1000, n_jobs=100, penalty=l2, solver=lbfgs, score=0.869, total= 1.4min\n",
            "[CV] C=0.009, max_iter=1000, n_jobs=100, penalty=l2, solver=lbfgs ....\n",
            "[CV]  C=0.009, max_iter=1000, n_jobs=100, penalty=l2, solver=lbfgs, score=0.865, total= 1.9min\n",
            "[CV] C=0.01, max_iter=1000, n_jobs=100, penalty=l1, solver=lbfgs .....\n",
            "[CV]  C=0.01, max_iter=1000, n_jobs=100, penalty=l1, solver=lbfgs, score=nan, total=   0.0s\n",
            "[CV] C=0.01, max_iter=1000, n_jobs=100, penalty=l1, solver=lbfgs .....\n",
            "[CV]  C=0.01, max_iter=1000, n_jobs=100, penalty=l1, solver=lbfgs, score=nan, total=   0.0s\n",
            "[CV] C=0.01, max_iter=1000, n_jobs=100, penalty=l1, solver=lbfgs .....\n",
            "[CV]  C=0.01, max_iter=1000, n_jobs=100, penalty=l1, solver=lbfgs, score=nan, total=   0.0s\n",
            "[CV] C=0.01, max_iter=1000, n_jobs=100, penalty=l2, solver=lbfgs .....\n"
          ],
          "name": "stdout"
        },
        {
          "output_type": "stream",
          "text": [
            "/usr/local/lib/python3.6/dist-packages/sklearn/model_selection/_validation.py:536: FitFailedWarning: Estimator fit failed. The score on this train-test partition for these parameters will be set to nan. Details: \n",
            "ValueError: Solver lbfgs supports only 'l2' or 'none' penalties, got l1 penalty.\n",
            "\n",
            "  FitFailedWarning)\n"
          ],
          "name": "stderr"
        },
        {
          "output_type": "stream",
          "text": [
            "[CV]  C=0.01, max_iter=1000, n_jobs=100, penalty=l2, solver=lbfgs, score=0.869, total= 2.5min\n",
            "[CV] C=0.01, max_iter=1000, n_jobs=100, penalty=l2, solver=lbfgs .....\n",
            "[CV]  C=0.01, max_iter=1000, n_jobs=100, penalty=l2, solver=lbfgs, score=0.869, total= 1.9min\n",
            "[CV] C=0.01, max_iter=1000, n_jobs=100, penalty=l2, solver=lbfgs .....\n",
            "[CV]  C=0.01, max_iter=1000, n_jobs=100, penalty=l2, solver=lbfgs, score=0.868, total= 1.6min\n",
            "[CV] C=1, max_iter=1000, n_jobs=100, penalty=l1, solver=lbfgs ........\n",
            "[CV]  C=1, max_iter=1000, n_jobs=100, penalty=l1, solver=lbfgs, score=nan, total=   0.0s\n",
            "[CV] C=1, max_iter=1000, n_jobs=100, penalty=l1, solver=lbfgs ........\n",
            "[CV]  C=1, max_iter=1000, n_jobs=100, penalty=l1, solver=lbfgs, score=nan, total=   0.0s\n",
            "[CV] C=1, max_iter=1000, n_jobs=100, penalty=l1, solver=lbfgs ........\n",
            "[CV]  C=1, max_iter=1000, n_jobs=100, penalty=l1, solver=lbfgs, score=nan, total=   0.0s\n",
            "[CV] C=1, max_iter=1000, n_jobs=100, penalty=l2, solver=lbfgs ........\n"
          ],
          "name": "stdout"
        },
        {
          "output_type": "stream",
          "text": [
            "/usr/local/lib/python3.6/dist-packages/sklearn/model_selection/_validation.py:536: FitFailedWarning: Estimator fit failed. The score on this train-test partition for these parameters will be set to nan. Details: \n",
            "ValueError: Solver lbfgs supports only 'l2' or 'none' penalties, got l1 penalty.\n",
            "\n",
            "  FitFailedWarning)\n"
          ],
          "name": "stderr"
        },
        {
          "output_type": "stream",
          "text": [
            "[CV]  C=1, max_iter=1000, n_jobs=100, penalty=l2, solver=lbfgs, score=0.889, total= 3.6min\n",
            "[CV] C=1, max_iter=1000, n_jobs=100, penalty=l2, solver=lbfgs ........\n",
            "[CV]  C=1, max_iter=1000, n_jobs=100, penalty=l2, solver=lbfgs, score=0.891, total= 3.3min\n",
            "[CV] C=1, max_iter=1000, n_jobs=100, penalty=l2, solver=lbfgs ........\n",
            "[CV]  C=1, max_iter=1000, n_jobs=100, penalty=l2, solver=lbfgs, score=0.890, total= 3.5min\n",
            "[CV] C=5, max_iter=1000, n_jobs=100, penalty=l1, solver=lbfgs ........\n",
            "[CV]  C=5, max_iter=1000, n_jobs=100, penalty=l1, solver=lbfgs, score=nan, total=   0.0s\n",
            "[CV] C=5, max_iter=1000, n_jobs=100, penalty=l1, solver=lbfgs ........\n",
            "[CV]  C=5, max_iter=1000, n_jobs=100, penalty=l1, solver=lbfgs, score=nan, total=   0.0s\n",
            "[CV] C=5, max_iter=1000, n_jobs=100, penalty=l1, solver=lbfgs ........\n",
            "[CV]  C=5, max_iter=1000, n_jobs=100, penalty=l1, solver=lbfgs, score=nan, total=   0.0s\n",
            "[CV] C=5, max_iter=1000, n_jobs=100, penalty=l2, solver=lbfgs ........\n"
          ],
          "name": "stdout"
        },
        {
          "output_type": "stream",
          "text": [
            "/usr/local/lib/python3.6/dist-packages/sklearn/model_selection/_validation.py:536: FitFailedWarning: Estimator fit failed. The score on this train-test partition for these parameters will be set to nan. Details: \n",
            "ValueError: Solver lbfgs supports only 'l2' or 'none' penalties, got l1 penalty.\n",
            "\n",
            "  FitFailedWarning)\n"
          ],
          "name": "stderr"
        },
        {
          "output_type": "stream",
          "text": [
            "[CV]  C=5, max_iter=1000, n_jobs=100, penalty=l2, solver=lbfgs, score=0.894, total= 3.3min\n",
            "[CV] C=5, max_iter=1000, n_jobs=100, penalty=l2, solver=lbfgs ........\n",
            "[CV]  C=5, max_iter=1000, n_jobs=100, penalty=l2, solver=lbfgs, score=0.899, total= 3.7min\n",
            "[CV] C=5, max_iter=1000, n_jobs=100, penalty=l2, solver=lbfgs ........\n",
            "[CV]  C=5, max_iter=1000, n_jobs=100, penalty=l2, solver=lbfgs, score=0.898, total= 3.1min\n",
            "[CV] C=10, max_iter=1000, n_jobs=100, penalty=l1, solver=lbfgs .......\n",
            "[CV]  C=10, max_iter=1000, n_jobs=100, penalty=l1, solver=lbfgs, score=nan, total=   0.0s\n",
            "[CV] C=10, max_iter=1000, n_jobs=100, penalty=l1, solver=lbfgs .......\n",
            "[CV]  C=10, max_iter=1000, n_jobs=100, penalty=l1, solver=lbfgs, score=nan, total=   0.0s\n",
            "[CV] C=10, max_iter=1000, n_jobs=100, penalty=l1, solver=lbfgs .......\n",
            "[CV]  C=10, max_iter=1000, n_jobs=100, penalty=l1, solver=lbfgs, score=nan, total=   0.0s\n",
            "[CV] C=10, max_iter=1000, n_jobs=100, penalty=l2, solver=lbfgs .......\n"
          ],
          "name": "stdout"
        },
        {
          "output_type": "stream",
          "text": [
            "/usr/local/lib/python3.6/dist-packages/sklearn/model_selection/_validation.py:536: FitFailedWarning: Estimator fit failed. The score on this train-test partition for these parameters will be set to nan. Details: \n",
            "ValueError: Solver lbfgs supports only 'l2' or 'none' penalties, got l1 penalty.\n",
            "\n",
            "  FitFailedWarning)\n"
          ],
          "name": "stderr"
        },
        {
          "output_type": "stream",
          "text": [
            "[CV]  C=10, max_iter=1000, n_jobs=100, penalty=l2, solver=lbfgs, score=0.898, total= 3.6min\n",
            "[CV] C=10, max_iter=1000, n_jobs=100, penalty=l2, solver=lbfgs .......\n",
            "[CV]  C=10, max_iter=1000, n_jobs=100, penalty=l2, solver=lbfgs, score=0.902, total= 3.2min\n",
            "[CV] C=10, max_iter=1000, n_jobs=100, penalty=l2, solver=lbfgs .......\n",
            "[CV]  C=10, max_iter=1000, n_jobs=100, penalty=l2, solver=lbfgs, score=0.900, total= 3.5min\n",
            "[CV] C=25, max_iter=1000, n_jobs=100, penalty=l1, solver=lbfgs .......\n",
            "[CV]  C=25, max_iter=1000, n_jobs=100, penalty=l1, solver=lbfgs, score=nan, total=   0.0s\n",
            "[CV] C=25, max_iter=1000, n_jobs=100, penalty=l1, solver=lbfgs .......\n",
            "[CV]  C=25, max_iter=1000, n_jobs=100, penalty=l1, solver=lbfgs, score=nan, total=   0.0s\n",
            "[CV] C=25, max_iter=1000, n_jobs=100, penalty=l1, solver=lbfgs .......\n",
            "[CV]  C=25, max_iter=1000, n_jobs=100, penalty=l1, solver=lbfgs, score=nan, total=   0.0s\n",
            "[CV] C=25, max_iter=1000, n_jobs=100, penalty=l2, solver=lbfgs .......\n"
          ],
          "name": "stdout"
        },
        {
          "output_type": "stream",
          "text": [
            "/usr/local/lib/python3.6/dist-packages/sklearn/model_selection/_validation.py:536: FitFailedWarning: Estimator fit failed. The score on this train-test partition for these parameters will be set to nan. Details: \n",
            "ValueError: Solver lbfgs supports only 'l2' or 'none' penalties, got l1 penalty.\n",
            "\n",
            "  FitFailedWarning)\n"
          ],
          "name": "stderr"
        },
        {
          "output_type": "stream",
          "text": [
            "[CV]  C=25, max_iter=1000, n_jobs=100, penalty=l2, solver=lbfgs, score=0.902, total= 3.3min\n",
            "[CV] C=25, max_iter=1000, n_jobs=100, penalty=l2, solver=lbfgs .......\n",
            "[CV]  C=25, max_iter=1000, n_jobs=100, penalty=l2, solver=lbfgs, score=0.901, total= 3.6min\n",
            "[CV] C=25, max_iter=1000, n_jobs=100, penalty=l2, solver=lbfgs .......\n",
            "[CV]  C=25, max_iter=1000, n_jobs=100, penalty=l2, solver=lbfgs, score=0.902, total= 3.1min\n"
          ],
          "name": "stdout"
        },
        {
          "output_type": "stream",
          "text": [
            "[Parallel(n_jobs=1)]: Done  42 out of  42 | elapsed: 53.2min finished\n"
          ],
          "name": "stderr"
        }
      ]
    },
    {
      "cell_type": "code",
      "metadata": {
        "id": "cDkNcLoNaR5c",
        "outputId": "71f901e5-c5d1-4f99-e0c1-7b96ab3741f2",
        "colab": {
          "base_uri": "https://localhost:8080/"
        }
      },
      "source": [
        "best_clf.best_score_"
      ],
      "execution_count": 63,
      "outputs": [
        {
          "output_type": "execute_result",
          "data": {
            "text/plain": [
              "0.9016057261436828"
            ]
          },
          "metadata": {
            "tags": []
          },
          "execution_count": 63
        }
      ]
    },
    {
      "cell_type": "code",
      "metadata": {
        "id": "M-gMpeBhaYM0",
        "outputId": "bd1dc33b-4b72-4da5-df36-5787740ccf99",
        "colab": {
          "base_uri": "https://localhost:8080/"
        }
      },
      "source": [
        "best_clf.best_params_"
      ],
      "execution_count": 64,
      "outputs": [
        {
          "output_type": "execute_result",
          "data": {
            "text/plain": [
              "{'C': 25, 'max_iter': 1000, 'n_jobs': 100, 'penalty': 'l2', 'solver': 'lbfgs'}"
            ]
          },
          "metadata": {
            "tags": []
          },
          "execution_count": 64
        }
      ]
    },
    {
      "cell_type": "code",
      "metadata": {
        "id": "irWlk4bZP8Wa",
        "outputId": "935d2320-6e00-4b75-8fe2-6b3f6449189a",
        "colab": {
          "base_uri": "https://localhost:8080/"
        }
      },
      "source": [
        "import time\n",
        "start = time.time()\n",
        "from sklearn.linear_model import LogisticRegression\n",
        "model_2 = LogisticRegression(C= 25, max_iter= 1000, n_jobs= 100, penalty='l2', solver= 'lbfgs')\n",
        "model_2.fit(X_train, y_train)\n",
        "pred_3= model_2.predict(X_test)\n",
        "score5 = model_2.score(X_test, y_test)\n",
        "end = time.time()\n",
        "print(end - start, \"seconds\\n\")\n",
        "print(\"Accuracy of model with best parameters: \",score5)"
      ],
      "execution_count": 65,
      "outputs": [
        {
          "output_type": "stream",
          "text": [
            "289.3209788799286 seconds\n",
            "\n",
            "Accuracy of model with best parameters:  0.9014006566731022\n"
          ],
          "name": "stdout"
        }
      ]
    },
    {
      "cell_type": "code",
      "metadata": {
        "id": "K-8L8oEMTxqf",
        "outputId": "d8c2cdc2-eee9-4640-b008-903cf01559b8",
        "colab": {
          "base_uri": "https://localhost:8080/"
        }
      },
      "source": [
        "pred_4 = model_2.predict(xtest)\n",
        "score6 = model_2.score(xtest,ytest)\n",
        "print(\"Accuracy of test model with best parameters: \",score6)"
      ],
      "execution_count": 66,
      "outputs": [
        {
          "output_type": "stream",
          "text": [
            "Accuracy of test model with best parameters:  0.9699813942710711\n"
          ],
          "name": "stdout"
        }
      ]
    },
    {
      "cell_type": "code",
      "metadata": {
        "id": "zcG0hqrTT-dD",
        "outputId": "ff84de88-8a29-4910-b675-c01ba3e2146b",
        "colab": {
          "base_uri": "https://localhost:8080/"
        }
      },
      "source": [
        "from sklearn.metrics import multilabel_confusion_matrix\n",
        "multilabel_confusion_matrix(y_test,pred_3)"
      ],
      "execution_count": 67,
      "outputs": [
        {
          "output_type": "execute_result",
          "data": {
            "text/plain": [
              "array([[[77189,  1130],\n",
              "        [  804,  2196]],\n",
              "\n",
              "       [[66843,   476],\n",
              "        [ 1017, 12983]],\n",
              "\n",
              "       [[67315,     4],\n",
              "        [    0, 14000]],\n",
              "\n",
              "       [[76381,   938],\n",
              "        [ 1055,  2945]],\n",
              "\n",
              "       [[66966,  1353],\n",
              "        [  450, 12550]],\n",
              "\n",
              "       [[67319,     0],\n",
              "        [    8, 13992]],\n",
              "\n",
              "       [[79719,     0],\n",
              "        [    0,  1600]],\n",
              "\n",
              "       [[73786,  1533],\n",
              "        [ 2610,  3390]],\n",
              "\n",
              "       [[67016,  2584],\n",
              "        [ 2074,  9645]]])"
            ]
          },
          "metadata": {
            "tags": []
          },
          "execution_count": 67
        }
      ]
    }
  ]
}
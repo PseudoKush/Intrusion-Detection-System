{
 "cells": [
  {
   "cell_type": "code",
   "execution_count": 1,
   "metadata": {
    "id": "4_ix2uUW7c4N"
   },
   "outputs": [],
   "source": [
    "import pandas as pd\n",
    "import numpy as np\n",
    "import seaborn as sns\n",
    "import sklearn\n",
    "import warnings; warnings.simplefilter('ignore')\n",
    "from sklearn.preprocessing import StandardScaler"
   ]
  },
  {
   "cell_type": "code",
   "execution_count": 2,
   "metadata": {
    "id": "SHsHkKhG7jVs"
   },
   "outputs": [],
   "source": [
    "data_train=pd.read_csv(\"/content/drive/My Drive/DATASETIOT/UNSW_2018_IoT_Botnet_Final_10_best_Training.csv\")"
   ]
  },
  {
   "cell_type": "code",
   "execution_count": 3,
   "metadata": {
    "id": "TKEg5KuG7vh9"
   },
   "outputs": [],
   "source": [
    "data_test=pd.read_csv(\"/content/drive/My Drive/DATASETIOT/UNSW_2018_IoT_Botnet_Final_10_best_Testing.csv\")"
   ]
  },
  {
   "cell_type": "code",
   "execution_count": 4,
   "metadata": {
    "colab": {
     "base_uri": "https://localhost:8080/",
     "height": 215
    },
    "id": "6RBzAgvV73pi",
    "outputId": "32e8149b-78d5-4d0f-e1eb-59b45bec60f0"
   },
   "outputs": [
    {
     "data": {
      "text/html": [
       "<div>\n",
       "<style scoped>\n",
       "    .dataframe tbody tr th:only-of-type {\n",
       "        vertical-align: middle;\n",
       "    }\n",
       "\n",
       "    .dataframe tbody tr th {\n",
       "        vertical-align: top;\n",
       "    }\n",
       "\n",
       "    .dataframe thead th {\n",
       "        text-align: right;\n",
       "    }\n",
       "</style>\n",
       "<table border=\"1\" class=\"dataframe\">\n",
       "  <thead>\n",
       "    <tr style=\"text-align: right;\">\n",
       "      <th></th>\n",
       "      <th>pkSeqID</th>\n",
       "      <th>proto</th>\n",
       "      <th>saddr</th>\n",
       "      <th>sport</th>\n",
       "      <th>daddr</th>\n",
       "      <th>dport</th>\n",
       "      <th>seq</th>\n",
       "      <th>stddev</th>\n",
       "      <th>N_IN_Conn_P_SrcIP</th>\n",
       "      <th>min</th>\n",
       "      <th>state_number</th>\n",
       "      <th>mean</th>\n",
       "      <th>N_IN_Conn_P_DstIP</th>\n",
       "      <th>drate</th>\n",
       "      <th>srate</th>\n",
       "      <th>max</th>\n",
       "      <th>attack</th>\n",
       "      <th>category</th>\n",
       "      <th>subcategory</th>\n",
       "    </tr>\n",
       "  </thead>\n",
       "  <tbody>\n",
       "    <tr>\n",
       "      <th>0</th>\n",
       "      <td>3142762</td>\n",
       "      <td>udp</td>\n",
       "      <td>192.168.100.150</td>\n",
       "      <td>6551</td>\n",
       "      <td>192.168.100.3</td>\n",
       "      <td>80</td>\n",
       "      <td>251984</td>\n",
       "      <td>1.900363</td>\n",
       "      <td>100</td>\n",
       "      <td>0.000000</td>\n",
       "      <td>4</td>\n",
       "      <td>2.687519</td>\n",
       "      <td>100</td>\n",
       "      <td>0.0</td>\n",
       "      <td>0.494549</td>\n",
       "      <td>4.031619</td>\n",
       "      <td>1</td>\n",
       "      <td>DDoS</td>\n",
       "      <td>UDP</td>\n",
       "    </tr>\n",
       "    <tr>\n",
       "      <th>1</th>\n",
       "      <td>2432264</td>\n",
       "      <td>tcp</td>\n",
       "      <td>192.168.100.150</td>\n",
       "      <td>5532</td>\n",
       "      <td>192.168.100.3</td>\n",
       "      <td>80</td>\n",
       "      <td>256724</td>\n",
       "      <td>0.078003</td>\n",
       "      <td>38</td>\n",
       "      <td>3.856930</td>\n",
       "      <td>3</td>\n",
       "      <td>3.934927</td>\n",
       "      <td>100</td>\n",
       "      <td>0.0</td>\n",
       "      <td>0.256493</td>\n",
       "      <td>4.012924</td>\n",
       "      <td>1</td>\n",
       "      <td>DDoS</td>\n",
       "      <td>TCP</td>\n",
       "    </tr>\n",
       "    <tr>\n",
       "      <th>2</th>\n",
       "      <td>1976315</td>\n",
       "      <td>tcp</td>\n",
       "      <td>192.168.100.147</td>\n",
       "      <td>27165</td>\n",
       "      <td>192.168.100.3</td>\n",
       "      <td>80</td>\n",
       "      <td>62921</td>\n",
       "      <td>0.268666</td>\n",
       "      <td>100</td>\n",
       "      <td>2.974100</td>\n",
       "      <td>3</td>\n",
       "      <td>3.341429</td>\n",
       "      <td>100</td>\n",
       "      <td>0.0</td>\n",
       "      <td>0.294880</td>\n",
       "      <td>3.609205</td>\n",
       "      <td>1</td>\n",
       "      <td>DDoS</td>\n",
       "      <td>TCP</td>\n",
       "    </tr>\n",
       "    <tr>\n",
       "      <th>3</th>\n",
       "      <td>1240757</td>\n",
       "      <td>udp</td>\n",
       "      <td>192.168.100.150</td>\n",
       "      <td>48719</td>\n",
       "      <td>192.168.100.3</td>\n",
       "      <td>80</td>\n",
       "      <td>99168</td>\n",
       "      <td>1.823185</td>\n",
       "      <td>63</td>\n",
       "      <td>0.000000</td>\n",
       "      <td>4</td>\n",
       "      <td>3.222832</td>\n",
       "      <td>63</td>\n",
       "      <td>0.0</td>\n",
       "      <td>0.461435</td>\n",
       "      <td>4.942302</td>\n",
       "      <td>1</td>\n",
       "      <td>DoS</td>\n",
       "      <td>UDP</td>\n",
       "    </tr>\n",
       "    <tr>\n",
       "      <th>4</th>\n",
       "      <td>3257991</td>\n",
       "      <td>udp</td>\n",
       "      <td>192.168.100.147</td>\n",
       "      <td>22461</td>\n",
       "      <td>192.168.100.3</td>\n",
       "      <td>80</td>\n",
       "      <td>105063</td>\n",
       "      <td>0.822418</td>\n",
       "      <td>100</td>\n",
       "      <td>2.979995</td>\n",
       "      <td>4</td>\n",
       "      <td>3.983222</td>\n",
       "      <td>100</td>\n",
       "      <td>0.0</td>\n",
       "      <td>1.002999</td>\n",
       "      <td>4.994452</td>\n",
       "      <td>1</td>\n",
       "      <td>DDoS</td>\n",
       "      <td>UDP</td>\n",
       "    </tr>\n",
       "  </tbody>\n",
       "</table>\n",
       "</div>"
      ],
      "text/plain": [
       "   pkSeqID proto            saddr  sport  ...       max attack  category  subcategory\n",
       "0  3142762   udp  192.168.100.150   6551  ...  4.031619      1      DDoS          UDP\n",
       "1  2432264   tcp  192.168.100.150   5532  ...  4.012924      1      DDoS          TCP\n",
       "2  1976315   tcp  192.168.100.147  27165  ...  3.609205      1      DDoS          TCP\n",
       "3  1240757   udp  192.168.100.150  48719  ...  4.942302      1       DoS          UDP\n",
       "4  3257991   udp  192.168.100.147  22461  ...  4.994452      1      DDoS          UDP\n",
       "\n",
       "[5 rows x 19 columns]"
      ]
     },
     "execution_count": 4,
     "metadata": {
      "tags": []
     },
     "output_type": "execute_result"
    }
   ],
   "source": [
    "data_train.head()"
   ]
  },
  {
   "cell_type": "code",
   "execution_count": 5,
   "metadata": {
    "colab": {
     "base_uri": "https://localhost:8080/",
     "height": 454
    },
    "id": "eXlAnRcd8AHj",
    "outputId": "deff6d93-21e9-430b-896d-fe4f1bac7eb2"
   },
   "outputs": [
    {
     "name": "stdout",
     "output_type": "stream",
     "text": [
      "<class 'pandas.core.frame.DataFrame'>\n",
      "RangeIndex: 2934817 entries, 0 to 2934816\n",
      "Data columns (total 19 columns):\n",
      " #   Column             Dtype  \n",
      "---  ------             -----  \n",
      " 0   pkSeqID            int64  \n",
      " 1   proto              object \n",
      " 2   saddr              object \n",
      " 3   sport              object \n",
      " 4   daddr              object \n",
      " 5   dport              object \n",
      " 6   seq                int64  \n",
      " 7   stddev             float64\n",
      " 8   N_IN_Conn_P_SrcIP  int64  \n",
      " 9   min                float64\n",
      " 10  state_number       int64  \n",
      " 11  mean               float64\n",
      " 12  N_IN_Conn_P_DstIP  int64  \n",
      " 13  drate              float64\n",
      " 14  srate              float64\n",
      " 15  max                float64\n",
      " 16  attack             int64  \n",
      " 17  category           object \n",
      " 18  subcategory        object \n",
      "dtypes: float64(6), int64(6), object(7)\n",
      "memory usage: 425.4+ MB\n"
     ]
    }
   ],
   "source": [
    "data_train.info()"
   ]
  },
  {
   "cell_type": "code",
   "execution_count": 6,
   "metadata": {
    "colab": {
     "base_uri": "https://localhost:8080/",
     "height": 34
    },
    "id": "DDjdBKmI8EHE",
    "outputId": "54ec9f7e-6791-47d2-81ae-2c67c009d324"
   },
   "outputs": [
    {
     "data": {
      "text/plain": [
       "(2934817, 19)"
      ]
     },
     "execution_count": 6,
     "metadata": {
      "tags": []
     },
     "output_type": "execute_result"
    }
   ],
   "source": [
    "data_train.shape"
   ]
  },
  {
   "cell_type": "code",
   "execution_count": 7,
   "metadata": {
    "colab": {
     "base_uri": "https://localhost:8080/",
     "height": 34
    },
    "id": "ww_RDg7K8F1B",
    "outputId": "d1c7ad03-6297-4ed6-f413-75bb0e50c72c"
   },
   "outputs": [
    {
     "data": {
      "text/plain": [
       "(733705, 19)"
      ]
     },
     "execution_count": 7,
     "metadata": {
      "tags": []
     },
     "output_type": "execute_result"
    }
   ],
   "source": [
    "data_test.shape"
   ]
  },
  {
   "cell_type": "code",
   "execution_count": 8,
   "metadata": {
    "colab": {
     "base_uri": "https://localhost:8080/",
     "height": 353
    },
    "id": "Fwjr0qd_8MKa",
    "outputId": "1230e408-a3f8-43df-f35a-48ef05b11079"
   },
   "outputs": [
    {
     "data": {
      "text/plain": [
       "pkSeqID              0\n",
       "proto                0\n",
       "saddr                0\n",
       "sport                0\n",
       "daddr                0\n",
       "dport                0\n",
       "seq                  0\n",
       "stddev               0\n",
       "N_IN_Conn_P_SrcIP    0\n",
       "min                  0\n",
       "state_number         0\n",
       "mean                 0\n",
       "N_IN_Conn_P_DstIP    0\n",
       "drate                0\n",
       "srate                0\n",
       "max                  0\n",
       "attack               0\n",
       "category             0\n",
       "subcategory          0\n",
       "dtype: int64"
      ]
     },
     "execution_count": 8,
     "metadata": {
      "tags": []
     },
     "output_type": "execute_result"
    }
   ],
   "source": [
    "data_train.isnull().sum()"
   ]
  },
  {
   "cell_type": "code",
   "execution_count": 9,
   "metadata": {
    "id": "MGSMtDbF8PBS"
   },
   "outputs": [],
   "source": [
    "data_train.drop([\"pkSeqID\",\"seq\",\"subcategory\"], axis=1, inplace=True)"
   ]
  },
  {
   "cell_type": "code",
   "execution_count": 10,
   "metadata": {
    "id": "NqJN5ACB8QkG"
   },
   "outputs": [],
   "source": [
    "data_test.drop([\"pkSeqID\",\"seq\",\"subcategory\"], axis=1, inplace=True)"
   ]
  },
  {
   "cell_type": "code",
   "execution_count": 11,
   "metadata": {
    "colab": {
     "base_uri": "https://localhost:8080/",
     "height": 134
    },
    "id": "ADzr8nAZ8T8b",
    "outputId": "15b26e33-9bf6-4792-9fef-6f0e205ff9a3"
   },
   "outputs": [
    {
     "data": {
      "text/plain": [
       "proto       object\n",
       "saddr       object\n",
       "sport       object\n",
       "daddr       object\n",
       "dport       object\n",
       "category    object\n",
       "dtype: object"
      ]
     },
     "execution_count": 11,
     "metadata": {
      "tags": []
     },
     "output_type": "execute_result"
    }
   ],
   "source": [
    "data_train.dtypes[data_train.dtypes=='object']"
   ]
  },
  {
   "cell_type": "code",
   "execution_count": 12,
   "metadata": {
    "colab": {
     "base_uri": "https://localhost:8080/",
     "height": 370
    },
    "id": "Lg5KOeEV8Ykr",
    "outputId": "cc6eb76f-5d9c-4a40-c264-9dcc9339693d"
   },
   "outputs": [
    {
     "data": {
      "text/plain": [
       "192.168.100.147              761360\n",
       "192.168.100.148              738642\n",
       "192.168.100.150              712260\n",
       "192.168.100.149              711466\n",
       "192.168.100.3                  6609\n",
       "192.168.100.5                  4107\n",
       "192.168.100.6                   272\n",
       "192.168.100.7                    34\n",
       "192.168.100.4                    17\n",
       "192.168.100.1                    14\n",
       "192.168.100.27                    9\n",
       "192.168.100.46                    8\n",
       "fe80::250:56ff:febe:254           5\n",
       "192.168.100.55                    3\n",
       "fe80::250:56ff:febe:c038          2\n",
       "fe80::250:56ff:febe:26db          2\n",
       "fe80::2c6a:ff9b:7e14:166a         2\n",
       "fe80::250:56ff:febe:89ee          2\n",
       "fe80::c0c0:aa20:45b9:bdd9         2\n",
       "fe80::250:56ff:febe:e9d9          1\n",
       "Name: saddr, dtype: int64"
      ]
     },
     "execution_count": 12,
     "metadata": {
      "tags": []
     },
     "output_type": "execute_result"
    }
   ],
   "source": [
    "data_train['saddr'].value_counts()"
   ]
  },
  {
   "cell_type": "code",
   "execution_count": 13,
   "metadata": {
    "colab": {
     "base_uri": "https://localhost:8080/",
     "height": 218
    },
    "id": "xqCpGTnI8bvE",
    "outputId": "e36fc363-d7de-41e2-c551-35a1de696dda"
   },
   "outputs": [
    {
     "data": {
      "text/plain": [
       "0x0303    7156\n",
       "80        3220\n",
       "1822       878\n",
       "60541      869\n",
       "1216       868\n",
       "          ... \n",
       "32047       31\n",
       "39305       30\n",
       "18992       30\n",
       "0x000d      10\n",
       "0x0011       8\n",
       "Name: sport, Length: 65541, dtype: int64"
      ]
     },
     "execution_count": 13,
     "metadata": {
      "tags": []
     },
     "output_type": "execute_result"
    }
   ],
   "source": [
    "data_train['sport'].value_counts()"
   ]
  },
  {
   "cell_type": "code",
   "execution_count": 14,
   "metadata": {
    "colab": {
     "base_uri": "https://localhost:8080/",
     "height": 218
    },
    "id": "l1mYPc6j8dDX",
    "outputId": "de2b8c03-9dd3-49b7-9b29-e1dcccdd92f2"
   },
   "outputs": [
    {
     "data": {
      "text/plain": [
       "192.168.100.3      1900562\n",
       "192.168.100.5       361192\n",
       "192.168.100.7       332161\n",
       "192.168.100.6       329679\n",
       "192.168.100.150       3040\n",
       "                    ...   \n",
       "156.154.100.3            1\n",
       "205.251.194.201          1\n",
       "205.251.196.160          1\n",
       "205.251.199.194          1\n",
       "205.251.198.119          1\n",
       "Name: daddr, Length: 81, dtype: int64"
      ]
     },
     "execution_count": 14,
     "metadata": {
      "tags": []
     },
     "output_type": "execute_result"
    }
   ],
   "source": [
    "data_train['daddr'].value_counts()"
   ]
  },
  {
   "cell_type": "code",
   "execution_count": 15,
   "metadata": {
    "colab": {
     "base_uri": "https://localhost:8080/",
     "height": 218
    },
    "id": "8D3DZKYH8h1e",
    "outputId": "255d0e5e-898b-42b8-899a-413d309d2079"
   },
   "outputs": [
    {
     "data": {
      "text/plain": [
       "80       2858794\n",
       "1           5379\n",
       "3306        3757\n",
       "53           275\n",
       "-1           166\n",
       "          ...   \n",
       "2238           1\n",
       "48287          1\n",
       "41710          1\n",
       "48332          1\n",
       "36950          1\n",
       "Name: dport, Length: 6906, dtype: int64"
      ]
     },
     "execution_count": 15,
     "metadata": {
      "tags": []
     },
     "output_type": "execute_result"
    }
   ],
   "source": [
    "data_train['dport'].value_counts()"
   ]
  },
  {
   "cell_type": "code",
   "execution_count": 16,
   "metadata": {
    "colab": {
     "base_uri": "https://localhost:8080/",
     "height": 118
    },
    "id": "ZOa-NK4F8kvj",
    "outputId": "e5a5559a-feba-4054-b125-c79bcdf5af50"
   },
   "outputs": [
    {
     "data": {
      "text/plain": [
       "DDoS              1541315\n",
       "DoS               1320148\n",
       "Reconnaissance      72919\n",
       "Normal                370\n",
       "Theft                  65\n",
       "Name: category, dtype: int64"
      ]
     },
     "execution_count": 16,
     "metadata": {
      "tags": []
     },
     "output_type": "execute_result"
    }
   ],
   "source": [
    "data_train['category'].value_counts()"
   ]
  },
  {
   "cell_type": "code",
   "execution_count": 17,
   "metadata": {
    "colab": {
     "base_uri": "https://localhost:8080/",
     "height": 34
    },
    "id": "O6o91tKt8wz1",
    "outputId": "276c2089-2792-4058-96d2-7465c2a256fd"
   },
   "outputs": [
    {
     "data": {
      "text/plain": [
       "(2934817, 16)"
      ]
     },
     "execution_count": 17,
     "metadata": {
      "tags": []
     },
     "output_type": "execute_result"
    }
   ],
   "source": [
    "data_train.shape"
   ]
  },
  {
   "cell_type": "code",
   "execution_count": 18,
   "metadata": {
    "id": "oy8odb1x80Tp"
   },
   "outputs": [],
   "source": [
    "indexNames = data_train[data_train['category']=='Theft'].index\n",
    "data_train.drop(indexNames , inplace=True)"
   ]
  },
  {
   "cell_type": "code",
   "execution_count": 19,
   "metadata": {
    "id": "fjwJgFfq8_C-"
   },
   "outputs": [],
   "source": [
    "indexNames = data_train[data_train['category']=='Normal'].index\n",
    "data_train.drop(indexNames , inplace=True)"
   ]
  },
  {
   "cell_type": "code",
   "execution_count": 20,
   "metadata": {
    "colab": {
     "base_uri": "https://localhost:8080/",
     "height": 34
    },
    "id": "7lGMWplc9DOi",
    "outputId": "29e608e5-11e5-4aba-85f8-379397fae2ba"
   },
   "outputs": [
    {
     "data": {
      "text/plain": [
       "(2934382, 16)"
      ]
     },
     "execution_count": 20,
     "metadata": {
      "tags": []
     },
     "output_type": "execute_result"
    }
   ],
   "source": [
    "data_train.shape"
   ]
  },
  {
   "cell_type": "code",
   "execution_count": 21,
   "metadata": {
    "id": "Rj8bKX7g9GQh"
   },
   "outputs": [],
   "source": [
    "data_train['sport']=data_train['sport'].replace(['0x0303'],'771') \n",
    "data_train['sport']=data_train['sport'].replace(['0x0011'],'17')\n",
    "data_train['sport']=data_train['sport'].replace(['0x000d'],'13')\n",
    "data_train['sport']=data_train['sport'].replace(['0x0008'],'8')"
   ]
  },
  {
   "cell_type": "code",
   "execution_count": 22,
   "metadata": {
    "id": "QrVe0Oj89QHV"
   },
   "outputs": [],
   "source": [
    "data_train[\"sport\"] = data_train[\"sport\"].astype(str).astype(int)"
   ]
  },
  {
   "cell_type": "code",
   "execution_count": 23,
   "metadata": {
    "id": "_RBjCDvc9SbT"
   },
   "outputs": [],
   "source": [
    "data_test['sport']=data_test['sport'].replace(['0x0303'],'771') \n",
    "data_test['sport']=data_test['sport'].replace(['0x0011'],'17')\n",
    "data_test['sport']=data_test['sport'].replace(['0x000d'],'13')\n",
    "data_test['sport']=data_test['sport'].replace(['0x0008'],'8')"
   ]
  },
  {
   "cell_type": "code",
   "execution_count": 24,
   "metadata": {
    "id": "03DpU8Z29ait"
   },
   "outputs": [],
   "source": [
    "data_test[\"sport\"] = data_test[\"sport\"].astype(str).astype(int)"
   ]
  },
  {
   "cell_type": "code",
   "execution_count": 25,
   "metadata": {
    "id": "XHVq3H629dwa"
   },
   "outputs": [],
   "source": [
    "data_train['dport']=data_train.dport.apply(lambda x: int(x,16) if len(x)>1 and x[1]==\"x\" else int(x))"
   ]
  },
  {
   "cell_type": "code",
   "execution_count": 26,
   "metadata": {
    "id": "4wZ_plOs9kB9"
   },
   "outputs": [],
   "source": [
    "data_test['dport']=data_test.dport.apply(lambda x: int(x,16) if len(x)>1 and x[1]==\"x\" else int(x))"
   ]
  },
  {
   "cell_type": "code",
   "execution_count": 27,
   "metadata": {
    "colab": {
     "base_uri": "https://localhost:8080/",
     "height": 218
    },
    "id": "m3XIdV_h9osd",
    "outputId": "57205454-af20-4f1f-ac6b-f3c0f3cebae2"
   },
   "outputs": [
    {
     "data": {
      "text/plain": [
       "80       2858779\n",
       "1           5379\n",
       "3306        3755\n",
       "465          161\n",
       "993          161\n",
       "          ...   \n",
       "9031           1\n",
       "37712          1\n",
       "9030           1\n",
       "37715          1\n",
       "13117          1\n",
       "Name: dport, Length: 6773, dtype: int64"
      ]
     },
     "execution_count": 27,
     "metadata": {
      "tags": []
     },
     "output_type": "execute_result"
    }
   ],
   "source": [
    "data_train['dport'].value_counts()"
   ]
  },
  {
   "cell_type": "code",
   "execution_count": 28,
   "metadata": {
    "colab": {
     "base_uri": "https://localhost:8080/",
     "height": 218
    },
    "id": "1qhgZSut9sz9",
    "outputId": "9c6848cc-0d3f-4d9e-f363-ccd69c3b0392"
   },
   "outputs": [
    {
     "data": {
      "text/plain": [
       "771      7203\n",
       "80       3209\n",
       "1822      878\n",
       "60541     869\n",
       "1216      868\n",
       "         ... \n",
       "27738      31\n",
       "39364      31\n",
       "7813       31\n",
       "18992      30\n",
       "39305      30\n",
       "Name: sport, Length: 65537, dtype: int64"
      ]
     },
     "execution_count": 28,
     "metadata": {
      "tags": []
     },
     "output_type": "execute_result"
    }
   ],
   "source": [
    "data_train['sport'].value_counts()"
   ]
  },
  {
   "cell_type": "code",
   "execution_count": 29,
   "metadata": {
    "id": "ld8rmVvA9u7U"
   },
   "outputs": [],
   "source": [
    "from sklearn.preprocessing import LabelEncoder\n",
    "le = LabelEncoder()\n",
    "data_train[\"saddr_enc\"]= le.fit_transform(data_train.saddr)\n",
    "data_train[\"daddr_enc\"]= le.fit_transform(data_train.daddr)\n",
    "data_train[\"proto_enc\"]= le.fit_transform(data_train.proto)\n",
    "data_train[\"category_enc\"]= le.fit_transform(data_train.category)\n",
    "data_train.drop(['saddr','daddr','proto','category'], axis=1, inplace=True)"
   ]
  },
  {
   "cell_type": "code",
   "execution_count": 30,
   "metadata": {
    "id": "m4DfwwD296Wp"
   },
   "outputs": [],
   "source": [
    "from sklearn.preprocessing import LabelEncoder\n",
    "le = LabelEncoder()\n",
    "data_test[\"saddr_enc\"]= le.fit_transform(data_test.saddr)\n",
    "data_test[\"daddr_enc\"]= le.fit_transform(data_test.daddr)\n",
    "data_test[\"proto_enc\"]= le.fit_transform(data_test.proto)\n",
    "data_test[\"category_enc\"]= le.fit_transform(data_test.category)\n",
    "data_test.drop(['saddr','daddr','proto','category'], axis=1, inplace=True)"
   ]
  },
  {
   "cell_type": "code",
   "execution_count": 31,
   "metadata": {
    "colab": {
     "base_uri": "https://localhost:8080/",
     "height": 195
    },
    "id": "P0kab72K-D8Y",
    "outputId": "435d8b20-c8c6-4b95-e162-f73f38257b9b"
   },
   "outputs": [
    {
     "data": {
      "text/html": [
       "<div>\n",
       "<style scoped>\n",
       "    .dataframe tbody tr th:only-of-type {\n",
       "        vertical-align: middle;\n",
       "    }\n",
       "\n",
       "    .dataframe tbody tr th {\n",
       "        vertical-align: top;\n",
       "    }\n",
       "\n",
       "    .dataframe thead th {\n",
       "        text-align: right;\n",
       "    }\n",
       "</style>\n",
       "<table border=\"1\" class=\"dataframe\">\n",
       "  <thead>\n",
       "    <tr style=\"text-align: right;\">\n",
       "      <th></th>\n",
       "      <th>sport</th>\n",
       "      <th>dport</th>\n",
       "      <th>stddev</th>\n",
       "      <th>N_IN_Conn_P_SrcIP</th>\n",
       "      <th>min</th>\n",
       "      <th>state_number</th>\n",
       "      <th>mean</th>\n",
       "      <th>N_IN_Conn_P_DstIP</th>\n",
       "      <th>drate</th>\n",
       "      <th>srate</th>\n",
       "      <th>max</th>\n",
       "      <th>attack</th>\n",
       "      <th>saddr_enc</th>\n",
       "      <th>daddr_enc</th>\n",
       "      <th>proto_enc</th>\n",
       "      <th>category_enc</th>\n",
       "    </tr>\n",
       "  </thead>\n",
       "  <tbody>\n",
       "    <tr>\n",
       "      <th>0</th>\n",
       "      <td>6551</td>\n",
       "      <td>80</td>\n",
       "      <td>1.900363</td>\n",
       "      <td>100</td>\n",
       "      <td>0.000000</td>\n",
       "      <td>4</td>\n",
       "      <td>2.687519</td>\n",
       "      <td>100</td>\n",
       "      <td>0.0</td>\n",
       "      <td>0.494549</td>\n",
       "      <td>4.031619</td>\n",
       "      <td>1</td>\n",
       "      <td>3</td>\n",
       "      <td>4</td>\n",
       "      <td>3</td>\n",
       "      <td>0</td>\n",
       "    </tr>\n",
       "    <tr>\n",
       "      <th>1</th>\n",
       "      <td>5532</td>\n",
       "      <td>80</td>\n",
       "      <td>0.078003</td>\n",
       "      <td>38</td>\n",
       "      <td>3.856930</td>\n",
       "      <td>3</td>\n",
       "      <td>3.934927</td>\n",
       "      <td>100</td>\n",
       "      <td>0.0</td>\n",
       "      <td>0.256493</td>\n",
       "      <td>4.012924</td>\n",
       "      <td>1</td>\n",
       "      <td>3</td>\n",
       "      <td>4</td>\n",
       "      <td>2</td>\n",
       "      <td>0</td>\n",
       "    </tr>\n",
       "    <tr>\n",
       "      <th>2</th>\n",
       "      <td>27165</td>\n",
       "      <td>80</td>\n",
       "      <td>0.268666</td>\n",
       "      <td>100</td>\n",
       "      <td>2.974100</td>\n",
       "      <td>3</td>\n",
       "      <td>3.341429</td>\n",
       "      <td>100</td>\n",
       "      <td>0.0</td>\n",
       "      <td>0.294880</td>\n",
       "      <td>3.609205</td>\n",
       "      <td>1</td>\n",
       "      <td>0</td>\n",
       "      <td>4</td>\n",
       "      <td>2</td>\n",
       "      <td>0</td>\n",
       "    </tr>\n",
       "    <tr>\n",
       "      <th>3</th>\n",
       "      <td>48719</td>\n",
       "      <td>80</td>\n",
       "      <td>1.823185</td>\n",
       "      <td>63</td>\n",
       "      <td>0.000000</td>\n",
       "      <td>4</td>\n",
       "      <td>3.222832</td>\n",
       "      <td>63</td>\n",
       "      <td>0.0</td>\n",
       "      <td>0.461435</td>\n",
       "      <td>4.942302</td>\n",
       "      <td>1</td>\n",
       "      <td>3</td>\n",
       "      <td>4</td>\n",
       "      <td>3</td>\n",
       "      <td>1</td>\n",
       "    </tr>\n",
       "    <tr>\n",
       "      <th>4</th>\n",
       "      <td>22461</td>\n",
       "      <td>80</td>\n",
       "      <td>0.822418</td>\n",
       "      <td>100</td>\n",
       "      <td>2.979995</td>\n",
       "      <td>4</td>\n",
       "      <td>3.983222</td>\n",
       "      <td>100</td>\n",
       "      <td>0.0</td>\n",
       "      <td>1.002999</td>\n",
       "      <td>4.994452</td>\n",
       "      <td>1</td>\n",
       "      <td>0</td>\n",
       "      <td>4</td>\n",
       "      <td>3</td>\n",
       "      <td>0</td>\n",
       "    </tr>\n",
       "  </tbody>\n",
       "</table>\n",
       "</div>"
      ],
      "text/plain": [
       "   sport  dport    stddev  ...  daddr_enc  proto_enc  category_enc\n",
       "0   6551     80  1.900363  ...          4          3             0\n",
       "1   5532     80  0.078003  ...          4          2             0\n",
       "2  27165     80  0.268666  ...          4          2             0\n",
       "3  48719     80  1.823185  ...          4          3             1\n",
       "4  22461     80  0.822418  ...          4          3             0\n",
       "\n",
       "[5 rows x 16 columns]"
      ]
     },
     "execution_count": 31,
     "metadata": {
      "tags": []
     },
     "output_type": "execute_result"
    }
   ],
   "source": [
    "data_train.head()"
   ]
  },
  {
   "cell_type": "code",
   "execution_count": 32,
   "metadata": {
    "colab": {
     "base_uri": "https://localhost:8080/",
     "height": 84
    },
    "id": "oeO4ya7q-IN2",
    "outputId": "d64b8a2d-68ed-4948-d9d6-35f93206b453"
   },
   "outputs": [
    {
     "data": {
      "text/plain": [
       "0    1541315\n",
       "1    1320148\n",
       "2      72919\n",
       "Name: category_enc, dtype: int64"
      ]
     },
     "execution_count": 32,
     "metadata": {
      "tags": []
     },
     "output_type": "execute_result"
    }
   ],
   "source": [
    "data_train['category_enc'].value_counts()"
   ]
  },
  {
   "cell_type": "code",
   "execution_count": 33,
   "metadata": {
    "colab": {
     "base_uri": "https://localhost:8080/",
     "height": 403
    },
    "id": "9Mc5sdom-KXU",
    "outputId": "1d3ddb5a-68d5-4fb7-fbc8-55d963f1d52c"
   },
   "outputs": [
    {
     "name": "stdout",
     "output_type": "stream",
     "text": [
      "<class 'pandas.core.frame.DataFrame'>\n",
      "Int64Index: 2934382 entries, 0 to 2934816\n",
      "Data columns (total 16 columns):\n",
      " #   Column             Dtype  \n",
      "---  ------             -----  \n",
      " 0   sport              int64  \n",
      " 1   dport              int64  \n",
      " 2   stddev             float64\n",
      " 3   N_IN_Conn_P_SrcIP  int64  \n",
      " 4   min                float64\n",
      " 5   state_number       int64  \n",
      " 6   mean               float64\n",
      " 7   N_IN_Conn_P_DstIP  int64  \n",
      " 8   drate              float64\n",
      " 9   srate              float64\n",
      " 10  max                float64\n",
      " 11  attack             int64  \n",
      " 12  saddr_enc          int64  \n",
      " 13  daddr_enc          int64  \n",
      " 14  proto_enc          int64  \n",
      " 15  category_enc       int64  \n",
      "dtypes: float64(6), int64(10)\n",
      "memory usage: 380.6 MB\n"
     ]
    }
   ],
   "source": [
    "data_train.info()"
   ]
  },
  {
   "cell_type": "code",
   "execution_count": 34,
   "metadata": {
    "id": "sU-x76YF-w9Z"
   },
   "outputs": [],
   "source": [
    "y_train=data_train[\"category_enc\"]"
   ]
  },
  {
   "cell_type": "code",
   "execution_count": 35,
   "metadata": {
    "id": "Wa0DwoYp-ze0"
   },
   "outputs": [],
   "source": [
    "y_test=data_test[\"category_enc\"]"
   ]
  },
  {
   "cell_type": "code",
   "execution_count": 36,
   "metadata": {
    "id": "CdGihyI8-4TU"
   },
   "outputs": [],
   "source": [
    "from sklearn.preprocessing import StandardScaler\n",
    "scaler=StandardScaler()\n",
    "features = data_train.iloc[:,:-1]\n",
    "cols=features.columns\n",
    "scaled_features= scaler.fit_transform(features)\n",
    "data_train= pd.DataFrame(scaled_features,columns=cols)"
   ]
  },
  {
   "cell_type": "code",
   "execution_count": 37,
   "metadata": {
    "id": "AP9STpyz-8E9"
   },
   "outputs": [],
   "source": [
    "from sklearn.preprocessing import StandardScaler\n",
    "scaler=StandardScaler()\n",
    "features = data_test.iloc[:,:-1]\n",
    "cols=features.columns\n",
    "scaled_features= scaler.fit_transform(features)\n",
    "data_test= pd.DataFrame(scaled_features,columns=cols)"
   ]
  },
  {
   "cell_type": "code",
   "execution_count": 38,
   "metadata": {
    "colab": {
     "base_uri": "https://localhost:8080/",
     "height": 195
    },
    "id": "b1YUGmeh_AEq",
    "outputId": "05808c77-6eee-49ab-d64e-90f5b53a8b88"
   },
   "outputs": [
    {
     "data": {
      "text/html": [
       "<div>\n",
       "<style scoped>\n",
       "    .dataframe tbody tr th:only-of-type {\n",
       "        vertical-align: middle;\n",
       "    }\n",
       "\n",
       "    .dataframe tbody tr th {\n",
       "        vertical-align: top;\n",
       "    }\n",
       "\n",
       "    .dataframe thead th {\n",
       "        text-align: right;\n",
       "    }\n",
       "</style>\n",
       "<table border=\"1\" class=\"dataframe\">\n",
       "  <thead>\n",
       "    <tr style=\"text-align: right;\">\n",
       "      <th></th>\n",
       "      <th>sport</th>\n",
       "      <th>dport</th>\n",
       "      <th>stddev</th>\n",
       "      <th>N_IN_Conn_P_SrcIP</th>\n",
       "      <th>min</th>\n",
       "      <th>state_number</th>\n",
       "      <th>mean</th>\n",
       "      <th>N_IN_Conn_P_DstIP</th>\n",
       "      <th>drate</th>\n",
       "      <th>srate</th>\n",
       "      <th>max</th>\n",
       "      <th>attack</th>\n",
       "      <th>saddr_enc</th>\n",
       "      <th>daddr_enc</th>\n",
       "      <th>proto_enc</th>\n",
       "    </tr>\n",
       "  </thead>\n",
       "  <tbody>\n",
       "    <tr>\n",
       "      <th>0</th>\n",
       "      <td>-1.380839</td>\n",
       "      <td>-0.093994</td>\n",
       "      <td>1.260872</td>\n",
       "      <td>0.715398</td>\n",
       "      <td>-0.685704</td>\n",
       "      <td>0.729306</td>\n",
       "      <td>0.300989</td>\n",
       "      <td>0.415117</td>\n",
       "      <td>-0.007602</td>\n",
       "      <td>-0.005638</td>\n",
       "      <td>0.543863</td>\n",
       "      <td>0.0</td>\n",
       "      <td>1.339437</td>\n",
       "      <td>-0.629945</td>\n",
       "      <td>0.910667</td>\n",
       "    </tr>\n",
       "    <tr>\n",
       "      <th>1</th>\n",
       "      <td>-1.434151</td>\n",
       "      <td>-0.093994</td>\n",
       "      <td>-1.006793</td>\n",
       "      <td>-1.827708</td>\n",
       "      <td>1.914031</td>\n",
       "      <td>-0.113115</td>\n",
       "      <td>1.122922</td>\n",
       "      <td>0.415117</td>\n",
       "      <td>-0.007602</td>\n",
       "      <td>-0.006392</td>\n",
       "      <td>0.533816</td>\n",
       "      <td>0.0</td>\n",
       "      <td>1.339437</td>\n",
       "      <td>-0.629945</td>\n",
       "      <td>-1.075645</td>\n",
       "    </tr>\n",
       "    <tr>\n",
       "      <th>2</th>\n",
       "      <td>-0.302362</td>\n",
       "      <td>-0.093994</td>\n",
       "      <td>-0.769541</td>\n",
       "      <td>0.715398</td>\n",
       "      <td>1.318966</td>\n",
       "      <td>-0.113115</td>\n",
       "      <td>0.731858</td>\n",
       "      <td>0.415117</td>\n",
       "      <td>-0.007602</td>\n",
       "      <td>-0.006271</td>\n",
       "      <td>0.316849</td>\n",
       "      <td>0.0</td>\n",
       "      <td>-1.306088</td>\n",
       "      <td>-0.629945</td>\n",
       "      <td>-1.075645</td>\n",
       "    </tr>\n",
       "    <tr>\n",
       "      <th>3</th>\n",
       "      <td>0.825293</td>\n",
       "      <td>-0.093994</td>\n",
       "      <td>1.164835</td>\n",
       "      <td>-0.802262</td>\n",
       "      <td>-0.685704</td>\n",
       "      <td>0.729306</td>\n",
       "      <td>0.653713</td>\n",
       "      <td>-1.624605</td>\n",
       "      <td>-0.007602</td>\n",
       "      <td>-0.005743</td>\n",
       "      <td>1.033284</td>\n",
       "      <td>0.0</td>\n",
       "      <td>1.339437</td>\n",
       "      <td>-0.629945</td>\n",
       "      <td>0.910667</td>\n",
       "    </tr>\n",
       "    <tr>\n",
       "      <th>4</th>\n",
       "      <td>-0.548465</td>\n",
       "      <td>-0.093994</td>\n",
       "      <td>-0.080476</td>\n",
       "      <td>0.715398</td>\n",
       "      <td>1.322940</td>\n",
       "      <td>0.729306</td>\n",
       "      <td>1.154744</td>\n",
       "      <td>0.415117</td>\n",
       "      <td>-0.007602</td>\n",
       "      <td>-0.004028</td>\n",
       "      <td>1.061310</td>\n",
       "      <td>0.0</td>\n",
       "      <td>-1.306088</td>\n",
       "      <td>-0.629945</td>\n",
       "      <td>0.910667</td>\n",
       "    </tr>\n",
       "  </tbody>\n",
       "</table>\n",
       "</div>"
      ],
      "text/plain": [
       "      sport     dport    stddev  ...  saddr_enc  daddr_enc  proto_enc\n",
       "0 -1.380839 -0.093994  1.260872  ...   1.339437  -0.629945   0.910667\n",
       "1 -1.434151 -0.093994 -1.006793  ...   1.339437  -0.629945  -1.075645\n",
       "2 -0.302362 -0.093994 -0.769541  ...  -1.306088  -0.629945  -1.075645\n",
       "3  0.825293 -0.093994  1.164835  ...   1.339437  -0.629945   0.910667\n",
       "4 -0.548465 -0.093994 -0.080476  ...  -1.306088  -0.629945   0.910667\n",
       "\n",
       "[5 rows x 15 columns]"
      ]
     },
     "execution_count": 38,
     "metadata": {
      "tags": []
     },
     "output_type": "execute_result"
    }
   ],
   "source": [
    "data_train.head()"
   ]
  },
  {
   "cell_type": "code",
   "execution_count": 39,
   "metadata": {
    "colab": {
     "base_uri": "https://localhost:8080/",
     "height": 386
    },
    "id": "Vt6i0E4B_COX",
    "outputId": "2d285938-bb7a-4222-a2c3-9594ffd422a4"
   },
   "outputs": [
    {
     "name": "stdout",
     "output_type": "stream",
     "text": [
      "<class 'pandas.core.frame.DataFrame'>\n",
      "RangeIndex: 2934382 entries, 0 to 2934381\n",
      "Data columns (total 15 columns):\n",
      " #   Column             Dtype  \n",
      "---  ------             -----  \n",
      " 0   sport              float64\n",
      " 1   dport              float64\n",
      " 2   stddev             float64\n",
      " 3   N_IN_Conn_P_SrcIP  float64\n",
      " 4   min                float64\n",
      " 5   state_number       float64\n",
      " 6   mean               float64\n",
      " 7   N_IN_Conn_P_DstIP  float64\n",
      " 8   drate              float64\n",
      " 9   srate              float64\n",
      " 10  max                float64\n",
      " 11  attack             float64\n",
      " 12  saddr_enc          float64\n",
      " 13  daddr_enc          float64\n",
      " 14  proto_enc          float64\n",
      "dtypes: float64(15)\n",
      "memory usage: 335.8 MB\n"
     ]
    }
   ],
   "source": [
    "data_train.info()"
   ]
  },
  {
   "cell_type": "code",
   "execution_count": 40,
   "metadata": {
    "colab": {
     "base_uri": "https://localhost:8080/",
     "height": 84
    },
    "id": "PkUiIRIb_Iss",
    "outputId": "8031a8e0-c4ba-4147-f6b9-fbadebcbd3f0"
   },
   "outputs": [
    {
     "data": {
      "text/plain": [
       "0    1541315\n",
       "1    1320148\n",
       "2      72919\n",
       "Name: category_enc, dtype: int64"
      ]
     },
     "execution_count": 40,
     "metadata": {
      "tags": []
     },
     "output_type": "execute_result"
    }
   ],
   "source": [
    "y_train.value_counts()"
   ]
  },
  {
   "cell_type": "code",
   "execution_count": 41,
   "metadata": {
    "id": "TpX7Ef7E_L_v"
   },
   "outputs": [],
   "source": [
    "import imblearn\n",
    "from imblearn.under_sampling import RandomUnderSampler\n",
    "samp_strat= { 0 : 72919, 1 : 72919, 2 : 72919}\n",
    "random_under= RandomUnderSampler(sampling_strategy=samp_strat,random_state=1)\n",
    "Xres,yres = random_under.fit_resample(data_train,y_train)"
   ]
  },
  {
   "cell_type": "code",
   "execution_count": 42,
   "metadata": {
    "colab": {
     "base_uri": "https://localhost:8080/",
     "height": 84
    },
    "id": "wy35Ry7U_SX4",
    "outputId": "2d4ce338-ce11-4d34-b703-140f6a09c7b6"
   },
   "outputs": [
    {
     "data": {
      "text/plain": [
       "2    72919\n",
       "1    72919\n",
       "0    72919\n",
       "dtype: int64"
      ]
     },
     "execution_count": 42,
     "metadata": {
      "tags": []
     },
     "output_type": "execute_result"
    }
   ],
   "source": [
    "pd.Series(yres).value_counts()"
   ]
  },
  {
   "cell_type": "code",
   "execution_count": 43,
   "metadata": {
    "colab": {
     "base_uri": "https://localhost:8080/",
     "height": 34
    },
    "id": "sFeSUlIi_Xni",
    "outputId": "86ef0c7b-d8a5-4e23-915e-dde5f7263eea"
   },
   "outputs": [
    {
     "data": {
      "text/plain": [
       "0.9588281393748168"
      ]
     },
     "execution_count": 43,
     "metadata": {
      "tags": []
     },
     "output_type": "execute_result"
    }
   ],
   "source": [
    "from sklearn.linear_model import LogisticRegression\n",
    "logisticRegr = LogisticRegression()\n",
    "logisticRegr.fit(Xres, yres)\n",
    "pred= logisticRegr.predict(data_test)\n",
    "score = logisticRegr.score(data_test, y_test)\n",
    "score"
   ]
  },
  {
   "cell_type": "code",
   "execution_count": 44,
   "metadata": {
    "colab": {
     "base_uri": "https://localhost:8080/",
     "height": 69
    },
    "id": "R9pAibEO_exa",
    "outputId": "e9e39f11-d3af-4c82-e7fc-eabe2273946c"
   },
   "outputs": [
    {
     "data": {
      "application/vnd.google.colaboratory.intrinsic+json": {
       "type": "string"
      },
      "text/plain": [
       "'              precision    recall  f1-score   support\\n\\n           0       0.98      0.99      0.98    385309\\n           1       0.99      0.98      0.98    330112\\n           2       0.00      0.13      0.00       107\\n           3       0.00      0.00      0.00     18163\\n           4       0.00      0.00      0.00        14\\n\\n    accuracy                           0.96    733705\\n   macro avg       0.39      0.42      0.39    733705\\nweighted avg       0.96      0.96      0.96    733705\\n'"
      ]
     },
     "execution_count": 44,
     "metadata": {
      "tags": []
     },
     "output_type": "execute_result"
    }
   ],
   "source": [
    "from sklearn.metrics import classification_report,confusion_matrix\n",
    "classification_report(y_test,pred)"
   ]
  },
  {
   "cell_type": "code",
   "execution_count": 45,
   "metadata": {
    "colab": {
     "base_uri": "https://localhost:8080/",
     "height": 101
    },
    "id": "tTZ2nwty_gwg",
    "outputId": "648a966e-979c-4964-eea0-15e0a9e94882"
   },
   "outputs": [
    {
     "data": {
      "text/plain": [
       "array([[380962,   2502,   1845,      0,      0],\n",
       "       [  7423, 322521,    168,      0,      0],\n",
       "       [    12,     81,     14,      0,      0],\n",
       "       [   424,    522,  17217,      0,      0],\n",
       "       [     0,      5,      9,      0,      0]])"
      ]
     },
     "execution_count": 45,
     "metadata": {
      "tags": []
     },
     "output_type": "execute_result"
    }
   ],
   "source": [
    "confusion_matrix(y_test,pred)"
   ]
  },
  {
   "cell_type": "code",
   "execution_count": 46,
   "metadata": {
    "colab": {
     "base_uri": "https://localhost:8080/",
     "height": 34
    },
    "id": "Nu0nMF39_lII",
    "outputId": "a599cbef-8052-440f-f3f5-e56385c1cfed"
   },
   "outputs": [
    {
     "data": {
      "text/plain": [
       "0.9588281393748168"
      ]
     },
     "execution_count": 46,
     "metadata": {
      "tags": []
     },
     "output_type": "execute_result"
    }
   ],
   "source": [
    "from sklearn.metrics import f1_score\n",
    "f1_score(y_test,pred,average='micro')"
   ]
  },
  {
   "cell_type": "code",
   "execution_count": 47,
   "metadata": {
    "colab": {
     "base_uri": "https://localhost:8080/",
     "height": 34
    },
    "id": "iETVTD8K_opE",
    "outputId": "5de213a9-ec03-4bb2-d41f-6e9c41f1c2a6"
   },
   "outputs": [
    {
     "data": {
      "text/plain": [
       "0.9588281393748168"
      ]
     },
     "execution_count": 47,
     "metadata": {
      "tags": []
     },
     "output_type": "execute_result"
    }
   ],
   "source": [
    "from sklearn.metrics import recall_score\n",
    "recall_score(y_test, pred, average='micro')"
   ]
  },
  {
   "cell_type": "code",
   "execution_count": 48,
   "metadata": {
    "colab": {
     "base_uri": "https://localhost:8080/",
     "height": 34
    },
    "id": "ljdlGUpb_r4P",
    "outputId": "180aef45-e7dd-4586-b928-42c5526956d6"
   },
   "outputs": [
    {
     "data": {
      "text/plain": [
       "0.9588281393748168"
      ]
     },
     "execution_count": 48,
     "metadata": {
      "tags": []
     },
     "output_type": "execute_result"
    }
   ],
   "source": [
    "from sklearn.metrics import precision_score\n",
    "precision_score(y_test,pred, average='micro')"
   ]
  },
  {
   "cell_type": "code",
   "execution_count": 49,
   "metadata": {
    "colab": {
     "base_uri": "https://localhost:8080/",
     "height": 218
    },
    "id": "45bQrFdH_4O4",
    "outputId": "8220cddf-e926-427d-b8ed-638ef5ce586b"
   },
   "outputs": [
    {
     "data": {
      "text/plain": [
       "0         1\n",
       "1         0\n",
       "2         0\n",
       "3         0\n",
       "4         1\n",
       "         ..\n",
       "733700    1\n",
       "733701    0\n",
       "733702    0\n",
       "733703    1\n",
       "733704    0\n",
       "Name: category_enc, Length: 733705, dtype: int64"
      ]
     },
     "execution_count": 49,
     "metadata": {
      "tags": []
     },
     "output_type": "execute_result"
    }
   ],
   "source": [
    "y_test\n"
   ]
  },
  {
   "cell_type": "code",
   "execution_count": 50,
   "metadata": {
    "id": "quh_2jAAU1yb"
   },
   "outputs": [],
   "source": [
    "y_pred_proba=logisticRegr.predict_proba(data_test)\n"
   ]
  },
  {
   "cell_type": "code",
   "execution_count": 51,
   "metadata": {
    "colab": {
     "base_uri": "https://localhost:8080/",
     "height": 303
    },
    "id": "PWyfauGwALIi",
    "outputId": "fcf49cbd-dd5f-4344-93fa-0837a4c4d7d3"
   },
   "outputs": [
    {
     "ename": "ValueError",
     "evalue": "ignored",
     "output_type": "error",
     "traceback": [
      "\u001b[0;31m---------------------------------------------------------------------------\u001b[0m",
      "\u001b[0;31mValueError\u001b[0m                                Traceback (most recent call last)",
      "\u001b[0;32m<ipython-input-51-dfb066d771b3>\u001b[0m in \u001b[0;36m<module>\u001b[0;34m()\u001b[0m\n\u001b[0;32m----> 1\u001b[0;31m \u001b[0msklearn\u001b[0m\u001b[0;34m.\u001b[0m\u001b[0mmetrics\u001b[0m\u001b[0;34m.\u001b[0m\u001b[0mroc_auc_score\u001b[0m\u001b[0;34m(\u001b[0m\u001b[0my_test\u001b[0m\u001b[0;34m,\u001b[0m \u001b[0my_pred_proba\u001b[0m\u001b[0;34m,\u001b[0m  \u001b[0mmulti_class\u001b[0m\u001b[0;34m=\u001b[0m\u001b[0;34m'ovo'\u001b[0m\u001b[0;34m)\u001b[0m\u001b[0;34m\u001b[0m\u001b[0;34m\u001b[0m\u001b[0m\n\u001b[0m",
      "\u001b[0;32m/usr/local/lib/python3.6/dist-packages/sklearn/metrics/_ranking.py\u001b[0m in \u001b[0;36mroc_auc_score\u001b[0;34m(y_true, y_score, average, sample_weight, max_fpr, multi_class, labels)\u001b[0m\n\u001b[1;32m    381\u001b[0m             \u001b[0;32mraise\u001b[0m \u001b[0mValueError\u001b[0m\u001b[0;34m(\u001b[0m\u001b[0;34m\"multi_class must be in ('ovo', 'ovr')\"\u001b[0m\u001b[0;34m)\u001b[0m\u001b[0;34m\u001b[0m\u001b[0;34m\u001b[0m\u001b[0m\n\u001b[1;32m    382\u001b[0m         return _multiclass_roc_auc_score(y_true, y_score, labels,\n\u001b[0;32m--> 383\u001b[0;31m                                          multi_class, average, sample_weight)\n\u001b[0m\u001b[1;32m    384\u001b[0m     \u001b[0;32melif\u001b[0m \u001b[0my_type\u001b[0m \u001b[0;34m==\u001b[0m \u001b[0;34m\"binary\"\u001b[0m\u001b[0;34m:\u001b[0m\u001b[0;34m\u001b[0m\u001b[0;34m\u001b[0m\u001b[0m\n\u001b[1;32m    385\u001b[0m         \u001b[0mlabels\u001b[0m \u001b[0;34m=\u001b[0m \u001b[0mnp\u001b[0m\u001b[0;34m.\u001b[0m\u001b[0munique\u001b[0m\u001b[0;34m(\u001b[0m\u001b[0my_true\u001b[0m\u001b[0;34m)\u001b[0m\u001b[0;34m\u001b[0m\u001b[0;34m\u001b[0m\u001b[0m\n",
      "\u001b[0;32m/usr/local/lib/python3.6/dist-packages/sklearn/metrics/_ranking.py\u001b[0m in \u001b[0;36m_multiclass_roc_auc_score\u001b[0;34m(y_true, y_score, labels, multi_class, average, sample_weight)\u001b[0m\n\u001b[1;32m    475\u001b[0m         \u001b[0;32mif\u001b[0m \u001b[0mlen\u001b[0m\u001b[0;34m(\u001b[0m\u001b[0mclasses\u001b[0m\u001b[0;34m)\u001b[0m \u001b[0;34m!=\u001b[0m \u001b[0my_score\u001b[0m\u001b[0;34m.\u001b[0m\u001b[0mshape\u001b[0m\u001b[0;34m[\u001b[0m\u001b[0;36m1\u001b[0m\u001b[0;34m]\u001b[0m\u001b[0;34m:\u001b[0m\u001b[0;34m\u001b[0m\u001b[0;34m\u001b[0m\u001b[0m\n\u001b[1;32m    476\u001b[0m             raise ValueError(\n\u001b[0;32m--> 477\u001b[0;31m                 \u001b[0;34m\"Number of classes in y_true not equal to the number of \"\u001b[0m\u001b[0;34m\u001b[0m\u001b[0;34m\u001b[0m\u001b[0m\n\u001b[0m\u001b[1;32m    478\u001b[0m                 \"columns in 'y_score'\")\n\u001b[1;32m    479\u001b[0m \u001b[0;34m\u001b[0m\u001b[0m\n",
      "\u001b[0;31mValueError\u001b[0m: Number of classes in y_true not equal to the number of columns in 'y_score'"
     ]
    }
   ],
   "source": [
    "sklearn.metrics.roc_auc_score(y_test, y_pred_proba,  multi_class='ovo')"
   ]
  },
  {
   "cell_type": "code",
   "execution_count": 52,
   "metadata": {
    "colab": {
     "base_uri": "https://localhost:8080/",
     "height": 483
    },
    "id": "CmlBlYmsBt2O",
    "outputId": "9bc84e1d-33a5-4837-c6da-d5078182429b"
   },
   "outputs": [
    {
     "data": {
      "image/png": "[encoded data removed]",
      "text/plain": [
       "<Figure size 504x576 with 1 Axes>"
      ]
     },
     "metadata": {
      "needs_background": "light",
      "tags": []
     },
     "output_type": "display_data"
    }
   ],
   "source": [
    "from sklearn.metrics import f1_score\n",
    "import matplotlib.pyplot as plt\n",
    "from itertools import cycle\n",
    "\n",
    "plt.figure(figsize=(7, 8))\n",
    "f_scores = np.linspace(0.2, 0.8, num=4)\n",
    "lines = []\n",
    "labels = []\n",
    "for f1_score in f_scores:\n",
    "    x = np.linspace(0.01, 1)\n",
    "    y = f1_score * x / (2 * x - f1_score)\n",
    "    l, = plt.plot(x[y >= 0], y[y >= 0], color='gray', alpha=0.2)\n",
    "    plt.annotate('f1={0:0.1f}'.format(f1_score), xy=(0.9, y[45] + 0.02))\n",
    "lines.append(l)\n",
    "labels.append('iso-f1 curves')\n",
    "plt.show()"
   ]
  },
  {
   "cell_type": "code",
   "execution_count": 53,
   "metadata": {
    "colab": {
     "base_uri": "https://localhost:8080/",
     "height": 34
    },
    "id": "o8FQvkzieFYr",
    "outputId": "9620aa52-5028-461f-f027-9620a8a6c9b8"
   },
   "outputs": [
    {
     "data": {
      "text/plain": [
       "0.9614708908893902"
      ]
     },
     "execution_count": 53,
     "metadata": {
      "tags": []
     },
     "output_type": "execute_result"
    }
   ],
   "source": [
    "lr2 = LogisticRegression(penalty='l2',C = 3, solver = 'lbfgs',max_iter=1000,n_jobs=100)\n",
    "lr2.fit (Xres,yres)\n",
    "prediction= lr2.predict(data_test)\n",
    "score = lr2.score(data_test, y_test)\n",
    "score\n"
   ]
  },
  {
   "cell_type": "code",
   "execution_count": 54,
   "metadata": {
    "id": "bon5eY3UfvbL"
   },
   "outputs": [],
   "source": [
    "logModel = LogisticRegression()\n",
    "param_grid = [    \n",
    "    {'penalty': ['l1', 'l2'],'C':[0.001,.009,0.01,.09,1,5,10,25] }]"
   ]
  },
  {
   "cell_type": "code",
   "execution_count": 55,
   "metadata": {
    "id": "esqkNc5EwYag"
   },
   "outputs": [],
   "source": [
    "from sklearn.model_selection import GridSearchCV"
   ]
  },
  {
   "cell_type": "code",
   "execution_count": 56,
   "metadata": {
    "id": "RzHtuOkwwa7o"
   },
   "outputs": [],
   "source": [
    "clf = GridSearchCV(logModel, param_grid = param_grid, cv = 3, verbose=3)"
   ]
  },
  {
   "cell_type": "code",
   "execution_count": 57,
   "metadata": {
    "colab": {
     "base_uri": "https://localhost:8080/",
     "height": 1000
    },
    "id": "EAe-XooJwoeE",
    "outputId": "9ccefa26-896a-48b0-9f8b-8152c31352ef"
   },
   "outputs": [
    {
     "name": "stdout",
     "output_type": "stream",
     "text": [
      "Fitting 3 folds for each of 16 candidates, totalling 48 fits\n"
     ]
    },
    {
     "name": "stderr",
     "output_type": "stream",
     "text": [
      "[Parallel(n_jobs=1)]: Using backend SequentialBackend with 1 concurrent workers.\n",
      "[Parallel(n_jobs=1)]: Done   1 out of   1 | elapsed:    0.2s remaining:    0.0s\n"
     ]
    },
    {
     "name": "stdout",
     "output_type": "stream",
     "text": [
      "[CV] C=0.001, penalty=l1 .............................................\n",
      "[CV] ................... C=0.001, penalty=l1, score=nan, total=   0.2s\n",
      "[CV] C=0.001, penalty=l1 .............................................\n",
      "[CV] ................... C=0.001, penalty=l1, score=nan, total=   0.1s\n",
      "[CV] C=0.001, penalty=l1 .............................................\n",
      "[CV] ................... C=0.001, penalty=l1, score=nan, total=   0.2s\n",
      "[CV] C=0.001, penalty=l2 .............................................\n"
     ]
    },
    {
     "name": "stderr",
     "output_type": "stream",
     "text": [
      "[Parallel(n_jobs=1)]: Done   2 out of   2 | elapsed:    0.3s remaining:    0.0s\n"
     ]
    },
    {
     "name": "stdout",
     "output_type": "stream",
     "text": [
      "[CV] ................. C=0.001, penalty=l2, score=0.976, total= 1.2min\n",
      "[CV] C=0.001, penalty=l2 .............................................\n",
      "[CV] ................. C=0.001, penalty=l2, score=0.976, total= 1.2min\n",
      "[CV] C=0.001, penalty=l2 .............................................\n",
      "[CV] ................. C=0.001, penalty=l2, score=0.976, total= 1.3min\n",
      "[CV] C=0.009, penalty=l1 .............................................\n",
      "[CV] ................... C=0.009, penalty=l1, score=nan, total=   0.2s\n",
      "[CV] C=0.009, penalty=l1 .............................................\n",
      "[CV] ................... C=0.009, penalty=l1, score=nan, total=   0.1s\n",
      "[CV] C=0.009, penalty=l1 .............................................\n",
      "[CV] ................... C=0.009, penalty=l1, score=nan, total=   0.1s\n",
      "[CV] C=0.009, penalty=l2 .............................................\n",
      "[CV] ................. C=0.009, penalty=l2, score=0.984, total= 1.2min\n",
      "[CV] C=0.009, penalty=l2 .............................................\n",
      "[CV] ................. C=0.009, penalty=l2, score=0.984, total= 1.3min\n",
      "[CV] C=0.009, penalty=l2 .............................................\n",
      "[CV] ................. C=0.009, penalty=l2, score=0.984, total= 1.3min\n",
      "[CV] C=0.01, penalty=l1 ..............................................\n",
      "[CV] .................... C=0.01, penalty=l1, score=nan, total=   0.2s\n",
      "[CV] C=0.01, penalty=l1 ..............................................\n",
      "[CV] .................... C=0.01, penalty=l1, score=nan, total=   0.1s\n",
      "[CV] C=0.01, penalty=l1 ..............................................\n",
      "[CV] .................... C=0.01, penalty=l1, score=nan, total=   0.1s\n",
      "[CV] C=0.01, penalty=l2 ..............................................\n",
      "[CV] .................. C=0.01, penalty=l2, score=0.985, total= 1.2min\n",
      "[CV] C=0.01, penalty=l2 ..............................................\n",
      "[CV] .................. C=0.01, penalty=l2, score=0.984, total= 1.2min\n",
      "[CV] C=0.01, penalty=l2 ..............................................\n",
      "[CV] .................. C=0.01, penalty=l2, score=0.984, total= 1.2min\n",
      "[CV] C=0.09, penalty=l1 ..............................................\n",
      "[CV] .................... C=0.09, penalty=l1, score=nan, total=   0.2s\n",
      "[CV] C=0.09, penalty=l1 ..............................................\n",
      "[CV] .................... C=0.09, penalty=l1, score=nan, total=   0.1s\n",
      "[CV] C=0.09, penalty=l1 ..............................................\n",
      "[CV] .................... C=0.09, penalty=l1, score=nan, total=   0.1s\n",
      "[CV] C=0.09, penalty=l2 ..............................................\n",
      "[CV] .................. C=0.09, penalty=l2, score=0.985, total= 1.2min\n",
      "[CV] C=0.09, penalty=l2 ..............................................\n",
      "[CV] .................. C=0.09, penalty=l2, score=0.985, total= 1.2min\n",
      "[CV] C=0.09, penalty=l2 ..............................................\n",
      "[CV] .................. C=0.09, penalty=l2, score=0.985, total= 1.2min\n",
      "[CV] C=1, penalty=l1 .................................................\n",
      "[CV] ....................... C=1, penalty=l1, score=nan, total=   0.2s\n",
      "[CV] C=1, penalty=l1 .................................................\n",
      "[CV] ....................... C=1, penalty=l1, score=nan, total=   0.1s\n",
      "[CV] C=1, penalty=l1 .................................................\n",
      "[CV] ....................... C=1, penalty=l1, score=nan, total=   0.1s\n",
      "[CV] C=1, penalty=l2 .................................................\n",
      "[CV] ..................... C=1, penalty=l2, score=0.986, total= 1.2min\n",
      "[CV] C=1, penalty=l2 .................................................\n",
      "[CV] ..................... C=1, penalty=l2, score=0.986, total= 1.2min\n",
      "[CV] C=1, penalty=l2 .................................................\n",
      "[CV] ..................... C=1, penalty=l2, score=0.986, total= 1.2min\n",
      "[CV] C=5, penalty=l1 .................................................\n",
      "[CV] ....................... C=5, penalty=l1, score=nan, total=   0.1s\n",
      "[CV] C=5, penalty=l1 .................................................\n",
      "[CV] ....................... C=5, penalty=l1, score=nan, total=   0.1s\n",
      "[CV] C=5, penalty=l1 .................................................\n",
      "[CV] ....................... C=5, penalty=l1, score=nan, total=   0.1s\n",
      "[CV] C=5, penalty=l2 .................................................\n",
      "[CV] ..................... C=5, penalty=l2, score=0.986, total= 1.2min\n",
      "[CV] C=5, penalty=l2 .................................................\n",
      "[CV] ..................... C=5, penalty=l2, score=0.986, total= 1.2min\n",
      "[CV] C=5, penalty=l2 .................................................\n",
      "[CV] ..................... C=5, penalty=l2, score=0.987, total= 1.3min\n",
      "[CV] C=10, penalty=l1 ................................................\n",
      "[CV] ...................... C=10, penalty=l1, score=nan, total=   0.1s\n",
      "[CV] C=10, penalty=l1 ................................................\n",
      "[CV] ...................... C=10, penalty=l1, score=nan, total=   0.1s\n",
      "[CV] C=10, penalty=l1 ................................................\n",
      "[CV] ...................... C=10, penalty=l1, score=nan, total=   0.1s\n",
      "[CV] C=10, penalty=l2 ................................................\n",
      "[CV] .................... C=10, penalty=l2, score=0.986, total= 1.2min\n",
      "[CV] C=10, penalty=l2 ................................................\n",
      "[CV] .................... C=10, penalty=l2, score=0.986, total= 1.3min\n",
      "[CV] C=10, penalty=l2 ................................................\n",
      "[CV] .................... C=10, penalty=l2, score=0.987, total= 1.2min\n",
      "[CV] C=25, penalty=l1 ................................................\n",
      "[CV] ...................... C=25, penalty=l1, score=nan, total=   0.1s\n",
      "[CV] C=25, penalty=l1 ................................................\n",
      "[CV] ...................... C=25, penalty=l1, score=nan, total=   0.1s\n",
      "[CV] C=25, penalty=l1 ................................................\n",
      "[CV] ...................... C=25, penalty=l1, score=nan, total=   0.1s\n",
      "[CV] C=25, penalty=l2 ................................................\n",
      "[CV] .................... C=25, penalty=l2, score=0.986, total= 1.2min\n",
      "[CV] C=25, penalty=l2 ................................................\n",
      "[CV] .................... C=25, penalty=l2, score=0.986, total= 1.2min\n",
      "[CV] C=25, penalty=l2 ................................................\n",
      "[CV] .................... C=25, penalty=l2, score=0.986, total= 1.2min\n"
     ]
    },
    {
     "name": "stderr",
     "output_type": "stream",
     "text": [
      "[Parallel(n_jobs=1)]: Done  48 out of  48 | elapsed: 29.6min finished\n"
     ]
    }
   ],
   "source": [
    "best_clf = clf.fit(data_train,y_train)"
   ]
  },
  {
   "cell_type": "code",
   "execution_count": 58,
   "metadata": {
    "colab": {
     "base_uri": "https://localhost:8080/",
     "height": 34
    },
    "id": "N84Z6Eoxwj44",
    "outputId": "e5a79e69-21df-434b-cc5e-3f0c7db64488"
   },
   "outputs": [
    {
     "data": {
      "text/plain": [
       "0.9862499156898746"
      ]
     },
     "execution_count": 58,
     "metadata": {
      "tags": []
     },
     "output_type": "execute_result"
    }
   ],
   "source": [
    "best_clf.best_score_"
   ]
  },
  {
   "cell_type": "code",
   "execution_count": 59,
   "metadata": {
    "colab": {
     "base_uri": "https://localhost:8080/",
     "height": 34
    },
    "id": "m6DLKrq43OsB",
    "outputId": "a775bb5e-6808-4d28-a9df-dadc49541ea5"
   },
   "outputs": [
    {
     "data": {
      "text/plain": [
       "{'C': 10, 'penalty': 'l2'}"
      ]
     },
     "execution_count": 59,
     "metadata": {
      "tags": []
     },
     "output_type": "execute_result"
    }
   ],
   "source": [
    "best_clf.best_params_"
   ]
  },
  {
   "cell_type": "code",
   "execution_count": 60,
   "metadata": {
    "colab": {
     "base_uri": "https://localhost:8080/",
     "height": 34
    },
    "id": "NVZW8or4gLyY",
    "outputId": "17d934ff-a445-4551-eeba-71d0491997ab"
   },
   "outputs": [
    {
     "data": {
      "text/plain": [
       "0.9635671012191548"
      ]
     },
     "execution_count": 60,
     "metadata": {
      "tags": []
     },
     "output_type": "execute_result"
    }
   ],
   "source": [
    "lr2 = LogisticRegression(penalty='l2',C = 10, solver = 'lbfgs',max_iter=1000,n_jobs=100)\n",
    "lr2.fit (Xres,yres)\n",
    "prediction= lr2.predict(data_test)\n",
    "score = lr2.score(data_test, y_test)\n",
    "score"
   ]
  },
  {
   "cell_type": "code",
   "execution_count": 61,
   "metadata": {
    "colab": {
     "base_uri": "https://localhost:8080/",
     "height": 50
    },
    "id": "i5ys8pwuCWqR",
    "outputId": "54c3c462-87c9-43ea-d899-f8ee4c62d9b7"
   },
   "outputs": [
    {
     "data": {
      "text/plain": [
       "array([0.97997806, 0.9786524 , 0.98107515, 0.98006948, 0.97929238,\n",
       "       0.97883525, 0.98029804, 0.98038857, 0.97929143, 0.98189714])"
      ]
     },
     "execution_count": 61,
     "metadata": {
      "tags": []
     },
     "output_type": "execute_result"
    }
   ],
   "source": [
    "from sklearn.model_selection import cross_val_score\n",
    "scores = cross_val_score(lr2, Xres, yres, cv=10)\n",
    "scores"
   ]
  },
  {
   "cell_type": "code",
   "execution_count": 62,
   "metadata": {
    "colab": {
     "base_uri": "https://localhost:8080/",
     "height": 34
    },
    "id": "5nJWUUmNJqSk",
    "outputId": "15be538e-bf49-4151-8418-cc7fa6e836d6"
   },
   "outputs": [
    {
     "data": {
      "text/plain": [
       "0.9799777910822037"
      ]
     },
     "execution_count": 62,
     "metadata": {
      "tags": []
     },
     "output_type": "execute_result"
    }
   ],
   "source": [
    "scores.mean()"
   ]
  }
 ],
 "metadata": {
  "colab": {
   "collapsed_sections": [],
   "name": "18BIT0318_IDS_nasscom.ipynb",
   "provenance": []
  },
  "kernelspec": {
   "display_name": "Python 3",
   "language": "python",
   "name": "python3"
  },
  "language_info": {
   "codemirror_mode": {
    "name": "ipython",
    "version": 3
   },
   "file_extension": ".py",
   "mimetype": "text/x-python",
   "name": "python",
   "nbconvert_exporter": "python",
   "pygments_lexer": "ipython3",
   "version": "3.7.6"
  }
 },
 "nbformat": 4,
 "nbformat_minor": 1
}
